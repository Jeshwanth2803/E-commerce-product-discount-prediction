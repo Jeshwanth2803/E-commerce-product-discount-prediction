{
 "cells": [
  {
   "cell_type": "markdown",
   "id": "1adda8e6-1879-4f0f-bb38-24959bf92e8a",
   "metadata": {},
   "source": [
    "**Business:** E-Commerce \n",
    "\n",
    "**Goal:** Predective model building based on discount,brand and categories\n",
    "\n",
    "**Skill:** EDA & Machine learning"
   ]
  },
  {
   "cell_type": "markdown",
   "id": "a6ce3c58-b222-4fc1-a576-48b16ed53392",
   "metadata": {},
   "source": [
    "## Machine Learning\n",
    "* Machine Learning (ML) is a subset of artificial intelligence (AI) that enables systems to learn patterns from data and make predictions or decisions    without being explicitly programmed. It uses algorithms to analyze data, recognize patterns, and improve performance over time."
   ]
  },
  {
   "cell_type": "markdown",
   "id": "d8e6a1ab-54b8-44b2-ad1c-b46d1c3d85cb",
   "metadata": {},
   "source": [
    "### Data"
   ]
  },
  {
   "cell_type": "code",
   "execution_count": 714,
   "id": "590fce84-c07f-497d-ad83-6667afc7b9bc",
   "metadata": {},
   "outputs": [],
   "source": [
    "import warnings\n",
    "warnings.filterwarnings(\"ignore\")"
   ]
  },
  {
   "cell_type": "code",
   "execution_count": 715,
   "id": "5742bd71-cf1d-4157-b4a7-3c41934f3ad9",
   "metadata": {},
   "outputs": [],
   "source": [
    "import pandas as pd\n",
    "import numpy as np\n",
    "import seaborn as sns\n",
    "import matplotlib.pyplot as plt\n",
    "import plotly.express as px\n"
   ]
  },
  {
   "cell_type": "markdown",
   "id": "ca20a01e-1122-467e-a95e-b4f9674be4cf",
   "metadata": {},
   "source": [
    " **Collected from open sources**"
   ]
  },
  {
   "cell_type": "code",
   "execution_count": 717,
   "id": "5a7fdd0f-5512-4dc9-b4c0-86347de6a237",
   "metadata": {},
   "outputs": [
    {
     "data": {
      "text/html": [
       "<div>\n",
       "<style scoped>\n",
       "    .dataframe tbody tr th:only-of-type {\n",
       "        vertical-align: middle;\n",
       "    }\n",
       "\n",
       "    .dataframe tbody tr th {\n",
       "        vertical-align: top;\n",
       "    }\n",
       "\n",
       "    .dataframe thead th {\n",
       "        text-align: right;\n",
       "    }\n",
       "</style>\n",
       "<table border=\"1\" class=\"dataframe\">\n",
       "  <thead>\n",
       "    <tr style=\"text-align: right;\">\n",
       "      <th></th>\n",
       "      <th>Product_name</th>\n",
       "      <th>brand</th>\n",
       "      <th>initial_price</th>\n",
       "      <th>final_price</th>\n",
       "      <th>currency</th>\n",
       "      <th>availability</th>\n",
       "      <th>reviews_count</th>\n",
       "      <th>categories</th>\n",
       "      <th>number_of_sellers</th>\n",
       "      <th>rating</th>\n",
       "      <th>discount</th>\n",
       "      <th>Department</th>\n",
       "    </tr>\n",
       "  </thead>\n",
       "  <tbody>\n",
       "    <tr>\n",
       "      <th>0</th>\n",
       "      <td>Saucony Men'S Running Shoe</td>\n",
       "      <td>Saucony</td>\n",
       "      <td>NaN</td>\n",
       "      <td>\"57.79\"</td>\n",
       "      <td>USD</td>\n",
       "      <td>In Stock</td>\n",
       "      <td>702</td>\n",
       "      <td>[\"Clothing, Shoes &amp; Jewelry\",\"Men\",\"Shoes\",\"At...</td>\n",
       "      <td>17.0</td>\n",
       "      <td>4.6</td>\n",
       "      <td>NaN</td>\n",
       "      <td>mens</td>\n",
       "    </tr>\n",
       "    <tr>\n",
       "      <th>1</th>\n",
       "      <td>Kishigo Safety Vest Vests</td>\n",
       "      <td>Kishigo</td>\n",
       "      <td>NaN</td>\n",
       "      <td>\"28.5\"</td>\n",
       "      <td>USD</td>\n",
       "      <td>In Stock</td>\n",
       "      <td>916</td>\n",
       "      <td>[\"Tools &amp; Home Improvement\",\"Safety &amp; Security...</td>\n",
       "      <td>8.0</td>\n",
       "      <td>4.6</td>\n",
       "      <td>NaN</td>\n",
       "      <td>Unisex</td>\n",
       "    </tr>\n",
       "    <tr>\n",
       "      <th>2</th>\n",
       "      <td>Twinsluxes Solar Post Cap</td>\n",
       "      <td>TWINSLUXES</td>\n",
       "      <td>\"49.99\"</td>\n",
       "      <td>\"33.99\"</td>\n",
       "      <td>USD</td>\n",
       "      <td>In Stock</td>\n",
       "      <td>3178</td>\n",
       "      <td>[\"Tools &amp; Home Improvement\",\"Lighting &amp; Ceilin...</td>\n",
       "      <td>1.0</td>\n",
       "      <td>4.2</td>\n",
       "      <td>-32%</td>\n",
       "      <td>Tools &amp; Home Improvement</td>\n",
       "    </tr>\n",
       "    <tr>\n",
       "      <th>3</th>\n",
       "      <td>Accutire Digital Tire Pressure</td>\n",
       "      <td>Accutire</td>\n",
       "      <td>1.80E+01</td>\n",
       "      <td>1.80E+01</td>\n",
       "      <td>USD</td>\n",
       "      <td>In Stock</td>\n",
       "      <td>8034</td>\n",
       "      <td>[\"Automotive\",\"Tools &amp; Equipment\",\"Tire &amp; Whee...</td>\n",
       "      <td>1.0</td>\n",
       "      <td>4.4</td>\n",
       "      <td>NaN</td>\n",
       "      <td>Automotive</td>\n",
       "    </tr>\n",
       "    <tr>\n",
       "      <th>4</th>\n",
       "      <td>Saura Life Science Hair Growth Hair</td>\n",
       "      <td>SAURA LIFE SCIENCE</td>\n",
       "      <td>\"1299\"</td>\n",
       "      <td>\"799\"</td>\n",
       "      <td>INR</td>\n",
       "      <td>In stock</td>\n",
       "      <td>5</td>\n",
       "      <td>[\"Beauty\",\"Hair Care\",\"Hair Oils\"]</td>\n",
       "      <td>1.0</td>\n",
       "      <td>5.0</td>\n",
       "      <td>-38%</td>\n",
       "      <td>Beauty</td>\n",
       "    </tr>\n",
       "    <tr>\n",
       "      <th>...</th>\n",
       "      <td>...</td>\n",
       "      <td>...</td>\n",
       "      <td>...</td>\n",
       "      <td>...</td>\n",
       "      <td>...</td>\n",
       "      <td>...</td>\n",
       "      <td>...</td>\n",
       "      <td>...</td>\n",
       "      <td>...</td>\n",
       "      <td>...</td>\n",
       "      <td>...</td>\n",
       "      <td>...</td>\n",
       "    </tr>\n",
       "    <tr>\n",
       "      <th>995</th>\n",
       "      <td>Madison Park Amherst Faux Silk</td>\n",
       "      <td>Madison Park</td>\n",
       "      <td>\"154.99\"</td>\n",
       "      <td>\"111.99\"</td>\n",
       "      <td>USD</td>\n",
       "      <td>Only 4 left in stock (more on the way)</td>\n",
       "      <td>4828</td>\n",
       "      <td>[\"Home &amp; Kitchen\",\"Bedding\",\"Comforters &amp; Sets...</td>\n",
       "      <td>4.0</td>\n",
       "      <td>4.4</td>\n",
       "      <td>-28%</td>\n",
       "      <td>Unisex-adult</td>\n",
       "    </tr>\n",
       "    <tr>\n",
       "      <th>996</th>\n",
       "      <td>Bic Gel Rollerball Pens</td>\n",
       "      <td>BIC</td>\n",
       "      <td>\"10.99\"</td>\n",
       "      <td>\"9.99\"</td>\n",
       "      <td>USD</td>\n",
       "      <td>In Stock</td>\n",
       "      <td>9272</td>\n",
       "      <td>[\"Office Products\",\"Office &amp; School Supplies\",...</td>\n",
       "      <td>21.0</td>\n",
       "      <td>4.5</td>\n",
       "      <td>-9%</td>\n",
       "      <td>NaN</td>\n",
       "    </tr>\n",
       "    <tr>\n",
       "      <th>997</th>\n",
       "      <td>Elmer'S E842L Carpenter'S Interior</td>\n",
       "      <td>Elmer's</td>\n",
       "      <td>1.40E+01</td>\n",
       "      <td>1.40E+01</td>\n",
       "      <td>USD</td>\n",
       "      <td>In Stock</td>\n",
       "      <td>1052</td>\n",
       "      <td>[\"Tools &amp; Home Improvement\",\"Hardware\",\"Adhesi...</td>\n",
       "      <td>1.0</td>\n",
       "      <td>4.6</td>\n",
       "      <td>NaN</td>\n",
       "      <td>Tools &amp; Home Improvement</td>\n",
       "    </tr>\n",
       "    <tr>\n",
       "      <th>998</th>\n",
       "      <td>Homek Office Chair Mat</td>\n",
       "      <td>HOMEK</td>\n",
       "      <td>4.00E+01</td>\n",
       "      <td>4.00E+01</td>\n",
       "      <td>USD</td>\n",
       "      <td>In Stock</td>\n",
       "      <td>1039</td>\n",
       "      <td>[\"Office Products\",\"Office Furniture &amp; Lightin...</td>\n",
       "      <td>1.0</td>\n",
       "      <td>4.0</td>\n",
       "      <td>-13%</td>\n",
       "      <td>Office Products</td>\n",
       "    </tr>\n",
       "    <tr>\n",
       "      <th>999</th>\n",
       "      <td>Bavilk Kids Bike Helmet</td>\n",
       "      <td>Bavilk</td>\n",
       "      <td>\"32.99\"</td>\n",
       "      <td>\"16.49\"</td>\n",
       "      <td>USD</td>\n",
       "      <td>NaN</td>\n",
       "      <td>254</td>\n",
       "      <td>[\"Sports &amp; Outdoors\",\"Sports\",\"Cycling\",\"Kids'...</td>\n",
       "      <td>1.0</td>\n",
       "      <td>4.7</td>\n",
       "      <td>-50%</td>\n",
       "      <td>Sports &amp; Outdoors</td>\n",
       "    </tr>\n",
       "  </tbody>\n",
       "</table>\n",
       "<p>1000 rows × 12 columns</p>\n",
       "</div>"
      ],
      "text/plain": [
       "                            Product_name               brand initial_price  \\\n",
       "0             Saucony Men'S Running Shoe             Saucony           NaN   \n",
       "1              Kishigo Safety Vest Vests             Kishigo           NaN   \n",
       "2              Twinsluxes Solar Post Cap          TWINSLUXES       \"49.99\"   \n",
       "3         Accutire Digital Tire Pressure            Accutire      1.80E+01   \n",
       "4    Saura Life Science Hair Growth Hair  SAURA LIFE SCIENCE        \"1299\"   \n",
       "..                                   ...                 ...           ...   \n",
       "995       Madison Park Amherst Faux Silk        Madison Park      \"154.99\"   \n",
       "996              Bic Gel Rollerball Pens                 BIC       \"10.99\"   \n",
       "997   Elmer'S E842L Carpenter'S Interior             Elmer's      1.40E+01   \n",
       "998               Homek Office Chair Mat               HOMEK      4.00E+01   \n",
       "999              Bavilk Kids Bike Helmet              Bavilk       \"32.99\"   \n",
       "\n",
       "    final_price currency                            availability  \\\n",
       "0       \"57.79\"      USD                                In Stock   \n",
       "1        \"28.5\"      USD                                In Stock   \n",
       "2       \"33.99\"      USD                                In Stock   \n",
       "3      1.80E+01      USD                                In Stock   \n",
       "4         \"799\"      INR                                In stock   \n",
       "..          ...      ...                                     ...   \n",
       "995    \"111.99\"      USD  Only 4 left in stock (more on the way)   \n",
       "996      \"9.99\"      USD                                In Stock   \n",
       "997    1.40E+01      USD                                In Stock   \n",
       "998    4.00E+01      USD                                In Stock   \n",
       "999     \"16.49\"      USD                                     NaN   \n",
       "\n",
       "     reviews_count                                         categories  \\\n",
       "0              702  [\"Clothing, Shoes & Jewelry\",\"Men\",\"Shoes\",\"At...   \n",
       "1              916  [\"Tools & Home Improvement\",\"Safety & Security...   \n",
       "2             3178  [\"Tools & Home Improvement\",\"Lighting & Ceilin...   \n",
       "3             8034  [\"Automotive\",\"Tools & Equipment\",\"Tire & Whee...   \n",
       "4                5                 [\"Beauty\",\"Hair Care\",\"Hair Oils\"]   \n",
       "..             ...                                                ...   \n",
       "995           4828  [\"Home & Kitchen\",\"Bedding\",\"Comforters & Sets...   \n",
       "996           9272  [\"Office Products\",\"Office & School Supplies\",...   \n",
       "997           1052  [\"Tools & Home Improvement\",\"Hardware\",\"Adhesi...   \n",
       "998           1039  [\"Office Products\",\"Office Furniture & Lightin...   \n",
       "999            254  [\"Sports & Outdoors\",\"Sports\",\"Cycling\",\"Kids'...   \n",
       "\n",
       "     number_of_sellers  rating discount                Department  \n",
       "0                 17.0     4.6      NaN                      mens  \n",
       "1                  8.0     4.6      NaN                    Unisex  \n",
       "2                  1.0     4.2     -32%  Tools & Home Improvement  \n",
       "3                  1.0     4.4      NaN                Automotive  \n",
       "4                  1.0     5.0     -38%                    Beauty  \n",
       "..                 ...     ...      ...                       ...  \n",
       "995                4.0     4.4     -28%              Unisex-adult  \n",
       "996               21.0     4.5      -9%                       NaN  \n",
       "997                1.0     4.6      NaN  Tools & Home Improvement  \n",
       "998                1.0     4.0     -13%           Office Products  \n",
       "999                1.0     4.7     -50%         Sports & Outdoors  \n",
       "\n",
       "[1000 rows x 12 columns]"
      ]
     },
     "execution_count": 717,
     "metadata": {},
     "output_type": "execute_result"
    }
   ],
   "source": [
    "df=pd.read_csv(\"C://Users//jeswa//python notebooks//python notebooks//new_amazon-products.csv\")\n",
    "df"
   ]
  },
  {
   "cell_type": "markdown",
   "id": "97d28330-ec01-4097-8af4-25d444b6176d",
   "metadata": {},
   "source": [
    "Columns info:\n",
    "\n",
    "**Column**|**Description**\n",
    "---------------|----------\n",
    "**Product_name**| Name of the product.\n",
    "**brand**| Brand or manufacturer of the product.\n",
    "**initial_price**| Original listed price before any discounts.\n",
    "**final_price**| Current price after applying discounts.\n",
    "**currency**| Currency used for pricing (e.g., USD, INR).\n",
    "**availability**| Stock status or whether the product is available for purchase.\n",
    "**reviews_count**| Total number of user reviews received.\n",
    "**categories**| Product classification or group (e.g., Electronics, Clothing).\n",
    "**number_of_sellers**| Count of different sellers offering the product.\n",
    "**rating**| Average customer rating (usually out of 5).\n",
    "**discount**| Price reduction amount or percentage from the initial price.\n",
    "**Department**| Broad division or section the product belongs to (e.g., Home, Sports)."
   ]
  },
  {
   "cell_type": "code",
   "execution_count": 719,
   "id": "768d7299-f846-467e-b388-0ad2d3193995",
   "metadata": {},
   "outputs": [
    {
     "name": "stdout",
     "output_type": "stream",
     "text": [
      "<class 'pandas.core.frame.DataFrame'>\n",
      "RangeIndex: 1000 entries, 0 to 999\n",
      "Data columns (total 12 columns):\n",
      " #   Column             Non-Null Count  Dtype  \n",
      "---  ------             --------------  -----  \n",
      " 0   Product_name       1000 non-null   object \n",
      " 1   brand              999 non-null    object \n",
      " 2   initial_price      814 non-null    object \n",
      " 3   final_price        997 non-null    object \n",
      " 4   currency           1000 non-null   object \n",
      " 5   availability       994 non-null    object \n",
      " 6   reviews_count      1000 non-null   int64  \n",
      " 7   categories         1000 non-null   object \n",
      " 8   number_of_sellers  984 non-null    float64\n",
      " 9   rating             1000 non-null   float64\n",
      " 10  discount           820 non-null    object \n",
      " 11  Department         662 non-null    object \n",
      "dtypes: float64(2), int64(1), object(9)\n",
      "memory usage: 93.9+ KB\n"
     ]
    }
   ],
   "source": [
    "df.info()"
   ]
  },
  {
   "cell_type": "markdown",
   "id": "0d0a8bf3-5391-4300-9f86-37879e4bb96e",
   "metadata": {},
   "source": [
    "                                                         **Basic Checks**"
   ]
  },
  {
   "cell_type": "code",
   "execution_count": 721,
   "id": "cb0a56e3-3156-40ee-927d-28777a42d8a9",
   "metadata": {},
   "outputs": [
    {
     "data": {
      "text/plain": [
       "Product_name           0\n",
       "brand                  1\n",
       "initial_price        186\n",
       "final_price            3\n",
       "currency               0\n",
       "availability           6\n",
       "reviews_count          0\n",
       "categories             0\n",
       "number_of_sellers     16\n",
       "rating                 0\n",
       "discount             180\n",
       "Department           338\n",
       "dtype: int64"
      ]
     },
     "execution_count": 721,
     "metadata": {},
     "output_type": "execute_result"
    }
   ],
   "source": [
    "df.isnull().sum()"
   ]
  },
  {
   "cell_type": "code",
   "execution_count": 722,
   "id": "b5b8f315-4865-4e89-8aad-1c07a7856f6d",
   "metadata": {},
   "outputs": [
    {
     "data": {
      "text/plain": [
       "Index(['Product_name', 'brand', 'initial_price', 'final_price', 'currency',\n",
       "       'availability', 'reviews_count', 'categories', 'number_of_sellers',\n",
       "       'rating', 'discount', 'Department'],\n",
       "      dtype='object')"
      ]
     },
     "execution_count": 722,
     "metadata": {},
     "output_type": "execute_result"
    }
   ],
   "source": [
    "df.columns"
   ]
  },
  {
   "cell_type": "code",
   "execution_count": 723,
   "id": "972a759c-961d-45cc-b54e-4dacfc1ec36f",
   "metadata": {},
   "outputs": [
    {
     "data": {
      "text/plain": [
       "(1000, 12)"
      ]
     },
     "execution_count": 723,
     "metadata": {},
     "output_type": "execute_result"
    }
   ],
   "source": [
    "df.shape"
   ]
  },
  {
   "cell_type": "code",
   "execution_count": 724,
   "id": "962b3266-9dc5-49ea-94bc-5654e9837da2",
   "metadata": {},
   "outputs": [
    {
     "name": "stdout",
     "output_type": "stream",
     "text": [
      "Duplicated rows:\n",
      "Empty DataFrame\n",
      "Columns: [Product_name, brand, initial_price, final_price, currency, availability, reviews_count, categories, number_of_sellers, rating, discount, Department]\n",
      "Index: []\n"
     ]
    }
   ],
   "source": [
    "duplicates = df[df.duplicated()]\n",
    "\n",
    "print(\"Duplicated rows:\")\n",
    "print(duplicates)"
   ]
  },
  {
   "cell_type": "code",
   "execution_count": 725,
   "id": "6631f290-a7ad-4eb5-8d03-fbc3962e1b02",
   "metadata": {},
   "outputs": [
    {
     "data": {
      "text/html": [
       "<div>\n",
       "<style scoped>\n",
       "    .dataframe tbody tr th:only-of-type {\n",
       "        vertical-align: middle;\n",
       "    }\n",
       "\n",
       "    .dataframe tbody tr th {\n",
       "        vertical-align: top;\n",
       "    }\n",
       "\n",
       "    .dataframe thead th {\n",
       "        text-align: right;\n",
       "    }\n",
       "</style>\n",
       "<table border=\"1\" class=\"dataframe\">\n",
       "  <thead>\n",
       "    <tr style=\"text-align: right;\">\n",
       "      <th></th>\n",
       "      <th>Product_name</th>\n",
       "      <th>brand</th>\n",
       "      <th>initial_price</th>\n",
       "      <th>final_price</th>\n",
       "      <th>currency</th>\n",
       "      <th>availability</th>\n",
       "      <th>reviews_count</th>\n",
       "      <th>categories</th>\n",
       "      <th>number_of_sellers</th>\n",
       "      <th>rating</th>\n",
       "      <th>discount</th>\n",
       "      <th>Department</th>\n",
       "    </tr>\n",
       "  </thead>\n",
       "  <tbody>\n",
       "    <tr>\n",
       "      <th>0</th>\n",
       "      <td>Saucony Men'S Running Shoe</td>\n",
       "      <td>Saucony</td>\n",
       "      <td>NaN</td>\n",
       "      <td>\"57.79\"</td>\n",
       "      <td>USD</td>\n",
       "      <td>In Stock</td>\n",
       "      <td>702</td>\n",
       "      <td>[\"Clothing, Shoes &amp; Jewelry\",\"Men\",\"Shoes\",\"At...</td>\n",
       "      <td>17.0</td>\n",
       "      <td>4.6</td>\n",
       "      <td>NaN</td>\n",
       "      <td>mens</td>\n",
       "    </tr>\n",
       "    <tr>\n",
       "      <th>1</th>\n",
       "      <td>Kishigo Safety Vest Vests</td>\n",
       "      <td>Kishigo</td>\n",
       "      <td>NaN</td>\n",
       "      <td>\"28.5\"</td>\n",
       "      <td>USD</td>\n",
       "      <td>In Stock</td>\n",
       "      <td>916</td>\n",
       "      <td>[\"Tools &amp; Home Improvement\",\"Safety &amp; Security...</td>\n",
       "      <td>8.0</td>\n",
       "      <td>4.6</td>\n",
       "      <td>NaN</td>\n",
       "      <td>Unisex</td>\n",
       "    </tr>\n",
       "    <tr>\n",
       "      <th>2</th>\n",
       "      <td>Twinsluxes Solar Post Cap</td>\n",
       "      <td>TWINSLUXES</td>\n",
       "      <td>\"49.99\"</td>\n",
       "      <td>\"33.99\"</td>\n",
       "      <td>USD</td>\n",
       "      <td>In Stock</td>\n",
       "      <td>3178</td>\n",
       "      <td>[\"Tools &amp; Home Improvement\",\"Lighting &amp; Ceilin...</td>\n",
       "      <td>1.0</td>\n",
       "      <td>4.2</td>\n",
       "      <td>-32%</td>\n",
       "      <td>Tools &amp; Home Improvement</td>\n",
       "    </tr>\n",
       "    <tr>\n",
       "      <th>3</th>\n",
       "      <td>Accutire Digital Tire Pressure</td>\n",
       "      <td>Accutire</td>\n",
       "      <td>1.80E+01</td>\n",
       "      <td>1.80E+01</td>\n",
       "      <td>USD</td>\n",
       "      <td>In Stock</td>\n",
       "      <td>8034</td>\n",
       "      <td>[\"Automotive\",\"Tools &amp; Equipment\",\"Tire &amp; Whee...</td>\n",
       "      <td>1.0</td>\n",
       "      <td>4.4</td>\n",
       "      <td>NaN</td>\n",
       "      <td>Automotive</td>\n",
       "    </tr>\n",
       "    <tr>\n",
       "      <th>4</th>\n",
       "      <td>Saura Life Science Hair Growth Hair</td>\n",
       "      <td>SAURA LIFE SCIENCE</td>\n",
       "      <td>\"1299\"</td>\n",
       "      <td>\"799\"</td>\n",
       "      <td>INR</td>\n",
       "      <td>In stock</td>\n",
       "      <td>5</td>\n",
       "      <td>[\"Beauty\",\"Hair Care\",\"Hair Oils\"]</td>\n",
       "      <td>1.0</td>\n",
       "      <td>5.0</td>\n",
       "      <td>-38%</td>\n",
       "      <td>Beauty</td>\n",
       "    </tr>\n",
       "    <tr>\n",
       "      <th>5</th>\n",
       "      <td>Kasott Airpod Pro Earpads</td>\n",
       "      <td>KASOTT</td>\n",
       "      <td>\"17.88\"</td>\n",
       "      <td>\"17.88\"</td>\n",
       "      <td>USD</td>\n",
       "      <td>In Stock</td>\n",
       "      <td>67</td>\n",
       "      <td>[\"Electronics\",\"Headphones, Earbuds &amp; Accessor...</td>\n",
       "      <td>3.0</td>\n",
       "      <td>4.3</td>\n",
       "      <td>-13%</td>\n",
       "      <td>NaN</td>\n",
       "    </tr>\n",
       "    <tr>\n",
       "      <th>6</th>\n",
       "      <td>Bio-Oil Bio Face Oil</td>\n",
       "      <td>Bio-Oil</td>\n",
       "      <td>\"39.24\"</td>\n",
       "      <td>\"24.95\"</td>\n",
       "      <td>USD</td>\n",
       "      <td>In Stock</td>\n",
       "      <td>6095</td>\n",
       "      <td>[\"Beauty &amp; Personal Care\",\"Skin Care\",\"Face\",\"...</td>\n",
       "      <td>1.0</td>\n",
       "      <td>4.6</td>\n",
       "      <td>-36%</td>\n",
       "      <td>Beauty &amp; Personal Care</td>\n",
       "    </tr>\n",
       "    <tr>\n",
       "      <th>7</th>\n",
       "      <td>Crysting Inch Sewing Box</td>\n",
       "      <td>crysting</td>\n",
       "      <td>\"22.99\"</td>\n",
       "      <td>\"20.99\"</td>\n",
       "      <td>USD</td>\n",
       "      <td>In Stock</td>\n",
       "      <td>210</td>\n",
       "      <td>[\"Arts, Crafts &amp; Sewing\",\"Organization, Storag...</td>\n",
       "      <td>1.0</td>\n",
       "      <td>4.6</td>\n",
       "      <td>-9%</td>\n",
       "      <td>NaN</td>\n",
       "    </tr>\n",
       "    <tr>\n",
       "      <th>8</th>\n",
       "      <td>Ridgid Straight Auger Auger Drill Bits</td>\n",
       "      <td>RIDGID</td>\n",
       "      <td>\"27.38\"</td>\n",
       "      <td>\"25.38\"</td>\n",
       "      <td>USD</td>\n",
       "      <td>Only 5 left in stock - order soon</td>\n",
       "      <td>28</td>\n",
       "      <td>[\"Tools &amp; Home Improvement\",\"Power &amp; Hand Tool...</td>\n",
       "      <td>17.0</td>\n",
       "      <td>4.4</td>\n",
       "      <td>-7%</td>\n",
       "      <td>NaN</td>\n",
       "    </tr>\n",
       "    <tr>\n",
       "      <th>9</th>\n",
       "      <td>Core 10 Women'S Yoga Legging</td>\n",
       "      <td>Core 10</td>\n",
       "      <td>\"28.4\"</td>\n",
       "      <td>\"23.92\"</td>\n",
       "      <td>USD</td>\n",
       "      <td>Only 1 left in stock - order soon</td>\n",
       "      <td>1538</td>\n",
       "      <td>[\"Clothing, Shoes &amp; Jewelry\",\"Women\",\"Clothing...</td>\n",
       "      <td>1.0</td>\n",
       "      <td>4.4</td>\n",
       "      <td>16</td>\n",
       "      <td>womens</td>\n",
       "    </tr>\n",
       "  </tbody>\n",
       "</table>\n",
       "</div>"
      ],
      "text/plain": [
       "                             Product_name               brand initial_price  \\\n",
       "0              Saucony Men'S Running Shoe             Saucony           NaN   \n",
       "1               Kishigo Safety Vest Vests             Kishigo           NaN   \n",
       "2               Twinsluxes Solar Post Cap          TWINSLUXES       \"49.99\"   \n",
       "3          Accutire Digital Tire Pressure            Accutire      1.80E+01   \n",
       "4     Saura Life Science Hair Growth Hair  SAURA LIFE SCIENCE        \"1299\"   \n",
       "5               Kasott Airpod Pro Earpads              KASOTT       \"17.88\"   \n",
       "6                    Bio-Oil Bio Face Oil             Bio-Oil       \"39.24\"   \n",
       "7                Crysting Inch Sewing Box            crysting       \"22.99\"   \n",
       "8  Ridgid Straight Auger Auger Drill Bits              RIDGID       \"27.38\"   \n",
       "9            Core 10 Women'S Yoga Legging             Core 10        \"28.4\"   \n",
       "\n",
       "  final_price currency                       availability  reviews_count  \\\n",
       "0     \"57.79\"      USD                           In Stock            702   \n",
       "1      \"28.5\"      USD                           In Stock            916   \n",
       "2     \"33.99\"      USD                           In Stock           3178   \n",
       "3    1.80E+01      USD                           In Stock           8034   \n",
       "4       \"799\"      INR                           In stock              5   \n",
       "5     \"17.88\"      USD                           In Stock             67   \n",
       "6     \"24.95\"      USD                           In Stock           6095   \n",
       "7     \"20.99\"      USD                           In Stock            210   \n",
       "8     \"25.38\"      USD  Only 5 left in stock - order soon             28   \n",
       "9     \"23.92\"      USD  Only 1 left in stock - order soon           1538   \n",
       "\n",
       "                                          categories  number_of_sellers  \\\n",
       "0  [\"Clothing, Shoes & Jewelry\",\"Men\",\"Shoes\",\"At...               17.0   \n",
       "1  [\"Tools & Home Improvement\",\"Safety & Security...                8.0   \n",
       "2  [\"Tools & Home Improvement\",\"Lighting & Ceilin...                1.0   \n",
       "3  [\"Automotive\",\"Tools & Equipment\",\"Tire & Whee...                1.0   \n",
       "4                 [\"Beauty\",\"Hair Care\",\"Hair Oils\"]                1.0   \n",
       "5  [\"Electronics\",\"Headphones, Earbuds & Accessor...                3.0   \n",
       "6  [\"Beauty & Personal Care\",\"Skin Care\",\"Face\",\"...                1.0   \n",
       "7  [\"Arts, Crafts & Sewing\",\"Organization, Storag...                1.0   \n",
       "8  [\"Tools & Home Improvement\",\"Power & Hand Tool...               17.0   \n",
       "9  [\"Clothing, Shoes & Jewelry\",\"Women\",\"Clothing...                1.0   \n",
       "\n",
       "   rating discount                Department  \n",
       "0     4.6      NaN                      mens  \n",
       "1     4.6      NaN                    Unisex  \n",
       "2     4.2     -32%  Tools & Home Improvement  \n",
       "3     4.4      NaN                Automotive  \n",
       "4     5.0     -38%                    Beauty  \n",
       "5     4.3     -13%                       NaN  \n",
       "6     4.6     -36%    Beauty & Personal Care  \n",
       "7     4.6      -9%                       NaN  \n",
       "8     4.4      -7%                       NaN  \n",
       "9     4.4       16                    womens  "
      ]
     },
     "execution_count": 725,
     "metadata": {},
     "output_type": "execute_result"
    }
   ],
   "source": [
    "df.head(10)"
   ]
  },
  {
   "cell_type": "markdown",
   "id": "74d4fa93-b60b-4060-a324-1d1e4ec1b02d",
   "metadata": {},
   "source": [
    "**We have 12 Columns of Data , Considering Most Imp Columns to Study**\n",
    "    . According to business we can filter if we want to, otherwise we need to do study all the columns"
   ]
  },
  {
   "cell_type": "markdown",
   "id": "255375af-aed9-466c-8a67-56b92763d3f5",
   "metadata": {},
   "source": [
    "### Data Validation "
   ]
  },
  {
   "cell_type": "markdown",
   "id": "b13c6a76-3313-47d6-aac5-9661cafd62f5",
   "metadata": {},
   "source": [
    "* Checking and validating each & every column data along with data type of column\n",
    "* Duplicates Rows Handling\n",
    "* Checking and droping duplicated rows to overcome data leakage"
   ]
  },
  {
   "cell_type": "code",
   "execution_count": 729,
   "id": "12d626ab-8e40-4cce-8b44-5e16d26d7562",
   "metadata": {
    "scrolled": true
   },
   "outputs": [
    {
     "data": {
      "text/plain": [
       "array([nan, '\"49.99\"', '1.80E+01', '\"1299\"', '\"17.88\"', '\"39.24\"',\n",
       "       '\"22.99\"', '\"27.38\"', '\"28.4\"', '9.83E+00', '\"89.99\"', '\"13.99\"',\n",
       "       '4.50E+01', '\"149.95\"', '\"69.99\"', '\"6.98\"', '\"18.64\"', '\"13.98\"',\n",
       "       '\"99.99\"', '4.00E+02', '\"159.95\"', '\"15.99\"', '\"37.98\"',\n",
       "       '1.00E+02', '2.00E+02', '1.20E+01', '5.17E+01', '2.26E+01',\n",
       "       '\"14.99\"', '\"45.99\"', '\"23.99\"', '\"29.98\"', '\"19.99\"', '\"18.95\"',\n",
       "       '\"185.64\"', '\"72.08\"', '1.46E+02', '\"360\"', '\"19.39\"', '\"62.72\"',\n",
       "       '\"30.99\"', '\"9.99\"', '\"16.74\"', '\"267\"', '\"71.99\"', '3.70E+01',\n",
       "       '2.20E+01', '1.60E+01', '3.80E+01', '\"18.98\"', '1.27E+01',\n",
       "       '\"79.73\"', '\"65\"', '\"29.99\"', '\"39.80\"', '\"31.67\"', '\"85\"',\n",
       "       '\"95.99\"', '\"24.9\"', '\"599\"', '\"10.95\"', '\"10.99\"', '\"189\"',\n",
       "       '\"17.97\"', '\"34.03\"', '\"84.99\"', '2.70E+01', '\"48\"', '\"115\"',\n",
       "       '\"56.99\"', '27', '\"39.99\"', '6.00E+01', '\"25\"', '\"32.9\"',\n",
       "       '\"629.00\"', '\"60\"', '\"36.29\"', '\"33\"', '2.70E+02', '\"14.95\"',\n",
       "       '\"39.29\"', '\"24.99\"', '\"34\"', '\"15.28\"', '5.10E+01', '\"129.99\"',\n",
       "       '6.88E+01', '39', '\"35.99\"', '\"20.99\"', '4.28E+00', '1.99E+01',\n",
       "       '\"104.63\"', '\"899\"', '18', '\"16.99\"', '9.00E+01', '\"24.47\"',\n",
       "       '4.30E+01', '\"23.2\"', '\"135\"', '\"21.99\"', '\"79.5\"', '\"50\"',\n",
       "       '\"38.40\"', '1.30E+02', '\"23.88\"', '\"7.99\"', '2.80E+01', '2.00E+01',\n",
       "       '2.36E+01', '\"11.49\"', '\"11.25\"', '\"120\"', '\"149.1\"', '2.30E+02',\n",
       "       '\"139.99\"', '\"119.98\"', '\"85.99\"', '\"31.99\"', '\"59.99\"', '\"500\"',\n",
       "       '\"24.36\"', '\"154.99\"', '\"149.99\"', '\"6.97\"', '\"25.99\"', '\"349.99\"',\n",
       "       '\"28.99\"', '\"48.00\"', '\"22.71\"', '\"18.46\"', '\"54.99\"', '1.50E+02',\n",
       "       '1.10E+01', '1.12E+01', '3.00E+01', '7.90E+01', '3.90E+01',\n",
       "       '\"11.99\"', '\"32.99\"', '\"44.99\"', '9.72E+01', '1.70E+02', '\"275\"',\n",
       "       '\"179.99\"', '\"290.95\"', '1.06E+02', '8.99E+00', '\"1799\"',\n",
       "       '\"38.39\"', '2.95E+01', '5.00E+01', '\"329.99\"', '\"165\"', '\"195\"',\n",
       "       '\"34.95\"', '\"35.95\"', '\"33.99\"', '\"61.38\"', '\"37.99\"', '\"75\"',\n",
       "       '7.99E+00', '389', '\"79.95\"', '\"13.49\"', '\"119.99\"', '\"6.99\"',\n",
       "       '\"20.95\"', '\"12.99\"', '\"62.40\"', '1.52E+02', '15', '1.70E+01',\n",
       "       '\"56.2\"', '\"38.99\"', '\"23\"', '4.77E+01', '4.10E+01', '3.20E+01',\n",
       "       '9.99E+00', '\"79.97\"', '\"52.87\"', '\"69.95\"', '\"8.99\"', '\"56.00\"',\n",
       "       '\"169.99\"', '\"124.46\"', '25', '\"112\"', '\"153.58\"', '\"42.16\"',\n",
       "       '\"59.95\"', '\"8.65\"', '\"80.99\"', '\"55.99\"', '\"16.88\"', '\"64.99\"',\n",
       "       '\"24.97\"', '\"320\"', '\"1100\"', '\"179\"', '\"52\"', '\"34.99\"',\n",
       "       '\"39.95\"', '\"29.7\"', '4.00E+01', '\"65.58\"', '\"57.95\"', '1.25E+01',\n",
       "       '\"110\"', '1.40E+02', '4.60E+01', '\"46.99\"', '4.80E+01', '\"78\"',\n",
       "       '\"7.87\"', '\"76.06\"', '1.50E+01', '\"36.99\"', '\"148.35\"', '\"338.78\"',\n",
       "       '\"13.39\"', '\"24.98\"', '\"104.95\"', '\"10.49\"', '\"140\"', '\"180\"',\n",
       "       '5.15E+01', '4.40E+01', '5.50E+01', '\"92.1\"', '\"41.99\"', '\"71.32\"',\n",
       "       '\"9.58\"', '\"44.84\"', '1.90E+01', '1.96E+01', '\"17.99\"', '\"16.47\"',\n",
       "       '1.20E+02', '\"130\"', '3.00E+02', '\"12.40\"', '2.60E+01', '69',\n",
       "       '7.00E+01', '\"6.48\"', '\"325\"', '\"399.95\"', '\"289.99\"', '\"609.99\"',\n",
       "       '\"450\"', '\"21.05\"', '\"4.99\"', '\"245\"', '16', '\"24.89\"', '\"9.59\"',\n",
       "       '\"1595\"', '\"299\"', '1.60E+02', '1.30E+01', '\"27.49\"', '\"26.99\"',\n",
       "       '\"89.95\"', '\"14.7\"', '\"77.99\"', '\"199.99\"', '\"59.24\"', '\"24.87\"',\n",
       "       '\"16.09\"', '\"27.99\"', '1.10E+02', '5.59E+01', '\"18.99\"',\n",
       "       '1.29E+01', '8.70E+01', '3.30E+01', '2.85E+02', '\"349\"', '\"5.99\"',\n",
       "       '\"20.57\"', '\"45.48\"', '\"11.61\"', '\"13.06\"', '\"15.3\"', '\"54.5\"',\n",
       "       '\"48.99\"', '\"79\"', '8.00E+01', '1.22E+02', '\"35\"', '2.40E+01',\n",
       "       '1.59E+01', '7.74E+00', '43', '\"9.98\"', '\"70\"', '\"114.99\"',\n",
       "       '\"93.00\"', '\"65.99\"', '\"229.99\"', '\"150\"', '\"63\"', '\"64.95\"',\n",
       "       '\"24.95\"', '\"499\"', '\"379\"', '2.30E+01', '1.86E+01', '99',\n",
       "       '4.79E+01', '1.80E+02', '1.32E+01', '\"32.21\"', '\"385.00\"',\n",
       "       '\"19.68\"', '\"42.99\"', '3.79E+01', '\"45.98\"', '\"80\"', '\"369\"',\n",
       "       '6.50E+01', '2.10E+01', '\"84\"', '\"430\"', '\"79.89\"', '\"13.89\"',\n",
       "       '\"14.91\"', '\"19\"', '\"290\"', '\"1450\"', '\"15\"', '\"71.62\"', '\"399\"',\n",
       "       '\"58\"', '2.80E+02', '\"649.99\"', '\"94.95\"', '\"15.95\"', '\"12.95\"',\n",
       "       '\"167.99\"', '\"59.00\"', '\"9.76\"', '\"650\"', '\"34.52\"', '\"50.00\"',\n",
       "       '\"738\"', '\"16\"', '\"376.36\"', '\"1319.9\"', '\"13.95\"', '\"200.73\"',\n",
       "       '\"10.19\"', '\"13.9\"', '\"31.41\"', '\"53.99\"', '\"155\"', '\"45\"',\n",
       "       '\"88.88\"', '\"18.19\"', '4.99E+00', '\"8.55\"', '\"30\"', '\"21.98\"',\n",
       "       '\"38.89\"', '\"40\"', '\"99\"', '\"1099\"', '\"13.14\"', '\"17.98\"', '\"136\"',\n",
       "       '\"291.9\"', '\"20.9\"', '\"55\"', '\"19.97\"', '\"348\"', '\"224.99\"',\n",
       "       '\"147.37\"', '\"32.34\"', '\"22.1\"', '4.25E+01', '\"378\"', '5.52E+01',\n",
       "       '\"28.97\"', '2.35E+01', '\"23.4\"', '\"18.88\"', '\"139.95\"', '\"114.35\"',\n",
       "       '\"44.18\"', '\"16.49\"', '\"529\"', '\"29.97\"', '2.50E+01', '120',\n",
       "       '\"20.23\"', '8.30E+01', '\"49.95\"', '\"425\"', '\"108.99\"', '\"9.29\"',\n",
       "       '\"27.80\"', '\"219.99\"', '\"699\"', '\"55.17\"', '\"42.9\"', '\"115.14\"',\n",
       "       '\"90\"', '\"249\"', '\"51.5\"', '\"38\"', '\"79.96\"', '\"20\"', '\"19.9\"',\n",
       "       '\"795\"', '\"16.5\"', '\"11.12\"', '\"16.23\"', '\"34.98\"', '\"11.59\"',\n",
       "       '\"859\"', '\"29.95\"', '\"6.57\"', '\"32\"', '\"145\"', '\"69.64\"',\n",
       "       '\"29.04\"', '\"79.99\"', '2.27E+01', '\"603.93\"', '2.90E+02',\n",
       "       '\"32.49\"', '\"100\"', '\"34.51\"', '\"225\"', '\"15.39\"', '5.99E+00',\n",
       "       '\"250\"', '\"22.69\"', '\"36.00\"', '\"66.98\"', '\"33.6\"', '\"189.99\"',\n",
       "       '\"14.98\"', '\"34.11\"', '\"269.99\"', '\"32.48\"', '\"249.99\"',\n",
       "       '\"103.99\"', '\"134.99\"', '\"42.98\"', '50', '\"23.9\"', '\"449.13\"',\n",
       "       '\"26.95\"', '\"47.88\"', '\"25.81\"', '\"11.17\"', '\"20.16\"', '\"27.71\"',\n",
       "       '\"11.39\"', '1.40E+01'], dtype=object)"
      ]
     },
     "execution_count": 729,
     "metadata": {},
     "output_type": "execute_result"
    }
   ],
   "source": [
    "df['initial_price'].unique()"
   ]
  },
  {
   "cell_type": "code",
   "execution_count": 730,
   "id": "2f75c091-0637-4008-8ec9-bf124464a92a",
   "metadata": {},
   "outputs": [],
   "source": [
    "df['initial_price'] = df['initial_price'].str.replace('\"', '')"
   ]
  },
  {
   "cell_type": "code",
   "execution_count": 731,
   "id": "4cd329aa-e1f3-44ee-83cb-4c6b1e547837",
   "metadata": {},
   "outputs": [],
   "source": [
    "df['initial_price'] = df['initial_price'].astype(float)"
   ]
  },
  {
   "cell_type": "code",
   "execution_count": 732,
   "id": "9b0a1947-0518-4f94-8364-649937823a14",
   "metadata": {},
   "outputs": [],
   "source": [
    "df['initial_price'] = df['initial_price'].map('{:.2f}'.format)"
   ]
  },
  {
   "cell_type": "code",
   "execution_count": 733,
   "id": "15a462ab-ca3b-492c-9493-054fb716e9b8",
   "metadata": {},
   "outputs": [
    {
     "data": {
      "text/plain": [
       "array(['nan', '49.99', '18.00', '1299.00', '17.88', '39.24', '22.99',\n",
       "       '27.38', '28.40', '9.83', '89.99', '13.99', '45.00', '149.95',\n",
       "       '69.99', '6.98', '18.64', '13.98', '99.99', '400.00', '159.95',\n",
       "       '15.99', '37.98', '100.00', '200.00', '12.00', '51.70', '22.60',\n",
       "       '14.99', '45.99', '23.99', '29.98', '19.99', '18.95', '185.64',\n",
       "       '72.08', '146.00', '360.00', '19.39', '62.72', '30.99', '9.99',\n",
       "       '16.74', '267.00', '71.99', '37.00', '22.00', '16.00', '38.00',\n",
       "       '18.98', '12.70', '79.73', '65.00', '29.99', '39.80', '31.67',\n",
       "       '85.00', '95.99', '24.90', '599.00', '10.95', '10.99', '189.00',\n",
       "       '17.97', '34.03', '84.99', '27.00', '48.00', '115.00', '56.99',\n",
       "       '39.99', '60.00', '25.00', '32.90', '629.00', '36.29', '33.00',\n",
       "       '270.00', '14.95', '39.29', '24.99', '34.00', '15.28', '51.00',\n",
       "       '129.99', '68.80', '39.00', '35.99', '20.99', '4.28', '19.90',\n",
       "       '104.63', '899.00', '16.99', '90.00', '24.47', '43.00', '23.20',\n",
       "       '135.00', '21.99', '79.50', '50.00', '38.40', '130.00', '23.88',\n",
       "       '7.99', '28.00', '20.00', '23.60', '11.49', '11.25', '120.00',\n",
       "       '149.10', '230.00', '139.99', '119.98', '85.99', '31.99', '59.99',\n",
       "       '500.00', '24.36', '154.99', '149.99', '6.97', '25.99', '349.99',\n",
       "       '28.99', '22.71', '18.46', '54.99', '150.00', '11.00', '11.20',\n",
       "       '30.00', '79.00', '11.99', '32.99', '44.99', '97.20', '170.00',\n",
       "       '275.00', '179.99', '290.95', '106.00', '8.99', '1799.00', '38.39',\n",
       "       '29.50', '329.99', '165.00', '195.00', '34.95', '35.95', '33.99',\n",
       "       '61.38', '37.99', '75.00', '389.00', '79.95', '13.49', '119.99',\n",
       "       '6.99', '20.95', '12.99', '62.40', '152.00', '15.00', '17.00',\n",
       "       '56.20', '38.99', '23.00', '47.70', '41.00', '32.00', '79.97',\n",
       "       '52.87', '69.95', '56.00', '169.99', '124.46', '112.00', '153.58',\n",
       "       '42.16', '59.95', '8.65', '80.99', '55.99', '16.88', '64.99',\n",
       "       '24.97', '320.00', '1100.00', '179.00', '52.00', '34.99', '39.95',\n",
       "       '29.70', '40.00', '65.58', '57.95', '12.50', '110.00', '140.00',\n",
       "       '46.00', '46.99', '78.00', '7.87', '76.06', '36.99', '148.35',\n",
       "       '338.78', '13.39', '24.98', '104.95', '10.49', '180.00', '51.50',\n",
       "       '44.00', '55.00', '92.10', '41.99', '71.32', '9.58', '44.84',\n",
       "       '19.00', '19.60', '17.99', '16.47', '300.00', '12.40', '26.00',\n",
       "       '69.00', '70.00', '6.48', '325.00', '399.95', '289.99', '609.99',\n",
       "       '450.00', '21.05', '4.99', '245.00', '24.89', '9.59', '1595.00',\n",
       "       '299.00', '160.00', '13.00', '27.49', '26.99', '89.95', '14.70',\n",
       "       '77.99', '199.99', '59.24', '24.87', '16.09', '27.99', '55.90',\n",
       "       '18.99', '12.90', '87.00', '285.00', '349.00', '5.99', '20.57',\n",
       "       '45.48', '11.61', '13.06', '15.30', '54.50', '48.99', '80.00',\n",
       "       '122.00', '35.00', '24.00', '15.90', '7.74', '9.98', '114.99',\n",
       "       '93.00', '65.99', '229.99', '63.00', '64.95', '24.95', '499.00',\n",
       "       '379.00', '18.60', '99.00', '47.90', '13.20', '32.21', '385.00',\n",
       "       '19.68', '42.99', '37.90', '45.98', '369.00', '21.00', '84.00',\n",
       "       '430.00', '79.89', '13.89', '14.91', '290.00', '1450.00', '71.62',\n",
       "       '399.00', '58.00', '280.00', '649.99', '94.95', '15.95', '12.95',\n",
       "       '167.99', '59.00', '9.76', '650.00', '34.52', '738.00', '376.36',\n",
       "       '1319.90', '13.95', '200.73', '10.19', '13.90', '31.41', '53.99',\n",
       "       '155.00', '88.88', '18.19', '8.55', '21.98', '38.89', '1099.00',\n",
       "       '13.14', '17.98', '136.00', '291.90', '20.90', '19.97', '348.00',\n",
       "       '224.99', '147.37', '32.34', '22.10', '42.50', '378.00', '55.20',\n",
       "       '28.97', '23.50', '23.40', '18.88', '139.95', '114.35', '44.18',\n",
       "       '16.49', '529.00', '29.97', '20.23', '83.00', '49.95', '425.00',\n",
       "       '108.99', '9.29', '27.80', '219.99', '699.00', '55.17', '42.90',\n",
       "       '115.14', '249.00', '79.96', '795.00', '16.50', '11.12', '16.23',\n",
       "       '34.98', '11.59', '859.00', '29.95', '6.57', '145.00', '69.64',\n",
       "       '29.04', '79.99', '22.70', '603.93', '32.49', '34.51', '225.00',\n",
       "       '15.39', '250.00', '22.69', '36.00', '66.98', '33.60', '189.99',\n",
       "       '14.98', '34.11', '269.99', '32.48', '249.99', '103.99', '134.99',\n",
       "       '42.98', '23.90', '449.13', '26.95', '47.88', '25.81', '11.17',\n",
       "       '20.16', '27.71', '11.39', '14.00'], dtype=object)"
      ]
     },
     "execution_count": 733,
     "metadata": {},
     "output_type": "execute_result"
    }
   ],
   "source": [
    "df['initial_price'].unique()"
   ]
  },
  {
   "cell_type": "code",
   "execution_count": null,
   "id": "bbde7e1d-eefa-4382-ae6f-1c7cd9425d1f",
   "metadata": {},
   "outputs": [],
   "source": []
  },
  {
   "cell_type": "code",
   "execution_count": 734,
   "id": "251dba3c-f505-40f2-9be2-c278e5067393",
   "metadata": {},
   "outputs": [
    {
     "data": {
      "text/plain": [
       "array(['\"57.79\"', '\"28.5\"', '\"33.99\"', '1.80E+01', '\"799\"', '\"17.88\"',\n",
       "       '\"24.95\"', '\"20.99\"', '\"25.38\"', '\"23.92\"', nan, '\"84.99\"',\n",
       "       '\"11.19\"', '4.50E+01', '\"141.1\"', '\"69.99\"', '\"6.19\"', '\"13.52\"',\n",
       "       '\"13.98\"', '\"94.94\"', '4.00E+02', '\"12.80\"', '\"144.95\"', '\"12.74\"',\n",
       "       '\"12.99\"', '\"20.91\"', '\"85.99\"', '\"99.99\"', '1.61E+02', '7.99E+00',\n",
       "       '\"41.49\"', '\"64.95\"', '\"51.74\"', '1.96E+01', '\"9.99\"', '\"41.39\"',\n",
       "       '\"19.99\"', '\"21.98\"', '\"16.99\"', '\"69.95\"', '\"9.47\"', '\"140.88\"',\n",
       "       '\"68.48\"', '\"12.98\"', '103', '\"90.09\"', '\"17.45\"', '\"55\"',\n",
       "       '\"15.49\"', '\"4.99\"', '\"7.99\"', '\"14.49\"', '\"165.99\"', '\"189\"',\n",
       "       '\"49.99\"', '\"35.14\"', '2.20E+01', '\"15.99\"', '\"20.37\"', '3.80E+01',\n",
       "       '\"15.69\"', '\"11.99\"', '\"72.55\"', '\"53.93\"', '\"29.49\"', '\"22.34\"',\n",
       "       '\"29.99\"', '\"58.56\"', '\"75.99\"', '\"14.94\"', '\"389\"', '\"9.95\"',\n",
       "       '\"111.99\"', '\"14.38\"', '\"29.03\"', '\"44.99\"', '\"28.24\"', '\"60.27\"',\n",
       "       '\"32.45\"', '\"92.49\"', '\"50.99\"', '1.99E+01', '\"43.58\"', '6.00E+01',\n",
       "       '\"62.99\"', '\"17.81\"', '\"26.32\"', '\"18.99\"', '\"126.98\"', '\"38.67\"',\n",
       "       '\"32.99\"', '\"31.11\"', '1.30E+02', '\"12.95\"', '\"25.99\"', '\"33.4\"',\n",
       "       '\"34\"', '\"18.54\"', '3.99E+01', '\"39.99\"', '\"30.59\"', '\"63.75\"',\n",
       "       '2.66E+01', '\"35.99\"', '4.28E+00', '1.69E+01', '\"24.99\"',\n",
       "       '\"38.99\"', '\"82.84\"', '\"629\"', '\"23.99\"', '1.22E+01', '\"79.99\"',\n",
       "       '\"14.5\"', '9.00E+01', '\"16.17\"', '\"11.49\"', '\"211.72\"', '4.30E+01',\n",
       "       '\"15.72\"', '\"42.9\"', '\"28.99\"', '\"116.99\"', '\"25.95\"', '\"149.99\"',\n",
       "       '\"20.98\"', '\"22.42\"', '\"22.8\"', '\"40.79\"', '\"6.85\"', '\"11.02\"',\n",
       "       '2.60E+01', '2.00E+01', '\"10.44\"', '\"60\"', '\"43.68\"', '\"111.82\"',\n",
       "       '2.30E+02', '\"70\"', '\"73.98\"', '\"28.98\"', '\"11.95\"', '\"26.99\"',\n",
       "       '\"47.67\"', '\"17.99\"', '\"371\"', '\"24.36\"', '\"154.99\"', '\"109.99\"',\n",
       "       '\"5.59\"', '\"47.69\"', '\"7.97\"', '\"139.99\"', '\"21.99\"', '\"332.99\"',\n",
       "       '\"14.99\"', '\"49\"', '\"92.00\"', '\"21.01\"', '\"132.76\"', '\"18.78\"',\n",
       "       '\"222.99\"', '\"44\"', '1.50E+02', '1.10E+01', '1.12E+01', '2.80E+01',\n",
       "       '1.70E+01', '7.90E+01', '\"34.99\"', '3.70E+01', '\"58.99\"', '\"8.69\"',\n",
       "       '\"27.99\"', '\"69.79\"', '9.72E+01', '1.60E+02', '\"25.25\"', '\"220\"',\n",
       "       '\"126.49\"', '\"12.59\"', '\"269.98\"', '\"194.49\"', '\"45.05\"',\n",
       "       '1.06E+02', '\"55.46\"', '\"19.9\"', '8.99E+00', '\"35.55\"', '\"170\"',\n",
       "       '\"34.43\"', '\"41.34\"', '1.95E+01', '5.00E+01', '\"29.59\"',\n",
       "       '\"309.99\"', '\"95.03\"', '\"158.95\"', '\"99\"', '\"175\"', '\"26.98\"',\n",
       "       '\"9.90\"', '\"23.12\"', '\"93.39\"', '\"52.11\"', '\"6.99\"', '\"169.99\"',\n",
       "       '\"37.99\"', '\"53\"', '\"35.24\"', '\"75.96\"', '389', '\"10.99\"',\n",
       "       '\"119.99\"', '\"5.51\"', '\"18.95\"', '\"13.59\"', '\"14.95\"', '\"314.99\"',\n",
       "       '\"18.75\"', '\"3,479.00\"', '\"48.99\"', '1.52E+02', '1.35E+01',\n",
       "       '\"33.43\"', '\"29.95\"', '\"13.8\"', '\"34.4\"', '\"104.99\"', '3.60E+01',\n",
       "       '\"59.96\"', '\"35.54\"', '\"31.99\"', '\"58.20\"', '\"157.01\"', '6.99E+00',\n",
       "       '\"18.25\"', '\"62.95\"', '\"52.87\"', '\"24.29\"', '\"19.95\"', '\"42.00\"',\n",
       "       '1.30E+01', '\"135.99\"', '\"124.46\"', '\"5.99\"', '\"38.16\"',\n",
       "       '\"133.99\"', '\"34.29\"', '\"39.95\"', '\"7.69\"', '\"53.01\"', '\"13.99\"',\n",
       "       '\"22.99\"', '\"22.24\"', '\"310\"', '\"770\"', '\"41.36\"', '\"129.99\"',\n",
       "       '\"93.95\"', '\"24\"', '\"26.19\"', '\"28.49\"', '\"89.99\"', '\"46.55\"',\n",
       "       '\"159.42\"', '\"61.53\"', '\"130.5\"', '\"9.11\"', '\"57.95\"', '8',\n",
       "       '\"56.99\"', '\"120.99\"', '\"35.91\"', '4.00E+01', '\"42.99\"', '\"25\"',\n",
       "       '\"33.90\"', '9.99E+00', '4.80E+01', '\"78\"', '\"82.5\"', '3.95E+01',\n",
       "       '\"6.97\"', '\"64.90\"', '\"39.61\"', '1.20E+01', '\"36.99\"', '\"51.20\"',\n",
       "       '\"28.80\"', '\"3.99\"', '3.90E+01', '\"129\"', '\"338.78\"', '\"13.39\"',\n",
       "       '\"17.49\"', '\"30.64\"', '\"8.48\"', '\"98.99\"', '\"107\"', '3.49E+01',\n",
       "       '4.40E+01', '\"17.39\"', '\"39.67\"', '4.90E+01', '\"25.22\"', '\"87.06\"',\n",
       "       '\"59.99\"', '\"31.95\"', '\"52.8\"', '\"7.28\"', '\"17\"', '\"89.14\"',\n",
       "       '\"30.99\"', '\"57.04\"', '\"45.94\"', '\"177\"', '\"16.98\"', '2.70E+01',\n",
       "       '\"18.35\"', '1.20E+02', '\"119.95\"', '\"136.65\"', '\"10.38\"', '\"66\"',\n",
       "       '\"64.99\"', '2.50E+02', '\"9.42\"', '\"13.21\"', '\"92.89\"', '3.00E+01',\n",
       "       '3.40E+01', '5.75E+01', '6.30E+01', '\"5.84\"', '\"309\"', '\"164.95\"',\n",
       "       '\"5.39\"', '\"184.21\"', '\"10.79\"', '\"579.99\"', '\"337\"', '\"4.5\"',\n",
       "       '\"14.47\"', '\"39.96\"', '\"70.95\"', '\"72.36\"', '\"196\"', '16',\n",
       "       '\"187.46\"', '\"14.77\"', '\"88.95\"', '\"9.59\"', '\"9.49\"', '\"118\"',\n",
       "       '\"199\"', '\"28.97\"', '\"102.46\"', '5.70E+01', '\"52.95\"', '\"16.79\"',\n",
       "       '\"13.49\"', '\"43.14\"', '\"17.31\"', '\"15.37\"', '\"166.07\"', '\"11.27\"',\n",
       "       '\"17.17\"', '2.10E+01', '\"13.9\"', '\"77.99\"', '\"149.66\"', '\"47.21\"',\n",
       "       '\"64.9\"', '\"58.12\"', '\"84\"', '\"24.67\"', '\"23.23\"', '\"26.39\"',\n",
       "       '1.60E+01', '1.03E+02', '8.10E+01', '\"18.83\"', '\"45\"', '\"52.99\"',\n",
       "       '\"74.95\"', '\"28.05\"', '2.60E+02', '\"79.9\"', '9.36E+00', '\"109.95\"',\n",
       "       '\"299\"', '\"169.00\"', '\"359.95\"', '2.30E+01', '\"5.49\"', '\"7.92\"',\n",
       "       '\"21.00\"', '\"30.97\"', '\"10.55\"', '\"12.15\"', '\"12.8\"', '\"35.79\"',\n",
       "       '\"614.97\"', '\"28.50\"', '\"25.62\"', '\"51\"', '\"51.38\"', '\"66.5\"',\n",
       "       '6.80E+01', '9.80E+01', '6.53E+01', '1.59E+01', '7.33E+00',\n",
       "       '\"7.74\"', '\"13.15\"', '\"54.95\"', '\"5.67\"', '\"64.75\"', '\"43.35\"',\n",
       "       '\"94.99\"', '\"84.75\"', '\"203.59\"', '\"299.99\"', '\"44.81\"', '\"52.35\"',\n",
       "       '\"19.5\"', '\"399.99\"', '\"312\"', '\"25.01\"', '\"29.69\"', '1.41E+01',\n",
       "       '1.90E+01', '99', '\"23.18\"', '\"14.48\"', '\"102.91\"', '\"43.95\"',\n",
       "       '1.40E+02', '1.32E+01', '1.50E+01', '\"327.30\"', '\"16.95\"',\n",
       "       '7.98E+01', '\"49.95\"', '3.79E+01', '\"74\"', '\"10.98\"', '\"48.14\"',\n",
       "       '\"339\"', '\"22.09\"', '\"8.99\"', '\"159.99\"', '\"41.9\"', '\"34.8\"',\n",
       "       '\"59.79\"', '\"28.04\"', '\"25.48\"', '\"14.1\"', '\"14.19\"', '\"16.97\"',\n",
       "       '\"108\"', '\"13.32\"', '\"29.62\"', '\"57.33\"', '\"25.94\"', '\"45.92\"',\n",
       "       '\"59.95\"', '\"599.99\"', '\"87.87\"', '\"13.29\"', '\"9.07\"', '\"26.95\"',\n",
       "       '\"27.30\"', '\"43.03\"', '\"44.25\"', '\"195.49\"', '\"8.98\"', '\"455\"',\n",
       "       '\"25.43\"', '\"31.56\"', '\"563\"', '\"60.52\"', '\"27.32\"', '\"63\"',\n",
       "       '\"13.91\"', '\"376.36\"', '\"57.99\"', '\"16.59\"', '2.00E+02',\n",
       "       '\"897.56\"', '\"11.94\"', '\"9.96\"', '\"147.70\"', '\"45.99\"', '\"4.73\"',\n",
       "       '\"13.02\"', '\"95.99\"', '\"36.76\"', '\"67.88\"', '\"11.53\"', '\"67.18\"',\n",
       "       '\"266.82\"', '4.99E+00', '\"7.76\"', '\"17.78\"', '\"34.89\"', '\"31.19\"',\n",
       "       '\"35.08\"', '\"7.22\"', '\"59.4\"', '\"14.26\"', '\"940\"', '\"9.81\"',\n",
       "       '\"17.98\"', '\"90.92\"', '2.99E+02', '\"291.9\"', '\"14.39\"', '\"29.98\"',\n",
       "       '\"36.34\"', '\"112.49\"', '\"18.97\"', '\"229.33\"', '\"36\"', '\"202.52\"',\n",
       "       '\"129.95\"', '\"130.95\"', '\"27.34\"', '\"10.08\"', '\"65.99\"', '\"15.19\"',\n",
       "       '4.25E+01', '\"298\"', '\"197.99\"', '\"545\"', '\"176.95\"', '2.35E+01',\n",
       "       '\"9.57\"', '\"17.57\"', '\"19.6\"', '9.98E+00', '\"139.95\"', '\"24.30\"',\n",
       "       '9.79E+00', '\"104\"', '\"32.98\"', '\"502.85\"', '2.50E+01', '\"46.44\"',\n",
       "       '120', '\"19.19\"', '\"18.89\"', '\"8.79\"', '\"15.53\"', '\"37.00\"',\n",
       "       '7.60E+01', '\"599\"', '\"27.45\"', '\"10.29\"', '\"38.7\"', '\"95\"',\n",
       "       '\"7.48\"', '\"13.36\"', '\"25.80\"', '\"199.99\"', '\"399\"', '\"46.84\"',\n",
       "       '\"27.9\"', '\"22.17\"', '\"104.78\"', '\"114.95\"', '\"42.94\"', '\"45.95\"',\n",
       "       '\"31.98\"', '\"18.39\"', '\"16.14\"', '\"19\"', '\"28.79\"', '\"495\"',\n",
       "       '\"13.2\"', '\"9.84\"', '\"34.98\"', '1.55E+01', '\"54.99\"', '\"9.8\"',\n",
       "       '1.49E+01', '\"104.98\"', '\"390.9\"', '\"27.95\"', '\"5.41\"', '\"26.74\"',\n",
       "       '\"87.99\"', '\"35.62\"', '\"64.7\"', '\"55.50\"', '\"123.4\"', '\"57.22\"',\n",
       "       '\"14.98\"', '\"969.00\"', '7.00E+01', '\"555.54\"', '1.80E+02',\n",
       "       '\"32.49\"', '\"47.99\"', '\"68.9\"', '\"27.92\"', '\"212.88\"', '\"33.29\"',\n",
       "       '\"15.95\"', '\"368.00\"', '\"48.49\"', '\"142.00\"', '\"30\"', '\"58.8\"',\n",
       "       '\"23.98\"', '\"17.26\"', '\"8.49\"', '\"44.96\"', '\"179\"', '\"10.49\"',\n",
       "       '6.75E+00', '\"6.33\"', '2.21E+01', '\"23.42\"', '\"19.3\"', '\"66.98\"',\n",
       "       '\"189.99\"', '\"29.61\"', '\"179.95\"', '\"215.99\"', '\"199.98\"',\n",
       "       '\"37.87\"', '\"37.09\"', '\"23.9\"', '\"413.31\"', '\"23.07\"', '\"21.58\"',\n",
       "       '\"18.49\"', '\"15.98\"', '\"9.76\"', '\"453.99\"', '\"55.00\"', '\"6.49\"',\n",
       "       '\"23.62\"', '\"17.32\"', '\"12.03\"', '\"54.96\"', '\"99.95\"', '1.40E+01',\n",
       "       '\"16.49\"'], dtype=object)"
      ]
     },
     "execution_count": 734,
     "metadata": {},
     "output_type": "execute_result"
    }
   ],
   "source": [
    "df['final_price'].unique()"
   ]
  },
  {
   "cell_type": "code",
   "execution_count": 735,
   "id": "ff1f90bf-1991-4191-aad1-0b6313c5f998",
   "metadata": {},
   "outputs": [],
   "source": [
    "df['final_price'] = df['final_price'].str.replace('\"', '')"
   ]
  },
  {
   "cell_type": "code",
   "execution_count": 736,
   "id": "b5fea4a8-d171-4911-8827-3e6d25edabf9",
   "metadata": {},
   "outputs": [],
   "source": [
    "df['final_price'] = df['final_price'].str.replace(',', '')"
   ]
  },
  {
   "cell_type": "code",
   "execution_count": 737,
   "id": "78396048-6807-4479-aa89-95330772ab3e",
   "metadata": {},
   "outputs": [],
   "source": [
    "df['final_price'] = df['final_price'].astype(float)"
   ]
  },
  {
   "cell_type": "code",
   "execution_count": 738,
   "id": "9d5a89c5-af01-420f-8d6a-7e10f22e8186",
   "metadata": {},
   "outputs": [],
   "source": [
    "df['final_price'] = df['final_price'].map('{:.2f}'.format)#Applies a function to each element in the column.\n",
    "#Converts the number to a string."
   ]
  },
  {
   "cell_type": "code",
   "execution_count": 739,
   "id": "0250daa6-d7c6-4e2a-a9c9-89722c54b920",
   "metadata": {},
   "outputs": [
    {
     "data": {
      "text/plain": [
       "array(['57.79', '28.50', '33.99', '18.00', '799.00', '17.88', '24.95',\n",
       "       '20.99', '25.38', '23.92', 'nan', '84.99', '11.19', '45.00',\n",
       "       '141.10', '69.99', '6.19', '13.52', '13.98', '94.94', '400.00',\n",
       "       '12.80', '144.95', '12.74', '12.99', '20.91', '85.99', '99.99',\n",
       "       '161.00', '7.99', '41.49', '64.95', '51.74', '19.60', '9.99',\n",
       "       '41.39', '19.99', '21.98', '16.99', '69.95', '9.47', '140.88',\n",
       "       '68.48', '12.98', '103.00', '90.09', '17.45', '55.00', '15.49',\n",
       "       '4.99', '14.49', '165.99', '189.00', '49.99', '35.14', '22.00',\n",
       "       '15.99', '20.37', '38.00', '15.69', '11.99', '72.55', '53.93',\n",
       "       '29.49', '22.34', '29.99', '58.56', '75.99', '14.94', '389.00',\n",
       "       '9.95', '111.99', '14.38', '29.03', '44.99', '28.24', '60.27',\n",
       "       '32.45', '92.49', '50.99', '19.90', '43.58', '60.00', '62.99',\n",
       "       '17.81', '26.32', '18.99', '126.98', '38.67', '32.99', '31.11',\n",
       "       '130.00', '12.95', '25.99', '33.40', '34.00', '18.54', '39.90',\n",
       "       '39.99', '30.59', '63.75', '26.60', '35.99', '4.28', '16.90',\n",
       "       '24.99', '38.99', '82.84', '629.00', '23.99', '12.20', '79.99',\n",
       "       '14.50', '90.00', '16.17', '11.49', '211.72', '43.00', '15.72',\n",
       "       '42.90', '28.99', '116.99', '25.95', '149.99', '20.98', '22.42',\n",
       "       '22.80', '40.79', '6.85', '11.02', '26.00', '20.00', '10.44',\n",
       "       '43.68', '111.82', '230.00', '70.00', '73.98', '28.98', '11.95',\n",
       "       '26.99', '47.67', '17.99', '371.00', '24.36', '154.99', '109.99',\n",
       "       '5.59', '47.69', '7.97', '139.99', '21.99', '332.99', '14.99',\n",
       "       '49.00', '92.00', '21.01', '132.76', '18.78', '222.99', '44.00',\n",
       "       '150.00', '11.00', '11.20', '28.00', '17.00', '79.00', '34.99',\n",
       "       '37.00', '58.99', '8.69', '27.99', '69.79', '97.20', '160.00',\n",
       "       '25.25', '220.00', '126.49', '12.59', '269.98', '194.49', '45.05',\n",
       "       '106.00', '55.46', '8.99', '35.55', '170.00', '34.43', '41.34',\n",
       "       '19.50', '50.00', '29.59', '309.99', '95.03', '158.95', '99.00',\n",
       "       '175.00', '26.98', '9.90', '23.12', '93.39', '52.11', '6.99',\n",
       "       '169.99', '37.99', '53.00', '35.24', '75.96', '10.99', '119.99',\n",
       "       '5.51', '18.95', '13.59', '14.95', '314.99', '18.75', '3479.00',\n",
       "       '48.99', '152.00', '13.50', '33.43', '29.95', '13.80', '34.40',\n",
       "       '104.99', '36.00', '59.96', '35.54', '31.99', '58.20', '157.01',\n",
       "       '18.25', '62.95', '52.87', '24.29', '19.95', '42.00', '13.00',\n",
       "       '135.99', '124.46', '5.99', '38.16', '133.99', '34.29', '39.95',\n",
       "       '7.69', '53.01', '13.99', '22.99', '22.24', '310.00', '770.00',\n",
       "       '41.36', '129.99', '93.95', '24.00', '26.19', '28.49', '89.99',\n",
       "       '46.55', '159.42', '61.53', '130.50', '9.11', '57.95', '8.00',\n",
       "       '56.99', '120.99', '35.91', '40.00', '42.99', '25.00', '33.90',\n",
       "       '48.00', '78.00', '82.50', '39.50', '6.97', '64.90', '39.61',\n",
       "       '12.00', '36.99', '51.20', '28.80', '3.99', '39.00', '129.00',\n",
       "       '338.78', '13.39', '17.49', '30.64', '8.48', '98.99', '107.00',\n",
       "       '34.90', '17.39', '39.67', '25.22', '87.06', '59.99', '31.95',\n",
       "       '52.80', '7.28', '89.14', '30.99', '57.04', '45.94', '177.00',\n",
       "       '16.98', '27.00', '18.35', '120.00', '119.95', '136.65', '10.38',\n",
       "       '66.00', '64.99', '250.00', '9.42', '13.21', '92.89', '30.00',\n",
       "       '57.50', '63.00', '5.84', '309.00', '164.95', '5.39', '184.21',\n",
       "       '10.79', '579.99', '337.00', '4.50', '14.47', '39.96', '70.95',\n",
       "       '72.36', '196.00', '16.00', '187.46', '14.77', '88.95', '9.59',\n",
       "       '9.49', '118.00', '199.00', '28.97', '102.46', '57.00', '52.95',\n",
       "       '16.79', '13.49', '43.14', '17.31', '15.37', '166.07', '11.27',\n",
       "       '17.17', '21.00', '13.90', '77.99', '149.66', '47.21', '58.12',\n",
       "       '84.00', '24.67', '23.23', '26.39', '81.00', '18.83', '52.99',\n",
       "       '74.95', '28.05', '260.00', '79.90', '9.36', '109.95', '299.00',\n",
       "       '169.00', '359.95', '23.00', '5.49', '7.92', '30.97', '10.55',\n",
       "       '12.15', '35.79', '614.97', '25.62', '51.00', '51.38', '66.50',\n",
       "       '68.00', '98.00', '65.30', '15.90', '7.33', '7.74', '13.15',\n",
       "       '54.95', '5.67', '64.75', '43.35', '94.99', '84.75', '203.59',\n",
       "       '299.99', '44.81', '52.35', '399.99', '312.00', '25.01', '29.69',\n",
       "       '14.10', '19.00', '23.18', '14.48', '102.91', '43.95', '140.00',\n",
       "       '13.20', '15.00', '327.30', '16.95', '79.80', '49.95', '37.90',\n",
       "       '74.00', '10.98', '48.14', '339.00', '22.09', '159.99', '41.90',\n",
       "       '34.80', '59.79', '28.04', '25.48', '14.19', '16.97', '108.00',\n",
       "       '13.32', '29.62', '57.33', '25.94', '45.92', '59.95', '599.99',\n",
       "       '87.87', '13.29', '9.07', '26.95', '27.30', '43.03', '44.25',\n",
       "       '195.49', '8.98', '455.00', '25.43', '31.56', '563.00', '60.52',\n",
       "       '27.32', '13.91', '376.36', '57.99', '16.59', '200.00', '897.56',\n",
       "       '11.94', '9.96', '147.70', '45.99', '4.73', '13.02', '95.99',\n",
       "       '36.76', '67.88', '11.53', '67.18', '266.82', '7.76', '17.78',\n",
       "       '34.89', '31.19', '35.08', '7.22', '59.40', '14.26', '940.00',\n",
       "       '9.81', '17.98', '90.92', '291.90', '14.39', '29.98', '36.34',\n",
       "       '112.49', '18.97', '229.33', '202.52', '129.95', '130.95', '27.34',\n",
       "       '10.08', '65.99', '15.19', '42.50', '298.00', '197.99', '545.00',\n",
       "       '176.95', '23.50', '9.57', '17.57', '9.98', '139.95', '24.30',\n",
       "       '9.79', '104.00', '32.98', '502.85', '46.44', '19.19', '18.89',\n",
       "       '8.79', '15.53', '76.00', '599.00', '27.45', '10.29', '38.70',\n",
       "       '95.00', '7.48', '13.36', '25.80', '199.99', '399.00', '46.84',\n",
       "       '27.90', '22.17', '104.78', '114.95', '42.94', '45.95', '31.98',\n",
       "       '18.39', '16.14', '28.79', '495.00', '9.84', '34.98', '15.50',\n",
       "       '54.99', '9.80', '14.90', '104.98', '390.90', '27.95', '5.41',\n",
       "       '26.74', '87.99', '35.62', '64.70', '55.50', '123.40', '57.22',\n",
       "       '14.98', '969.00', '555.54', '180.00', '32.49', '47.99', '68.90',\n",
       "       '27.92', '212.88', '33.29', '15.95', '368.00', '48.49', '142.00',\n",
       "       '58.80', '23.98', '17.26', '8.49', '44.96', '179.00', '10.49',\n",
       "       '6.75', '6.33', '22.10', '23.42', '19.30', '66.98', '189.99',\n",
       "       '29.61', '179.95', '215.99', '199.98', '37.87', '37.09', '23.90',\n",
       "       '413.31', '23.07', '21.58', '18.49', '15.98', '9.76', '453.99',\n",
       "       '6.49', '23.62', '17.32', '12.03', '54.96', '99.95', '14.00',\n",
       "       '16.49'], dtype=object)"
      ]
     },
     "execution_count": 739,
     "metadata": {},
     "output_type": "execute_result"
    }
   ],
   "source": [
    "df['final_price'].unique()"
   ]
  },
  {
   "cell_type": "code",
   "execution_count": 740,
   "id": "0fd75512-f92c-4c12-b76e-1e266c49551e",
   "metadata": {},
   "outputs": [
    {
     "data": {
      "text/plain": [
       "array([nan, '-32%', '-38%', '-13%', '-36%', '-9%', '-7%', '16', '-5%',\n",
       "       '-6%', '-20%', '-12%', '-11%', '$5.12', '30', '$1.19', '$3.25',\n",
       "       '-19%', '-45%', '-33%', '-10%', '17', '27', '-15%', '-50%', '-24%',\n",
       "       '-30%', '75', '13', '-29%', '-31%', '-17%', '$17.46', '5', '-21%',\n",
       "       '40', '-35%', '-41%', '$3.59', '15', '31', '37', '29', '-26%',\n",
       "       '$7.00', '20', '36', '9', '-52%', '-48%', '-55%', '-22%', '23',\n",
       "       '-25%', '-34%', '-18%', '32', '-37%', '14', '$9.41', '8', '$1.08',\n",
       "       '-14%', '$0.81', '25', '$12.01', '28', '-53%', '-27%', '$26.01',\n",
       "       '$8.47', '$5.00', '-82%', '22', '$7.68', '47', '$27.40', '-40%',\n",
       "       '-23%', '-8%', '$3.09', '$10.87', '11', '24', '$2.50', '$13.41',\n",
       "       '-28%', '-65%', '$15.00', '$14.00', '-66%', '6', '33', '-51%',\n",
       "       '$1.00', '-44%', '-3%', '  (30%)             \\n              ',\n",
       "       '$3.00', '-39%', '10', '$13.44', '7', '55', '$11.16', '$5.80',\n",
       "       '-42%', '71', '$2.01', '41', '$6.32', '$2.73', '12', '-62%',\n",
       "       '$55.86', '19', '-2%', '-16%', '$2.60', '$2.98', '$10.00',\n",
       "       '$12.00', '-59%', '-92%', '$10.12', '21', '-64%', '$13.50', '52',\n",
       "       '-61%', '43', '-71%', '26', '51', '$6.60', '-69%', '44', '-43%',\n",
       "       '46', '$8.25', '-47%', '42', '35', '$3.40', '$57.70', '49',\n",
       "       '$40.00', '-49%', '$2.66', '45', '$14.75', '$0.78', '$18.44', '34',\n",
       "       '$3.05', '$3.99', '$53.03', '-54%', '69', '18', '-58%', '$3.33',\n",
       "       '39', '63', '38', '$16.42', '$1.80', '-67%', '$4.50', '-77%',\n",
       "       '$10.46', '$1.39', '$8.63', '57', '$2.00', '$16.97', '$1.79',\n",
       "       '$3.50', '-72%', '$12.58', '$54.00', '$5.53', '$3.88', '$3.91',\n",
       "       '$5.23', '$0.50', '$0.91'], dtype=object)"
      ]
     },
     "execution_count": 740,
     "metadata": {},
     "output_type": "execute_result"
    }
   ],
   "source": [
    "df['discount'].unique()"
   ]
  },
  {
   "cell_type": "code",
   "execution_count": 741,
   "id": "a0bba460-0dc9-4cbb-b2b0-e6876cdf91fd",
   "metadata": {},
   "outputs": [],
   "source": [
    "df['discount'] = df['discount'].str.replace(r'[$\\-()%\\]]', '', regex = True)\n",
    "df['discount'] = df['discount'].str.replace('  30             \\n              ', '30')"
   ]
  },
  {
   "cell_type": "code",
   "execution_count": 742,
   "id": "53987224-f9df-48a0-a365-0c752a535b5c",
   "metadata": {},
   "outputs": [
    {
     "data": {
      "text/plain": [
       "array([nan, '32', '38', '13', '36', '9', '7', '16', '5', '6', '20', '12',\n",
       "       '11', '5.12', '30', '1.19', '3.25', '19', '45', '33', '10', '17',\n",
       "       '27', '15', '50', '24', '75', '29', '31', '17.46', '21', '40',\n",
       "       '35', '41', '3.59', '37', '26', '7.00', '52', '48', '55', '22',\n",
       "       '23', '25', '34', '18', '14', '9.41', '8', '1.08', '0.81', '12.01',\n",
       "       '28', '53', '26.01', '8.47', '5.00', '82', '7.68', '47', '27.40',\n",
       "       '3.09', '10.87', '2.50', '13.41', '65', '15.00', '14.00', '66',\n",
       "       '51', '1.00', '44', '3', '3.00', '39', '13.44', '11.16', '5.80',\n",
       "       '42', '71', '2.01', '6.32', '2.73', '62', '55.86', '2', '2.60',\n",
       "       '2.98', '10.00', '12.00', '59', '92', '10.12', '64', '13.50', '61',\n",
       "       '43', '6.60', '69', '46', '8.25', '3.40', '57.70', '49', '40.00',\n",
       "       '2.66', '14.75', '0.78', '18.44', '3.05', '3.99', '53.03', '54',\n",
       "       '58', '3.33', '63', '16.42', '1.80', '67', '4.50', '77', '10.46',\n",
       "       '1.39', '8.63', '57', '2.00', '16.97', '1.79', '3.50', '72',\n",
       "       '12.58', '54.00', '5.53', '3.88', '3.91', '5.23', '0.50', '0.91'],\n",
       "      dtype=object)"
      ]
     },
     "execution_count": 742,
     "metadata": {},
     "output_type": "execute_result"
    }
   ],
   "source": [
    "df['discount'].unique()"
   ]
  },
  {
   "cell_type": "code",
   "execution_count": 743,
   "id": "824a57da-5b5f-417a-904b-a43f343c1122",
   "metadata": {},
   "outputs": [],
   "source": [
    "df['discount'] = df['discount'].astype(float)"
   ]
  },
  {
   "cell_type": "code",
   "execution_count": 744,
   "id": "4101a612-d427-4bf8-b6eb-97ec5d07e2a6",
   "metadata": {},
   "outputs": [],
   "source": [
    "df['initial_price'] = df['initial_price'].astype(float)\n",
    "df['final_price'] = df['final_price'].astype(float)"
   ]
  },
  {
   "cell_type": "code",
   "execution_count": null,
   "id": "f4448cae-3430-470b-b662-361eda1f719c",
   "metadata": {},
   "outputs": [],
   "source": []
  },
  {
   "cell_type": "code",
   "execution_count": 745,
   "id": "71e43b07-6b82-4d2a-8ae7-af0f70fe15e4",
   "metadata": {
    "scrolled": true
   },
   "outputs": [
    {
     "data": {
      "text/plain": [
       "array(['[\"Clothing, Shoes & Jewelry\",\"Men\",\"Shoes\",\"Athletic\",\"Running\",\"Road Running\"]',\n",
       "       '[\"Tools & Home Improvement\",\"Safety & Security\",\"Personal Protective Equipment\",\"Protective Workwear\",\"Safety Apparel\",\"Vests\"]',\n",
       "       '[\"Tools & Home Improvement\",\"Lighting & Ceiling Fans\",\"Outdoor Lighting\",\"Post Lights\"]',\n",
       "       '[\"Automotive\",\"Tools & Equipment\",\"Tire & Wheel Tools\",\"Tire Repair Tools\"]',\n",
       "       '[\"Beauty\",\"Hair Care\",\"Hair Oils\"]',\n",
       "       '[\"Electronics\",\"Headphones, Earbuds & Accessories\",\"Earpads\"]',\n",
       "       '[\"Beauty & Personal Care\",\"Skin Care\",\"Face\",\"Creams & Moisturizers\",\"Face Oil\"]',\n",
       "       '[\"Arts, Crafts & Sewing\",\"Organization, Storage & Transport\",\"Storage Boxes & Organizers\"]',\n",
       "       '[\"Tools & Home Improvement\",\"Power & Hand Tools\",\"Power Tool Parts & Accessories\",\"Power Drill Parts & Accessories\",\"Drill Bits\",\"Auger Drill Bits\"]',\n",
       "       '[\"Clothing, Shoes & Jewelry\",\"Women\",\"Clothing\",\"Active\",\"Leggings\"]',\n",
       "       '[\"Grocery & Gourmet Food\",\"Pantry Staples\",\"Nut & Seed Butters\",\"Almond Butter\"]',\n",
       "       '[\"Electronics\",\"Headphones, Earbuds & Accessories\",\"Headphones & Earbuds\",\"On-Ear Headphones\"]',\n",
       "       '[\"Women\",\"Accessories\",\"Scarves & Wraps\"]',\n",
       "       '[\"Health & Household\",\"Household Supplies\",\"Paper & Plastic\",\"Disposable Plates, Bowls & Cutlery\",\"Plates\"]',\n",
       "       '[\"Tools & Home Improvement\",\"Power & Hand Tools\",\"Hand Tools\",\"Wrenches\",\"Socket Wrenches\"]',\n",
       "       '[\"Tools & Home Improvement\",\"Power & Hand Tools\",\"Power Tool Parts & Accessories\",\"Battery Packs & Chargers\",\"Battery Packs\"]',\n",
       "       '[\"Tools & Home Improvement\",\"Power & Hand Tools\",\"Hand Tools\",\"Knives, Parts & Accessories\",\"Knives\",\"Utility Knives\"]',\n",
       "       '[\"Arts, Crafts & Sewing\",\"Painting, Drawing & Art Supplies\",\"Painting\",\"Paints\"]',\n",
       "       '[\"Cell Phones & Accessories\",\"Cases, Holsters & Sleeves\",\"Basic Cases\"]',\n",
       "       '[\"Beauty & Personal Care\",\"Shave & Hair Removal\",\"Women\\'s\",\"Epilators, Groomers & Trimmers\",\"Epilators\"]',\n",
       "       '[\"Patio, Lawn & Garden\",\"Pools, Hot Tubs & Supplies\",\"Parts & Accessories\",\"Slides, Ladders & Diving Boards\",\"Pool Ladders\"]',\n",
       "       '[\"Health & Household\",\"Vitamins, Minerals & Supplements\",\"Vitamins\",\"Multivitamins\"]',\n",
       "       '[\"Clothing, Shoes & Jewelry\",\"Boot Shop\",\"Men\",\"Fashion\",\"Western\"]',\n",
       "       '[\"Health & Household\",\"Vitamins, Minerals & Supplements\",\"Herbal Supplements\",\"Echinacea\"]',\n",
       "       '[\"Tools & Home Improvement\",\"Light Bulbs\",\"LED Bulbs\"]',\n",
       "       '[\"Automotive\",\"Lights & Lighting Accessories\",\"Accent & Off Road Lighting\",\"LED & Neon Lights\",\"Neon Accent Lights\"]',\n",
       "       '[\"Video Games\",\"PC\",\"Accessories\",\"Gaming Keyboards\"]',\n",
       "       '[\"Sports & Outdoors\",\"Exercise & Fitness\",\"Strength Training Equipment\",\"Weights & Accessories\",\"Dumbbells\"]',\n",
       "       '[\"Tools & Home Improvement\",\"Paint, Wall Treatments & Supplies\",\"Wallpaper & Wallpapering Supplies\",\"3D Wall Panels\"]',\n",
       "       '[\"Home & Kitchen\",\"Home Décor Products\",\"Home Décor Accents\",\"Wreaths\"]',\n",
       "       '[\"Health & Household\",\"Household Supplies\",\"Household Cleaning\",\"All-Purpose Cleaners\"]',\n",
       "       '[\"Tools & Home Improvement\",\"Safety & Security\",\"Flashlights\",\"Hands Free Flashlights & Headlamps\",\"Headlamps\"]',\n",
       "       '[\"Home & Kitchen\",\"Furniture\",\"Living Room Furniture\",\"Bean Bags, Covers & Refills\",\"Bean Bags\"]',\n",
       "       '[\"Patio, Lawn & Garden\",\"Pools, Hot Tubs & Supplies\",\"Cleaning Tools & Chemicals\",\"Chemicals & Water Testing Products\",\"Chlorine\"]',\n",
       "       '[\"Clothing, Shoes & Jewelry\",\"Women\",\"Clothing\",\"Lingerie, Sleep & Lounge\",\"Lingerie\",\"Panties\",\"Hipsters\"]',\n",
       "       '[\"Patio, Lawn & Garden\",\"Gardening & Lawn Care\",\"Plant Support Structures\",\"Trellises\"]',\n",
       "       '[\"Cell Phones & Accessories\",\"Accessories\",\"Maintenance, Upkeep & Repairs\",\"Replacement Parts\",\"Screens\"]',\n",
       "       '[\"Clothing, Shoes & Jewelry\",\"Women\",\"Clothing\",\"Active\",\"Active Shirts & Tees\",\"T-Shirts\"]',\n",
       "       '[\"Kitchen & Dining\",\"Small Appliance Parts & Accessories\",\"Coffee & Espresso Machine Parts & Accessories\",\"Coffee & Espresso Machine Cleaning Products\"]',\n",
       "       '[\"Clothing, Shoes & Jewelry\",\"Women\",\"Shoes\",\"Boots\",\"Ankle & Bootie\"]',\n",
       "       '[\"Tools & Home Improvement\",\"Hardware\",\"Tarps & Tie-Downs\",\"Bungee Cords\"]',\n",
       "       '[\"Motorcycle & Powersports\",\"Parts\",\"Wheels & Tires\",\"Tires & Accessories\",\"Tires & Inner Tubes\",\"Motorcycle & Scooter\",\"Motorcycle\",\"Street\",\"Sport\"]',\n",
       "       '[\"Tools & Home Improvement\",\"Plumbing\",\"Pipes, Pipe Fittings & Accessories\",\"Pipe Heat Cables\"]',\n",
       "       '[\"Electronics\",\"Computers & Accessories\",\"Tablet Accessories\",\"Bags, Cases & Sleeves\",\"Cases\"]',\n",
       "       '[\"Pet Supplies\",\"Dogs\",\"Flea & Tick Control\",\"Flea & Tick Collars\"]',\n",
       "       '[\"Home & Kitchen\",\"Home Décor Products\",\"Rugs, Pads & Protectors\",\"Area Rugs\"]',\n",
       "       '[\"Office Products\",\"Office & School Supplies\",\"Staplers & Punches\",\"Manual Staplers\",\"Desktop Staplers\"]',\n",
       "       '[\"Health & Household\",\"Household Supplies\",\"Tissues, Toilet Paper & Sprays\",\"Toilet Paper\"]',\n",
       "       '[\"Sports & Outdoors\",\"Sports\",\"Water Sports\",\"Swimming\",\"Training Equipment\",\"Training Fins\"]',\n",
       "       '[\"Arts, Crafts & Sewing\",\"Beading & Jewelry Making\",\"Jewelry Findings\",\"Jewelry Making Chains\"]',\n",
       "       '[\"Patio, Lawn & Garden\",\"Outdoor Décor\",\"Flags\"]',\n",
       "       '[\"Arts, Crafts & Sewing\",\"Crafting\",\"Craft Supplies\",\"Adhesives\",\"Adhesive Sheets & Sprays\",\"Adhesive Sprays\"]',\n",
       "       '[\"Home & Kitchen\",\"Furniture\",\"Dining Room Furniture\",\"Chairs\"]',\n",
       "       '[\"Beauty\",\"Skin Care\",\"Face\",\"Face Masks\"]',\n",
       "       '[\"Tools & Home Improvement\",\"Lighting & Ceiling Fans\",\"Lighting Accessories\",\"Lighting Chains\"]',\n",
       "       '[\"Home & Kitchen\",\"Kitchen & Dining\",\"Cookware\",\"Pots & Pans\",\"Saucepans\"]',\n",
       "       '[\"Pet Supplies\",\"Cats\",\"Cat Doors, Steps, Nets & Pens\",\"Cat Doors\"]',\n",
       "       '[\"Electronics\",\"Computers & Accessories\",\"Laptop Accessories\",\"Bags, Cases & Sleeves\",\"Hard Shell Cases\"]',\n",
       "       '[\"Industrial & Scientific\",\"Janitorial & Sanitation Supplies\",\"Restroom Fixtures\",\"Commercial Paper Hand Towel Dispensers\"]',\n",
       "       '[\"Patio, Lawn & Garden\",\"Pools, Hot Tubs & Supplies\",\"Cleaning Tools & Chemicals\",\"Chemicals & Water Testing Products\",\"Pool Clarifiers & Enzymes\"]',\n",
       "       '[\"CDs & Vinyl\",\"Jazz\",\"Cool Jazz\"]',\n",
       "       '[\"Home & Kitchen\",\"Kitchen & Dining\",\"Bakeware\",\"Pastry & Baking Molds\",\"Brioche Pans\"]',\n",
       "       '[\"Automotive\",\"Interior Accessories\",\"Sun Protection\",\"Sunshades\",\"Windshield Sunshades\"]',\n",
       "       '[\"Clothing, Shoes & Jewelry\",\"Men\",\"Shoes\",\"Oxfords\"]',\n",
       "       '[\"Clothing, Shoes & Jewelry\",\"Men\",\"Clothing\",\"Active\",\"Active Pants\",\"Sweatpants\"]',\n",
       "       '[\"Industrial & Scientific\",\"Fasteners\",\"Threaded Inserts\",\"Helical Threaded Inserts\"]',\n",
       "       '[\"Office Products\",\"Office & School Supplies\",\"Filing Products\",\"Folders\",\"Hanging Folders & Interior Folders\"]',\n",
       "       '[\"Office Products\",\"Office & School Supplies\",\"Writing & Correction Supplies\",\"Pens & Refills\",\"Ballpoint Pens\"]',\n",
       "       '[\"Clothing, Shoes & Jewelry\",\"Women\",\"Shoes\",\"Athletic\",\"Walking\"]',\n",
       "       '[\"Home & Kitchen\",\"Bedding\",\"Sheets & Pillowcases\",\"Pillowcases\"]',\n",
       "       '[\"Clothing, Shoes & Jewelry\",\"Women\",\"Clothing\",\"Shorts\"]',\n",
       "       '[\"Beauty\",\"Skin Care\",\"Face\",\"Creams & Moisturisers\",\"Serums\"]',\n",
       "       '[\"Office Products\",\"Office & School Supplies\",\"Binders & Binding Systems\",\"Binder Accessories\",\"Sheet Protectors, Card & Photo Sleeves\"]',\n",
       "       '[\"Electronics\",\"Car & Vehicle Electronics\",\"Car Electronics\",\"Car Safety & Security\",\"Vehicle Backup Cameras\"]',\n",
       "       '[\"Tools & Home Improvement\",\"Power & Hand Tools\",\"Power Tools\",\"Impact Wrenches\"]',\n",
       "       '[\"Clothing, Shoes & Jewelry\",\"Men\",\"Uniforms, Work & Safety\",\"Clothing\",\"Medical\",\"Scrub Bottoms\"]',\n",
       "       '[\"Toys & Games\",\"Toy Figures & Playsets\",\"Play Figure Vehicles\",\"Buses\"]',\n",
       "       '[\"Clothing, Shoes & Jewelry\",\"Women\",\"Shoes\",\"Athletic\",\"Running\",\"Track & Field & Cross Country\"]',\n",
       "       '[\"Clothing, Shoes & Jewelry\",\"Women\",\"Shoes\",\"Fashion Sneakers\"]',\n",
       "       '[\"Clothing, Shoes & Jewelry\",\"Men\",\"Shoes\",\"Fashion Sneakers\"]',\n",
       "       '[\"Home & Kitchen\",\"Kitchen & Dining\",\"Dining & Entertaining\",\"Glassware & Drinkware\",\"Cocktail Drinkware\",\"Margarita Glasses\"]',\n",
       "       '[\"Clothing, Shoes & Jewelry\",\"Girls\",\"Shoes\",\"Athletic\",\"Running\"]',\n",
       "       '[\"Clothing, Shoes & Jewelry\",\"Men\",\"Uniforms, Work & Safety\",\"Shoes\",\"Work & Utility\",\"Industrial & Construction Boots\"]',\n",
       "       '[\"Home & Kitchen\",\"Furniture\",\"Living Room Furniture\",\"Ottomans\"]',\n",
       "       '[\"Home & Kitchen\",\"Bath\",\"Towels\",\"Beach Towels\"]',\n",
       "       '[\"Patio, Lawn & Garden\",\"Outdoor Power Tools\",\"Replacement Parts & Accessories\",\"Lawn Mower Parts & Accessories\",\"Lawn Mower Replacement Parts\",\"Belts\"]',\n",
       "       '[\"Electronics\",\"Computers & Accessories\",\"Laptop Accessories\",\"Bags, Cases & Sleeves\",\"Backpacks\"]',\n",
       "       '[\"Patio, Lawn & Garden\",\"Gardening & Lawn Care\",\"Gloves & Protective Gear\",\"Workseats\"]',\n",
       "       '[\"Arts, Crafts & Sewing\",\"Printmaking\",\"Heat Press Machines & Accessories\",\"Heat Press Machines\"]',\n",
       "       '[\"Clothing, Shoes & Jewelry\",\"Men\",\"Accessories\",\"Sunglasses & Eyewear Accessories\",\"Replacement Sunglass Lenses\"]',\n",
       "       '[\"Clothing, Shoes & Jewelry\",\"Men\",\"Clothing\",\"Shirts\",\"Tank Tops\"]',\n",
       "       '[\"Clothing, Shoes & Jewelry\",\"Men\",\"Clothing\",\"Pants\"]',\n",
       "       '[\"Sports & Outdoors\",\"Exercise & Fitness\",\"Accessories\",\"Gloves\"]',\n",
       "       '[\"Office Products\",\"Office Electronics\",\"Printers & Accessories\",\"Printer Parts & Accessories\",\"Printer Ink & Toner\",\"Toner Cartridges\"]',\n",
       "       '[\"Sports & Outdoors\",\"Fan Shop\",\"Clothing\",\"Polo Shirts\"]',\n",
       "       '[\"Home & Kitchen\",\"Bedding\",\"Decorative Pillows, Inserts & Covers\",\"Throw Pillow Covers\"]',\n",
       "       '[\"Automotive\",\"Replacement Parts\",\"Sensors\",\"Oxygen\"]',\n",
       "       '[\"Sports & Outdoors\",\"Exercise & Fitness\",\"Cardio Training\",\"Treadmills\"]',\n",
       "       '[\"Sports & Outdoors\",\"Sports\",\"Golf\",\"On-Course Accessories\",\"Ball Markers\"]',\n",
       "       '[\"Electronics\",\"Portable Audio & Video\",\"Portable Speakers & Docks\",\"Portable Bluetooth Speakers\"]',\n",
       "       '[\"Office Products\",\"Office & School Supplies\",\"Desk Accessories & Workspace Organizers\",\"Letter Trays & Stacking Supports\"]',\n",
       "       '[\"Clothing, Shoes & Jewelry\",\"Women\",\"Clothing\",\"Jeans\"]',\n",
       "       '[\"Men\",\"Clothing\",\"Activewear\",\"Base Layers & Compression\",\"Shirts\"]',\n",
       "       '[\"Home & Kitchen\",\"Bath\",\"Bathroom Accessories\",\"Toilet Accessories\",\"Toilet Lid & Tank Covers\"]',\n",
       "       '[\"Home & Kitchen\",\"Home Décor Products\",\"Window Treatments\",\"Curtains & Drapes\",\"Valances\"]',\n",
       "       '[\"Tools & Home Improvement\",\"Lighting & Ceiling Fans\",\"Wall Lights\",\"Under-Cabinet Lights\"]',\n",
       "       '[\"Sports & Outdoors\",\"Outdoor Recreation\",\"Camping & Hiking\",\"Tents & Shelters\",\"Camping Shelters\",\"Sun Shelters\"]',\n",
       "       '[\"Tools & Home Improvement\",\"Lighting & Ceiling Fans\",\"Ceiling Lights\",\"Pendant Lights\"]',\n",
       "       '[\"Sports & Outdoors\",\"Sports\",\"Skates, Skateboards & Scooters\",\"Scooters & Equipment\",\"Scooters\",\"Kick Scooters\"]',\n",
       "       '[\"Arts, Crafts & Sewing\",\"Scrapbooking & Stamping\",\"Adhesive Vinyl\"]',\n",
       "       '[\"Tools & Home Improvement\",\"Building Supplies\",\"Building Materials\",\"Flooring\",\"Flooring Materials\",\"Rubber Flooring\"]',\n",
       "       '[\"Health & Household\",\"Vitamins, Minerals & Supplements\",\"Chondroitin & Glucosamine\",\"Chondroitin\"]',\n",
       "       '[\"Electronics\",\"Portable Audio & Video\",\"MP3 & MP4 Players\"]',\n",
       "       '[\"Toys & Games\",\"Arts & Crafts\",\"Craft Kits\",\"Paint with Water Kits\"]',\n",
       "       '[\"Arts, Crafts & Sewing\",\"Sewing\",\"Sewing Notions & Supplies\",\"Fasteners\",\"Undergarment Sewing\"]',\n",
       "       '[\"Tools & Home Improvement\",\"Light Bulbs\",\"Fluorescent Tubes\"]',\n",
       "       '[\"Clothing, Shoes & Jewelry\",\"Women\",\"Clothing\",\"Lingerie, Sleep & Lounge\",\"Lingerie\",\"Panties\",\"Briefs\"]',\n",
       "       '[\"Clothing, Shoes & Jewelry\",\"Women\",\"Maternity\",\"Nursing\",\"Dresses\"]',\n",
       "       '[\"Tools & Home Improvement\",\"Electrical\",\"Switches & Dimmers\",\"Wall Switches\",\"Dimmer Switches\"]',\n",
       "       '[\"Beauty\",\"Hair Care\",\"Styling\",\"Hair Sprays & Mists\"]',\n",
       "       '[\"Clothing, Shoes & Jewelry\",\"Women\",\"Handbags & Wallets\",\"Fashion Backpacks\"]',\n",
       "       '[\"Beauty & Personal Care\",\"Makeup\",\"Lips\",\"Lip Liners\"]',\n",
       "       '[\"Tools & Home Improvement\",\"Lighting & Ceiling Fans\",\"Lamps & Shades\",\"Table Lamps\"]',\n",
       "       '[\"Patio, Lawn & Garden\",\"Outdoor Power Tools\",\"Replacement Parts & Accessories\",\"Chainsaw Parts & Accessories\",\"Chains\"]',\n",
       "       '[\"Sports & Outdoors\",\"Sports & Outdoor Recreation Accessories\",\"Field, Court & Rink Equipment\",\"Stadium Seats & Cushions\"]',\n",
       "       '[\"Sports & Outdoors\",\"Sports\",\"Boating & Sailing\",\"Boating\",\"Docking & Anchoring Equipment\",\"Dock Lines & Rope\"]',\n",
       "       '[\"Electronics\",\"Computers & Accessories\",\"Computer Accessories & Peripherals\",\"Cables & Accessories\",\"Cables & Interconnects\",\"USB Cables\"]',\n",
       "       '[\"Industrial & Scientific\",\"Janitorial & Sanitation Supplies\",\"Waste Receptacles & Liners\",\"Trash Cans\"]',\n",
       "       '[\"Electronics\",\"Power Accessories\",\"Power Converters\"]',\n",
       "       '[\"Tools & Home Improvement\",\"Power & Hand Tools\",\"Power Tool Parts & Accessories\",\"Power Drill Parts & Accessories\",\"Drill Bits\",\"Boring Drill Bits\"]',\n",
       "       '[\"Clothing, Shoes & Jewelry\",\"Women\",\"Jewelry\",\"Rings\",\"Statement\"]',\n",
       "       '[\"Clothing, Shoes & Jewelry\",\"Women\",\"Clothing\",\"Tops, Tees & Blouses\",\"T-Shirts\"]',\n",
       "       '[\"Clothing, Shoes & Jewelry\",\"Men\"]',\n",
       "       '[\"Tools & Home Improvement\",\"Power & Hand Tools\",\"Hand Tools\",\"Knives, Parts & Accessories\",\"Knives\",\"Pocket Knives & Folding Knives\"]',\n",
       "       '[\"Health & Household\",\"Diet & Sports Nutrition\",\"Endurance & Energy\",\"Chews & Gels\"]',\n",
       "       '[\"Home & Kitchen\",\"Furniture\",\"Bedroom Furniture\",\"Beds, Frames & Bases\",\"Headboards & Footboards\",\"Headboards\"]',\n",
       "       '[\"Tools & Home Improvement\",\"Kitchen & Bath Fixtures\",\"Bathroom Fixtures\",\"Toilets & Toilet Parts\",\"Toilet Seats\"]',\n",
       "       '[\"Home & Kitchen\",\"Wall Art\",\"Posters & Prints\"]',\n",
       "       '[\"Electronics\",\"Computers & Accessories\",\"Computer Components\",\"External Components\",\"KVM Switches\"]',\n",
       "       '[\"Electronics\",\"Television & Video\",\"Accessories\",\"Cables\",\"HDMI Cables\"]',\n",
       "       '[\"Arts, Crafts & Sewing\",\"Painting, Drawing & Art Supplies\",\"Painting\",\"Paint Making Materials\"]',\n",
       "       '[\"Clothing, Shoes & Jewelry\",\"Men\",\"Clothing\",\"Active\",\"Active Shirts & Tees\",\"T-Shirts\"]',\n",
       "       '[\"Pet Supplies\",\"Dogs\",\"Food\",\"Wet\",\"Pouches\"]',\n",
       "       '[\"Home & Kitchen\",\"Kitchen & Dining\",\"Dining & Entertaining\",\"Flatware\",\"Servers\",\"Cake, Pie & Pastry Servers\"]',\n",
       "       '[\"Health & Household\",\"Household Supplies\",\"Household Cleaning\",\"Wood Polish & Care\",\"Wood Polish\"]',\n",
       "       '[\"Cell Phones & Accessories\",\"Accessories\",\"Maintenance, Upkeep & Repairs\",\"Screen Protectors\"]',\n",
       "       '[\"Office Products\",\"Office & School Supplies\",\"Education & Crafts\",\"Early Childhood Education Materials\"]',\n",
       "       '[\"Toys & Games\",\"Remote & App Controlled Vehicles & Parts\",\"Remote & App Controlled Vehicles\",\"Helicopters\"]',\n",
       "       '[\"Sports & Outdoors\",\"Exercise & Fitness\",\"Strength Training Equipment\",\"Strength Training Devices\",\"Thigh & Hip Strengtheners\"]',\n",
       "       '[\"Grocery & Gourmet Food\",\"Breads & Bakery\",\"Cookies\",\"Wafers\"]',\n",
       "       '[\"Automotive\",\"Interior Accessories\",\"Consoles & Organizers\",\"Glove Box Organizers\"]',\n",
       "       '[\"Office Products\",\"Office & School Supplies\",\"Binders & Binding Systems\",\"Binders\",\"Round Ring Binders\"]',\n",
       "       '[\"Sports & Outdoors\",\"Sports\",\"Cycling\",\"Helmets & Accessories\",\"Adult Helmets\"]',\n",
       "       '[\"Clothing, Shoes & Jewelry\",\"Men\",\"Clothing\",\"Jeans\"]',\n",
       "       '[\"Tools & Home Improvement\",\"Rough Plumbing\",\"Faucet Parts\",\"Trim & Repair Kits\"]',\n",
       "       '[\"Tools & Home Improvement\",\"Plumbing\",\"Water Heaters & Parts\",\"Water Heaters\"]',\n",
       "       '[\"Sports & Outdoors\",\"Hunting & Fishing\",\"Shooting\",\"Optics\",\"Game & Trail Cameras\"]',\n",
       "       '[\"Clothing, Shoes & Jewelry\",\"Men\",\"Shoes\",\"Athletic\",\"Skateboarding\"]',\n",
       "       '[\"Patio, Lawn & Garden\",\"Patio Furniture & Accessories\",\"Umbrellas & Shade\",\"Shade Sails\"]',\n",
       "       '[\"Home & Kitchen\",\"Kitchen & Dining\",\"Storage & Organization\",\"Thermoses\",\"Insulated Beverage Containers\",\"Cups & Mugs\"]',\n",
       "       '[\"Home & Kitchen\",\"Bath\",\"Bath Rugs\"]',\n",
       "       '[\"Tools & Home Improvement\",\"Power & Hand Tools\",\"Power Tools\",\"Rotary Tools\"]',\n",
       "       '[\"Clothing, Shoes & Jewelry\",\"Women\",\"Clothing\",\"Lingerie, Sleep & Lounge\",\"Sleep & Lounge\",\"Bottoms\"]',\n",
       "       '[\"Beauty\",\"Make-up\",\"Eyes\",\"Eyeliners\"]',\n",
       "       '[\"Electronics\",\"Portable Audio & Video\",\"Portable CD Players\"]',\n",
       "       '[\"Tools & Home Improvement\",\"Hardware\",\"Door Hardware & Locks\",\"Door Closers\"]',\n",
       "       '[\"Sports & Outdoors\",\"Sports\",\"Cycling\",\"Kids\\' Bikes & Accessories\",\"Kids\\' Bikes\"]',\n",
       "       '[\"Home & Kitchen\",\"Event & Party Supplies\",\"Favors\",\"Multi-Item Party Favor Packs\"]',\n",
       "       '[\"Home & Kitchen\",\"Kitchen & Dining\",\"Storage & Organization\",\"Food Storage\",\"Food Containers\",\"Container Sets\"]',\n",
       "       '[\"Tools & Home Improvement\",\"Power & Hand Tools\",\"Power Tool Parts & Accessories\",\"Power Drill Parts & Accessories\",\"Drill Bits\",\"Countersink Drill Bits\"]',\n",
       "       '[\"Home & Kitchen\",\"Furniture\",\"Living Room Furniture\",\"Chairs\"]',\n",
       "       '[\"Beauty & Personal Care\",\"Tools & Accessories\",\"Bags & Cases\",\"Cosmetic Bags\"]',\n",
       "       '[\"Electronics\",\"Computers & Accessories\",\"Data Storage\",\"External Hard Drives\"]',\n",
       "       '[\"Health & Household\",\"Health Care\",\"Alternative Medicine\",\"Aromatherapy\",\"Diffusers\"]',\n",
       "       '[\"Tools & Home Improvement\",\"Lighting & Ceiling Fans\",\"Wall Lights\",\"Night Lights\"]',\n",
       "       '[\"Clothing, Shoes & Jewelry\",\"Women\",\"Clothing\",\"Lingerie, Sleep & Lounge\",\"Lingerie\",\"Bras\",\"Everyday Bras\"]',\n",
       "       '[\"Sports & Outdoors\",\"Fan Shop\",\"Pet Gear\",\"Pet Clothing\",\"Pet Jerseys\"]',\n",
       "       '[\"Automotive\",\"Replacement Parts\",\"Fuel System\",\"Fuel Tanks & Accessories\",\"Fuel Tanks\"]',\n",
       "       '[\"Industrial & Scientific\",\"Industrial Electrical\",\"Wiring & Connecting\",\"Terminals\",\"Ring\"]',\n",
       "       '[\"Home & Kitchen\",\"Home Décor Products\",\"Home Décor Accents\",\"Decorative Accessories\"]',\n",
       "       '[\"Health & Household\",\"Vitamins, Minerals & Supplements\",\"Herbal Supplements\",\"Ginkgo Biloba\"]',\n",
       "       '[\"Electronics\",\"Computers & Accessories\",\"Computer Accessories & Peripherals\",\"Racks & Cabinets\"]',\n",
       "       '[\"Video Games\",\"PC\",\"Accessories\",\"Controllers\"]',\n",
       "       '[\"Automotive\",\"Interior Accessories\",\"Seat Covers & Accessories\",\"Seat Cushions\"]',\n",
       "       '[\"Tools & Home Improvement\",\"Plumbing\",\"Pipes, Pipe Fittings & Accessories\",\"Pipe Fittings\"]',\n",
       "       '[\"Tools & Home Improvement\",\"Electrical\",\"Cords, Adapters & Multi-Outlets\",\"Adapters & Multi-Outlets\",\"Multi-Outlets\"]',\n",
       "       '[\"Automotive\",\"Interior Accessories\",\"Covers\",\"Dash Covers\"]',\n",
       "       '[\"Toys & Games\",\"Arts & Crafts\",\"Craft Kits\",\"Paper Craft\"]',\n",
       "       '[\"Sports & Outdoors\",\"Sports\",\"Leisure Sports & Game Room\",\"Trampolines & Accessories\",\"Parts & Accessories\",\"Mats\"]',\n",
       "       '[\"Beauty & Personal Care\",\"Hair Care\",\"Hair Loss Products\",\"Hair Building Fibers\"]',\n",
       "       '[\"Sports & Outdoors\",\"Hunting & Fishing\",\"Fishing\",\"Lures, Baits & Attractants\",\"Topwater Lures\"]',\n",
       "       '[\"Electronics\",\"Computers & Accessories\",\"Computer Accessories & Peripherals\",\"Cables & Accessories\",\"Cables & Interconnects\",\"Ethernet Cables\",\"Cat 6 Cables\"]',\n",
       "       '[\"Clothing, Shoes & Jewelry\",\"Men\",\"Accessories\",\"Suspenders\"]',\n",
       "       '[\"Clothing, Shoes & Jewelry\",\"Women\",\"Clothing\",\"Active\",\"Active Shorts\"]',\n",
       "       '[\"Home & Kitchen\",\"Home Décor Products\",\"Window Treatments\",\"Blinds & Shades\",\"Balloon Shades\"]',\n",
       "       '[\"Clothing, Shoes & Jewelry\",\"Women\",\"Clothing\",\"Coats, Jackets & Vests\",\"Denim Jackets\"]',\n",
       "       '[\"Video Games\",\"Legacy Systems\",\"PlayStation Systems\",\"PlayStation 3\",\"Games\"]',\n",
       "       '[\"Cell Phones & Accessories\",\"Accessories\",\"Photo & Video Accessories\",\"Flashes & Selfie Lights\",\"Selfie Lights\"]',\n",
       "       '[\"Home & Kitchen\",\"Kitchen & Dining\",\"Small Appliances\",\"Countertop Burners\"]',\n",
       "       '[\"Home & Kitchen\",\"Kitchen & Dining\",\"Dining & Entertaining\",\"Dinnerware & Serveware\",\"Serveware\",\"Cake Stands\"]',\n",
       "       '[\"Home & Kitchen\",\"Bath\",\"Bathroom Accessories\",\"Shower Curtains, Hooks & Liners\",\"Shower Curtain Sets\"]',\n",
       "       '[\"Beauty\",\"Bath & Body\",\"Deodorants & Antiperspirants\",\"Deodorant\"]',\n",
       "       '[\"Electronics\",\"Computers & Accessories\",\"Networking Products\",\"Routers\"]',\n",
       "       '[\"Home & Kitchen\",\"Heating, Cooling & Air Quality\",\"Household Fans\",\"Table Fans\"]',\n",
       "       '[\"Office Products\",\"Office & School Supplies\",\"Desk Accessories & Workspace Organizers\",\"Desk Pads & Blotters\"]',\n",
       "       '[\"Health & Household\",\"Household Supplies\",\"Paper & Plastic\",\"Disposable Drinkware\",\"Cups\"]',\n",
       "       '[\"Clothing, Shoes & Jewelry\",\"Women\",\"Shoes\",\"Sandals\",\"Platforms & Wedges\"]',\n",
       "       '[\"Pet Supplies\",\"Cats\",\"Litter & Housebreaking\",\"Litter Boxes\",\"Standard Litter Boxes\"]',\n",
       "       '[\"Clothing, Shoes & Jewelry\",\"Men\",\"Shoes\",\"Loafers & Slip-Ons\"]',\n",
       "       '[\"Home & Kitchen\",\"Kitchen & Dining\",\"Kitchen Utensils & Gadgets\",\"Cooking Utensils\",\"Tongs\"]',\n",
       "       '[\"Clothing, Shoes & Jewelry\",\"Women\",\"Clothing\",\"Swimsuits & Cover Ups\",\"One-Pieces\"]',\n",
       "       '[\"Clothing, Shoes & Jewelry\",\"Luggage & Travel Gear\",\"Travel Duffels\"]',\n",
       "       '[\"Automotive\",\"Replacement Parts\",\"Windshield Wipers & Washers\",\"Wipers\",\"Blades\"]',\n",
       "       '[\"Home & Kitchen\",\"Bath\",\"Bathroom Accessories\",\"Bathtub Accessories\",\"Bathtub Mats\"]',\n",
       "       '[\"Pet Supplies\",\"Dogs\",\"Carriers & Travel Products\",\"Slings\"]',\n",
       "       '[\"Tools & Home Improvement\",\"Plumbing\",\"Faucet Parts\",\"Trim & Repair Kits\"]',\n",
       "       '[\"Clothing, Shoes & Jewelry\",\"Women\",\"Handbags & Wallets\",\"Totes\"]',\n",
       "       '[\"Tools & Home Improvement\",\"Hardware\",\"Door Hardware & Locks\",\"Sliding Door Hardware\"]',\n",
       "       '[\"Electronics\",\"Computers & Accessories\",\"Data Storage\",\"External Solid State Drives\"]',\n",
       "       '[\"Beauty\",\"Manicure & Pedicure\",\"Nails\",\"Nail Polish\"]',\n",
       "       '[\"Electronics\",\"Car & Vehicle Electronics\",\"Vehicle Electronics Accessories\",\"Vehicle Audio & Video Installation\",\"Amplifier Installation\",\"Cooling Fans\"]',\n",
       "       '[\"Beauty\",\"Bath & Body\",\"Cleansers\",\"Solid Soap Bars\"]',\n",
       "       '[\"Clothing, Shoes & Jewelry\",\"Women\",\"Clothing\",\"Coats, Jackets & Vests\",\"Vests\"]',\n",
       "       '[\"Clothing, Shoes & Jewelry\",\"Men\",\"Watches\",\"Wrist Watches\"]',\n",
       "       '[\"Toys & Games\",\"Games & Accessories\",\"Card Games\",\"Dedicated Deck Card Games\"]',\n",
       "       '[\"Automotive\",\"RV Parts & Accessories\",\"Exterior\",\"Leveling & Stablilization\",\"Levelers\"]',\n",
       "       '[\"Clothing, Shoes & Jewelry\",\"Men\",\"Shoes\",\"Mules & Clogs\"]',\n",
       "       '[\"Appliances\",\"Parts & Accessories\",\"Dishwasher Parts & Accessories\",\"Baskets\"]',\n",
       "       '[\"Tools & Home Improvement\",\"Lighting & Ceiling Fans\",\"Novelty Lighting\",\"Flameless Candles\"]',\n",
       "       '[\"Tools & Home Improvement\",\"Lighting & Ceiling Fans\",\"Outdoor Lighting\",\"String Lights\"]',\n",
       "       '[\"Clothing, Shoes & Jewelry\",\"Men\",\"Shoes\",\"Athletic\",\"Running\",\"Trail Running\"]',\n",
       "       '[\"Clothing, Shoes & Jewelry\",\"Men\",\"Clothing\",\"Pants\",\"Casual\"]',\n",
       "       '[\"Industrial & Scientific\",\"Material Handling Products\",\"Pulling & Lifting\",\"Hoists & Accessories\",\"Beam Trolleys\"]',\n",
       "       '[\"Automotive\",\"Exterior Accessories\",\"Bumper Stickers, Decals & Magnets\",\"Decals\"]',\n",
       "       '[\"Home & Kitchen\",\"Kitchen & Dining\",\"Kitchen Utensils & Gadgets\",\"Meat & Poultry Tools\",\"Meat Grinders\"]',\n",
       "       '[\"Video Games\",\"PC\",\"Accessories\",\"Gaming Mice\"]',\n",
       "       '[\"Clothing, Shoes & Jewelry\",\"Women\",\"Handbags & Wallets\",\"Satchels\"]',\n",
       "       '[\"Clothing, Shoes & Jewelry\",\"Women\",\"Shoes\",\"Sandals\",\"Heeled Sandals\"]',\n",
       "       '[\"Musical Instruments\",\"Live Sound & Stage\",\"PA Systems\"]',\n",
       "       '[\"Clothing, Shoes & Jewelry\",\"Women\",\"Shoes\",\"Athletic\",\"Running\",\"Road Running\"]',\n",
       "       '[\"Home & Kitchen\",\"Home Décor Products\",\"Home Fragrance\",\"Reed Diffusers, Oils & Accessories\",\"Reed Diffuser Sets\"]',\n",
       "       '[\"Home & Kitchen\",\"Kitchen & Dining\",\"Dining & Entertaining\",\"Dinnerware & Serveware\",\"Dinnerware\",\"Dinnerware Sets\"]',\n",
       "       '[\"Toys & Games\",\"Games & Accessories\",\"Game Accessories\",\"Game Pieces\"]',\n",
       "       '[\"Beauty & Personal Care\",\"Skin Care\",\"Body\",\"Moisturizers\",\"Oils\"]',\n",
       "       '[\"Electronics\",\"Computers & Accessories\",\"Laptop Accessories\",\"Bags, Cases & Sleeves\",\"Sleeves\"]',\n",
       "       '[\"Home & Kitchen\",\"Bath\",\"Towels\"]',\n",
       "       '[\"Tools & Home Improvement\",\"Lighting & Ceiling Fans\",\"Ceiling Fans & Accessories\",\"Ceiling Fans\"]',\n",
       "       '[\"Office Products\",\"Office Electronics\",\"Other Office Equipment\",\"Shredders\"]',\n",
       "       '[\"Arts, Crafts & Sewing\",\"Beading & Jewelry Making\",\"Beads & Bead Assortments\"]',\n",
       "       '[\"Automotive\",\"Lights & Lighting Accessories\",\"Lighting Assemblies & Accessories\",\"Headlight Assemblies, Parts & Accessories\",\"Headlight Assemblies\"]',\n",
       "       '[\"Beauty & Personal Care\",\"Fragrance\",\"Women\\'s\",\"Cologne\"]',\n",
       "       '[\"Home & Kitchen\",\"Storage & Organization\",\"Home Storage Hooks\",\"Coat Hooks\"]',\n",
       "       '[\"Home & Kitchen\",\"Bedding\",\"Kids\\' Bedding\",\"Sheets & Pillowcases\",\"Sheet & Pillowcase Sets\"]',\n",
       "       '[\"Clothing, Shoes & Jewelry\",\"Men\",\"Clothing\",\"Shirts\",\"T-Shirts\"]',\n",
       "       '[\"Tools & Home Improvement\",\"Lighting & Ceiling Fans\",\"Ceiling Lights\",\"Track Lighting\",\"Heads\"]',\n",
       "       '[\"Clothing, Shoes & Jewelry\",\"Women\",\"Clothing\",\"Lingerie, Sleep & Lounge\",\"Sleep & Lounge\",\"Sets\"]',\n",
       "       '[\"Tools & Home Improvement\",\"Safety & Security\",\"Personal Protective Equipment\",\"Hand & Arm Protection\",\"Lab, Safety & Work Gloves\",\"Impact Reducing Gloves\"]',\n",
       "       '[\"Pet Supplies\",\"Dogs\",\"Apparel & Accessories\",\"Cold Weather Coats\"]',\n",
       "       '[\"Clothing, Shoes & Jewelry\",\"Women\",\"Shoes\",\"Slippers\"]',\n",
       "       '[\"Automotive\",\"Motorcycle & Powersports\",\"Accessories\",\"Vehicle Covers\"]',\n",
       "       '[\"Sports & Outdoors\",\"Hunting & Fishing\",\"Fishing\",\"Fly Fishing\",\"Accessories\",\"Fly Fishing Leaders & Tippets\"]',\n",
       "       '[\"Clothing, Shoes & Jewelry\",\"Costumes & Accessories\",\"Women\",\"Accessories\"]',\n",
       "       '[\"Sports & Outdoors\",\"Sports\",\"Water Sports\",\"Diving & Snorkeling\",\"Diving Suits\",\"Wetsuits\",\"Shorty Suits\"]',\n",
       "       '[\"Sports & Outdoors\",\"Outdoor Recreation\",\"Camping & Hiking\",\"Camping Furniture\",\"Chairs\"]',\n",
       "       '[\"Pet Supplies\",\"Dogs\",\"Crates, Houses & Pens\",\"Crates\",\"Basic Crates\"]',\n",
       "       '[\"Home & Kitchen\",\"Kitchen & Dining\",\"Dining & Entertaining\",\"Flatware\",\"Servers\",\"Honey Dippers\"]',\n",
       "       '[\"Home & Kitchen\",\"Kitchen & Dining\",\"Kitchen Utensils & Gadgets\",\"Bar & Wine Tools\",\"Cocktail Shakers\"]',\n",
       "       '[\"Sports & Outdoors\",\"Hunting & Fishing\",\"Fishing\",\"Fishing Line\",\"Braided Line\"]',\n",
       "       '[\"Tools & Home Improvement\",\"Power & Hand Tools\",\"Power Tool Parts & Accessories\",\"Power Tools Replacement Parts\"]',\n",
       "       '[\"Electronics\",\"Television & Video\",\"Accessories\",\"TV Mounts, Stands & Turntables\",\"TV Wall & Ceiling Mounts\"]',\n",
       "       '[\"Clothing, Shoes & Jewelry\",\"Women\",\"Jewelry\",\"Bracelets\",\"Strand\"]',\n",
       "       '[\"Toys & Games\",\"Sports & Outdoor Play\",\"Pools & Water Toys\",\"Pool Toys\",\"Swim Rings\"]',\n",
       "       '[\"Clothing, Shoes & Jewelry\",\"Women\",\"Clothing\",\"Dresses\",\"Cocktail\"]',\n",
       "       '[\"Automotive\",\"Motorcycle & Powersports\",\"Parts\",\"Exhaust\",\"Heat Shields\"]',\n",
       "       '[\"Tools & Home Improvement\",\"Paint, Wall Treatments & Supplies\",\"Paint & Primer\",\"Spray Paint\"]',\n",
       "       '[\"Clothing, Shoes & Jewelry\",\"Women\",\"Clothing\",\"Dresses\",\"Formal\"]',\n",
       "       '[\"Home & Kitchen\",\"Bedding\",\"Sheets & Pillowcases\",\"Fitted Sheets\"]',\n",
       "       '[\"Home & Kitchen\",\"Furniture\",\"Game & Recreation Room Furniture\",\"TV Trays\"]',\n",
       "       '[\"Patio, Lawn & Garden\",\"Outdoor Décor\",\"Outdoor Holiday Decorations\",\"Inflatable Yard Decorations\"]',\n",
       "       '[\"Sports & Outdoors\",\"Sports\",\"Golf\",\"Golf Club Parts\",\"Heads\"]',\n",
       "       '[\"Pet Supplies\",\"Cats\",\"Health Supplies\",\"Dental Care\"]',\n",
       "       '[\"Home & Kitchen\",\"Bedding\",\"Blankets & Throws\",\"Throws\"]',\n",
       "       '[\"Home & Kitchen\",\"Bedding\",\"Quilts & Sets\",\"Quilt Sets\"]',\n",
       "       '[\"Electronics\",\"Computers & Accessories\",\"Tablet Accessories\",\"Screen Protectors\"]',\n",
       "       '[\"Home & Kitchen\",\"Kitchen & Dining\",\"Dining & Entertaining\",\"Dinnerware & Serveware\",\"Teapots & Coffee Servers\",\"Teapots\"]',\n",
       "       '[\"Clothing, Shoes & Jewelry\",\"Women\",\"Clothing\",\"Swimsuits & Cover Ups\",\"Cover-Ups\"]',\n",
       "       '[\"Beauty\",\"Fragrance\",\"Perfume\"]',\n",
       "       '[\"Toys & Games\",\"Party Supplies\",\"Party Tableware\",\"Cups\"]',\n",
       "       '[\"Clothing, Shoes & Jewelry\",\"Luggage & Travel Gear\",\"Backpacks\",\"Casual Daypacks\"]',\n",
       "       '[\"Health & Household\",\"Health Care\",\"Alternative Medicine\",\"Flower Essences\"]',\n",
       "       '[\"Sports & Outdoors\",\"Sports\",\"Tennis & Racquet Sports\",\"Tennis\",\"Racquets\"]',\n",
       "       '[\"Industrial & Scientific\",\"Food Service Equipment & Supplies\",\"Restaurant Appliances & Equipment\",\"Food Holding & Warming Equipment\",\"Food Warmers\"]',\n",
       "       '[\"Electronics\",\"Headphones, Earbuds & Accessories\",\"Headphones & Earbuds\",\"Over-Ear Headphones\"]',\n",
       "       '[\"Sports & Outdoors\",\"Sports\",\"Boating & Sailing\",\"Boating\",\"Boat Covers\"]',\n",
       "       '[\"Clothing, Shoes & Jewelry\",\"Baby\",\"Baby Girls\",\"Clothing\",\"Bottoms\",\"Leggings\"]',\n",
       "       '[\"Power & Hand Tools\",\"Power Tool Parts & Accessories\",\"Power Drill Parts & Accessories\",\"Drill Bits\",\"Twist Drill Bits\",\"Jobber Drill Bits\"]',\n",
       "       '[\"Home & Kitchen\",\"Kitchen & Dining\",\"Kitchen Utensils & Gadgets\",\"Seasoning & Spice Tools\",\"Garlic Tools\",\"Garlic Roasters\"]',\n",
       "       '[\"Health & Household\",\"Health Care\",\"Foot Health\",\"Inserts & Insoles\",\"Insoles\"]',\n",
       "       '[\"Automotive\",\"Exterior Accessories\",\"Towing Products & Winches\",\"Winch Accessories\",\"Mounts\"]',\n",
       "       '[\"Sports & Outdoors\",\"Sports\",\"Skates, Skateboards & Scooters\",\"Inline & Roller Skating\",\"Inline Skates\",\"Racing Skates\"]',\n",
       "       '[\"Pet Supplies\",\"Dogs\",\"Feeding & Watering Supplies\",\"Bowls & Dishes\",\"Slow Feeders\"]',\n",
       "       '[\"Home & Kitchen\",\"Heating, Cooling & Air Quality\",\"Parts & Accessories\",\"Stove & Fireplace Accessories\",\"Gas Logs\"]',\n",
       "       '[\"Clothing, Shoes & Jewelry\",\"Baby\",\"Baby Boys\",\"Clothing\",\"Sleepwear & Robes\",\"Pajama Sets\"]',\n",
       "       '[\"Sports & Outdoors\",\"Sports\",\"Team Sports\",\"Baseball\",\"Protective Gear\",\"Batting Helmets\"]',\n",
       "       '[\"Home & Kitchen\",\"Furniture\",\"Living Room Furniture\",\"Tables\",\"End Tables\"]',\n",
       "       '[\"Automotive\",\"Exterior Accessories\",\"Towing Products & Winches\",\"Hitches\",\"Receivers\"]',\n",
       "       '[\"Industrial & Scientific\",\"Food Service Equipment & Supplies\",\"Storage & Transport\",\"Food Storage\",\"Food Pans\"]',\n",
       "       '[\"Automotive\",\"Tires & Wheels\",\"Accessories & Parts\",\"Tire Pressure Monitoring Systems (TPMS)\",\"Replacement Sensors\"]',\n",
       "       '[\"Tools & Home Improvement\",\"Lighting & Ceiling Fans\",\"Lamps & Shades\",\"Floor Lamps\"]',\n",
       "       '[\"Clothing, Shoes & Jewelry\",\"Men\",\"Accessories\",\"Sunglasses & Eyewear Accessories\",\"Sunglasses\"]',\n",
       "       '[\"Electronics\",\"Headphones, Earbuds & Accessories\",\"Cases\"]',\n",
       "       '[\"Beauty & Personal Care\",\"Foot, Hand & Nail Care\",\"Nail Art & Polish\",\"Tools\",\"Curing Lamps\"]',\n",
       "       '[\"Pet Supplies\",\"Horses\",\"Health Supplies\",\"Hoof Care\"]',\n",
       "       '[\"Tools & Home Improvement\",\"Hardware\",\"Cabinet Hardware\",\"Drawer Slides\"]',\n",
       "       '[\"Clothing, Shoes & Jewelry\",\"Sport Specific Clothing\",\"Martial Arts\",\"Jiu-Jitsu\",\"Sets\"]',\n",
       "       '[\"Home & Kitchen\",\"Kitchen & Dining\",\"Kitchen Utensils & Gadgets\",\"Specialty Tools & Gadgets\",\"Egg Separators\"]',\n",
       "       '[\"Automotive\",\"Motorcycle & Powersports\",\"Parts\",\"Electrical & Batteries\",\"Batteries\"]',\n",
       "       '[\"Clothing, Shoes & Jewelry\",\"Girls\",\"Shoes\",\"Boots\"]',\n",
       "       '[\"Pet Supplies\",\"Dogs\",\"Toys\",\"Balls\"]',\n",
       "       '[\"Sports & Outdoors\",\"Hunting & Fishing\",\"Fishing\",\"Terminal Tackle & Accessories\",\"Tackle Boxes\"]',\n",
       "       '[\"Toys & Games\",\"Stuffed Animals & Plush Toys\",\"Plush Pillows\"]',\n",
       "       '[\"Office Products\",\"Office Electronics\",\"Printers & Accessories\",\"Printer Parts & Accessories\",\"Printer Ink & Toner\",\"Inkjet Ink Cartridges\"]',\n",
       "       '[\"Baby Products\",\"Nursery\",\"Bedding\",\"Blankets & Swaddling\",\"Swaddling Blankets\"]',\n",
       "       '[\"Health & Household\",\"Household Supplies\",\"Paper & Plastic\",\"Disposable Drinkware\"]',\n",
       "       '[\"Industrial & Scientific\",\"Fasteners\",\"Screws\",\"Machine Screws\"]',\n",
       "       '[\"Tools & Home Improvement\",\"Hardware\",\"Tarps & Tie-Downs\",\"Rope\"]',\n",
       "       '[\"Home & Kitchen\",\"Furniture\",\"Bedroom Furniture\",\"Room Dividers\"]',\n",
       "       '[\"Home & Kitchen\",\"Kitchen & Dining\",\"Kitchen Utensils & Gadgets\",\"Cooking Utensils\",\"Whisks\"]',\n",
       "       '[\"Baby Products\",\"Feeding\",\"Solid Feeding\",\"Utensils\",\"Flatware Sets\"]',\n",
       "       '[\"Electronics\",\"GPS, Finders & Accessories\",\"Sports & Handheld GPS\",\"Running GPS Units\"]',\n",
       "       '[\"Clothing, Shoes & Jewelry\",\"Women\",\"Clothing\",\"Bodysuits\"]',\n",
       "       '[\"Patio, Lawn & Garden\",\"Patio Furniture & Accessories\",\"Patio Seating\",\"Porch Swings\"]',\n",
       "       '[\"Home & Kitchen\",\"Home Décor Products\",\"Home Décor Accents\",\"Sculptures\",\"Statues\"]',\n",
       "       '[\"Health & Household\",\"Vitamins, Minerals & Supplements\",\"Digestive Supplements\",\"Dietary Fibers\"]',\n",
       "       '[\"Clothing, Shoes & Jewelry\",\"Men\",\"Shoes\",\"Boots\",\"Chelsea\"]',\n",
       "       '[\"Home & Kitchen\",\"Bedding\",\"Blankets & Throws\",\"Electric Blankets\"]',\n",
       "       '[\"Sports & Outdoors\",\"Sports\",\"Team Sports\",\"Volleyball\",\"Volleyballs\",\"Indoor Volleyballs\"]',\n",
       "       '[\"Electronics\",\"Computers & Accessories\",\"Computer Accessories & Peripherals\",\"Cables & Accessories\",\"Cables & Interconnects\",\"Ethernet Cables\",\"Cat 7 Cables\"]',\n",
       "       '[\"Health & Household\",\"Vitamins, Minerals & Supplements\",\"Minerals\",\"Potassium\"]',\n",
       "       '[\"Office Products\",\"Office & School Supplies\",\"Store Signs & Displays\",\"Store Sign Holders\"]',\n",
       "       '[\"Industrial & Scientific\",\"Test, Measure & Inspect\",\"Electrical Testing\",\"Current Testers\",\"Clamp Meters\"]',\n",
       "       '[\"Pet Supplies\",\"Dogs\",\"Health Supplies\",\"Ear Care\"]',\n",
       "       '[\"Office Products\",\"Office & School Supplies\",\"Labels, Indexes & Stamps\",\"Labels & Stickers\",\"Address Labels\"]',\n",
       "       '[\"Tools & Home Improvement\",\"Power & Hand Tools\",\"Power Tool Parts & Accessories\",\"Saw Blades, Parts & Accessories\",\"Blades\",\"Band Saw Blades\"]',\n",
       "       '[\"Clothing, Shoes & Jewelry\",\"Women\",\"Clothing\",\"Skirts\"]',\n",
       "       '[\"Industrial & Scientific\",\"Adhesives, Sealants & Lubricants\",\"Caulk\",\"Adhesive Caulk\"]',\n",
       "       '[\"Clothing, Shoes & Jewelry\",\"Sport Specific Clothing\",\"Yoga\",\"Women\",\"Leggings\"]',\n",
       "       '[\"Office Products\",\"Office & School Supplies\",\"Presentation Boards\",\"Dry Erase Boards\"]',\n",
       "       '[\"Tools & Home Improvement\",\"Kitchen & Bath Fixtures\",\"Water Filtration & Softeners\",\"Replacement Water Filters\",\"Replacement Under-Sink Water Filters\"]',\n",
       "       '[\"Clothing, Shoes & Jewelry\",\"Women\",\"Shoes\",\"Athletic\",\"Tennis & Racquet Sports\"]',\n",
       "       '[\"Beauty & Personal Care\",\"Foot, Hand & Nail Care\",\"Foot & Hand Care\",\"Moisturizing Gloves\"]',\n",
       "       '[\"Clothing, Shoes & Jewelry\",\"Men\",\"Clothing\",\"Shirts\",\"Casual Button-Down Shirts\"]',\n",
       "       '[\"Beauty\",\"Skin Care\",\"Face\",\"Cleansing Creams & Milks\",\"Face Wash\"]',\n",
       "       '[\"Sports & Outdoors\",\"Exercise & Fitness\",\"Strength Training Equipment\",\"Strength Training Devices\",\"Grip Strengtheners\"]',\n",
       "       '[\"Automotive\",\"Lights & Lighting Accessories\",\"Warning & Emergency Lights\",\"Emergency Strobe Lights\"]',\n",
       "       '[\"Tools & Home Improvement\",\"Lighting & Ceiling Fans\",\"Lamps & Shades\",\"Lamp Shades\"]',\n",
       "       '[\"Home & Kitchen\",\"Bath\",\"Bathroom Accessories\",\"Towel Holders\",\"Towel Racks\"]',\n",
       "       '[\"Home & Kitchen\",\"Kitchen & Dining\",\"Kitchen Utensils & Gadgets\",\"Thermometers & Timers\",\"Timers\"]',\n",
       "       '[\"Home & Kitchen\",\"Home Décor Products\",\"Candles & Holders\",\"Candleholders\",\"Candleholder Sets\"]',\n",
       "       '[\"Sports & Outdoors\",\"Outdoor Recreation\",\"Camping & Hiking\",\"Camp Kitchen\",\"Camping Cookware\",\"Open Fire Cookware\"]',\n",
       "       '[\"Clothing, Shoes & Jewelry\",\"Women\",\"Shoes\",\"Pumps\"]',\n",
       "       '[\"Home & Kitchen\",\"Home Décor Products\",\"Kids\\' Room Décor\",\"Rugs\"]',\n",
       "       '[\"Toys & Games\",\"Puzzles\",\"Jigsaw Puzzles\"]',\n",
       "       '[\"Automotive\",\"Exterior Accessories\",\"Deflectors & Shields\",\"Side Window Wind Deflectors & Visors\"]',\n",
       "       '[\"Industrial & Scientific\",\"Material Handling Products\",\"Pulling & Lifting\",\"Lift Tables\"]',\n",
       "       '[\"Home & Kitchen\",\"Home Décor Products\",\"Kids\\' Room Décor\",\"Accents\",\"Clocks\"]',\n",
       "       '[\"Automotive\",\"Interior Accessories\",\"Consoles & Organizers\",\"Seat Back Organizers\"]',\n",
       "       '[\"Office Products\",\"Office & School Supplies\",\"Presentation Boards\",\"Bulletin Boards\"]',\n",
       "       '[\"Automotive\",\"Interior Accessories\",\"Floor Mats & Cargo Liners\",\"Floor Mats\"]',\n",
       "       '[\"Pet Supplies\",\"Dogs\",\"Feeding & Watering Supplies\",\"Water Bottles\"]',\n",
       "       '[\"Electronics\",\"Computers & Accessories\",\"Computer Accessories & Peripherals\",\"Monitor Accessories\",\"Monitor Stands\"]',\n",
       "       '[\"Tools & Home Improvement\",\"Plumbing\",\"Valves\",\"Shower Flow Control Valves\"]',\n",
       "       '[\"Electronics\",\"Wearable Technology\",\"Smartwatches\"]',\n",
       "       '[\"Baby Products\",\"Nursery\",\"Bedding\",\"Baby Bedding\",\"Sheets\",\"Bassinet Sheets\"]',\n",
       "       '[\"Sports & Outdoors\",\"Sports & Outdoor Recreation Accessories\",\"Electronics & Gadgets\",\"Cycling Computers\"]',\n",
       "       '[\"Toys & Games\",\"Party Supplies\",\"Decorations\",\"Balloons\"]',\n",
       "       '[\"Home & Kitchen\",\"Bedding\",\"Bed Pillows & Positioners\",\"Lumbar Pillows\"]',\n",
       "       '[\"Sports & Outdoors\",\"Sports\",\"Team Sports\",\"Baseball\",\"Baseball Bats\"]',\n",
       "       '[\"Automotive\",\"Tools & Equipment\",\"Brake Tools\",\"Brake Adjusting Tools\"]',\n",
       "       '[\"Electronics\",\"Computers & Accessories\",\"Networking Products\",\"Switches\"]',\n",
       "       '[\"Cell Phones & Accessories\",\"Accessories\",\"Chargers & Power Adapters\",\"Charging Stations\"]',\n",
       "       '[\"Home & Kitchen\",\"Home Décor Products\",\"Home Décor Accents\",\"Snow Globes\"]',\n",
       "       '[\"Home & Kitchen\",\"Furniture\",\"Living Room Furniture\",\"Living Room Sets\"]',\n",
       "       '[\"Beauty\",\"Make-up\",\"Lips\",\"Lip Glosses\"]',\n",
       "       '[\"Office Products\",\"Office & School Supplies\",\"Desk Accessories & Workspace Organizers\",\"Mouse Pads & Wrist Rests\",\"Mouse Pads\"]',\n",
       "       '[\"Tools & Home Improvement\",\"Hardware\",\"Door Hardware & Locks\",\"Door Levers\"]',\n",
       "       '[\"Arts, Crafts & Sewing\",\"Painting, Drawing & Art Supplies\",\"Painting\",\"Paint-By-Number Kits\",\"Adults\\' Paint-By-Number Kits\"]',\n",
       "       '[\"Automotive\",\"Tools & Equipment\",\"Garage & Shop\",\"Parking Gadgets\"]',\n",
       "       '[\"Home & Kitchen\",\"Home Décor Products\",\"Window Treatments\",\"Curtains & Drapes\",\"Panels\"]',\n",
       "       '[\"Home & Kitchen\",\"Kitchen & Dining\",\"Bakeware\",\"Pizza Pans & Stones\"]',\n",
       "       '[\"Automotive\",\"Replacement Parts\",\"Engine Cooling & Climate Control\",\"Coolant Recovery Kits\"]',\n",
       "       '[\"Clothing, Shoes & Jewelry\",\"Women\",\"Clothing\",\"Active\",\"Active Pants\",\"Sweatpants\"]',\n",
       "       '[\"Beauty\",\"Skin Care\",\"Face\",\"Creams & Moisturisers\",\"Moisturizers\"]',\n",
       "       '[\"Sports & Outdoors\",\"Hunting & Fishing\",\"Fishing\",\"Fishing Line\",\"Fly Line\"]',\n",
       "       '[\"Arts, Crafts & Sewing\",\"Crafting\",\"Paper & Paper Crafts\",\"Paper\",\"Art Tissue & Crepe Paper\"]',\n",
       "       '[\"Industrial & Scientific\",\"Janitorial & Sanitation Supplies\",\"Vacuums & Floor Cleaning Machines\",\"Vacuums\",\"Robotic Vacuums\"]',\n",
       "       '[\"Home & Kitchen\",\"Kitchen & Dining\",\"Dining & Entertaining\",\"Flatware\",\"Spoons\",\"Soup Spoons\"]',\n",
       "       '[\"Office Products\",\"Office & School Supplies\",\"Writing & Correction Supplies\",\"Markers & Highlighters\",\"Dry Erase & Wet Erase Markers\"]',\n",
       "       '[\"Clothing, Shoes & Jewelry\",\"Women\",\"Shoes\",\"Loafers & Slip-Ons\"]',\n",
       "       '[\"Tools & Home Improvement\",\"Paint, Wall Treatments & Supplies\",\"Painting Supplies & Tools\",\"Tape\",\"Masking Tape\"]',\n",
       "       '[\"Beauty\",\"Women\\'s Salon\",\"Hair Care\",\"Cleansing\"]',\n",
       "       '[\"Beauty\",\"Tools & Accessories\",\"Refillable Perfume Bottles\"]',\n",
       "       '[\"Clothing, Shoes & Jewelry\",\"Women\",\"Clothing\",\"Lingerie, Sleep & Lounge\",\"Sleep & Lounge\",\"Nightgowns & Sleepshirts\"]',\n",
       "       '[\"Home & Kitchen\",\"Furniture\",\"Living Room Furniture\",\"Tables\",\"Sofa & Console Tables\"]',\n",
       "       '[\"Home & Kitchen\",\"Kitchen & Dining\",\"Kitchen & Table Linens\",\"Place Mats\"]',\n",
       "       '[\"Arts, Crafts & Sewing\",\"Painting, Drawing & Art Supplies\",\"Painting\",\"Paintbrushes\",\"Paintbrush Sets\"]',\n",
       "       '[\"Office Products\",\"Office & School Supplies\",\"Education & Crafts\",\"Arts & Crafts Supplies\",\"Classroom Decorations\",\"Educational Charts & Posters\"]',\n",
       "       '[\"Toys & Games\",\"Toy Figures & Playsets\",\"Action Figures\"]',\n",
       "       '[\"Clothing, Shoes & Jewelry\",\"Boys\",\"School Uniforms\",\"Clothing\",\"Shorts\"]',\n",
       "       '[\"Automotive\",\"Replacement Parts\",\"Shocks, Struts & Suspension\",\"Struts\"]',\n",
       "       '[\"Tools & Home Improvement\",\"Power & Hand Tools\",\"Hand Tools\",\"Wrenches\"]',\n",
       "       '[\"Clothing, Shoes & Jewelry\",\"Baby\",\"Baby Boys\",\"Clothing\",\"Snow & Rainwear\",\"Snow Pants & Bibs\"]',\n",
       "       '[\"Electronics\",\"Headphones, Earbuds & Accessories\",\"Headphones & Earbuds\",\"Earbud Headphones\"]',\n",
       "       '[\"Appliances\",\"Refrigerators, Freezers & Ice Makers\",\"Ice Makers\"]',\n",
       "       '[\"Patio, Lawn & Garden\",\"Grills & Outdoor Cooking\",\"Grills & Smokers\",\"Gas Grills\",\"Propane Grills\"]',\n",
       "       '[\"Home & Kitchen\",\"Home Décor Products\",\"Slipcovers\",\"Recliner Slipcovers\"]',\n",
       "       '[\"Clothing, Shoes & Jewelry\",\"Men\",\"Shoes\",\"Athletic\",\"Walking\"]',\n",
       "       '[\"Clothing, Shoes & Jewelry\",\"Women\",\"Shoes\",\"Athletic\",\"Sport Sandals & Slides\"]',\n",
       "       '[\"Electronics\",\"Computers & Accessories\",\"Computer Accessories & Peripherals\",\"Cables & Accessories\",\"Cables & Interconnects\",\"Lightning Cables\"]',\n",
       "       '[\"Sports & Outdoors\",\"Sports & Outdoor Recreation Accessories\",\"Trophies, Medals & Awards\",\"Trophies\"]',\n",
       "       '[\"Cell Phones & Accessories\",\"Accessories\",\"Maintenance, Upkeep & Repairs\",\"Replacement Parts\",\"Batteries\"]',\n",
       "       '[\"Home & Kitchen\",\"Kitchen & Dining\",\"Cookware\",\"Pots & Pans\",\"Woks & Stir-Fry Pans\"]',\n",
       "       '[\"Toys & Games\",\"Arts & Crafts\",\"Drawing & Painting Supplies\",\"Crayons\"]',\n",
       "       '[\"Baby Products\",\"Safety\",\"Monitors\",\"Video Monitors\"]',\n",
       "       '[\"Arts, Crafts & Sewing\",\"Beading & Jewelry Making\",\"Jewelry Casting Supplies\",\"Resin Casting Molds\"]',\n",
       "       '[\"Sports & Outdoors\",\"Sports\",\"Cycling\",\"Parts & Components\",\"Handlebars, Headsets & Stems\",\"Grips\"]',\n",
       "       '[\"Sports & Outdoors\",\"Exercise & Fitness\",\"Accessories\",\"Step Platforms\"]',\n",
       "       '[\"Sports & Outdoors\",\"Sports\",\"Team Sports\",\"Basketball\",\"Basketballs\"]',\n",
       "       '[\"Cell Phones & Accessories\",\"Cases, Holsters & Sleeves\",\"Bumpers\"]',\n",
       "       '[\"Sports & Outdoors\",\"Sports\",\"Other Sports\",\"Boxing\",\"Punching Bags\",\"Heavy Bags\"]',\n",
       "       '[\"Automotive\",\"Replacement Parts\",\"Ignition Parts\",\"Coil Packs\"]',\n",
       "       '[\"Electronics\",\"Computers & Accessories\",\"Laptop Accessories\",\"Stands\"]',\n",
       "       '[\"Clothing, Shoes & Jewelry\",\"Men\",\"Clothing\",\"Swim\",\"Board Shorts\"]',\n",
       "       '[\"Clothing, Shoes & Jewelry\",\"Women\",\"Shoes\",\"Mules & Clogs\"]',\n",
       "       '[\"Sports & Outdoors\",\"Sports\",\"Golf\",\"Accessories\",\"Rangefinders\"]',\n",
       "       '[\"Musical Instruments\",\"Live Sound & Stage\",\"Monitors, Speakers & Subwoofers\",\"Monitor, Speaker & Subwoofer Parts\"]',\n",
       "       '[\"Arts, Crafts & Sewing\",\"Painting, Drawing & Art Supplies\",\"Boards & Canvas\",\"Canvas Boards & Panels\"]',\n",
       "       '[\"Tools & Home Improvement\",\"Lighting & Ceiling Fans\",\"Ceiling Lights\",\"Track Lighting\",\"Connectors\"]',\n",
       "       '[\"Sports & Outdoors\",\"Sports\",\"Boating & Sailing\",\"Boating\",\"Boat Cabin Products\",\"Flags\"]',\n",
       "       '[\"Toys & Games\",\"Building Toys\",\"Building Sets\"]',\n",
       "       '[\"Clothing, Shoes & Jewelry\",\"Luggage & Travel Gear\",\"Luggage\",\"Suitcases\"]',\n",
       "       '[\"Home & Kitchen\",\"Kitchen & Dining\",\"Dining & Entertaining\",\"Dinnerware & Serveware\",\"Serveware\",\"Beverage Serveware\",\"Carafes\"]',\n",
       "       '[\"Sports & Outdoors\",\"Sports\",\"Leisure Sports & Game Room\",\"Table Tennis\",\"Balls\"]',\n",
       "       '[\"Beauty & Personal Care\",\"Shave & Hair Removal\",\"Women\\'s\",\"Tweezers\"]',\n",
       "       '[\"Automotive\",\"Replacement Parts\",\"Engine Cooling & Climate Control\",\"Air Conditioning\",\"O-Rings & O-Ring Kits\"]',\n",
       "       '[\"Automotive\",\"Replacement Parts\",\"Brake System\",\"Brake Pads\"]',\n",
       "       '[\"Tools & Home Improvement\",\"Hardware\",\"Window Hardware\",\"Screens\"]',\n",
       "       '[\"Grocery & Gourmet Food\",\"Pantry Staples\",\"Cooking & Baking\",\"Baking Syrups, Sugars & Sweeteners\",\"Sugar Substitutes\",\"Xylitol\"]',\n",
       "       '[\"Automotive\",\"Interior Accessories\",\"Seat Covers & Accessories\",\"Seat Covers\"]',\n",
       "       '[\"Automotive\",\"Replacement Parts\",\"Brake System\",\"Brake Kits\"]',\n",
       "       '[\"Toys & Games\",\"Baby & Toddler Toys\",\"Bath Toys\"]',\n",
       "       '[\"Electronics\",\"Computers & Accessories\",\"Computer Accessories & Peripherals\",\"Hard Drive Accessories\",\"Enclosures\"]',\n",
       "       '[\"Health & Household\",\"Vitamins, Minerals & Supplements\",\"Herbal Supplements\",\"Mushrooms\"]',\n",
       "       '[\"Tools & Home Improvement\",\"Electrical\",\"Door Chimes & Bells\",\"Chimes\"]',\n",
       "       '[\"Home & Kitchen\",\"Bath\",\"Towels\",\"Towel Sets\"]',\n",
       "       '[\"CDs & Vinyl\",\"Country\",\"Today\\'s Country\"]',\n",
       "       '[\"Home & Kitchen\",\"Kitchen & Dining\",\"Dining & Entertaining\",\"Bar Tools & Drinkware\",\"Bar Tools\",\"Rimming Salts & Sugars\"]',\n",
       "       '[\"Clothing, Shoes & Jewelry\",\"Costumes & Accessories\",\"Kids & Baby\",\"Girls\",\"Accessories\"]',\n",
       "       '[\"Pet Supplies\",\"Cats\",\"Beds & Furniture\",\"Beds\"]',\n",
       "       '[\"Tools & Home Improvement\",\"Power & Hand Tools\",\"Power Tool Parts & Accessories\",\"Saw Blades, Parts & Accessories\",\"Blades\",\"Jointer Knives\"]',\n",
       "       '[\"Automotive\",\"Tools & Equipment\",\"Air Conditioning Tools & Equipment\",\"Air Conditioning Line Repair Tools\"]',\n",
       "       '[\"Health & Household\",\"Household Supplies\",\"Cleaning Tools\",\"Mopping\",\"Buckets\"]',\n",
       "       '[\"Sports & Outdoors\",\"Sports\",\"Water Sports\",\"Diving & Snorkeling\",\"Diving Suits\",\"Diving Gloves\"]',\n",
       "       '[\"Toys & Games\",\"Sports & Outdoor Play\",\"Pools & Water Toys\",\"Pool Rafts & Inflatable Ride-ons\"]',\n",
       "       '[\"Clothing, Shoes & Jewelry\",\"Women\",\"Shoes\",\"Outdoor\",\"Rain Footwear\"]',\n",
       "       '[\"Home & Kitchen\",\"Kitchen & Dining\",\"Kitchen Utensils & Gadgets\",\"Kitchen Accessories\",\"Cookbook Stands & Recipe Holders\",\"Recipe Holders\"]',\n",
       "       '[\"Home & Kitchen\",\"Home Décor Products\",\"Home Décor Accents\",\"Corner Shelves\"]',\n",
       "       '[\"Home & Kitchen\",\"Bath\",\"Bathroom Accessories\",\"Shower Curtains, Hooks & Liners\",\"Shower Curtains\"]',\n",
       "       '[\"Clothing, Shoes & Jewelry\",\"Men\",\"Uniforms, Work & Safety\",\"Shoes\",\"Work & Utility\",\"Shoes\"]',\n",
       "       '[\"Beauty & Personal Care\",\"Skin Care\",\"Body\",\"Moisturizers\",\"Lotions\"]',\n",
       "       '[\"Health & Household\",\"Diet & Sports Nutrition\",\"Sports Nutrition\",\"Protein\",\"Blends\"]',\n",
       "       '[\"Home & Kitchen\",\"Storage & Organization\",\"Clothing & Closet Storage\",\"Moving Bags\"]',\n",
       "       '[\"Automotive\",\"Tools & Equipment\",\"Body Repair Tools\",\"Buffing & Polishing Pads\"]',\n",
       "       '[\"Clothing, Shoes & Jewelry\",\"Women\",\"Clothing\",\"Lingerie, Sleep & Lounge\",\"Lingerie\",\"Bras\",\"Sports Bras\"]',\n",
       "       '[\"Automotive\",\"Motorcycle & Powersports\",\"Protective Gear\",\"Gloves\"]',\n",
       "       '[\"Sports & Outdoors\",\"Sports\",\"Cycling\",\"Bikes\",\"Electric Bicycles\"]',\n",
       "       '[\"Cell Phones & Accessories\",\"Cell Phones\"]',\n",
       "       '[\"Cell Phones & Accessories\",\"Cases, Holsters & Sleeves\",\"Crossbody & Lanyard Cases\"]',\n",
       "       '[\"Home & Kitchen\",\"Furniture\",\"Bedroom Furniture\",\"Beds, Frames & Bases\",\"Bed Frames\"]',\n",
       "       '[\"Home & Kitchen\",\"Bedding\",\"Blankets & Throws\",\"Bed Blankets\"]',\n",
       "       '[\"Home & Kitchen\",\"Home Décor Products\",\"Vases\"]',\n",
       "       '[\"Electronics\",\"Camera & Photo\",\"Video Surveillance\",\"Surveillance Cameras\",\"Bullet Cameras\"]',\n",
       "       '[\"Hunting & Fishing\",\"Shooting\",\"Gun Accessories, Maintenance & Storage\",\"Gun & Ammunition Storage & Safes\",\"Ammunition & Magazine Boxes, Cans & Cases\"]',\n",
       "       '[\"Clothing, Shoes & Jewelry\",\"Men\",\"Accessories\",\"Wallets, Card Cases & Money Organizers\",\"Wallets\"]',\n",
       "       '[\"Tools & Home Improvement\",\"Power & Hand Tools\",\"Hand Tools\",\"Workholding Devices\",\"Clamps\",\"Angle Clamps\"]',\n",
       "       '[\"Pet Supplies\",\"Dogs\",\"Food\",\"Wet\",\"Canned\"]',\n",
       "       '[\"Clothing, Shoes & Jewelry\",\"Women\",\"Jewelry\",\"Necklaces\",\"Lockets\"]',\n",
       "       '[\"Health & Household\",\"Wellness & Relaxation\",\"Massage Tools & Equipment\",\"Massage Tools\",\"Back Massagers\"]',\n",
       "       '[\"Sports & Outdoors\",\"Outdoor Recreation\",\"Camping & Hiking\",\"Camp Kitchen\",\"Cooler Accessories\"]',\n",
       "       '[\"Electronics\",\"Computers & Accessories\",\"Computer Accessories & Peripherals\",\"Keyboards, Mice & Accessories\",\"Keyboards\"]',\n",
       "       '[\"Clothing, Shoes & Jewelry\",\"Women\",\"Shoes\",\"Sandals\",\"Flip-Flops\"]',\n",
       "       '[\"Home & Kitchen\",\"Furniture\",\"Dining Room Furniture\",\"Table & Chair Sets\"]',\n",
       "       '[\"Office Products\",\"Office & School Supplies\",\"Paper\",\"Notebooks & Writing Pads\",\"Subject Notebooks\"]',\n",
       "       '[\"Grocery & Gourmet Food\",\"Pantry Staples\",\"Jams, Jellies & Sweet Spreads\",\"Jams, Jellies & Preserves\",\"Jams & Preserves\"]',\n",
       "       '[\"Tools & Home Improvement\",\"Power & Hand Tools\",\"Hand Tools\",\"Pliers\",\"Vise Grips & Locking Pliers\"]',\n",
       "       '[\"Clothing, Shoes & Jewelry\",\"Women\",\"Clothing\",\"Sweaters\",\"Cardigans\"]',\n",
       "       '[\"Home & Kitchen\",\"Home Décor Products\",\"Kids\\' Room Décor\",\"Lamps & Lighting\"]',\n",
       "       '[\"Electronics\",\"Television & Video\",\"Accessories\",\"Video Converters\"]',\n",
       "       '[\"Pet Supplies\",\"Dogs\",\"Apparel & Accessories\",\"Shirts\"]',\n",
       "       '[\"Industrial & Scientific\",\"Material Handling Products\",\"Drum & Pail Handling Equipment\",\"Heaters\"]',\n",
       "       '[\"Sports & Outdoors\",\"Sports\",\"Cycling\",\"Bike Tools & Maintenance\",\"Shop Tools\"]',\n",
       "       '[\"Home & Kitchen\",\"Heating, Cooling & Air Quality\",\"Household Fans\",\"Wall-Mounted Fans\"]',\n",
       "       '[\"Sports & Outdoors\",\"Outdoor Recreation\",\"Camping & Hiking\",\"Camp Kitchen\",\"Coolers\"]',\n",
       "       '[\"Office Products\",\"Office Furniture & Lighting\",\"Furniture Accessories\",\"Back & Seat Cushions\"]',\n",
       "       '[\"Clothing, Shoes & Jewelry\",\"Men\",\"Clothing\",\"Active\",\"Base Layers & Compression\",\"Shirts\"]',\n",
       "       '[\"Arts, Crafts & Sewing\",\"Sewing\",\"Sewing Notions & Supplies\",\"Fasteners\",\"Buttons\"]',\n",
       "       '[\"Clothing, Shoes & Jewelry\",\"Women\",\"Shoes\",\"Athletic\",\"Fitness & Cross-Training\"]',\n",
       "       '[\"Tools & Home Improvement\",\"Power & Hand Tools\",\"Power Tools\",\"Grinders\",\"Angle Grinders\"]',\n",
       "       '[\"Home & Kitchen\",\"Storage & Organization\",\"Laundry Storage & Organization\",\"Laundry Hampers\"]',\n",
       "       '[\"Home & Kitchen\",\"Furniture\",\"Game & Recreation Room Furniture\",\"Home Bar Furniture\",\"Bars & Wine Cabinets\",\"Bar Cabinets\"]',\n",
       "       '[\"Patio, Lawn & Garden\",\"Patio Furniture & Accessories\",\"Decorative Pillows\"]',\n",
       "       '[\"Home & Kitchen\",\"Heating, Cooling & Air Quality\",\"Parts & Accessories\",\"Stove & Fireplace Accessories\",\"Chimney Brushes\"]',\n",
       "       '[\"Sports & Outdoors\",\"Sports\",\"Leisure Sports & Game Room\",\"Outdoor Games & Activities\",\"Disc Sports\",\"Disc Golf\",\"Discs\",\"Drivers\"]',\n",
       "       '[\"Health & Household\",\"Health Care\",\"Alternative Medicine\",\"Light Therapy\"]',\n",
       "       '[\"Patio, Lawn & Garden\",\"Grills & Outdoor Cooking\",\"Outdoor Cooking Tools & Accessories\",\"Grilling & Barbecue Utensils\",\"Barbecue Skewers\"]',\n",
       "       '[\"Home & Kitchen\",\"Home Décor Products\",\"Slipcovers\",\"Sofa Slipcovers\"]',\n",
       "       '[\"Industrial & Scientific\",\"Additive Manufacturing Products\",\"3D Printers\"]',\n",
       "       '[\"Sports & Outdoors\",\"Outdoor Recreation\",\"Camping & Hiking\",\"Safety & Survival\",\"Hand & Foot Warmers\",\"Hand Warmers\"]',\n",
       "       '[\"Clothing, Shoes & Jewelry\",\"Shoe, Jewelry & Watch Accessories\",\"Jewelry Accessories\",\"Jewelry Boxes & Organizers\",\"Jewelry Trays\"]',\n",
       "       '[\"Pet Supplies\",\"Cats\",\"Feeding & Watering Supplies\",\"Fountains\"]',\n",
       "       '[\"Cell Phones & Accessories\",\"Accessories\",\"Smartwatch Accessories\",\"Smartwatch Screen Protectors\"]',\n",
       "       '[\"Patio, Lawn & Garden\",\"Gardening & Lawn Care\",\"Gloves & Protective Gear\",\"Gloves\"]',\n",
       "       '[\"Cell Phones & Accessories\",\"Accessories\",\"Grips\"]',\n",
       "       '[\"Pet Supplies\",\"Dogs\",\"Grooming\",\"Scissors\"]',\n",
       "       '[\"Clothing, Shoes & Jewelry\",\"Baby\",\"Baby Girls\",\"Clothing\",\"Hoodies & Active\"]',\n",
       "       '[\"Automotive\",\"Exterior Accessories\",\"Snow & Ice\",\"Windshield Snow Covers\"]',\n",
       "       '[\"Beauty\",\"Skin Care\",\"Face\",\"Creams & Moisturisers\",\"Face Creams\"]',\n",
       "       '[\"Clothing, Shoes & Jewelry\",\"Men\",\"Shoes\",\"Athletic\",\"Team Sports\",\"Football\"]',\n",
       "       '[\"Sports & Outdoors\",\"Sports\",\"Team Sports\",\"Baseball\",\"Protective Gear\",\"Face Guards\"]',\n",
       "       '[\"Tools & Home Improvement\",\"Power & Hand Tools\",\"Power Tool Parts & Accessories\",\"Battery Packs & Chargers\",\"Charger & Converters\",\"Battery Chargers\"]',\n",
       "       '[\"Tools & Home Improvement\",\"Power & Hand Tools\",\"Power Tool Parts & Accessories\",\"Power Rotary Tool Parts & Accessories\",\"Cutting Wheels\"]',\n",
       "       '[\"Clothing, Shoes & Jewelry\",\"Men\",\"Accessories\",\"Hats & Caps\",\"Skullies & Beanies\"]',\n",
       "       '[\"Beauty & Personal Care\",\"Fragrance\",\"Women\\'s\",\"Eau de Parfum\"]',\n",
       "       '[\"Beauty\",\"Bath & Body\",\"Cleansers\",\"Body Wash Gels\"]',\n",
       "       '[\"Home & Kitchen\",\"Vacuums & Floor Care\",\"Vacuums\",\"Canister Vacuums\"]',\n",
       "       '[\"Clothing, Shoes & Jewelry\",\"Men\",\"Uniforms, Work & Safety\",\"Clothing\",\"Work Utility & Safety\",\"Tops\"]',\n",
       "       '[\"Home & Kitchen\",\"Home Décor Products\",\"Clocks\",\"Wall Clocks\"]',\n",
       "       '[\"Patio, Lawn & Garden\",\"Patio Furniture & Accessories\",\"Patio Seating\",\"Chairs\",\"Adirondack Chairs\"]',\n",
       "       '[\"Automotive\",\"Replacement Parts\",\"Bearings & Seals\",\"Bearings\",\"Wheel\",\"Hub Assemblies\"]',\n",
       "       '[\"Office Products\",\"Office & School Supplies\",\"Labels, Indexes & Stamps\",\"Labels & Stickers\",\"All-Purpose Labels\"]',\n",
       "       '[\"Home & Kitchen\",\"Bath\",\"Bathroom Accessories\",\"Holders & Dispensers\",\"Vanity Trays\"]',\n",
       "       '[\"Home & Kitchen\",\"Home Décor Products\",\"Home Décor Accents\",\"Decorative Accessories\",\"Decorative Signs & Plaques\"]',\n",
       "       '[\"Sports & Outdoors\",\"Exercise & Fitness\",\"Strength Training Equipment\",\"Resistance Bands\"]',\n",
       "       '[\"Baby Products\",\"Nursery\",\"Furniture\",\"Playards\"]',\n",
       "       '[\"Clothing, Shoes & Jewelry\",\"Women\",\"Clothing\",\"Fashion Hoodies & Sweatshirts\"]',\n",
       "       '[\"Clothing, Shoes & Jewelry\",\"Boys\",\"Shoes\",\"Athletic\",\"Running\"]',\n",
       "       '[\"Clothing, Shoes & Jewelry\",\"Luggage & Travel Gear\",\"Luggage\",\"Carry-Ons\"]',\n",
       "       '[\"Clothing, Shoes & Jewelry\",\"Women\",\"Clothing\",\"Active\",\"Active Sweatshirts\"]',\n",
       "       '[\"Tools & Home Improvement\",\"Measuring & Layout Tools\",\"Linear Measurement\",\"Tape Measures\"]',\n",
       "       '[\"Clothing, Shoes & Jewelry\",\"Women\",\"Watches\",\"Wrist Watches\"]',\n",
       "       '[\"Sports & Outdoors\",\"Sports\",\"Cycling\",\"Bike Tools & Maintenance\",\"Bike Lube\"]',\n",
       "       '[\"Home & Kitchen\",\"Kitchen & Dining\",\"Kitchen Utensils & Gadgets\",\"Straws\",\"Reusable Straws\"]',\n",
       "       '[\"Electronics\",\"Computers & Accessories\",\"Computer Components\",\"Internal Components\",\"Internal Power Supplies\"]',\n",
       "       '[\"Musical Instruments\",\"Studio Recording Equipment\",\"Mixers & Accessories\",\"Accessories\",\"Bags, Cases & Covers\"]',\n",
       "       '[\"Tools & Home Improvement\",\"Kitchen & Bath Fixtures\",\"Bathroom Fixtures\",\"Bathroom Sinks\",\"Console Sinks\"]',\n",
       "       '[\"Health & Household\",\"Oral Care\",\"Toothbrushes & Accessories\",\"Powered Toothbrushes & Accessories\",\"Powered Toothbrushes\",\"Sonic\"]',\n",
       "       '[\"Beauty & Personal Care\",\"Hair Care\",\"Hair Coloring Products\",\"Hair Color\"]',\n",
       "       '[\"Automotive\",\"Car Care\",\"Interior Care\",\"Leather Care\"]',\n",
       "       '[\"Electronics\",\"Camera & Photo\",\"Accessories\",\"Tripod & Monopod Accessories\",\"Camera Mounts & Clamps\"]',\n",
       "       '[\"Appliances\",\"Parts & Accessories\"]',\n",
       "       '[\"Tools & Home Improvement\",\"Hardware\",\"Cabinet Hardware\",\"Pulls\"]',\n",
       "       '[\"Automotive\",\"Motorcycle & Powersports\",\"Parts\",\"Fuel System\",\"Carburetors\"]',\n",
       "       '[\"Home & Kitchen\",\"Storage & Organization\",\"Racks, Shelves & Drawers\",\"Standing Shelf Units\"]',\n",
       "       '[\"Clothing, Shoes & Jewelry\",\"Women\",\"Clothing\",\"Dresses\"]',\n",
       "       '[\"Clothing, Shoes & Jewelry\",\"Women\",\"Uniforms, Work & Safety\",\"Shoes\",\"Health Care & Food Service\"]',\n",
       "       '[\"Pet Supplies\",\"Fish & Aquatic Pets\",\"Aquarium Pumps & Filters\",\"Air Pumps\"]',\n",
       "       '[\"Patio, Lawn & Garden\",\"Patio Furniture & Accessories\",\"Cushions\"]',\n",
       "       '[\"Clothing, Shoes & Jewelry\",\"Women\",\"Accessories\",\"Sunglasses & Eyewear Accessories\",\"Sunglasses\"]',\n",
       "       '[\"Office Products\",\"Office & School Supplies\",\"Labels, Indexes & Stamps\",\"Labels & Stickers\",\"Laser & Inkjet Printer Labels\"]',\n",
       "       '[\"Beauty & Personal Care\",\"Makeup\",\"Face\",\"Concealers & Neutralizers\"]',\n",
       "       '[\"Sports & Outdoors\",\"Fan Shop\",\"Sports Equipment\",\"Golf Equipment\",\"Golf Gift Sets\"]',\n",
       "       '[\"Clothing, Shoes & Jewelry\",\"Women\",\"Handbags & Wallets\",\"Crossbody Bags\"]',\n",
       "       '[\"Office Products\",\"Office & School Supplies\",\"Paper\",\"Cards & Card Stock\",\"Business Cards\"]',\n",
       "       '[\"Clothing, Shoes & Jewelry\",\"Girls\",\"Shoes\",\"Slippers\"]',\n",
       "       '[\"Arts, Crafts & Sewing\",\"Scrapbooking & Stamping\",\"Stamps & Ink Pads\",\"Stamps\",\"Wood Stamps\"]',\n",
       "       '[\"Automotive\",\"Exterior Accessories\",\"Running Boards & Steps\",\"Running Boards\"]',\n",
       "       '[\"Office Products\",\"Office & School Supplies\",\"Writing & Correction Supplies\",\"Markers & Highlighters\",\"Highlighter Tape\"]',\n",
       "       '[\"Clothing, Shoes & Jewelry\",\"Men\",\"Clothing\",\"Underwear\",\"Undershirts\"]',\n",
       "       '[\"Clothing, Shoes & Jewelry\",\"Boys\",\"Shoes\",\"Sandals\"]',\n",
       "       '[\"Home & Kitchen\",\"Bedding\",\"Kids\\' Bedding\",\"Blankets & Throws\",\"Throws\"]',\n",
       "       '[\"Clothing, Shoes & Jewelry\",\"Novelty & More\",\"Clothing\",\"Novelty\",\"Men\",\"Accessories\",\"Neckties\"]',\n",
       "       '[\"Health & Household\",\"Diet & Sports Nutrition\",\"Weight Loss\",\"Supplements\",\"Diuretics\"]',\n",
       "       '[\"Home & Kitchen\",\"Home Décor Products\",\"Tapestries\"]',\n",
       "       '[\"Tools & Home Improvement\",\"Lighting & Ceiling Fans\",\"Wall Lights\",\"Wall Lamps & Sconces\"]',\n",
       "       '[\"Beauty\",\"Hair Care\",\"Shampoo & Conditioner\",\"Shampoos\"]',\n",
       "       '[\"Automotive\",\"Replacement Parts\",\"Windshield Wipers & Washers\",\"Windshield Wiper Nozzles\"]',\n",
       "       '[\"Home & Kitchen\",\"Furniture\",\"Home Office Furniture\",\"Home Office Desks\"]',\n",
       "       '[\"Clothing, Shoes & Jewelry\",\"Men\",\"Shoes\",\"Athletic\",\"Team Sports\",\"Field Hockey & Lacrosse\"]',\n",
       "       '[\"Sports & Outdoors\",\"Sports\",\"Leisure Sports & Game Room\",\"Trampolines & Accessories\",\"Trampolines\"]',\n",
       "       '[\"Clothing, Shoes & Jewelry\",\"Boys\",\"Clothing\",\"Tops, Tees & Shirts\",\"Tees\"]',\n",
       "       '[\"Clothing, Shoes & Jewelry\",\"Girls\",\"Shoes\",\"Sandals\"]',\n",
       "       '[\"Tools & Home Improvement\",\"Power & Hand Tools\",\"Power Tools\",\"Saws\",\"Circular Saws\"]',\n",
       "       '[\"Clothing, Shoes & Jewelry\",\"Baby\",\"Baby Boys\",\"Clothing\",\"Clothing Sets\",\"Pant Sets\"]',\n",
       "       '[\"Clothing, Shoes & Jewelry\",\"Boot Shop\",\"Women\",\"Fashion\",\"Western\"]',\n",
       "       '[\"Home & Kitchen\",\"Vacuums & Floor Care\",\"Vacuum Parts & Accessories\",\"Bags\",\"Upright Bags\"]',\n",
       "       '[\"Clothing, Shoes & Jewelry\",\"Women\",\"Shoes\",\"Sandals\",\"Flats\"]',\n",
       "       '[\"Home & Kitchen\",\"Bedding\",\"Kids\\' Bedding\",\"Blankets & Throws\",\"Weighted Blankets\"]',\n",
       "       '[\"Office Products\",\"Office Furniture & Lighting\",\"Furniture Accessories\",\"Chair Mats\",\"Hard-Floor Chair Mats\"]',\n",
       "       '[\"Grocery & Gourmet Food\",\"Beverages\",\"Bottled Beverages, Water & Drink Mixes\",\"Powdered Drink Mixes & Flavorings\",\"Soft Drink Mixes\"]',\n",
       "       '[\"Home & Kitchen\",\"Bedding\",\"Sheets & Pillowcases\",\"Sheet & Pillowcase Sets\"]',\n",
       "       '[\"Clothing, Shoes & Jewelry\",\"Boys\",\"School Uniforms\",\"Clothing\",\"Tops\"]',\n",
       "       '[\"Clothing, Shoes & Jewelry\",\"Men\",\"Clothing\",\"Jackets & Coats\",\"Leather & Faux Leather\"]',\n",
       "       '[\"Home & Kitchen\",\"Home Décor Products\",\"Photo Albums, Frames & Accessories\",\"Picture Frames\",\"Wall & Tabletop Frames\"]',\n",
       "       '[\"Clothing, Shoes & Jewelry\",\"Girls\",\"Clothing\",\"Leggings\"]',\n",
       "       '[\"Beauty & Personal Care\",\"Makeup\",\"Body\",\"Body Glitter\"]',\n",
       "       '[\"Clothing, Shoes & Jewelry\",\"Luggage & Travel Gear\",\"Gym Bags\",\"Sports Duffels\"]',\n",
       "       '[\"Musical Instruments\",\"Instrument Accessories\",\"Drum & Percussion Accessories\",\"Drum Set Accessories\",\"Drumheads\",\"Tom-Tom Drumheads\"]',\n",
       "       '[\"Beauty\",\"Skin Care\",\"Body\",\"Talcum Powders\"]',\n",
       "       '[\"Patio, Lawn & Garden\",\"Farm & Ranch\",\"Beekeeping Supplies\"]',\n",
       "       '[\"Pet Supplies\",\"Dogs\",\"Collars, Harnesses & Leashes\",\"Harnesses\",\"Vehicle Harnesses\"]',\n",
       "       '[\"Tools & Home Improvement\",\"Hardware\",\"Door Hardware & Locks\",\"Hinges\"]',\n",
       "       '[\"Cell Phones & Accessories\",\"Accessories\",\"Stylus Pens\"]',\n",
       "       '[\"Home & Kitchen\",\"Home Décor Products\",\"Rugs, Pads & Protectors\",\"Runners\"]',\n",
       "       '[\"Toys & Games\",\"Preschool\",\"Pre-Kindergarten Toys\"]',\n",
       "       '[\"Automotive\",\"Interior Accessories\",\"Electrical Appliances\",\"Coolers & Refrigerators\"]',\n",
       "       '[\"Tools & Home Improvement\",\"Power & Hand Tools\",\"Power Tool Parts & Accessories\",\"Router Parts & Accessories\",\"Collets\"]',\n",
       "       '[\"Beauty & Personal Care\",\"Shave & Hair Removal\",\"Men\\'s\",\"After Shaves\",\"Lotions\"]',\n",
       "       '[\"Tools & Home Improvement\",\"Building Supplies\",\"Building Materials\",\"Flooring\",\"Flooring Materials\",\"Hardwood Flooring\"]',\n",
       "       '[\"Home & Kitchen\",\"Home Décor Products\",\"Candles & Holders\",\"Candleholders\",\"Candlestick Holders\"]',\n",
       "       '[\"Clothing, Shoes & Jewelry\",\"Sport Specific Clothing\",\"Baseball\",\"Boys\",\"Pants\"]',\n",
       "       '[\"Sports & Outdoors\",\"Hunting & Fishing\",\"Tactical & Personal Defense\",\"Personal Defense Equipment\",\"Stun Guns\"]',\n",
       "       '[\"Home & Kitchen\",\"Kitchen & Dining\",\"Storage & Organization\",\"Racks & Holders\",\"Cabinet & Drawer Organization\",\"Shelf Liners\"]',\n",
       "       '[\"Home & Kitchen\",\"Kitchen & Dining\",\"Storage & Organization\",\"Travel & To-Go Food Containers\",\"Lunch Bags\"]',\n",
       "       '[\"Automotive\",\"Exterior Accessories\",\"Trailer Accessories\",\"Lighting\"]',\n",
       "       '[\"Automotive\",\"Motorcycle & Powersports\",\"Protective Gear\",\"Footwear\",\"Women\",\"Boots\"]',\n",
       "       '[\"Office Products\",\"Office Furniture & Lighting\",\"Furniture Accessories\",\"Casters\"]',\n",
       "       '[\"Grocery & Gourmet Food\",\"Snacks & Sweets\",\"Candy & Chocolate\",\"Chewing & Bubble Gum\"]',\n",
       "       '[\"Sports & Outdoors\",\"Sports\",\"Water Sports\",\"Swimming\",\"Training Equipment\",\"Kickboards\"]',\n",
       "       '[\"Automotive\",\"Replacement Parts\",\"Fuel System\",\"Fuel Pumps & Accessories\",\"Electric Fuel Pumps\"]',\n",
       "       '[\"Electronics\",\"Computers & Accessories\",\"Laptop Accessories\"]',\n",
       "       '[\"Pet Supplies\",\"Dogs\",\"Health Supplies\",\"Recovery Collars & Cones\"]',\n",
       "       '[\"Sports & Outdoors\",\"Hunting & Fishing\",\"Shooting\",\"Gun Accessories, Maintenance & Storage\",\"Gun Parts & Accessories\",\"Monopods & Bipods\"]',\n",
       "       '[\"Cell Phones & Accessories\",\"Cases, Holsters & Sleeves\",\"Flip Cases\"]',\n",
       "       '[\"Electronics\",\"Computers & Accessories\",\"Networking Products\",\"Network Adapters\",\"USB Network Adapters\"]',\n",
       "       '[\"Home & Kitchen\",\"Seasonal Décor\",\"Seasonal Lighting\",\"Indoor String Lights\"]',\n",
       "       '[\"Automotive\",\"Replacement Parts\",\"Fuel System\",\"Fuel Injection\",\"Fuel Injectors & Parts\",\"Fuel Injectors\"]',\n",
       "       '[\"Beauty & Personal Care\",\"Makeup\",\"Face\",\"Bronzers\"]',\n",
       "       '[\"Sports & Outdoors\",\"Fan Shop\",\"Home & Kitchen\",\"Décor\",\"Area Rugs\"]',\n",
       "       '[\"Home & Kitchen\",\"Furniture\",\"Living Room Furniture\",\"Sofas & Couches\"]',\n",
       "       '[\"Tools & Home Improvement\",\"Kitchen & Bath Fixtures\",\"Kitchen Fixtures\",\"Kitchen Sink Aerators\"]',\n",
       "       '[\"Health & Household\",\"Vitamins, Minerals & Supplements\",\"Amino Acids\",\"Creatine\"]',\n",
       "       '[\"Home & Kitchen\",\"Home Décor Products\",\"Home Fragrance\",\"Home Fragrance Accessories\"]',\n",
       "       '[\"Home & Kitchen\",\"Storage & Organization\",\"Laundry Storage & Organization\",\"Laundry Bags\"]',\n",
       "       '[\"Beauty & Personal Care\",\"Makeup\",\"Face\",\"Powder\"]',\n",
       "       '[\"Tools & Home Improvement\",\"Safety & Security\",\"Personal Protective Equipment\",\"Hand & Arm Protection\",\"Lab, Safety & Work Gloves\",\"Safety Work Gloves\"]',\n",
       "       '[\"Clothing, Shoes & Jewelry\",\"Baby\",\"Baby Boys\",\"Clothing\",\"Footies & Rompers\",\"Rompers\"]',\n",
       "       '[\"Clothing, Shoes & Jewelry\",\"Women\",\"Clothing\",\"Dresses\",\"Casual\"]',\n",
       "       '[\"Cell Phones & Accessories\",\"Accessories\",\"Smartwatch Accessories\",\"Smartwatch Bands\"]',\n",
       "       '[\"Clothing, Shoes & Jewelry\",\"Girls\",\"Clothing\",\"Tops, Tees & Blouses\",\"Tees\"]',\n",
       "       '[\"Electronics\",\"Television & Video\",\"Accessories\",\"Cables\",\"Optical\"]',\n",
       "       '[\"Sports & Outdoors\",\"Sports\",\"Team Sports\",\"Football\",\"Protective Gear\",\"Helmets & Headgear\",\"Helmets\"]',\n",
       "       '[\"Office Products\",\"Office & School Supplies\",\"Calendars, Planners & Personal Organizers\",\"Planners, Refills & Covers\",\"Planners\"]',\n",
       "       '[\"Beauty\",\"Make-up\",\"Eyes\",\"Eyeshadow\"]',\n",
       "       '[\"Home & Kitchen\",\"Kitchen & Dining\",\"Kitchen Utensils & Gadgets\",\"Knife Sharpeners\"]',\n",
       "       '[\"Office Products\",\"Office & School Supplies\",\"Desk Accessories & Workspace Organizers\",\"Hanging Wall Files\"]',\n",
       "       '[\"Sports & Outdoors\",\"Fan Shop\",\"Home & Kitchen\",\"Bath\",\"Bath Accessories\"]',\n",
       "       '[\"Clothing, Shoes & Jewelry\",\"Costumes & Accessories\",\"Women\",\"Wigs\"]',\n",
       "       '[\"Beauty\",\"Bath & Body\",\"Bath Additives\",\"Bath Oils\"]',\n",
       "       '[\"Clothing, Shoes & Jewelry\",\"Boys\",\"Clothing\",\"Active\",\"Active Hoodies\"]',\n",
       "       '[\"Tools & Home Improvement\",\"Building Supplies\",\"Job Site Lighting\"]',\n",
       "       '[\"Tools & Home Improvement\",\"Paint, Wall Treatments & Supplies\",\"Wall Stickers & Murals\"]',\n",
       "       '[\"Electronics\",\"Accessories & Supplies\",\"Office Electronics Accessories\",\"Labeling Tapes\"]',\n",
       "       '[\"Electronics\",\"Camera & Photo\",\"Lighting & Studio\",\"Photo Studio\",\"Backgrounds\"]',\n",
       "       '[\"Automotive\",\"Replacement Parts\",\"Body & Trim\",\"Trim\",\"Dashboards\"]',\n",
       "       '[\"Patio, Lawn & Garden\",\"Gardening & Lawn Care\",\"Watering Equipment\",\"Automatic Irrigation Equipment\",\"Accessories\"]',\n",
       "       '[\"Sports & Outdoors\",\"Fan Shop\",\"Clothing Accessories\",\"Caps & Hats\",\"Novelty Headwear\"]',\n",
       "       '[\"Office Products\",\"Office Electronics\",\"Printers & Accessories\",\"Printers\",\"Inkjet Printers\",\"Ink Tank Printers\"]',\n",
       "       '[\"Electronics\",\"Car & Vehicle Electronics\",\"Car Electronics\",\"Car Audio\",\"Subwoofers\",\"Component Subwoofers\"]',\n",
       "       '[\"Arts, Crafts & Sewing\",\"Sewing\",\"Sewing Machine Parts & Accessories\",\"Attachments\"]',\n",
       "       '[\"Sports & Outdoors\",\"Fan Shop\",\"Home & Kitchen\",\"Bath\",\"Bathroom Towels\"]',\n",
       "       '[\"Patio, Lawn & Garden\",\"Gardening & Lawn Care\",\"Greenhouses & Plant Germination Equipment\",\"Greenhouses\"]',\n",
       "       '[\"Tools & Home Improvement\",\"Hardware\",\"Door Hardware & Locks\",\"Deadbolts\"]',\n",
       "       '[\"Clothing, Shoes & Jewelry\",\"Women\",\"Clothing\",\"Active\",\"Active Shirts & Tees\"]',\n",
       "       '[\"Home & Kitchen\",\"Kitchen & Dining\",\"Small Appliances\",\"Waffle Irons\"]',\n",
       "       '[\"Health & Household\",\"Household Supplies\",\"Laundry\",\"Laundry Detergent\",\"Liquid Detergent\"]',\n",
       "       '[\"Home & Kitchen\",\"Furniture\",\"Home Office Furniture\",\"Home Office Chairs\",\"Home Office Desk Chairs\"]',\n",
       "       '[\"Cell Phones & Accessories\",\"Accessories\",\"Chargers & Power Adapters\",\"Wall Chargers\"]',\n",
       "       '[\"Clothing, Shoes & Jewelry\",\"Girls\",\"School Uniforms\"]',\n",
       "       '[\"Toys & Games\",\"Sports & Outdoor Play\",\"Play Sets & Playground Equipment\",\"Parts & Hardware\"]',\n",
       "       '[\"Power & Hand Tools\",\"Power Tool Parts & Accessories\",\"Router Parts & Accessories\",\"Router Bits\",\"Straight, Spiral & Trim Bits\",\"Spiral\"]',\n",
       "       '[\"Baby Products\",\"Nursery\",\"Décor\",\"Wall Décor\",\"Stickers\"]',\n",
       "       '[\"Clothing, Shoes & Jewelry\",\"Men\",\"Clothing\",\"Shirts\",\"Polos\"]',\n",
       "       '[\"Sports & Outdoors\",\"Sports\",\"Water Sports\",\"Stand-Up Paddleboarding\"]',\n",
       "       '[\"Clothing, Shoes & Jewelry\",\"Men\",\"Clothing\",\"Sleep & Lounge\",\"Sleep Bottoms\"]',\n",
       "       '[\"Tools & Home Improvement\",\"Rough Plumbing\",\"Faucet Parts\",\"Faucet Flanges\"]',\n",
       "       '[\"Office Products\",\"Office & School Supplies\",\"Paper\",\"Notebooks & Writing Pads\",\"Memo & Scratch Pads\"]',\n",
       "       '[\"Automotive\",\"Lights & Lighting Accessories\",\"Bulbs\",\"Headlight Bulbs\"]',\n",
       "       '[\"Office Products\",\"Office & School Supplies\",\"Tape, Adhesives & Fasteners\",\"Clips, Clamps & Rings\",\"Clips\"]',\n",
       "       '[\"Toys & Games\",\"Novelty & Gag Toys\",\"Fidget Toys\"]',\n",
       "       '[\"Home & Kitchen\",\"Kitchen & Dining\",\"Small Appliances\",\"Food Processors\"]',\n",
       "       '[\"Tools & Home Improvement\",\"Hardware\",\"Door Hardware & Locks\",\"Handlesets\"]',\n",
       "       '[\"Industrial & Scientific\",\"Test, Measure & Inspect\",\"Dimensional Measurement\",\"Gauges\",\"Thickness\"]',\n",
       "       '[\"Automotive\",\"Tools & Equipment\",\"Jump Starters, Battery Chargers & Portable Power\",\"Jump Starters\"]',\n",
       "       '[\"Clothing, Shoes & Jewelry\",\"Sport Specific Clothing\",\"Skiing\",\"Men\",\"Jackets\"]',\n",
       "       '[\"Tools & Home Improvement\",\"Building Supplies\",\"Building Materials\",\"Flooring\",\"Flooring Materials\",\"Vinyl Flooring\"]',\n",
       "       '[\"Tools & Home Improvement\",\"Electrical\",\"Recessed Lighting\",\"Housing & Trim Kits\"]',\n",
       "       '[\"Home & Kitchen\",\"Furniture\",\"Dining Room Furniture\",\"Buffets & Sideboards\"]',\n",
       "       '[\"Health & Household\",\"Household Supplies\",\"Lighters & Matches\",\"Lighters\"]',\n",
       "       '[\"Home & Kitchen\",\"Kitchen & Dining\",\"Storage & Organization\",\"Travel & To-Go Food Containers\",\"Thermocoolers\"]',\n",
       "       '[\"Home & Kitchen\",\"Kitchen & Dining\",\"Storage & Organization\",\"Racks & Holders\",\"Wine Racks & Cabinets\",\"Tabletop Wine Racks\"]',\n",
       "       '[\"Arts, Crafts & Sewing\",\"Crafting\",\"Craft Supplies\",\"Glitter\"]',\n",
       "       '[\"Clothing, Shoes & Jewelry\",\"Novelty & More\",\"Clothing\",\"Novelty\",\"Women\",\"Underwear\",\"Bras\"]',\n",
       "       '[\"Clothing, Shoes & Jewelry\",\"Girls\",\"Shoes\",\"Sneakers\"]',\n",
       "       '[\"Clothing, Shoes & Jewelry\",\"Women\",\"Clothing\",\"Pants\",\"Casual\"]',\n",
       "       '[\"Home & Kitchen\",\"Wall Art\",\"Paintings\"]',\n",
       "       '[\"Clothing, Shoes & Jewelry\",\"Women\",\"Shoes\",\"Outdoor\",\"Hiking & Trekking\",\"Hiking Shoes\"]',\n",
       "       '[\"Home & Kitchen\",\"Storage & Organization\",\"Clothing & Closet Storage\",\"Mounted Closet Systems\"]',\n",
       "       '[\"Tools & Home Improvement\",\"Electrical\",\"Testers\",\"Multi Testers\"]',\n",
       "       '[\"Electronics\",\"Accessories & Supplies\",\"Power Strips & Surge Protectors\",\"Surge Protectors\"]',\n",
       "       '[\"Automotive\",\"RV Parts & Accessories\",\"Exterior\",\"Covers\",\"RV & Trailer Covers\"]',\n",
       "       '[\"Electronics\",\"Car & Vehicle Electronics\",\"Car Electronics\",\"Car Audio\",\"Speakers\",\"Coaxial Speakers\"]',\n",
       "       '[\"Tools & Home Improvement\",\"Hardware\",\"Gate Hardware\",\"Gate Hinges\"]',\n",
       "       '[\"Tools & Home Improvement\",\"Brands\",\"Irwin\",\"Woodworking\",\"Clamping Tools\",\"Bar Clamps\"]',\n",
       "       '[\"Sports & Outdoors\",\"Sports\",\"Other Sports\",\"Martial Arts\",\"Protective Gear\",\"Hand Wraps\"]',\n",
       "       '[\"Pet Supplies\",\"Dogs\",\"Collars, Harnesses & Leashes\",\"Collars\",\"Basic Collars\"]',\n",
       "       '[\"Automotive\",\"Exterior Accessories\",\"Truck Bed & Tailgate Accessories\",\"Tonneau Covers\"]',\n",
       "       '[\"Home & Kitchen\",\"Furniture\",\"Game & Recreation Room Furniture\",\"Gaming Chairs\",\"Computer Gaming Chairs\"]',\n",
       "       '[\"Arts, Crafts & Sewing\",\"Crafting\",\"Craft Supplies\",\"Craft Bells\"]',\n",
       "       '[\"Home & Kitchen\",\"Furniture\",\"Living Room Furniture\",\"Futons\",\"Futon Sets\"]',\n",
       "       '[\"Sports & Outdoors\",\"Sports\",\"Cycling\",\"Bikes\",\"Folding Bikes\"]',\n",
       "       '[\"Patio, Lawn & Garden\",\"Outdoor Power Tools\",\"Replacement Parts & Accessories\",\"Pressure Washer Parts & Accessories\",\"Hoses\"]',\n",
       "       '[\"Home & Kitchen\",\"Bedding\",\"Comforters & Sets\",\"Comforter Sets\"]',\n",
       "       '[\"Tools & Home Improvement\",\"Rough Plumbing\",\"Pipes, Pipe Fittings & Accessories\",\"Tubing & Hoses\"]',\n",
       "       '[\"Home & Kitchen\",\"Bedding\",\"Bedding Accessories\",\"Sheet Fasteners\"]',\n",
       "       '[\"Tools & Home Improvement\",\"Rough Plumbing\",\"Faucet Parts\",\"Faucet Handles\"]',\n",
       "       '[\"Clothing, Shoes & Jewelry\",\"Women\",\"Clothing\",\"Suiting & Blazers\",\"Suit Sets\"]',\n",
       "       '[\"Clothing, Shoes & Jewelry\",\"Boys\",\"Shoes\",\"Sneakers\"]',\n",
       "       '[\"Industrial & Scientific\",\"Cutting Tools\",\"Broaches\"]',\n",
       "       '[\"Sports & Outdoors\",\"Sports\",\"Other Sports\",\"Boxing\",\"Punching Bags\",\"Double-End Bags\"]',\n",
       "       '[\"Clothing, Shoes & Jewelry\",\"Women\",\"Clothing\",\"Swimsuits & Cover Ups\",\"Bikinis\",\"Tops\"]',\n",
       "       '[\"Pet Supplies\",\"Dogs\",\"Carriers & Travel Products\",\"Car Travel Accessories\",\"Booster & Car Seats\"]',\n",
       "       '[\"Cell Phones & Accessories\",\"Cases, Holsters & Sleeves\",\"Holsters\"]',\n",
       "       '[\"Tools & Home Improvement\",\"Power & Hand Tools\",\"Power Tool Parts & Accessories\",\"Power Drill Parts & Accessories\",\"Hole Saws & Accessories\",\"Hole Saws\"]',\n",
       "       '[\"Sports & Outdoors\",\"Hunting & Fishing\",\"Shooting\",\"Gun Accessories, Maintenance & Storage\",\"Gun Holsters, Cases & Bags\",\"Rifle Cases\",\"Soft Rifle Cases\"]',\n",
       "       '[\"Video Games\",\"PlayStation 4\",\"Games\"]',\n",
       "       '[\"Beauty & Personal Care\",\"Foot, Hand & Nail Care\",\"Foot & Hand Care\",\"Foot Creams & Lotions\"]',\n",
       "       '[\"Beauty\",\"Skin Care\",\"Face\",\"Face Pack\"]',\n",
       "       '[\"Health & Household\",\"Vitamins, Minerals & Supplements\",\"Vitamins\",\"Vitamin C\"]',\n",
       "       '[\"Arts, Crafts & Sewing\",\"Organization, Storage & Transport\",\"Craft & Sewing Supplies Storage\",\"Yarn Storage\"]',\n",
       "       '[\"Arts, Crafts & Sewing\",\"Sewing\",\"Sewing Notions & Supplies\",\"Fasteners\",\"Eyelets & Grommets\"]',\n",
       "       '[\"Arts, Crafts & Sewing\",\"Scrapbooking & Stamping\",\"Stickers & Sticker Machines\"]',\n",
       "       '[\"Tools & Home Improvement\",\"Power & Hand Tools\",\"Hand Tools\",\"Punches\",\"Arch Punches\"]',\n",
       "       '[\"Toys & Games\",\"Dress Up & Pretend Play\",\"Dress-Up Accessories\",\"Masks\"]',\n",
       "       '[\"Clothing, Shoes & Jewelry\",\"Costumes & Accessories\",\"Makeup, Facial Hair & Adhesives\",\"Facial Hair\"]',\n",
       "       '[\"Sports & Outdoors\",\"Fan Shop\",\"Bags, Packs & Accessories\",\"Backpacks\"]',\n",
       "       '[\"Electronics\",\"GPS, Finders & Accessories\",\"GPS Trackers\"]',\n",
       "       '[\"Arts, Crafts & Sewing\",\"Painting, Drawing & Art Supplies\",\"Art Paper\",\"Sketchbooks & Notebooks\"]',\n",
       "       '[\"Electronics\",\"eBook Readers & Accessories\",\"eBook Readers\"]',\n",
       "       '[\"Home & Kitchen\",\"Home Décor Products\",\"Home Fragrance\",\"Incense & Incense Holders\",\"Incense Holders\"]',\n",
       "       '[\"Tools & Home Improvement\",\"Power & Hand Tools\",\"Hand Tools\",\"Wrenches\",\"Adjustable Wrenches\"]',\n",
       "       '[\"Tools & Home Improvement\",\"Safety & Security\",\"Personal Protective Equipment\",\"Hearing Protection\",\"Safety Earmuffs\"]',\n",
       "       '[\"Home & Kitchen\",\"Kitchen & Dining\",\"Cookware\",\"Pots & Pans\",\"Sauté Pans\"]',\n",
       "       '[\"Home & Kitchen\",\"Furniture\",\"Bedroom Furniture\",\"Mattresses & Box Springs\",\"Mattresses\"]',\n",
       "       '[\"Video Games\",\"Legacy Systems\",\"Nintendo Systems\",\"Nintendo 3DS & 2DS\",\"Accessories\"]',\n",
       "       '[\"Tools & Home Improvement\",\"Building Supplies\",\"HVAC\",\"Furnace Parts & Accessories\",\"Furnace Filters\"]',\n",
       "       '[\"Sports & Outdoors\",\"Sports\",\"Water Sports\",\"Kayaking\",\"Indoor Kayak Storage\"]',\n",
       "       '[\"Home & Kitchen\",\"Storage & Organization\",\"Clothing & Closet Storage\",\"Under-Bed Storage\"]',\n",
       "       '[\"Office Products\",\"Office & School Supplies\",\"Binders & Binding Systems\",\"Binders\",\"D-Ring Binders\"]',\n",
       "       '[\"Home & Kitchen\",\"Kitchen & Dining\",\"Kitchen & Table Linens\",\"Tablecloths\"]',\n",
       "       '[\"Tools & Home Improvement\",\"Power & Hand Tools\",\"Power Tool Parts & Accessories\",\"Saw Blades, Parts & Accessories\",\"Blades\",\"Circular Saw Blades\"]',\n",
       "       '[\"Tools & Home Improvement\",\"Power & Hand Tools\",\"Hand Tools\",\"Wrenches\",\"Torque Wrenches\"]',\n",
       "       '[\"Health & Household\",\"Vitamins, Minerals & Supplements\",\"Essential Fatty Acids\",\"Omega Oils\",\"Omega-3\"]',\n",
       "       '[\"Electronics\",\"Car & Vehicle Electronics\",\"Car Electronics\",\"Car Video\",\"Overhead Video\"]',\n",
       "       '[\"Sports & Outdoors\",\"Outdoor Recreation\",\"Camping & Hiking\",\"Hydration & Filtration\",\"Canteens\"]',\n",
       "       '[\"Tools & Home Improvement\",\"Paint, Wall Treatments & Supplies\",\"Paint & Primer\",\"Primer\"]',\n",
       "       '[\"Tools & Home Improvement\",\"Power & Hand Tools\",\"Hand Tools\",\"Cutters\",\"Wire Cutters\"]',\n",
       "       '[\"Home & Kitchen\",\"Kitchen & Dining\",\"Dining & Entertaining\",\"Glassware & Drinkware\",\"Tumblers & Water Glasses\"]',\n",
       "       '[\"Tools & Home Improvement\",\"Power & Hand Tools\",\"Power Tool Parts & Accessories\",\"Screwdriver Accessories\",\"Screwdriver Bit Sets\"]',\n",
       "       '[\"Tools & Home Improvement\",\"Power & Hand Tools\",\"Hand Tools\",\"Crimpers\"]',\n",
       "       '[\"Tools & Home Improvement\",\"Power & Hand Tools\",\"Hand Tools\",\"Tool Sets\"]',\n",
       "       '[\"Tools & Home Improvement\",\"Kitchen & Bath Fixtures\",\"Water Filtration & Softeners\",\"Under-Sink & Countertop Filtration\"]',\n",
       "       '[\"Tools & Home Improvement\",\"Lighting & Ceiling Fans\",\"Lamps & Shades\",\"Desk Lamps\"]',\n",
       "       '[\"Home & Kitchen\",\"Home Décor Products\",\"Candles & Holders\",\"Accessories\",\"Candlesnuffers\"]',\n",
       "       '[\"Arts, Crafts & Sewing\",\"Sewing\",\"Sewing Notions & Supplies\",\"Fasteners\",\"Zippers\"]',\n",
       "       '[\"Patio, Lawn & Garden\",\"Outdoor Décor\",\"Yard Signs\"]',\n",
       "       '[\"Beauty & Personal Care\",\"Hair Care\",\"Hair Loss Products\",\"Hair Regrowth Devices\"]',\n",
       "       '[\"Pet Supplies\",\"Dogs\",\"Apparel & Accessories\",\"Sweaters\"]',\n",
       "       '[\"Beauty & Personal Care\",\"Hair Care\",\"Shampoo & Conditioner\",\"Conditioners\"]',\n",
       "       '[\"Home & Kitchen\",\"Home Décor Products\",\"Candles & Holders\",\"Candles\",\"Jar Candles\"]',\n",
       "       '[\"Tools & Home Improvement\",\"Power & Hand Tools\",\"Hand Tools\",\"Sockets & Socket Sets\",\"Drive Socket Sets\"]',\n",
       "       '[\"Home & Kitchen\",\"Kitchen & Dining\",\"Storage & Organization\",\"Thermoses\",\"Insulated Beverage Containers\",\"Thermoses\"]',\n",
       "       '[\"Office Products\",\"Office & School Supplies\",\"Tape, Adhesives & Fasteners\",\"Tape\",\"Transparent Tape\"]',\n",
       "       '[\"Pet Supplies\",\"Cats\",\"Food\",\"Wet\",\"Canned\"]',\n",
       "       '[\"Office Products\",\"Office & School Supplies\",\"Writing & Correction Supplies\",\"Pens & Refills\",\"Rollerball Pens\",\"Gel Ink Rollerball Pens\"]',\n",
       "       '[\"Tools & Home Improvement\",\"Hardware\",\"Adhesives & Sealers\",\"Wood Filler\"]',\n",
       "       '[\"Office Products\",\"Office Furniture & Lighting\",\"Furniture Accessories\",\"Chair Mats\",\"Carpet Chair Mats\"]',\n",
       "       '[\"Sports & Outdoors\",\"Sports\",\"Cycling\",\"Kids\\' Bikes & Accessories\",\"Kids\\' Helmets\"]'],\n",
       "      dtype=object)"
      ]
     },
     "execution_count": 745,
     "metadata": {},
     "output_type": "execute_result"
    }
   ],
   "source": [
    "df['categories'].unique()"
   ]
  },
  {
   "cell_type": "code",
   "execution_count": 746,
   "id": "c03a2fa6-3939-42f3-8864-7bddf5ce1074",
   "metadata": {},
   "outputs": [],
   "source": [
    "l = []\n",
    "s = df['categories'].dropna().str.split(',')\n",
    "for i in s:\n",
    "    l.append(i[0])"
   ]
  },
  {
   "cell_type": "code",
   "execution_count": 747,
   "id": "25858b44-79db-4576-94ba-cf2bde321df9",
   "metadata": {
    "scrolled": true
   },
   "outputs": [
    {
     "data": {
      "text/plain": [
       "['[\"Clothing',\n",
       " '[\"Tools & Home Improvement\"',\n",
       " '[\"Tools & Home Improvement\"',\n",
       " '[\"Automotive\"',\n",
       " '[\"Beauty\"',\n",
       " '[\"Electronics\"',\n",
       " '[\"Beauty & Personal Care\"',\n",
       " '[\"Arts',\n",
       " '[\"Tools & Home Improvement\"',\n",
       " '[\"Clothing',\n",
       " '[\"Grocery & Gourmet Food\"',\n",
       " '[\"Electronics\"',\n",
       " '[\"Women\"',\n",
       " '[\"Health & Household\"',\n",
       " '[\"Tools & Home Improvement\"',\n",
       " '[\"Tools & Home Improvement\"',\n",
       " '[\"Tools & Home Improvement\"',\n",
       " '[\"Arts',\n",
       " '[\"Cell Phones & Accessories\"',\n",
       " '[\"Beauty & Personal Care\"',\n",
       " '[\"Patio',\n",
       " '[\"Health & Household\"',\n",
       " '[\"Clothing',\n",
       " '[\"Health & Household\"',\n",
       " '[\"Tools & Home Improvement\"',\n",
       " '[\"Automotive\"',\n",
       " '[\"Video Games\"',\n",
       " '[\"Sports & Outdoors\"',\n",
       " '[\"Tools & Home Improvement\"',\n",
       " '[\"Home & Kitchen\"',\n",
       " '[\"Health & Household\"',\n",
       " '[\"Tools & Home Improvement\"',\n",
       " '[\"Home & Kitchen\"',\n",
       " '[\"Patio',\n",
       " '[\"Clothing',\n",
       " '[\"Patio',\n",
       " '[\"Cell Phones & Accessories\"',\n",
       " '[\"Clothing',\n",
       " '[\"Kitchen & Dining\"',\n",
       " '[\"Clothing',\n",
       " '[\"Tools & Home Improvement\"',\n",
       " '[\"Motorcycle & Powersports\"',\n",
       " '[\"Tools & Home Improvement\"',\n",
       " '[\"Electronics\"',\n",
       " '[\"Pet Supplies\"',\n",
       " '[\"Home & Kitchen\"',\n",
       " '[\"Office Products\"',\n",
       " '[\"Health & Household\"',\n",
       " '[\"Sports & Outdoors\"',\n",
       " '[\"Arts',\n",
       " '[\"Patio',\n",
       " '[\"Arts',\n",
       " '[\"Home & Kitchen\"',\n",
       " '[\"Beauty\"',\n",
       " '[\"Tools & Home Improvement\"',\n",
       " '[\"Home & Kitchen\"',\n",
       " '[\"Pet Supplies\"',\n",
       " '[\"Electronics\"',\n",
       " '[\"Industrial & Scientific\"',\n",
       " '[\"Patio',\n",
       " '[\"CDs & Vinyl\"',\n",
       " '[\"Home & Kitchen\"',\n",
       " '[\"Automotive\"',\n",
       " '[\"Clothing',\n",
       " '[\"Clothing',\n",
       " '[\"Industrial & Scientific\"',\n",
       " '[\"Office Products\"',\n",
       " '[\"Office Products\"',\n",
       " '[\"Clothing',\n",
       " '[\"Home & Kitchen\"',\n",
       " '[\"Clothing',\n",
       " '[\"Beauty\"',\n",
       " '[\"Office Products\"',\n",
       " '[\"Electronics\"',\n",
       " '[\"Tools & Home Improvement\"',\n",
       " '[\"Clothing',\n",
       " '[\"Toys & Games\"',\n",
       " '[\"Clothing',\n",
       " '[\"Clothing',\n",
       " '[\"Clothing',\n",
       " '[\"Home & Kitchen\"',\n",
       " '[\"Clothing',\n",
       " '[\"Clothing',\n",
       " '[\"Home & Kitchen\"',\n",
       " '[\"Home & Kitchen\"',\n",
       " '[\"Patio',\n",
       " '[\"Electronics\"',\n",
       " '[\"Patio',\n",
       " '[\"Arts',\n",
       " '[\"Clothing',\n",
       " '[\"Clothing',\n",
       " '[\"Clothing',\n",
       " '[\"Sports & Outdoors\"',\n",
       " '[\"Office Products\"',\n",
       " '[\"Sports & Outdoors\"',\n",
       " '[\"Home & Kitchen\"',\n",
       " '[\"Automotive\"',\n",
       " '[\"Sports & Outdoors\"',\n",
       " '[\"Sports & Outdoors\"',\n",
       " '[\"Electronics\"',\n",
       " '[\"Office Products\"',\n",
       " '[\"Clothing',\n",
       " '[\"Men\"',\n",
       " '[\"Home & Kitchen\"',\n",
       " '[\"Home & Kitchen\"',\n",
       " '[\"Tools & Home Improvement\"',\n",
       " '[\"Sports & Outdoors\"',\n",
       " '[\"Tools & Home Improvement\"',\n",
       " '[\"Sports & Outdoors\"',\n",
       " '[\"Arts',\n",
       " '[\"Tools & Home Improvement\"',\n",
       " '[\"Health & Household\"',\n",
       " '[\"Electronics\"',\n",
       " '[\"Toys & Games\"',\n",
       " '[\"Arts',\n",
       " '[\"Tools & Home Improvement\"',\n",
       " '[\"Clothing',\n",
       " '[\"Clothing',\n",
       " '[\"Tools & Home Improvement\"',\n",
       " '[\"Beauty\"',\n",
       " '[\"Clothing',\n",
       " '[\"Beauty & Personal Care\"',\n",
       " '[\"Tools & Home Improvement\"',\n",
       " '[\"Patio',\n",
       " '[\"Sports & Outdoors\"',\n",
       " '[\"Sports & Outdoors\"',\n",
       " '[\"Electronics\"',\n",
       " '[\"Electronics\"',\n",
       " '[\"Industrial & Scientific\"',\n",
       " '[\"Electronics\"',\n",
       " '[\"Tools & Home Improvement\"',\n",
       " '[\"Clothing',\n",
       " '[\"Clothing',\n",
       " '[\"Clothing',\n",
       " '[\"Tools & Home Improvement\"',\n",
       " '[\"Health & Household\"',\n",
       " '[\"Home & Kitchen\"',\n",
       " '[\"Cell Phones & Accessories\"',\n",
       " '[\"Tools & Home Improvement\"',\n",
       " '[\"Home & Kitchen\"',\n",
       " '[\"Electronics\"',\n",
       " '[\"Electronics\"',\n",
       " '[\"Arts',\n",
       " '[\"Clothing',\n",
       " '[\"Pet Supplies\"',\n",
       " '[\"Home & Kitchen\"',\n",
       " '[\"Health & Household\"',\n",
       " '[\"Cell Phones & Accessories\"',\n",
       " '[\"Office Products\"',\n",
       " '[\"Toys & Games\"',\n",
       " '[\"Sports & Outdoors\"',\n",
       " '[\"Grocery & Gourmet Food\"',\n",
       " '[\"Automotive\"',\n",
       " '[\"Office Products\"',\n",
       " '[\"Sports & Outdoors\"',\n",
       " '[\"Clothing',\n",
       " '[\"Tools & Home Improvement\"',\n",
       " '[\"Tools & Home Improvement\"',\n",
       " '[\"Sports & Outdoors\"',\n",
       " '[\"Clothing',\n",
       " '[\"Office Products\"',\n",
       " '[\"Patio',\n",
       " '[\"Home & Kitchen\"',\n",
       " '[\"Home & Kitchen\"',\n",
       " '[\"Tools & Home Improvement\"',\n",
       " '[\"Clothing',\n",
       " '[\"Beauty\"',\n",
       " '[\"Electronics\"',\n",
       " '[\"Tools & Home Improvement\"',\n",
       " '[\"Sports & Outdoors\"',\n",
       " '[\"Home & Kitchen\"',\n",
       " '[\"Clothing',\n",
       " '[\"Home & Kitchen\"',\n",
       " '[\"Tools & Home Improvement\"',\n",
       " '[\"Home & Kitchen\"',\n",
       " '[\"Beauty & Personal Care\"',\n",
       " '[\"Electronics\"',\n",
       " '[\"Clothing',\n",
       " '[\"Health & Household\"',\n",
       " '[\"Tools & Home Improvement\"',\n",
       " '[\"Clothing',\n",
       " '[\"Health & Household\"',\n",
       " '[\"Sports & Outdoors\"',\n",
       " '[\"Automotive\"',\n",
       " '[\"Clothing',\n",
       " '[\"Industrial & Scientific\"',\n",
       " '[\"Home & Kitchen\"',\n",
       " '[\"Health & Household\"',\n",
       " '[\"Electronics\"',\n",
       " '[\"Video Games\"',\n",
       " '[\"Automotive\"',\n",
       " '[\"Tools & Home Improvement\"',\n",
       " '[\"Tools & Home Improvement\"',\n",
       " '[\"Automotive\"',\n",
       " '[\"Toys & Games\"',\n",
       " '[\"Sports & Outdoors\"',\n",
       " '[\"Beauty & Personal Care\"',\n",
       " '[\"Sports & Outdoors\"',\n",
       " '[\"Electronics\"',\n",
       " '[\"Clothing',\n",
       " '[\"Clothing',\n",
       " '[\"Home & Kitchen\"',\n",
       " '[\"Clothing',\n",
       " '[\"Video Games\"',\n",
       " '[\"Clothing',\n",
       " '[\"Cell Phones & Accessories\"',\n",
       " '[\"Home & Kitchen\"',\n",
       " '[\"Home & Kitchen\"',\n",
       " '[\"Home & Kitchen\"',\n",
       " '[\"Beauty\"',\n",
       " '[\"Electronics\"',\n",
       " '[\"Home & Kitchen\"',\n",
       " '[\"Office Products\"',\n",
       " '[\"Home & Kitchen\"',\n",
       " '[\"Electronics\"',\n",
       " '[\"Health & Household\"',\n",
       " '[\"Clothing',\n",
       " '[\"Pet Supplies\"',\n",
       " '[\"Clothing',\n",
       " '[\"Clothing',\n",
       " '[\"Home & Kitchen\"',\n",
       " '[\"Clothing',\n",
       " '[\"Beauty\"',\n",
       " '[\"Clothing',\n",
       " '[\"Automotive\"',\n",
       " '[\"Home & Kitchen\"',\n",
       " '[\"Pet Supplies\"',\n",
       " '[\"Tools & Home Improvement\"',\n",
       " '[\"Clothing',\n",
       " '[\"Tools & Home Improvement\"',\n",
       " '[\"Electronics\"',\n",
       " '[\"Home & Kitchen\"',\n",
       " '[\"Beauty\"',\n",
       " '[\"Electronics\"',\n",
       " '[\"Beauty\"',\n",
       " '[\"Clothing',\n",
       " '[\"Clothing',\n",
       " '[\"Toys & Games\"',\n",
       " '[\"Automotive\"',\n",
       " '[\"Clothing',\n",
       " '[\"Appliances\"',\n",
       " '[\"Tools & Home Improvement\"',\n",
       " '[\"Tools & Home Improvement\"',\n",
       " '[\"Tools & Home Improvement\"',\n",
       " '[\"Clothing',\n",
       " '[\"Clothing',\n",
       " '[\"Industrial & Scientific\"',\n",
       " '[\"Automotive\"',\n",
       " '[\"Home & Kitchen\"',\n",
       " '[\"Video Games\"',\n",
       " '[\"Clothing',\n",
       " '[\"Clothing',\n",
       " '[\"Musical Instruments\"',\n",
       " '[\"Clothing',\n",
       " '[\"Home & Kitchen\"',\n",
       " '[\"Home & Kitchen\"',\n",
       " '[\"Toys & Games\"',\n",
       " '[\"Home & Kitchen\"',\n",
       " '[\"Beauty & Personal Care\"',\n",
       " '[\"Electronics\"',\n",
       " '[\"Home & Kitchen\"',\n",
       " '[\"Tools & Home Improvement\"',\n",
       " '[\"Clothing',\n",
       " '[\"Office Products\"',\n",
       " '[\"Arts',\n",
       " '[\"Health & Household\"',\n",
       " '[\"Automotive\"',\n",
       " '[\"Beauty & Personal Care\"',\n",
       " '[\"Home & Kitchen\"',\n",
       " '[\"Tools & Home Improvement\"',\n",
       " '[\"Home & Kitchen\"',\n",
       " '[\"Clothing',\n",
       " '[\"Tools & Home Improvement\"',\n",
       " '[\"Clothing',\n",
       " '[\"Tools & Home Improvement\"',\n",
       " '[\"Clothing',\n",
       " '[\"Pet Supplies\"',\n",
       " '[\"Clothing',\n",
       " '[\"Clothing',\n",
       " '[\"Automotive\"',\n",
       " '[\"Video Games\"',\n",
       " '[\"Tools & Home Improvement\"',\n",
       " '[\"Sports & Outdoors\"',\n",
       " '[\"Clothing',\n",
       " '[\"Clothing',\n",
       " '[\"Sports & Outdoors\"',\n",
       " '[\"Sports & Outdoors\"',\n",
       " '[\"Pet Supplies\"',\n",
       " '[\"Clothing',\n",
       " '[\"Home & Kitchen\"',\n",
       " '[\"Home & Kitchen\"',\n",
       " '[\"Clothing',\n",
       " '[\"Sports & Outdoors\"',\n",
       " '[\"Tools & Home Improvement\"',\n",
       " '[\"Electronics\"',\n",
       " '[\"Toys & Games\"',\n",
       " '[\"Clothing',\n",
       " '[\"Home & Kitchen\"',\n",
       " '[\"Toys & Games\"',\n",
       " '[\"Clothing',\n",
       " '[\"Automotive\"',\n",
       " '[\"Tools & Home Improvement\"',\n",
       " '[\"Clothing',\n",
       " '[\"Health & Household\"',\n",
       " '[\"Home & Kitchen\"',\n",
       " '[\"Clothing',\n",
       " '[\"Clothing',\n",
       " '[\"Home & Kitchen\"',\n",
       " '[\"Patio',\n",
       " '[\"Home & Kitchen\"',\n",
       " '[\"Sports & Outdoors\"',\n",
       " '[\"Pet Supplies\"',\n",
       " '[\"Home & Kitchen\"',\n",
       " '[\"Home & Kitchen\"',\n",
       " '[\"Electronics\"',\n",
       " '[\"Home & Kitchen\"',\n",
       " '[\"Clothing',\n",
       " '[\"Tools & Home Improvement\"',\n",
       " '[\"Beauty\"',\n",
       " '[\"Beauty\"',\n",
       " '[\"Toys & Games\"',\n",
       " '[\"Clothing',\n",
       " '[\"Health & Household\"',\n",
       " '[\"Sports & Outdoors\"',\n",
       " '[\"Clothing',\n",
       " '[\"Industrial & Scientific\"',\n",
       " '[\"Electronics\"',\n",
       " '[\"Sports & Outdoors\"',\n",
       " '[\"Clothing',\n",
       " '[\"Tools & Home Improvement\"',\n",
       " '[\"Power & Hand Tools\"',\n",
       " '[\"Home & Kitchen\"',\n",
       " '[\"Clothing',\n",
       " '[\"Health & Household\"',\n",
       " '[\"Automotive\"',\n",
       " '[\"Tools & Home Improvement\"',\n",
       " '[\"Sports & Outdoors\"',\n",
       " '[\"Pet Supplies\"',\n",
       " '[\"Electronics\"',\n",
       " '[\"Home & Kitchen\"',\n",
       " '[\"Clothing',\n",
       " '[\"Sports & Outdoors\"',\n",
       " '[\"Home & Kitchen\"',\n",
       " '[\"Clothing',\n",
       " '[\"Automotive\"',\n",
       " '[\"Industrial & Scientific\"',\n",
       " '[\"Clothing',\n",
       " '[\"Automotive\"',\n",
       " '[\"Tools & Home Improvement\"',\n",
       " '[\"Sports & Outdoors\"',\n",
       " '[\"Clothing',\n",
       " '[\"Electronics\"',\n",
       " '[\"Electronics\"',\n",
       " '[\"Beauty & Personal Care\"',\n",
       " '[\"Electronics\"',\n",
       " '[\"Pet Supplies\"',\n",
       " '[\"Tools & Home Improvement\"',\n",
       " '[\"Clothing',\n",
       " '[\"Patio',\n",
       " '[\"Home & Kitchen\"',\n",
       " '[\"Automotive\"',\n",
       " '[\"Clothing',\n",
       " '[\"Pet Supplies\"',\n",
       " '[\"Sports & Outdoors\"',\n",
       " '[\"Home & Kitchen\"',\n",
       " '[\"Toys & Games\"',\n",
       " '[\"Office Products\"',\n",
       " '[\"Baby Products\"',\n",
       " '[\"Health & Household\"',\n",
       " '[\"Industrial & Scientific\"',\n",
       " '[\"Tools & Home Improvement\"',\n",
       " '[\"Home & Kitchen\"',\n",
       " '[\"Home & Kitchen\"',\n",
       " '[\"Baby Products\"',\n",
       " '[\"Electronics\"',\n",
       " '[\"Office Products\"',\n",
       " '[\"Clothing',\n",
       " '[\"Clothing',\n",
       " '[\"Patio',\n",
       " '[\"Home & Kitchen\"',\n",
       " '[\"Health & Household\"',\n",
       " '[\"Clothing',\n",
       " '[\"Clothing',\n",
       " '[\"Home & Kitchen\"',\n",
       " '[\"Sports & Outdoors\"',\n",
       " '[\"Electronics\"',\n",
       " '[\"Health & Household\"',\n",
       " '[\"Office Products\"',\n",
       " '[\"Industrial & Scientific\"',\n",
       " '[\"Pet Supplies\"',\n",
       " '[\"Office Products\"',\n",
       " '[\"Tools & Home Improvement\"',\n",
       " '[\"Clothing',\n",
       " '[\"Clothing',\n",
       " '[\"Appliances\"',\n",
       " '[\"Industrial & Scientific\"',\n",
       " '[\"Clothing',\n",
       " '[\"Tools & Home Improvement\"',\n",
       " '[\"Office Products\"',\n",
       " '[\"Tools & Home Improvement\"',\n",
       " '[\"Clothing',\n",
       " '[\"Beauty & Personal Care\"',\n",
       " '[\"Clothing',\n",
       " '[\"Clothing',\n",
       " '[\"Beauty\"',\n",
       " '[\"Sports & Outdoors\"',\n",
       " '[\"Automotive\"',\n",
       " '[\"Tools & Home Improvement\"',\n",
       " '[\"Home & Kitchen\"',\n",
       " '[\"Electronics\"',\n",
       " '[\"Home & Kitchen\"',\n",
       " '[\"Electronics\"',\n",
       " '[\"Home & Kitchen\"',\n",
       " '[\"Sports & Outdoors\"',\n",
       " '[\"Clothing',\n",
       " '[\"Electronics\"',\n",
       " '[\"Home & Kitchen\"',\n",
       " '[\"Toys & Games\"',\n",
       " '[\"Clothing',\n",
       " '[\"Automotive\"',\n",
       " '[\"Industrial & Scientific\"',\n",
       " '[\"Home & Kitchen\"',\n",
       " '[\"Automotive\"',\n",
       " '[\"Office Products\"',\n",
       " '[\"Office Products\"',\n",
       " '[\"Automotive\"',\n",
       " '[\"Pet Supplies\"',\n",
       " '[\"Electronics\"',\n",
       " '[\"Tools & Home Improvement\"',\n",
       " '[\"Electronics\"',\n",
       " '[\"Baby Products\"',\n",
       " '[\"Sports & Outdoors\"',\n",
       " '[\"Toys & Games\"',\n",
       " '[\"Home & Kitchen\"',\n",
       " '[\"Beauty\"',\n",
       " '[\"Sports & Outdoors\"',\n",
       " '[\"Automotive\"',\n",
       " '[\"Electronics\"',\n",
       " '[\"Cell Phones & Accessories\"',\n",
       " '[\"Home & Kitchen\"',\n",
       " '[\"Home & Kitchen\"',\n",
       " '[\"Beauty\"',\n",
       " '[\"Cell Phones & Accessories\"',\n",
       " '[\"Office Products\"',\n",
       " '[\"Tools & Home Improvement\"',\n",
       " '[\"Arts',\n",
       " '[\"Automotive\"',\n",
       " '[\"Home & Kitchen\"',\n",
       " '[\"Home & Kitchen\"',\n",
       " '[\"Automotive\"',\n",
       " '[\"Clothing',\n",
       " '[\"Beauty\"',\n",
       " '[\"Sports & Outdoors\"',\n",
       " '[\"Arts',\n",
       " '[\"Industrial & Scientific\"',\n",
       " '[\"Home & Kitchen\"',\n",
       " '[\"Office Products\"',\n",
       " '[\"Clothing',\n",
       " '[\"Cell Phones & Accessories\"',\n",
       " '[\"Tools & Home Improvement\"',\n",
       " '[\"Beauty\"',\n",
       " '[\"Beauty\"',\n",
       " '[\"Clothing',\n",
       " '[\"Clothing',\n",
       " '[\"Home & Kitchen\"',\n",
       " '[\"Home & Kitchen\"',\n",
       " '[\"Home & Kitchen\"',\n",
       " '[\"Arts',\n",
       " '[\"Office Products\"',\n",
       " '[\"Electronics\"',\n",
       " '[\"Clothing',\n",
       " '[\"Office Products\"',\n",
       " '[\"Toys & Games\"',\n",
       " '[\"Clothing',\n",
       " '[\"Automotive\"',\n",
       " '[\"Tools & Home Improvement\"',\n",
       " '[\"Clothing',\n",
       " '[\"Electronics\"',\n",
       " '[\"Clothing',\n",
       " '[\"Appliances\"',\n",
       " '[\"Patio',\n",
       " '[\"Clothing',\n",
       " '[\"Home & Kitchen\"',\n",
       " '[\"Clothing',\n",
       " '[\"Clothing',\n",
       " '[\"Clothing',\n",
       " '[\"Clothing',\n",
       " '[\"Electronics\"',\n",
       " '[\"Electronics\"',\n",
       " '[\"Sports & Outdoors\"',\n",
       " '[\"Cell Phones & Accessories\"',\n",
       " '[\"Cell Phones & Accessories\"',\n",
       " '[\"Home & Kitchen\"',\n",
       " '[\"Home & Kitchen\"',\n",
       " '[\"Electronics\"',\n",
       " '[\"Toys & Games\"',\n",
       " '[\"Automotive\"',\n",
       " '[\"Baby Products\"',\n",
       " '[\"Clothing',\n",
       " '[\"Arts',\n",
       " '[\"Sports & Outdoors\"',\n",
       " '[\"Sports & Outdoors\"',\n",
       " '[\"Sports & Outdoors\"',\n",
       " '[\"Cell Phones & Accessories\"',\n",
       " '[\"Sports & Outdoors\"',\n",
       " '[\"Automotive\"',\n",
       " '[\"Electronics\"',\n",
       " '[\"Clothing',\n",
       " '[\"Clothing',\n",
       " '[\"Clothing',\n",
       " '[\"Clothing',\n",
       " '[\"Clothing',\n",
       " '[\"Tools & Home Improvement\"',\n",
       " '[\"Sports & Outdoors\"',\n",
       " '[\"Musical Instruments\"',\n",
       " '[\"Arts',\n",
       " '[\"Clothing',\n",
       " '[\"Tools & Home Improvement\"',\n",
       " '[\"Sports & Outdoors\"',\n",
       " '[\"Clothing',\n",
       " '[\"Beauty\"',\n",
       " '[\"Toys & Games\"',\n",
       " '[\"Clothing',\n",
       " '[\"Home & Kitchen\"',\n",
       " '[\"Sports & Outdoors\"',\n",
       " '[\"Beauty & Personal Care\"',\n",
       " '[\"Arts',\n",
       " '[\"Automotive\"',\n",
       " '[\"Office Products\"',\n",
       " '[\"Automotive\"',\n",
       " '[\"Tools & Home Improvement\"',\n",
       " '[\"Grocery & Gourmet Food\"',\n",
       " '[\"Arts',\n",
       " '[\"Clothing',\n",
       " '[\"Automotive\"',\n",
       " '[\"Automotive\"',\n",
       " '[\"Toys & Games\"',\n",
       " '[\"Electronics\"',\n",
       " '[\"Health & Household\"',\n",
       " '[\"Electronics\"',\n",
       " '[\"Tools & Home Improvement\"',\n",
       " '[\"Clothing',\n",
       " '[\"Clothing',\n",
       " '[\"Home & Kitchen\"',\n",
       " '[\"CDs & Vinyl\"',\n",
       " '[\"Home & Kitchen\"',\n",
       " '[\"Home & Kitchen\"',\n",
       " '[\"Clothing',\n",
       " '[\"Pet Supplies\"',\n",
       " '[\"Home & Kitchen\"',\n",
       " '[\"Clothing',\n",
       " '[\"Sports & Outdoors\"',\n",
       " '[\"Tools & Home Improvement\"',\n",
       " '[\"Automotive\"',\n",
       " '[\"Health & Household\"',\n",
       " '[\"Sports & Outdoors\"',\n",
       " '[\"Toys & Games\"',\n",
       " '[\"Sports & Outdoors\"',\n",
       " '[\"Electronics\"',\n",
       " '[\"Clothing',\n",
       " '[\"Home & Kitchen\"',\n",
       " '[\"Clothing',\n",
       " '[\"Home & Kitchen\"',\n",
       " '[\"Home & Kitchen\"',\n",
       " '[\"Clothing',\n",
       " '[\"Beauty & Personal Care\"',\n",
       " '[\"Health & Household\"',\n",
       " '[\"Home & Kitchen\"',\n",
       " '[\"Automotive\"',\n",
       " '[\"Automotive\"',\n",
       " '[\"Appliances\"',\n",
       " '[\"Clothing',\n",
       " '[\"Clothing',\n",
       " '[\"Clothing',\n",
       " '[\"Clothing',\n",
       " '[\"Automotive\"',\n",
       " '[\"Sports & Outdoors\"',\n",
       " '[\"Cell Phones & Accessories\"',\n",
       " '[\"Cell Phones & Accessories\"',\n",
       " '[\"Home & Kitchen\"',\n",
       " '[\"Home & Kitchen\"',\n",
       " '[\"Clothing',\n",
       " '[\"Clothing',\n",
       " '[\"Home & Kitchen\"',\n",
       " '[\"Electronics\"',\n",
       " '[\"Hunting & Fishing\"',\n",
       " '[\"Clothing',\n",
       " '[\"Office Products\"',\n",
       " '[\"Automotive\"',\n",
       " '[\"Tools & Home Improvement\"',\n",
       " '[\"Tools & Home Improvement\"',\n",
       " '[\"Pet Supplies\"',\n",
       " '[\"Clothing',\n",
       " '[\"Health & Household\"',\n",
       " '[\"Sports & Outdoors\"',\n",
       " '[\"Electronics\"',\n",
       " '[\"Clothing',\n",
       " '[\"Electronics\"',\n",
       " '[\"Home & Kitchen\"',\n",
       " '[\"Office Products\"',\n",
       " '[\"Grocery & Gourmet Food\"',\n",
       " '[\"Electronics\"',\n",
       " '[\"Tools & Home Improvement\"',\n",
       " '[\"Clothing',\n",
       " '[\"Home & Kitchen\"',\n",
       " '[\"Electronics\"',\n",
       " '[\"Pet Supplies\"',\n",
       " '[\"Industrial & Scientific\"',\n",
       " '[\"Sports & Outdoors\"',\n",
       " '[\"Electronics\"',\n",
       " '[\"Home & Kitchen\"',\n",
       " '[\"Sports & Outdoors\"',\n",
       " '[\"Cell Phones & Accessories\"',\n",
       " '[\"Office Products\"',\n",
       " '[\"Clothing',\n",
       " '[\"Clothing',\n",
       " '[\"Arts',\n",
       " '[\"Clothing',\n",
       " '[\"Tools & Home Improvement\"',\n",
       " '[\"Home & Kitchen\"',\n",
       " '[\"Home & Kitchen\"',\n",
       " '[\"Patio',\n",
       " '[\"Home & Kitchen\"',\n",
       " '[\"Sports & Outdoors\"',\n",
       " '[\"Health & Household\"',\n",
       " '[\"Home & Kitchen\"',\n",
       " '[\"Patio',\n",
       " '[\"Home & Kitchen\"',\n",
       " '[\"Industrial & Scientific\"',\n",
       " '[\"Sports & Outdoors\"',\n",
       " '[\"Clothing',\n",
       " '[\"Pet Supplies\"',\n",
       " '[\"Cell Phones & Accessories\"',\n",
       " '[\"Patio',\n",
       " '[\"Cell Phones & Accessories\"',\n",
       " '[\"Cell Phones & Accessories\"',\n",
       " '[\"Pet Supplies\"',\n",
       " '[\"Clothing',\n",
       " '[\"Electronics\"',\n",
       " '[\"Electronics\"',\n",
       " '[\"Automotive\"',\n",
       " '[\"Beauty\"',\n",
       " '[\"Beauty\"',\n",
       " '[\"Clothing',\n",
       " '[\"Sports & Outdoors\"',\n",
       " '[\"Tools & Home Improvement\"',\n",
       " '[\"Tools & Home Improvement\"',\n",
       " '[\"Clothing',\n",
       " '[\"Beauty & Personal Care\"',\n",
       " '[\"Beauty\"',\n",
       " '[\"Electronics\"',\n",
       " '[\"Clothing',\n",
       " '[\"Clothing',\n",
       " '[\"Home & Kitchen\"',\n",
       " '[\"Clothing',\n",
       " '[\"Home & Kitchen\"',\n",
       " '[\"Clothing',\n",
       " '[\"Patio',\n",
       " '[\"Automotive\"',\n",
       " '[\"Office Products\"',\n",
       " '[\"Home & Kitchen\"',\n",
       " '[\"Home & Kitchen\"',\n",
       " '[\"Home & Kitchen\"',\n",
       " '[\"Sports & Outdoors\"',\n",
       " '[\"Baby Products\"',\n",
       " '[\"Clothing',\n",
       " '[\"Clothing',\n",
       " '[\"Clothing',\n",
       " '[\"Clothing',\n",
       " '[\"Office Products\"',\n",
       " '[\"Clothing',\n",
       " '[\"Beauty\"',\n",
       " '[\"Tools & Home Improvement\"',\n",
       " '[\"Clothing',\n",
       " '[\"Beauty\"',\n",
       " '[\"Beauty & Personal Care\"',\n",
       " '[\"Clothing',\n",
       " '[\"Sports & Outdoors\"',\n",
       " '[\"Home & Kitchen\"',\n",
       " '[\"Electronics\"',\n",
       " '[\"Clothing',\n",
       " '[\"Automotive\"',\n",
       " '[\"Musical Instruments\"',\n",
       " '[\"Tools & Home Improvement\"',\n",
       " '[\"Tools & Home Improvement\"',\n",
       " '[\"Health & Household\"',\n",
       " '[\"Beauty & Personal Care\"',\n",
       " '[\"Automotive\"',\n",
       " '[\"Health & Household\"',\n",
       " '[\"Automotive\"',\n",
       " '[\"Office Products\"',\n",
       " '[\"Electronics\"',\n",
       " '[\"Appliances\"',\n",
       " '[\"Tools & Home Improvement\"',\n",
       " '[\"Automotive\"',\n",
       " '[\"Tools & Home Improvement\"',\n",
       " '[\"Home & Kitchen\"',\n",
       " '[\"Clothing',\n",
       " '[\"Clothing',\n",
       " '[\"Clothing',\n",
       " '[\"Pet Supplies\"',\n",
       " '[\"Patio',\n",
       " '[\"Clothing',\n",
       " '[\"Office Products\"',\n",
       " '[\"Beauty & Personal Care\"',\n",
       " '[\"Sports & Outdoors\"',\n",
       " '[\"Clothing',\n",
       " '[\"Clothing',\n",
       " '[\"Office Products\"',\n",
       " '[\"Clothing',\n",
       " '[\"Arts',\n",
       " '[\"Baby Products\"',\n",
       " '[\"Automotive\"',\n",
       " '[\"Office Products\"',\n",
       " '[\"Clothing',\n",
       " '[\"Clothing',\n",
       " '[\"Home & Kitchen\"',\n",
       " '[\"Clothing',\n",
       " '[\"Clothing',\n",
       " '[\"Clothing',\n",
       " '[\"Clothing',\n",
       " '[\"Clothing',\n",
       " '[\"Clothing',\n",
       " '[\"Health & Household\"',\n",
       " '[\"Clothing',\n",
       " '[\"Home & Kitchen\"',\n",
       " '[\"Tools & Home Improvement\"',\n",
       " '[\"Beauty\"',\n",
       " '[\"Tools & Home Improvement\"',\n",
       " '[\"Automotive\"',\n",
       " '[\"Home & Kitchen\"',\n",
       " '[\"Home & Kitchen\"',\n",
       " '[\"Clothing',\n",
       " '[\"Sports & Outdoors\"',\n",
       " '[\"Tools & Home Improvement\"',\n",
       " '[\"Clothing',\n",
       " '[\"Clothing',\n",
       " '[\"Clothing',\n",
       " '[\"Clothing',\n",
       " '[\"Tools & Home Improvement\"',\n",
       " '[\"Clothing',\n",
       " '[\"Clothing',\n",
       " '[\"Clothing',\n",
       " '[\"Home & Kitchen\"',\n",
       " '[\"Clothing',\n",
       " '[\"Home & Kitchen\"',\n",
       " '[\"Office Products\"',\n",
       " '[\"Grocery & Gourmet Food\"',\n",
       " '[\"Home & Kitchen\"',\n",
       " '[\"Clothing',\n",
       " '[\"Clothing',\n",
       " '[\"Home & Kitchen\"',\n",
       " '[\"Clothing',\n",
       " '[\"Home & Kitchen\"',\n",
       " '[\"Beauty & Personal Care\"',\n",
       " '[\"Home & Kitchen\"',\n",
       " '[\"Clothing',\n",
       " '[\"Tools & Home Improvement\"',\n",
       " '[\"Musical Instruments\"',\n",
       " '[\"Beauty\"',\n",
       " '[\"Electronics\"',\n",
       " '[\"Patio',\n",
       " '[\"Pet Supplies\"',\n",
       " '[\"Tools & Home Improvement\"',\n",
       " '[\"Beauty\"',\n",
       " '[\"Cell Phones & Accessories\"',\n",
       " '[\"Home & Kitchen\"',\n",
       " '[\"Clothing',\n",
       " '[\"Sports & Outdoors\"',\n",
       " '[\"Toys & Games\"',\n",
       " '[\"Clothing',\n",
       " '[\"Automotive\"',\n",
       " '[\"Tools & Home Improvement\"',\n",
       " '[\"Beauty & Personal Care\"',\n",
       " '[\"Beauty\"',\n",
       " '[\"Tools & Home Improvement\"',\n",
       " '[\"Home & Kitchen\"',\n",
       " '[\"Clothing',\n",
       " '[\"Sports & Outdoors\"',\n",
       " '[\"Home & Kitchen\"',\n",
       " '[\"Home & Kitchen\"',\n",
       " '[\"Automotive\"',\n",
       " '[\"Automotive\"',\n",
       " '[\"Office Products\"',\n",
       " '[\"Grocery & Gourmet Food\"',\n",
       " '[\"Sports & Outdoors\"',\n",
       " '[\"Automotive\"',\n",
       " '[\"Electronics\"',\n",
       " '[\"Pet Supplies\"',\n",
       " '[\"Sports & Outdoors\"',\n",
       " '[\"Cell Phones & Accessories\"',\n",
       " '[\"Electronics\"',\n",
       " '[\"Home & Kitchen\"',\n",
       " '[\"Clothing',\n",
       " '[\"Electronics\"',\n",
       " '[\"Automotive\"',\n",
       " '[\"Beauty & Personal Care\"',\n",
       " '[\"Sports & Outdoors\"',\n",
       " '[\"Home & Kitchen\"',\n",
       " '[\"Tools & Home Improvement\"',\n",
       " '[\"Electronics\"',\n",
       " '[\"Clothing',\n",
       " '[\"Health & Household\"',\n",
       " '[\"Home & Kitchen\"',\n",
       " '[\"Home & Kitchen\"',\n",
       " '[\"Beauty & Personal Care\"',\n",
       " '[\"Beauty & Personal Care\"',\n",
       " '[\"Tools & Home Improvement\"',\n",
       " '[\"Clothing',\n",
       " '[\"Clothing',\n",
       " '[\"Clothing',\n",
       " '[\"Cell Phones & Accessories\"',\n",
       " '[\"Cell Phones & Accessories\"',\n",
       " '[\"Clothing',\n",
       " '[\"Electronics\"',\n",
       " '[\"Clothing',\n",
       " '[\"Cell Phones & Accessories\"',\n",
       " '[\"Sports & Outdoors\"',\n",
       " '[\"Office Products\"',\n",
       " '[\"Clothing',\n",
       " '[\"Tools & Home Improvement\"',\n",
       " '[\"Beauty\"',\n",
       " '[\"Office Products\"',\n",
       " '[\"Home & Kitchen\"',\n",
       " '[\"Office Products\"',\n",
       " '[\"Sports & Outdoors\"',\n",
       " '[\"Clothing',\n",
       " '[\"Beauty\"',\n",
       " '[\"Clothing',\n",
       " '[\"Tools & Home Improvement\"',\n",
       " '[\"Patio',\n",
       " '[\"Tools & Home Improvement\"',\n",
       " '[\"Electronics\"',\n",
       " '[\"Clothing',\n",
       " '[\"Electronics\"',\n",
       " '[\"Automotive\"',\n",
       " '[\"Beauty\"',\n",
       " '[\"Sports & Outdoors\"',\n",
       " '[\"Patio',\n",
       " '[\"Sports & Outdoors\"',\n",
       " '[\"Office Products\"',\n",
       " '[\"Electronics\"',\n",
       " '[\"Electronics\"',\n",
       " '[\"Arts',\n",
       " '[\"Sports & Outdoors\"',\n",
       " '[\"Tools & Home Improvement\"',\n",
       " '[\"Patio',\n",
       " '[\"Tools & Home Improvement\"',\n",
       " '[\"Clothing',\n",
       " '[\"Clothing',\n",
       " '[\"Home & Kitchen\"',\n",
       " '[\"Health & Household\"',\n",
       " '[\"Home & Kitchen\"',\n",
       " '[\"Cell Phones & Accessories\"',\n",
       " '[\"Clothing',\n",
       " '[\"Toys & Games\"',\n",
       " '[\"Home & Kitchen\"',\n",
       " '[\"Power & Hand Tools\"',\n",
       " '[\"Baby Products\"',\n",
       " '[\"Clothing',\n",
       " '[\"Home & Kitchen\"',\n",
       " '[\"Sports & Outdoors\"',\n",
       " '[\"Clothing',\n",
       " '[\"Tools & Home Improvement\"',\n",
       " '[\"Office Products\"',\n",
       " '[\"Sports & Outdoors\"',\n",
       " '[\"Home & Kitchen\"',\n",
       " '[\"Automotive\"',\n",
       " '[\"Office Products\"',\n",
       " '[\"Toys & Games\"',\n",
       " '[\"Home & Kitchen\"',\n",
       " '[\"Tools & Home Improvement\"',\n",
       " '[\"Arts',\n",
       " '[\"Industrial & Scientific\"',\n",
       " '[\"Home & Kitchen\"',\n",
       " '[\"Automotive\"',\n",
       " '[\"Clothing',\n",
       " '[\"Tools & Home Improvement\"',\n",
       " '[\"Tools & Home Improvement\"',\n",
       " '[\"Home & Kitchen\"',\n",
       " '[\"Home & Kitchen\"',\n",
       " '[\"Health & Household\"',\n",
       " '[\"Home & Kitchen\"',\n",
       " '[\"Home & Kitchen\"',\n",
       " '[\"Arts',\n",
       " '[\"Clothing',\n",
       " '[\"Clothing',\n",
       " '[\"Clothing',\n",
       " '[\"Clothing',\n",
       " '[\"Home & Kitchen\"',\n",
       " '[\"Clothing',\n",
       " '[\"Home & Kitchen\"',\n",
       " '[\"Tools & Home Improvement\"',\n",
       " '[\"Electronics\"',\n",
       " '[\"Automotive\"',\n",
       " '[\"Electronics\"',\n",
       " '[\"Clothing',\n",
       " '[\"Tools & Home Improvement\"',\n",
       " '[\"Tools & Home Improvement\"',\n",
       " '[\"Sports & Outdoors\"',\n",
       " '[\"Pet Supplies\"',\n",
       " '[\"Automotive\"',\n",
       " '[\"Home & Kitchen\"',\n",
       " '[\"Sports & Outdoors\"',\n",
       " '[\"Arts',\n",
       " '[\"Home & Kitchen\"',\n",
       " '[\"Sports & Outdoors\"',\n",
       " '[\"Patio',\n",
       " '[\"Home & Kitchen\"',\n",
       " '[\"Tools & Home Improvement\"',\n",
       " '[\"Home & Kitchen\"',\n",
       " '[\"Tools & Home Improvement\"',\n",
       " '[\"Clothing',\n",
       " '[\"Clothing',\n",
       " '[\"Cell Phones & Accessories\"',\n",
       " '[\"Cell Phones & Accessories\"',\n",
       " '[\"Cell Phones & Accessories\"',\n",
       " '[\"Industrial & Scientific\"',\n",
       " '[\"Sports & Outdoors\"',\n",
       " '[\"Industrial & Scientific\"',\n",
       " '[\"Sports & Outdoors\"',\n",
       " '[\"Clothing',\n",
       " '[\"Clothing',\n",
       " '[\"Pet Supplies\"',\n",
       " '[\"Electronics\"',\n",
       " '[\"Cell Phones & Accessories\"',\n",
       " '[\"Tools & Home Improvement\"',\n",
       " '[\"Sports & Outdoors\"',\n",
       " '[\"Video Games\"',\n",
       " '[\"Beauty & Personal Care\"',\n",
       " '[\"Clothing',\n",
       " '[\"Beauty\"',\n",
       " '[\"Health & Household\"',\n",
       " '[\"Arts',\n",
       " '[\"Arts',\n",
       " '[\"Arts',\n",
       " '[\"Home & Kitchen\"',\n",
       " '[\"Office Products\"',\n",
       " '[\"Tools & Home Improvement\"',\n",
       " '[\"Baby Products\"',\n",
       " '[\"Toys & Games\"',\n",
       " '[\"Clothing',\n",
       " '[\"Clothing',\n",
       " '[\"Pet Supplies\"',\n",
       " '[\"Electronics\"',\n",
       " '[\"Clothing',\n",
       " '[\"Sports & Outdoors\"',\n",
       " '[\"Electronics\"',\n",
       " '[\"Arts',\n",
       " '[\"Electronics\"',\n",
       " '[\"Home & Kitchen\"',\n",
       " '[\"Tools & Home Improvement\"',\n",
       " '[\"Tools & Home Improvement\"',\n",
       " '[\"Home & Kitchen\"',\n",
       " '[\"Home & Kitchen\"',\n",
       " '[\"Video Games\"',\n",
       " '[\"Tools & Home Improvement\"',\n",
       " '[\"Home & Kitchen\"',\n",
       " '[\"Home & Kitchen\"',\n",
       " '[\"Sports & Outdoors\"',\n",
       " '[\"Home & Kitchen\"',\n",
       " '[\"Home & Kitchen\"',\n",
       " '[\"Office Products\"',\n",
       " '[\"Clothing',\n",
       " '[\"Home & Kitchen\"',\n",
       " '[\"Tools & Home Improvement\"',\n",
       " '[\"Automotive\"',\n",
       " '[\"Tools & Home Improvement\"',\n",
       " '[\"Health & Household\"',\n",
       " '[\"Electronics\"',\n",
       " '[\"Sports & Outdoors\"',\n",
       " '[\"Tools & Home Improvement\"',\n",
       " '[\"Tools & Home Improvement\"',\n",
       " '[\"Home & Kitchen\"',\n",
       " '[\"Tools & Home Improvement\"',\n",
       " '[\"Tools & Home Improvement\"',\n",
       " '[\"Tools & Home Improvement\"',\n",
       " '[\"Clothing',\n",
       " '[\"Tools & Home Improvement\"',\n",
       " '[\"Tools & Home Improvement\"',\n",
       " '[\"Home & Kitchen\"',\n",
       " '[\"Arts',\n",
       " '[\"Clothing',\n",
       " '[\"Patio',\n",
       " '[\"Beauty & Personal Care\"',\n",
       " '[\"Pet Supplies\"',\n",
       " '[\"Health & Household\"',\n",
       " '[\"Beauty & Personal Care\"',\n",
       " '[\"Home & Kitchen\"',\n",
       " '[\"Electronics\"',\n",
       " '[\"Tools & Home Improvement\"',\n",
       " '[\"Home & Kitchen\"',\n",
       " '[\"Office Products\"',\n",
       " '[\"Pet Supplies\"',\n",
       " '[\"Clothing',\n",
       " '[\"Home & Kitchen\"',\n",
       " '[\"Office Products\"',\n",
       " '[\"Tools & Home Improvement\"',\n",
       " '[\"Office Products\"',\n",
       " '[\"Sports & Outdoors\"']"
      ]
     },
     "execution_count": 747,
     "metadata": {},
     "output_type": "execute_result"
    }
   ],
   "source": [
    "l"
   ]
  },
  {
   "cell_type": "code",
   "execution_count": 748,
   "id": "eb73ecf2-0c6a-42cc-a4f4-995f03cb4adb",
   "metadata": {},
   "outputs": [],
   "source": [
    "new_l = cleaned = [item.strip('[\"') for item in l]#.strip(chars) removes any combination of the characters in chars from the start and end of the string."
   ]
  },
  {
   "cell_type": "code",
   "execution_count": 749,
   "id": "f4ae4e9a-6e99-4361-aea7-7b89326f7a90",
   "metadata": {
    "scrolled": true
   },
   "outputs": [
    {
     "data": {
      "text/plain": [
       "['Clothing',\n",
       " 'Tools & Home Improvement',\n",
       " 'Tools & Home Improvement',\n",
       " 'Automotive',\n",
       " 'Beauty',\n",
       " 'Electronics',\n",
       " 'Beauty & Personal Care',\n",
       " 'Arts',\n",
       " 'Tools & Home Improvement',\n",
       " 'Clothing',\n",
       " 'Grocery & Gourmet Food',\n",
       " 'Electronics',\n",
       " 'Women',\n",
       " 'Health & Household',\n",
       " 'Tools & Home Improvement',\n",
       " 'Tools & Home Improvement',\n",
       " 'Tools & Home Improvement',\n",
       " 'Arts',\n",
       " 'Cell Phones & Accessories',\n",
       " 'Beauty & Personal Care',\n",
       " 'Patio',\n",
       " 'Health & Household',\n",
       " 'Clothing',\n",
       " 'Health & Household',\n",
       " 'Tools & Home Improvement',\n",
       " 'Automotive',\n",
       " 'Video Games',\n",
       " 'Sports & Outdoors',\n",
       " 'Tools & Home Improvement',\n",
       " 'Home & Kitchen',\n",
       " 'Health & Household',\n",
       " 'Tools & Home Improvement',\n",
       " 'Home & Kitchen',\n",
       " 'Patio',\n",
       " 'Clothing',\n",
       " 'Patio',\n",
       " 'Cell Phones & Accessories',\n",
       " 'Clothing',\n",
       " 'Kitchen & Dining',\n",
       " 'Clothing',\n",
       " 'Tools & Home Improvement',\n",
       " 'Motorcycle & Powersports',\n",
       " 'Tools & Home Improvement',\n",
       " 'Electronics',\n",
       " 'Pet Supplies',\n",
       " 'Home & Kitchen',\n",
       " 'Office Products',\n",
       " 'Health & Household',\n",
       " 'Sports & Outdoors',\n",
       " 'Arts',\n",
       " 'Patio',\n",
       " 'Arts',\n",
       " 'Home & Kitchen',\n",
       " 'Beauty',\n",
       " 'Tools & Home Improvement',\n",
       " 'Home & Kitchen',\n",
       " 'Pet Supplies',\n",
       " 'Electronics',\n",
       " 'Industrial & Scientific',\n",
       " 'Patio',\n",
       " 'CDs & Vinyl',\n",
       " 'Home & Kitchen',\n",
       " 'Automotive',\n",
       " 'Clothing',\n",
       " 'Clothing',\n",
       " 'Industrial & Scientific',\n",
       " 'Office Products',\n",
       " 'Office Products',\n",
       " 'Clothing',\n",
       " 'Home & Kitchen',\n",
       " 'Clothing',\n",
       " 'Beauty',\n",
       " 'Office Products',\n",
       " 'Electronics',\n",
       " 'Tools & Home Improvement',\n",
       " 'Clothing',\n",
       " 'Toys & Games',\n",
       " 'Clothing',\n",
       " 'Clothing',\n",
       " 'Clothing',\n",
       " 'Home & Kitchen',\n",
       " 'Clothing',\n",
       " 'Clothing',\n",
       " 'Home & Kitchen',\n",
       " 'Home & Kitchen',\n",
       " 'Patio',\n",
       " 'Electronics',\n",
       " 'Patio',\n",
       " 'Arts',\n",
       " 'Clothing',\n",
       " 'Clothing',\n",
       " 'Clothing',\n",
       " 'Sports & Outdoors',\n",
       " 'Office Products',\n",
       " 'Sports & Outdoors',\n",
       " 'Home & Kitchen',\n",
       " 'Automotive',\n",
       " 'Sports & Outdoors',\n",
       " 'Sports & Outdoors',\n",
       " 'Electronics',\n",
       " 'Office Products',\n",
       " 'Clothing',\n",
       " 'Men',\n",
       " 'Home & Kitchen',\n",
       " 'Home & Kitchen',\n",
       " 'Tools & Home Improvement',\n",
       " 'Sports & Outdoors',\n",
       " 'Tools & Home Improvement',\n",
       " 'Sports & Outdoors',\n",
       " 'Arts',\n",
       " 'Tools & Home Improvement',\n",
       " 'Health & Household',\n",
       " 'Electronics',\n",
       " 'Toys & Games',\n",
       " 'Arts',\n",
       " 'Tools & Home Improvement',\n",
       " 'Clothing',\n",
       " 'Clothing',\n",
       " 'Tools & Home Improvement',\n",
       " 'Beauty',\n",
       " 'Clothing',\n",
       " 'Beauty & Personal Care',\n",
       " 'Tools & Home Improvement',\n",
       " 'Patio',\n",
       " 'Sports & Outdoors',\n",
       " 'Sports & Outdoors',\n",
       " 'Electronics',\n",
       " 'Electronics',\n",
       " 'Industrial & Scientific',\n",
       " 'Electronics',\n",
       " 'Tools & Home Improvement',\n",
       " 'Clothing',\n",
       " 'Clothing',\n",
       " 'Clothing',\n",
       " 'Tools & Home Improvement',\n",
       " 'Health & Household',\n",
       " 'Home & Kitchen',\n",
       " 'Cell Phones & Accessories',\n",
       " 'Tools & Home Improvement',\n",
       " 'Home & Kitchen',\n",
       " 'Electronics',\n",
       " 'Electronics',\n",
       " 'Arts',\n",
       " 'Clothing',\n",
       " 'Pet Supplies',\n",
       " 'Home & Kitchen',\n",
       " 'Health & Household',\n",
       " 'Cell Phones & Accessories',\n",
       " 'Office Products',\n",
       " 'Toys & Games',\n",
       " 'Sports & Outdoors',\n",
       " 'Grocery & Gourmet Food',\n",
       " 'Automotive',\n",
       " 'Office Products',\n",
       " 'Sports & Outdoors',\n",
       " 'Clothing',\n",
       " 'Tools & Home Improvement',\n",
       " 'Tools & Home Improvement',\n",
       " 'Sports & Outdoors',\n",
       " 'Clothing',\n",
       " 'Office Products',\n",
       " 'Patio',\n",
       " 'Home & Kitchen',\n",
       " 'Home & Kitchen',\n",
       " 'Tools & Home Improvement',\n",
       " 'Clothing',\n",
       " 'Beauty',\n",
       " 'Electronics',\n",
       " 'Tools & Home Improvement',\n",
       " 'Sports & Outdoors',\n",
       " 'Home & Kitchen',\n",
       " 'Clothing',\n",
       " 'Home & Kitchen',\n",
       " 'Tools & Home Improvement',\n",
       " 'Home & Kitchen',\n",
       " 'Beauty & Personal Care',\n",
       " 'Electronics',\n",
       " 'Clothing',\n",
       " 'Health & Household',\n",
       " 'Tools & Home Improvement',\n",
       " 'Clothing',\n",
       " 'Health & Household',\n",
       " 'Sports & Outdoors',\n",
       " 'Automotive',\n",
       " 'Clothing',\n",
       " 'Industrial & Scientific',\n",
       " 'Home & Kitchen',\n",
       " 'Health & Household',\n",
       " 'Electronics',\n",
       " 'Video Games',\n",
       " 'Automotive',\n",
       " 'Tools & Home Improvement',\n",
       " 'Tools & Home Improvement',\n",
       " 'Automotive',\n",
       " 'Toys & Games',\n",
       " 'Sports & Outdoors',\n",
       " 'Beauty & Personal Care',\n",
       " 'Sports & Outdoors',\n",
       " 'Electronics',\n",
       " 'Clothing',\n",
       " 'Clothing',\n",
       " 'Home & Kitchen',\n",
       " 'Clothing',\n",
       " 'Video Games',\n",
       " 'Clothing',\n",
       " 'Cell Phones & Accessories',\n",
       " 'Home & Kitchen',\n",
       " 'Home & Kitchen',\n",
       " 'Home & Kitchen',\n",
       " 'Beauty',\n",
       " 'Electronics',\n",
       " 'Home & Kitchen',\n",
       " 'Office Products',\n",
       " 'Home & Kitchen',\n",
       " 'Electronics',\n",
       " 'Health & Household',\n",
       " 'Clothing',\n",
       " 'Pet Supplies',\n",
       " 'Clothing',\n",
       " 'Clothing',\n",
       " 'Home & Kitchen',\n",
       " 'Clothing',\n",
       " 'Beauty',\n",
       " 'Clothing',\n",
       " 'Automotive',\n",
       " 'Home & Kitchen',\n",
       " 'Pet Supplies',\n",
       " 'Tools & Home Improvement',\n",
       " 'Clothing',\n",
       " 'Tools & Home Improvement',\n",
       " 'Electronics',\n",
       " 'Home & Kitchen',\n",
       " 'Beauty',\n",
       " 'Electronics',\n",
       " 'Beauty',\n",
       " 'Clothing',\n",
       " 'Clothing',\n",
       " 'Toys & Games',\n",
       " 'Automotive',\n",
       " 'Clothing',\n",
       " 'Appliances',\n",
       " 'Tools & Home Improvement',\n",
       " 'Tools & Home Improvement',\n",
       " 'Tools & Home Improvement',\n",
       " 'Clothing',\n",
       " 'Clothing',\n",
       " 'Industrial & Scientific',\n",
       " 'Automotive',\n",
       " 'Home & Kitchen',\n",
       " 'Video Games',\n",
       " 'Clothing',\n",
       " 'Clothing',\n",
       " 'Musical Instruments',\n",
       " 'Clothing',\n",
       " 'Home & Kitchen',\n",
       " 'Home & Kitchen',\n",
       " 'Toys & Games',\n",
       " 'Home & Kitchen',\n",
       " 'Beauty & Personal Care',\n",
       " 'Electronics',\n",
       " 'Home & Kitchen',\n",
       " 'Tools & Home Improvement',\n",
       " 'Clothing',\n",
       " 'Office Products',\n",
       " 'Arts',\n",
       " 'Health & Household',\n",
       " 'Automotive',\n",
       " 'Beauty & Personal Care',\n",
       " 'Home & Kitchen',\n",
       " 'Tools & Home Improvement',\n",
       " 'Home & Kitchen',\n",
       " 'Clothing',\n",
       " 'Tools & Home Improvement',\n",
       " 'Clothing',\n",
       " 'Tools & Home Improvement',\n",
       " 'Clothing',\n",
       " 'Pet Supplies',\n",
       " 'Clothing',\n",
       " 'Clothing',\n",
       " 'Automotive',\n",
       " 'Video Games',\n",
       " 'Tools & Home Improvement',\n",
       " 'Sports & Outdoors',\n",
       " 'Clothing',\n",
       " 'Clothing',\n",
       " 'Sports & Outdoors',\n",
       " 'Sports & Outdoors',\n",
       " 'Pet Supplies',\n",
       " 'Clothing',\n",
       " 'Home & Kitchen',\n",
       " 'Home & Kitchen',\n",
       " 'Clothing',\n",
       " 'Sports & Outdoors',\n",
       " 'Tools & Home Improvement',\n",
       " 'Electronics',\n",
       " 'Toys & Games',\n",
       " 'Clothing',\n",
       " 'Home & Kitchen',\n",
       " 'Toys & Games',\n",
       " 'Clothing',\n",
       " 'Automotive',\n",
       " 'Tools & Home Improvement',\n",
       " 'Clothing',\n",
       " 'Health & Household',\n",
       " 'Home & Kitchen',\n",
       " 'Clothing',\n",
       " 'Clothing',\n",
       " 'Home & Kitchen',\n",
       " 'Patio',\n",
       " 'Home & Kitchen',\n",
       " 'Sports & Outdoors',\n",
       " 'Pet Supplies',\n",
       " 'Home & Kitchen',\n",
       " 'Home & Kitchen',\n",
       " 'Electronics',\n",
       " 'Home & Kitchen',\n",
       " 'Clothing',\n",
       " 'Tools & Home Improvement',\n",
       " 'Beauty',\n",
       " 'Beauty',\n",
       " 'Toys & Games',\n",
       " 'Clothing',\n",
       " 'Health & Household',\n",
       " 'Sports & Outdoors',\n",
       " 'Clothing',\n",
       " 'Industrial & Scientific',\n",
       " 'Electronics',\n",
       " 'Sports & Outdoors',\n",
       " 'Clothing',\n",
       " 'Tools & Home Improvement',\n",
       " 'Power & Hand Tools',\n",
       " 'Home & Kitchen',\n",
       " 'Clothing',\n",
       " 'Health & Household',\n",
       " 'Automotive',\n",
       " 'Tools & Home Improvement',\n",
       " 'Sports & Outdoors',\n",
       " 'Pet Supplies',\n",
       " 'Electronics',\n",
       " 'Home & Kitchen',\n",
       " 'Clothing',\n",
       " 'Sports & Outdoors',\n",
       " 'Home & Kitchen',\n",
       " 'Clothing',\n",
       " 'Automotive',\n",
       " 'Industrial & Scientific',\n",
       " 'Clothing',\n",
       " 'Automotive',\n",
       " 'Tools & Home Improvement',\n",
       " 'Sports & Outdoors',\n",
       " 'Clothing',\n",
       " 'Electronics',\n",
       " 'Electronics',\n",
       " 'Beauty & Personal Care',\n",
       " 'Electronics',\n",
       " 'Pet Supplies',\n",
       " 'Tools & Home Improvement',\n",
       " 'Clothing',\n",
       " 'Patio',\n",
       " 'Home & Kitchen',\n",
       " 'Automotive',\n",
       " 'Clothing',\n",
       " 'Pet Supplies',\n",
       " 'Sports & Outdoors',\n",
       " 'Home & Kitchen',\n",
       " 'Toys & Games',\n",
       " 'Office Products',\n",
       " 'Baby Products',\n",
       " 'Health & Household',\n",
       " 'Industrial & Scientific',\n",
       " 'Tools & Home Improvement',\n",
       " 'Home & Kitchen',\n",
       " 'Home & Kitchen',\n",
       " 'Baby Products',\n",
       " 'Electronics',\n",
       " 'Office Products',\n",
       " 'Clothing',\n",
       " 'Clothing',\n",
       " 'Patio',\n",
       " 'Home & Kitchen',\n",
       " 'Health & Household',\n",
       " 'Clothing',\n",
       " 'Clothing',\n",
       " 'Home & Kitchen',\n",
       " 'Sports & Outdoors',\n",
       " 'Electronics',\n",
       " 'Health & Household',\n",
       " 'Office Products',\n",
       " 'Industrial & Scientific',\n",
       " 'Pet Supplies',\n",
       " 'Office Products',\n",
       " 'Tools & Home Improvement',\n",
       " 'Clothing',\n",
       " 'Clothing',\n",
       " 'Appliances',\n",
       " 'Industrial & Scientific',\n",
       " 'Clothing',\n",
       " 'Tools & Home Improvement',\n",
       " 'Office Products',\n",
       " 'Tools & Home Improvement',\n",
       " 'Clothing',\n",
       " 'Beauty & Personal Care',\n",
       " 'Clothing',\n",
       " 'Clothing',\n",
       " 'Beauty',\n",
       " 'Sports & Outdoors',\n",
       " 'Automotive',\n",
       " 'Tools & Home Improvement',\n",
       " 'Home & Kitchen',\n",
       " 'Electronics',\n",
       " 'Home & Kitchen',\n",
       " 'Electronics',\n",
       " 'Home & Kitchen',\n",
       " 'Sports & Outdoors',\n",
       " 'Clothing',\n",
       " 'Electronics',\n",
       " 'Home & Kitchen',\n",
       " 'Toys & Games',\n",
       " 'Clothing',\n",
       " 'Automotive',\n",
       " 'Industrial & Scientific',\n",
       " 'Home & Kitchen',\n",
       " 'Automotive',\n",
       " 'Office Products',\n",
       " 'Office Products',\n",
       " 'Automotive',\n",
       " 'Pet Supplies',\n",
       " 'Electronics',\n",
       " 'Tools & Home Improvement',\n",
       " 'Electronics',\n",
       " 'Baby Products',\n",
       " 'Sports & Outdoors',\n",
       " 'Toys & Games',\n",
       " 'Home & Kitchen',\n",
       " 'Beauty',\n",
       " 'Sports & Outdoors',\n",
       " 'Automotive',\n",
       " 'Electronics',\n",
       " 'Cell Phones & Accessories',\n",
       " 'Home & Kitchen',\n",
       " 'Home & Kitchen',\n",
       " 'Beauty',\n",
       " 'Cell Phones & Accessories',\n",
       " 'Office Products',\n",
       " 'Tools & Home Improvement',\n",
       " 'Arts',\n",
       " 'Automotive',\n",
       " 'Home & Kitchen',\n",
       " 'Home & Kitchen',\n",
       " 'Automotive',\n",
       " 'Clothing',\n",
       " 'Beauty',\n",
       " 'Sports & Outdoors',\n",
       " 'Arts',\n",
       " 'Industrial & Scientific',\n",
       " 'Home & Kitchen',\n",
       " 'Office Products',\n",
       " 'Clothing',\n",
       " 'Cell Phones & Accessories',\n",
       " 'Tools & Home Improvement',\n",
       " 'Beauty',\n",
       " 'Beauty',\n",
       " 'Clothing',\n",
       " 'Clothing',\n",
       " 'Home & Kitchen',\n",
       " 'Home & Kitchen',\n",
       " 'Home & Kitchen',\n",
       " 'Arts',\n",
       " 'Office Products',\n",
       " 'Electronics',\n",
       " 'Clothing',\n",
       " 'Office Products',\n",
       " 'Toys & Games',\n",
       " 'Clothing',\n",
       " 'Automotive',\n",
       " 'Tools & Home Improvement',\n",
       " 'Clothing',\n",
       " 'Electronics',\n",
       " 'Clothing',\n",
       " 'Appliances',\n",
       " 'Patio',\n",
       " 'Clothing',\n",
       " 'Home & Kitchen',\n",
       " 'Clothing',\n",
       " 'Clothing',\n",
       " 'Clothing',\n",
       " 'Clothing',\n",
       " 'Electronics',\n",
       " 'Electronics',\n",
       " 'Sports & Outdoors',\n",
       " 'Cell Phones & Accessories',\n",
       " 'Cell Phones & Accessories',\n",
       " 'Home & Kitchen',\n",
       " 'Home & Kitchen',\n",
       " 'Electronics',\n",
       " 'Toys & Games',\n",
       " 'Automotive',\n",
       " 'Baby Products',\n",
       " 'Clothing',\n",
       " 'Arts',\n",
       " 'Sports & Outdoors',\n",
       " 'Sports & Outdoors',\n",
       " 'Sports & Outdoors',\n",
       " 'Cell Phones & Accessories',\n",
       " 'Sports & Outdoors',\n",
       " 'Automotive',\n",
       " 'Electronics',\n",
       " 'Clothing',\n",
       " 'Clothing',\n",
       " 'Clothing',\n",
       " 'Clothing',\n",
       " 'Clothing',\n",
       " 'Tools & Home Improvement',\n",
       " 'Sports & Outdoors',\n",
       " 'Musical Instruments',\n",
       " 'Arts',\n",
       " 'Clothing',\n",
       " 'Tools & Home Improvement',\n",
       " 'Sports & Outdoors',\n",
       " 'Clothing',\n",
       " 'Beauty',\n",
       " 'Toys & Games',\n",
       " 'Clothing',\n",
       " 'Home & Kitchen',\n",
       " 'Sports & Outdoors',\n",
       " 'Beauty & Personal Care',\n",
       " 'Arts',\n",
       " 'Automotive',\n",
       " 'Office Products',\n",
       " 'Automotive',\n",
       " 'Tools & Home Improvement',\n",
       " 'Grocery & Gourmet Food',\n",
       " 'Arts',\n",
       " 'Clothing',\n",
       " 'Automotive',\n",
       " 'Automotive',\n",
       " 'Toys & Games',\n",
       " 'Electronics',\n",
       " 'Health & Household',\n",
       " 'Electronics',\n",
       " 'Tools & Home Improvement',\n",
       " 'Clothing',\n",
       " 'Clothing',\n",
       " 'Home & Kitchen',\n",
       " 'CDs & Vinyl',\n",
       " 'Home & Kitchen',\n",
       " 'Home & Kitchen',\n",
       " 'Clothing',\n",
       " 'Pet Supplies',\n",
       " 'Home & Kitchen',\n",
       " 'Clothing',\n",
       " 'Sports & Outdoors',\n",
       " 'Tools & Home Improvement',\n",
       " 'Automotive',\n",
       " 'Health & Household',\n",
       " 'Sports & Outdoors',\n",
       " 'Toys & Games',\n",
       " 'Sports & Outdoors',\n",
       " 'Electronics',\n",
       " 'Clothing',\n",
       " 'Home & Kitchen',\n",
       " 'Clothing',\n",
       " 'Home & Kitchen',\n",
       " 'Home & Kitchen',\n",
       " 'Clothing',\n",
       " 'Beauty & Personal Care',\n",
       " 'Health & Household',\n",
       " 'Home & Kitchen',\n",
       " 'Automotive',\n",
       " 'Automotive',\n",
       " 'Appliances',\n",
       " 'Clothing',\n",
       " 'Clothing',\n",
       " 'Clothing',\n",
       " 'Clothing',\n",
       " 'Automotive',\n",
       " 'Sports & Outdoors',\n",
       " 'Cell Phones & Accessories',\n",
       " 'Cell Phones & Accessories',\n",
       " 'Home & Kitchen',\n",
       " 'Home & Kitchen',\n",
       " 'Clothing',\n",
       " 'Clothing',\n",
       " 'Home & Kitchen',\n",
       " 'Electronics',\n",
       " 'Hunting & Fishing',\n",
       " 'Clothing',\n",
       " 'Office Products',\n",
       " 'Automotive',\n",
       " 'Tools & Home Improvement',\n",
       " 'Tools & Home Improvement',\n",
       " 'Pet Supplies',\n",
       " 'Clothing',\n",
       " 'Health & Household',\n",
       " 'Sports & Outdoors',\n",
       " 'Electronics',\n",
       " 'Clothing',\n",
       " 'Electronics',\n",
       " 'Home & Kitchen',\n",
       " 'Office Products',\n",
       " 'Grocery & Gourmet Food',\n",
       " 'Electronics',\n",
       " 'Tools & Home Improvement',\n",
       " 'Clothing',\n",
       " 'Home & Kitchen',\n",
       " 'Electronics',\n",
       " 'Pet Supplies',\n",
       " 'Industrial & Scientific',\n",
       " 'Sports & Outdoors',\n",
       " 'Electronics',\n",
       " 'Home & Kitchen',\n",
       " 'Sports & Outdoors',\n",
       " 'Cell Phones & Accessories',\n",
       " 'Office Products',\n",
       " 'Clothing',\n",
       " 'Clothing',\n",
       " 'Arts',\n",
       " 'Clothing',\n",
       " 'Tools & Home Improvement',\n",
       " 'Home & Kitchen',\n",
       " 'Home & Kitchen',\n",
       " 'Patio',\n",
       " 'Home & Kitchen',\n",
       " 'Sports & Outdoors',\n",
       " 'Health & Household',\n",
       " 'Home & Kitchen',\n",
       " 'Patio',\n",
       " 'Home & Kitchen',\n",
       " 'Industrial & Scientific',\n",
       " 'Sports & Outdoors',\n",
       " 'Clothing',\n",
       " 'Pet Supplies',\n",
       " 'Cell Phones & Accessories',\n",
       " 'Patio',\n",
       " 'Cell Phones & Accessories',\n",
       " 'Cell Phones & Accessories',\n",
       " 'Pet Supplies',\n",
       " 'Clothing',\n",
       " 'Electronics',\n",
       " 'Electronics',\n",
       " 'Automotive',\n",
       " 'Beauty',\n",
       " 'Beauty',\n",
       " 'Clothing',\n",
       " 'Sports & Outdoors',\n",
       " 'Tools & Home Improvement',\n",
       " 'Tools & Home Improvement',\n",
       " 'Clothing',\n",
       " 'Beauty & Personal Care',\n",
       " 'Beauty',\n",
       " 'Electronics',\n",
       " 'Clothing',\n",
       " 'Clothing',\n",
       " 'Home & Kitchen',\n",
       " 'Clothing',\n",
       " 'Home & Kitchen',\n",
       " 'Clothing',\n",
       " 'Patio',\n",
       " 'Automotive',\n",
       " 'Office Products',\n",
       " 'Home & Kitchen',\n",
       " 'Home & Kitchen',\n",
       " 'Home & Kitchen',\n",
       " 'Sports & Outdoors',\n",
       " 'Baby Products',\n",
       " 'Clothing',\n",
       " 'Clothing',\n",
       " 'Clothing',\n",
       " 'Clothing',\n",
       " 'Office Products',\n",
       " 'Clothing',\n",
       " 'Beauty',\n",
       " 'Tools & Home Improvement',\n",
       " 'Clothing',\n",
       " 'Beauty',\n",
       " 'Beauty & Personal Care',\n",
       " 'Clothing',\n",
       " 'Sports & Outdoors',\n",
       " 'Home & Kitchen',\n",
       " 'Electronics',\n",
       " 'Clothing',\n",
       " 'Automotive',\n",
       " 'Musical Instruments',\n",
       " 'Tools & Home Improvement',\n",
       " 'Tools & Home Improvement',\n",
       " 'Health & Household',\n",
       " 'Beauty & Personal Care',\n",
       " 'Automotive',\n",
       " 'Health & Household',\n",
       " 'Automotive',\n",
       " 'Office Products',\n",
       " 'Electronics',\n",
       " 'Appliances',\n",
       " 'Tools & Home Improvement',\n",
       " 'Automotive',\n",
       " 'Tools & Home Improvement',\n",
       " 'Home & Kitchen',\n",
       " 'Clothing',\n",
       " 'Clothing',\n",
       " 'Clothing',\n",
       " 'Pet Supplies',\n",
       " 'Patio',\n",
       " 'Clothing',\n",
       " 'Office Products',\n",
       " 'Beauty & Personal Care',\n",
       " 'Sports & Outdoors',\n",
       " 'Clothing',\n",
       " 'Clothing',\n",
       " 'Office Products',\n",
       " 'Clothing',\n",
       " 'Arts',\n",
       " 'Baby Products',\n",
       " 'Automotive',\n",
       " 'Office Products',\n",
       " 'Clothing',\n",
       " 'Clothing',\n",
       " 'Home & Kitchen',\n",
       " 'Clothing',\n",
       " 'Clothing',\n",
       " 'Clothing',\n",
       " 'Clothing',\n",
       " 'Clothing',\n",
       " 'Clothing',\n",
       " 'Health & Household',\n",
       " 'Clothing',\n",
       " 'Home & Kitchen',\n",
       " 'Tools & Home Improvement',\n",
       " 'Beauty',\n",
       " 'Tools & Home Improvement',\n",
       " 'Automotive',\n",
       " 'Home & Kitchen',\n",
       " 'Home & Kitchen',\n",
       " 'Clothing',\n",
       " 'Sports & Outdoors',\n",
       " 'Tools & Home Improvement',\n",
       " 'Clothing',\n",
       " 'Clothing',\n",
       " 'Clothing',\n",
       " 'Clothing',\n",
       " 'Tools & Home Improvement',\n",
       " 'Clothing',\n",
       " 'Clothing',\n",
       " 'Clothing',\n",
       " 'Home & Kitchen',\n",
       " 'Clothing',\n",
       " 'Home & Kitchen',\n",
       " 'Office Products',\n",
       " 'Grocery & Gourmet Food',\n",
       " 'Home & Kitchen',\n",
       " 'Clothing',\n",
       " 'Clothing',\n",
       " 'Home & Kitchen',\n",
       " 'Clothing',\n",
       " 'Home & Kitchen',\n",
       " 'Beauty & Personal Care',\n",
       " 'Home & Kitchen',\n",
       " 'Clothing',\n",
       " 'Tools & Home Improvement',\n",
       " 'Musical Instruments',\n",
       " 'Beauty',\n",
       " 'Electronics',\n",
       " 'Patio',\n",
       " 'Pet Supplies',\n",
       " 'Tools & Home Improvement',\n",
       " 'Beauty',\n",
       " 'Cell Phones & Accessories',\n",
       " 'Home & Kitchen',\n",
       " 'Clothing',\n",
       " 'Sports & Outdoors',\n",
       " 'Toys & Games',\n",
       " 'Clothing',\n",
       " 'Automotive',\n",
       " 'Tools & Home Improvement',\n",
       " 'Beauty & Personal Care',\n",
       " 'Beauty',\n",
       " 'Tools & Home Improvement',\n",
       " 'Home & Kitchen',\n",
       " 'Clothing',\n",
       " 'Sports & Outdoors',\n",
       " 'Home & Kitchen',\n",
       " 'Home & Kitchen',\n",
       " 'Automotive',\n",
       " 'Automotive',\n",
       " 'Office Products',\n",
       " 'Grocery & Gourmet Food',\n",
       " 'Sports & Outdoors',\n",
       " 'Automotive',\n",
       " 'Electronics',\n",
       " 'Pet Supplies',\n",
       " 'Sports & Outdoors',\n",
       " 'Cell Phones & Accessories',\n",
       " 'Electronics',\n",
       " 'Home & Kitchen',\n",
       " 'Clothing',\n",
       " 'Electronics',\n",
       " 'Automotive',\n",
       " 'Beauty & Personal Care',\n",
       " 'Sports & Outdoors',\n",
       " 'Home & Kitchen',\n",
       " 'Tools & Home Improvement',\n",
       " 'Electronics',\n",
       " 'Clothing',\n",
       " 'Health & Household',\n",
       " 'Home & Kitchen',\n",
       " 'Home & Kitchen',\n",
       " 'Beauty & Personal Care',\n",
       " 'Beauty & Personal Care',\n",
       " 'Tools & Home Improvement',\n",
       " 'Clothing',\n",
       " 'Clothing',\n",
       " 'Clothing',\n",
       " 'Cell Phones & Accessories',\n",
       " 'Cell Phones & Accessories',\n",
       " 'Clothing',\n",
       " 'Electronics',\n",
       " 'Clothing',\n",
       " 'Cell Phones & Accessories',\n",
       " 'Sports & Outdoors',\n",
       " 'Office Products',\n",
       " 'Clothing',\n",
       " 'Tools & Home Improvement',\n",
       " 'Beauty',\n",
       " 'Office Products',\n",
       " 'Home & Kitchen',\n",
       " 'Office Products',\n",
       " 'Sports & Outdoors',\n",
       " 'Clothing',\n",
       " 'Beauty',\n",
       " 'Clothing',\n",
       " 'Tools & Home Improvement',\n",
       " 'Patio',\n",
       " 'Tools & Home Improvement',\n",
       " 'Electronics',\n",
       " 'Clothing',\n",
       " 'Electronics',\n",
       " 'Automotive',\n",
       " 'Beauty',\n",
       " 'Sports & Outdoors',\n",
       " 'Patio',\n",
       " 'Sports & Outdoors',\n",
       " 'Office Products',\n",
       " 'Electronics',\n",
       " 'Electronics',\n",
       " 'Arts',\n",
       " 'Sports & Outdoors',\n",
       " 'Tools & Home Improvement',\n",
       " 'Patio',\n",
       " 'Tools & Home Improvement',\n",
       " 'Clothing',\n",
       " 'Clothing',\n",
       " 'Home & Kitchen',\n",
       " 'Health & Household',\n",
       " 'Home & Kitchen',\n",
       " 'Cell Phones & Accessories',\n",
       " 'Clothing',\n",
       " 'Toys & Games',\n",
       " 'Home & Kitchen',\n",
       " 'Power & Hand Tools',\n",
       " 'Baby Products',\n",
       " 'Clothing',\n",
       " 'Home & Kitchen',\n",
       " 'Sports & Outdoors',\n",
       " 'Clothing',\n",
       " 'Tools & Home Improvement',\n",
       " 'Office Products',\n",
       " 'Sports & Outdoors',\n",
       " 'Home & Kitchen',\n",
       " 'Automotive',\n",
       " 'Office Products',\n",
       " 'Toys & Games',\n",
       " 'Home & Kitchen',\n",
       " 'Tools & Home Improvement',\n",
       " 'Arts',\n",
       " 'Industrial & Scientific',\n",
       " 'Home & Kitchen',\n",
       " 'Automotive',\n",
       " 'Clothing',\n",
       " 'Tools & Home Improvement',\n",
       " 'Tools & Home Improvement',\n",
       " 'Home & Kitchen',\n",
       " 'Home & Kitchen',\n",
       " 'Health & Household',\n",
       " 'Home & Kitchen',\n",
       " 'Home & Kitchen',\n",
       " 'Arts',\n",
       " 'Clothing',\n",
       " 'Clothing',\n",
       " 'Clothing',\n",
       " 'Clothing',\n",
       " 'Home & Kitchen',\n",
       " 'Clothing',\n",
       " 'Home & Kitchen',\n",
       " 'Tools & Home Improvement',\n",
       " 'Electronics',\n",
       " 'Automotive',\n",
       " 'Electronics',\n",
       " 'Clothing',\n",
       " 'Tools & Home Improvement',\n",
       " 'Tools & Home Improvement',\n",
       " 'Sports & Outdoors',\n",
       " 'Pet Supplies',\n",
       " 'Automotive',\n",
       " 'Home & Kitchen',\n",
       " 'Sports & Outdoors',\n",
       " 'Arts',\n",
       " 'Home & Kitchen',\n",
       " 'Sports & Outdoors',\n",
       " 'Patio',\n",
       " 'Home & Kitchen',\n",
       " 'Tools & Home Improvement',\n",
       " 'Home & Kitchen',\n",
       " 'Tools & Home Improvement',\n",
       " 'Clothing',\n",
       " 'Clothing',\n",
       " 'Cell Phones & Accessories',\n",
       " 'Cell Phones & Accessories',\n",
       " 'Cell Phones & Accessories',\n",
       " 'Industrial & Scientific',\n",
       " 'Sports & Outdoors',\n",
       " 'Industrial & Scientific',\n",
       " 'Sports & Outdoors',\n",
       " 'Clothing',\n",
       " 'Clothing',\n",
       " 'Pet Supplies',\n",
       " 'Electronics',\n",
       " 'Cell Phones & Accessories',\n",
       " 'Tools & Home Improvement',\n",
       " 'Sports & Outdoors',\n",
       " 'Video Games',\n",
       " 'Beauty & Personal Care',\n",
       " 'Clothing',\n",
       " 'Beauty',\n",
       " 'Health & Household',\n",
       " 'Arts',\n",
       " 'Arts',\n",
       " 'Arts',\n",
       " 'Home & Kitchen',\n",
       " 'Office Products',\n",
       " 'Tools & Home Improvement',\n",
       " 'Baby Products',\n",
       " 'Toys & Games',\n",
       " 'Clothing',\n",
       " 'Clothing',\n",
       " 'Pet Supplies',\n",
       " 'Electronics',\n",
       " 'Clothing',\n",
       " 'Sports & Outdoors',\n",
       " 'Electronics',\n",
       " 'Arts',\n",
       " 'Electronics',\n",
       " 'Home & Kitchen',\n",
       " 'Tools & Home Improvement',\n",
       " 'Tools & Home Improvement',\n",
       " 'Home & Kitchen',\n",
       " 'Home & Kitchen',\n",
       " 'Video Games',\n",
       " 'Tools & Home Improvement',\n",
       " 'Home & Kitchen',\n",
       " 'Home & Kitchen',\n",
       " 'Sports & Outdoors',\n",
       " 'Home & Kitchen',\n",
       " 'Home & Kitchen',\n",
       " 'Office Products',\n",
       " 'Clothing',\n",
       " 'Home & Kitchen',\n",
       " 'Tools & Home Improvement',\n",
       " 'Automotive',\n",
       " 'Tools & Home Improvement',\n",
       " 'Health & Household',\n",
       " 'Electronics',\n",
       " 'Sports & Outdoors',\n",
       " 'Tools & Home Improvement',\n",
       " 'Tools & Home Improvement',\n",
       " 'Home & Kitchen',\n",
       " 'Tools & Home Improvement',\n",
       " 'Tools & Home Improvement',\n",
       " 'Tools & Home Improvement',\n",
       " 'Clothing',\n",
       " 'Tools & Home Improvement',\n",
       " 'Tools & Home Improvement',\n",
       " 'Home & Kitchen',\n",
       " 'Arts',\n",
       " 'Clothing',\n",
       " 'Patio',\n",
       " 'Beauty & Personal Care',\n",
       " 'Pet Supplies',\n",
       " 'Health & Household',\n",
       " 'Beauty & Personal Care',\n",
       " 'Home & Kitchen',\n",
       " 'Electronics',\n",
       " 'Tools & Home Improvement',\n",
       " 'Home & Kitchen',\n",
       " 'Office Products',\n",
       " 'Pet Supplies',\n",
       " 'Clothing',\n",
       " 'Home & Kitchen',\n",
       " 'Office Products',\n",
       " 'Tools & Home Improvement',\n",
       " 'Office Products',\n",
       " 'Sports & Outdoors']"
      ]
     },
     "execution_count": 749,
     "metadata": {},
     "output_type": "execute_result"
    }
   ],
   "source": [
    "new_l"
   ]
  },
  {
   "cell_type": "code",
   "execution_count": 750,
   "id": "c678fd81-90ad-47e7-be4f-4ee87287b172",
   "metadata": {},
   "outputs": [],
   "source": [
    "df['categories'] = new_l"
   ]
  },
  {
   "cell_type": "code",
   "execution_count": null,
   "id": "0725fbf2-3c01-4ca0-9839-fc4cec6f0d76",
   "metadata": {},
   "outputs": [],
   "source": []
  },
  {
   "cell_type": "code",
   "execution_count": 751,
   "id": "abe05ec9-5277-46b9-ae31-1b18f8b8fbca",
   "metadata": {},
   "outputs": [],
   "source": [
    "def clean_availability(value):\n",
    "    value = str(value).lower()\n",
    "    if 'temporarily out of stock' in value:\n",
    "        return 'out of stock'\n",
    "    elif 'only' in value:\n",
    "        return 'limited stock'\n",
    "    elif 'usually ships' in value or 'available to ship' in value:\n",
    "        return 'delayed shipping'\n",
    "    elif 'in stock' in value:\n",
    "        return 'in stock'\n",
    "    else:\n",
    "        return 'unknown'\n",
    "\n",
    "df['availability'] = df['availability'].apply(clean_availability)\n"
   ]
  },
  {
   "cell_type": "code",
   "execution_count": 752,
   "id": "ceb76fd4-e864-45ee-bb82-3f9f5e83de52",
   "metadata": {},
   "outputs": [
    {
     "data": {
      "text/plain": [
       "array(['in stock', 'limited stock', 'out of stock', 'delayed shipping',\n",
       "       'unknown'], dtype=object)"
      ]
     },
     "execution_count": 752,
     "metadata": {},
     "output_type": "execute_result"
    }
   ],
   "source": [
    "df['availability'].unique()"
   ]
  },
  {
   "cell_type": "code",
   "execution_count": 753,
   "id": "81445b4f-d876-4463-94d0-174128631d7d",
   "metadata": {},
   "outputs": [
    {
     "data": {
      "text/plain": [
       "availability\n",
       "in stock            709\n",
       "limited stock       253\n",
       "delayed shipping     30\n",
       "unknown               6\n",
       "out of stock          2\n",
       "Name: count, dtype: int64"
      ]
     },
     "execution_count": 753,
     "metadata": {},
     "output_type": "execute_result"
    }
   ],
   "source": [
    "df['availability'].value_counts()"
   ]
  },
  {
   "cell_type": "code",
   "execution_count": null,
   "id": "e2e38cce-fc88-45c6-bea1-6b6a0d203016",
   "metadata": {},
   "outputs": [],
   "source": []
  },
  {
   "cell_type": "code",
   "execution_count": 754,
   "id": "df41998e-91f9-4625-845f-6b81218fa0df",
   "metadata": {},
   "outputs": [
    {
     "data": {
      "text/html": [
       "<div>\n",
       "<style scoped>\n",
       "    .dataframe tbody tr th:only-of-type {\n",
       "        vertical-align: middle;\n",
       "    }\n",
       "\n",
       "    .dataframe tbody tr th {\n",
       "        vertical-align: top;\n",
       "    }\n",
       "\n",
       "    .dataframe thead th {\n",
       "        text-align: right;\n",
       "    }\n",
       "</style>\n",
       "<table border=\"1\" class=\"dataframe\">\n",
       "  <thead>\n",
       "    <tr style=\"text-align: right;\">\n",
       "      <th></th>\n",
       "      <th>Product_name</th>\n",
       "      <th>brand</th>\n",
       "      <th>initial_price</th>\n",
       "      <th>final_price</th>\n",
       "      <th>currency</th>\n",
       "      <th>availability</th>\n",
       "      <th>reviews_count</th>\n",
       "      <th>categories</th>\n",
       "      <th>number_of_sellers</th>\n",
       "      <th>rating</th>\n",
       "      <th>discount</th>\n",
       "      <th>Department</th>\n",
       "    </tr>\n",
       "  </thead>\n",
       "  <tbody>\n",
       "    <tr>\n",
       "      <th>0</th>\n",
       "      <td>Saucony Men'S Running Shoe</td>\n",
       "      <td>Saucony</td>\n",
       "      <td>NaN</td>\n",
       "      <td>57.79</td>\n",
       "      <td>USD</td>\n",
       "      <td>in stock</td>\n",
       "      <td>702</td>\n",
       "      <td>Clothing</td>\n",
       "      <td>17.0</td>\n",
       "      <td>4.6</td>\n",
       "      <td>NaN</td>\n",
       "      <td>mens</td>\n",
       "    </tr>\n",
       "    <tr>\n",
       "      <th>1</th>\n",
       "      <td>Kishigo Safety Vest Vests</td>\n",
       "      <td>Kishigo</td>\n",
       "      <td>NaN</td>\n",
       "      <td>28.50</td>\n",
       "      <td>USD</td>\n",
       "      <td>in stock</td>\n",
       "      <td>916</td>\n",
       "      <td>Tools &amp; Home Improvement</td>\n",
       "      <td>8.0</td>\n",
       "      <td>4.6</td>\n",
       "      <td>NaN</td>\n",
       "      <td>Unisex</td>\n",
       "    </tr>\n",
       "    <tr>\n",
       "      <th>2</th>\n",
       "      <td>Twinsluxes Solar Post Cap</td>\n",
       "      <td>TWINSLUXES</td>\n",
       "      <td>49.99</td>\n",
       "      <td>33.99</td>\n",
       "      <td>USD</td>\n",
       "      <td>in stock</td>\n",
       "      <td>3178</td>\n",
       "      <td>Tools &amp; Home Improvement</td>\n",
       "      <td>1.0</td>\n",
       "      <td>4.2</td>\n",
       "      <td>32.0</td>\n",
       "      <td>Tools &amp; Home Improvement</td>\n",
       "    </tr>\n",
       "    <tr>\n",
       "      <th>3</th>\n",
       "      <td>Accutire Digital Tire Pressure</td>\n",
       "      <td>Accutire</td>\n",
       "      <td>18.00</td>\n",
       "      <td>18.00</td>\n",
       "      <td>USD</td>\n",
       "      <td>in stock</td>\n",
       "      <td>8034</td>\n",
       "      <td>Automotive</td>\n",
       "      <td>1.0</td>\n",
       "      <td>4.4</td>\n",
       "      <td>NaN</td>\n",
       "      <td>Automotive</td>\n",
       "    </tr>\n",
       "    <tr>\n",
       "      <th>4</th>\n",
       "      <td>Saura Life Science Hair Growth Hair</td>\n",
       "      <td>SAURA LIFE SCIENCE</td>\n",
       "      <td>1299.00</td>\n",
       "      <td>799.00</td>\n",
       "      <td>INR</td>\n",
       "      <td>in stock</td>\n",
       "      <td>5</td>\n",
       "      <td>Beauty</td>\n",
       "      <td>1.0</td>\n",
       "      <td>5.0</td>\n",
       "      <td>38.0</td>\n",
       "      <td>Beauty</td>\n",
       "    </tr>\n",
       "    <tr>\n",
       "      <th>...</th>\n",
       "      <td>...</td>\n",
       "      <td>...</td>\n",
       "      <td>...</td>\n",
       "      <td>...</td>\n",
       "      <td>...</td>\n",
       "      <td>...</td>\n",
       "      <td>...</td>\n",
       "      <td>...</td>\n",
       "      <td>...</td>\n",
       "      <td>...</td>\n",
       "      <td>...</td>\n",
       "      <td>...</td>\n",
       "    </tr>\n",
       "    <tr>\n",
       "      <th>995</th>\n",
       "      <td>Madison Park Amherst Faux Silk</td>\n",
       "      <td>Madison Park</td>\n",
       "      <td>154.99</td>\n",
       "      <td>111.99</td>\n",
       "      <td>USD</td>\n",
       "      <td>limited stock</td>\n",
       "      <td>4828</td>\n",
       "      <td>Home &amp; Kitchen</td>\n",
       "      <td>4.0</td>\n",
       "      <td>4.4</td>\n",
       "      <td>28.0</td>\n",
       "      <td>Unisex-adult</td>\n",
       "    </tr>\n",
       "    <tr>\n",
       "      <th>996</th>\n",
       "      <td>Bic Gel Rollerball Pens</td>\n",
       "      <td>BIC</td>\n",
       "      <td>10.99</td>\n",
       "      <td>9.99</td>\n",
       "      <td>USD</td>\n",
       "      <td>in stock</td>\n",
       "      <td>9272</td>\n",
       "      <td>Office Products</td>\n",
       "      <td>21.0</td>\n",
       "      <td>4.5</td>\n",
       "      <td>9.0</td>\n",
       "      <td>NaN</td>\n",
       "    </tr>\n",
       "    <tr>\n",
       "      <th>997</th>\n",
       "      <td>Elmer'S E842L Carpenter'S Interior</td>\n",
       "      <td>Elmer's</td>\n",
       "      <td>14.00</td>\n",
       "      <td>14.00</td>\n",
       "      <td>USD</td>\n",
       "      <td>in stock</td>\n",
       "      <td>1052</td>\n",
       "      <td>Tools &amp; Home Improvement</td>\n",
       "      <td>1.0</td>\n",
       "      <td>4.6</td>\n",
       "      <td>NaN</td>\n",
       "      <td>Tools &amp; Home Improvement</td>\n",
       "    </tr>\n",
       "    <tr>\n",
       "      <th>998</th>\n",
       "      <td>Homek Office Chair Mat</td>\n",
       "      <td>HOMEK</td>\n",
       "      <td>40.00</td>\n",
       "      <td>40.00</td>\n",
       "      <td>USD</td>\n",
       "      <td>in stock</td>\n",
       "      <td>1039</td>\n",
       "      <td>Office Products</td>\n",
       "      <td>1.0</td>\n",
       "      <td>4.0</td>\n",
       "      <td>13.0</td>\n",
       "      <td>Office Products</td>\n",
       "    </tr>\n",
       "    <tr>\n",
       "      <th>999</th>\n",
       "      <td>Bavilk Kids Bike Helmet</td>\n",
       "      <td>Bavilk</td>\n",
       "      <td>32.99</td>\n",
       "      <td>16.49</td>\n",
       "      <td>USD</td>\n",
       "      <td>unknown</td>\n",
       "      <td>254</td>\n",
       "      <td>Sports &amp; Outdoors</td>\n",
       "      <td>1.0</td>\n",
       "      <td>4.7</td>\n",
       "      <td>50.0</td>\n",
       "      <td>Sports &amp; Outdoors</td>\n",
       "    </tr>\n",
       "  </tbody>\n",
       "</table>\n",
       "<p>1000 rows × 12 columns</p>\n",
       "</div>"
      ],
      "text/plain": [
       "                            Product_name               brand  initial_price  \\\n",
       "0             Saucony Men'S Running Shoe             Saucony            NaN   \n",
       "1              Kishigo Safety Vest Vests             Kishigo            NaN   \n",
       "2              Twinsluxes Solar Post Cap          TWINSLUXES          49.99   \n",
       "3         Accutire Digital Tire Pressure            Accutire          18.00   \n",
       "4    Saura Life Science Hair Growth Hair  SAURA LIFE SCIENCE        1299.00   \n",
       "..                                   ...                 ...            ...   \n",
       "995       Madison Park Amherst Faux Silk        Madison Park         154.99   \n",
       "996              Bic Gel Rollerball Pens                 BIC          10.99   \n",
       "997   Elmer'S E842L Carpenter'S Interior             Elmer's          14.00   \n",
       "998               Homek Office Chair Mat               HOMEK          40.00   \n",
       "999              Bavilk Kids Bike Helmet              Bavilk          32.99   \n",
       "\n",
       "     final_price currency   availability  reviews_count  \\\n",
       "0          57.79      USD       in stock            702   \n",
       "1          28.50      USD       in stock            916   \n",
       "2          33.99      USD       in stock           3178   \n",
       "3          18.00      USD       in stock           8034   \n",
       "4         799.00      INR       in stock              5   \n",
       "..           ...      ...            ...            ...   \n",
       "995       111.99      USD  limited stock           4828   \n",
       "996         9.99      USD       in stock           9272   \n",
       "997        14.00      USD       in stock           1052   \n",
       "998        40.00      USD       in stock           1039   \n",
       "999        16.49      USD        unknown            254   \n",
       "\n",
       "                   categories  number_of_sellers  rating  discount  \\\n",
       "0                    Clothing               17.0     4.6       NaN   \n",
       "1    Tools & Home Improvement                8.0     4.6       NaN   \n",
       "2    Tools & Home Improvement                1.0     4.2      32.0   \n",
       "3                  Automotive                1.0     4.4       NaN   \n",
       "4                      Beauty                1.0     5.0      38.0   \n",
       "..                        ...                ...     ...       ...   \n",
       "995            Home & Kitchen                4.0     4.4      28.0   \n",
       "996           Office Products               21.0     4.5       9.0   \n",
       "997  Tools & Home Improvement                1.0     4.6       NaN   \n",
       "998           Office Products                1.0     4.0      13.0   \n",
       "999         Sports & Outdoors                1.0     4.7      50.0   \n",
       "\n",
       "                   Department  \n",
       "0                        mens  \n",
       "1                      Unisex  \n",
       "2    Tools & Home Improvement  \n",
       "3                  Automotive  \n",
       "4                      Beauty  \n",
       "..                        ...  \n",
       "995              Unisex-adult  \n",
       "996                       NaN  \n",
       "997  Tools & Home Improvement  \n",
       "998           Office Products  \n",
       "999         Sports & Outdoors  \n",
       "\n",
       "[1000 rows x 12 columns]"
      ]
     },
     "execution_count": 754,
     "metadata": {},
     "output_type": "execute_result"
    }
   ],
   "source": [
    "df"
   ]
  },
  {
   "cell_type": "markdown",
   "id": "b8ed8ebe-0ae5-4bc3-a09c-eb1bb1fffc6e",
   "metadata": {},
   "source": [
    "## EDA\n",
    "\n",
    "* EDA is the process of data understanding on Validated data\n",
    "* In statistics, Exploratory Data Analysis (EDA) is an approach of analyzing data sets to summarize their main characteristics, often using statistical graphics and other data visualization methods."
   ]
  },
  {
   "cell_type": "markdown",
   "id": "de748a08-bae7-4d3e-9603-229b00a83ff3",
   "metadata": {},
   "source": [
    "* Insights we can look in for this data from EDA:\n",
    "    - Relations between final price and discount\n",
    "    - Brand wise data\n",
    "    - Relations between brand and discounts\n",
    "    - etc.."
   ]
  },
  {
   "cell_type": "markdown",
   "id": "e35f96e1-77ba-4898-8734-57f605ca6a00",
   "metadata": {},
   "source": [
    "* *To get Insights on the data we can use eda techniques,*\n",
    "    - *Uni-Variate Analysis (Study of single column data)*\n",
    "    - *Bi/Multi-Variate Analysis (Study data between two or more columns)*\n",
    "* Above techniques will use *Descriptive Stats* & *Visualizations*\n",
    "    - *Descriptive Stats*\n",
    "        - Stats Measures are used to understand column data\n",
    "        - Refer Notes pdf given for uni & bi/multi variate measures.\n",
    "        - To start with descriptive stats , need to understand types of variables/columns in given data\n",
    "    - *Visualizations*\n",
    "        - Pictorial representation of data\n",
    "            - Descriptive Stats -> Visual representation"
   ]
  },
  {
   "cell_type": "markdown",
   "id": "72b61764-e12b-4c67-9701-2e11dac856de",
   "metadata": {},
   "source": [
    "**Uni-variate Analysis  - Study of Individual column data**"
   ]
  },
  {
   "cell_type": "code",
   "execution_count": 759,
   "id": "74625bfc-fb08-43c5-9c79-7ca34d0a021c",
   "metadata": {},
   "outputs": [
    {
     "data": {
      "text/html": [
       "        <script type=\"text/javascript\">\n",
       "        window.PlotlyConfig = {MathJaxConfig: 'local'};\n",
       "        if (window.MathJax && window.MathJax.Hub && window.MathJax.Hub.Config) {window.MathJax.Hub.Config({SVG: {font: \"STIX-Web\"}});}\n",
       "        if (typeof require !== 'undefined') {\n",
       "        require.undef(\"plotly\");\n",
       "        requirejs.config({\n",
       "            paths: {\n",
       "                'plotly': ['https://cdn.plot.ly/plotly-2.32.0.min']\n",
       "            }\n",
       "        });\n",
       "        require(['plotly'], function(Plotly) {\n",
       "            window._Plotly = Plotly;\n",
       "        });\n",
       "        }\n",
       "        </script>\n",
       "        "
      ]
     },
     "metadata": {},
     "output_type": "display_data"
    }
   ],
   "source": [
    "from plotly.offline import init_notebook_mode\n",
    "import plotly.express as px\n",
    "\n",
    "init_notebook_mode(connected=True)"
   ]
  },
  {
   "cell_type": "code",
   "execution_count": 760,
   "id": "50a408f1-ef2e-48eb-886d-e28af17c0a91",
   "metadata": {},
   "outputs": [
    {
     "data": {
      "application/vnd.plotly.v1+json": {
       "config": {
        "plotlyServerURL": "https://plot.ly"
       },
       "data": [
        {
         "alignmentgroup": "True",
         "hovertemplate": "brand=%{x}<br>Count=%{text}<extra></extra>",
         "legendgroup": "",
         "marker": {
          "color": "#636efa",
          "pattern": {
           "shape": ""
          }
         },
         "name": "",
         "offsetgroup": "",
         "orientation": "v",
         "showlegend": false,
         "text": [
          11,
          7,
          7,
          6,
          5,
          5,
          4,
          4,
          3,
          3
         ],
         "textposition": "outside",
         "type": "bar",
         "x": [
          "Skechers",
          "Amazon Essentials",
          "AVERY",
          "New Balance",
          "adidas",
          "VEVOR",
          "Ambesonne",
          "Champion",
          "Sperry",
          "IRWIN"
         ],
         "xaxis": "x",
         "y": [
          11,
          7,
          7,
          6,
          5,
          5,
          4,
          4,
          3,
          3
         ],
         "yaxis": "y"
        }
       ],
       "layout": {
        "barmode": "relative",
        "height": 800,
        "legend": {
         "tracegroupgap": 0
        },
        "template": {
         "data": {
          "bar": [
           {
            "error_x": {
             "color": "#2a3f5f"
            },
            "error_y": {
             "color": "#2a3f5f"
            },
            "marker": {
             "line": {
              "color": "#E5ECF6",
              "width": 0.5
             },
             "pattern": {
              "fillmode": "overlay",
              "size": 10,
              "solidity": 0.2
             }
            },
            "type": "bar"
           }
          ],
          "barpolar": [
           {
            "marker": {
             "line": {
              "color": "#E5ECF6",
              "width": 0.5
             },
             "pattern": {
              "fillmode": "overlay",
              "size": 10,
              "solidity": 0.2
             }
            },
            "type": "barpolar"
           }
          ],
          "carpet": [
           {
            "aaxis": {
             "endlinecolor": "#2a3f5f",
             "gridcolor": "white",
             "linecolor": "white",
             "minorgridcolor": "white",
             "startlinecolor": "#2a3f5f"
            },
            "baxis": {
             "endlinecolor": "#2a3f5f",
             "gridcolor": "white",
             "linecolor": "white",
             "minorgridcolor": "white",
             "startlinecolor": "#2a3f5f"
            },
            "type": "carpet"
           }
          ],
          "choropleth": [
           {
            "colorbar": {
             "outlinewidth": 0,
             "ticks": ""
            },
            "type": "choropleth"
           }
          ],
          "contour": [
           {
            "colorbar": {
             "outlinewidth": 0,
             "ticks": ""
            },
            "colorscale": [
             [
              0,
              "#0d0887"
             ],
             [
              0.1111111111111111,
              "#46039f"
             ],
             [
              0.2222222222222222,
              "#7201a8"
             ],
             [
              0.3333333333333333,
              "#9c179e"
             ],
             [
              0.4444444444444444,
              "#bd3786"
             ],
             [
              0.5555555555555556,
              "#d8576b"
             ],
             [
              0.6666666666666666,
              "#ed7953"
             ],
             [
              0.7777777777777778,
              "#fb9f3a"
             ],
             [
              0.8888888888888888,
              "#fdca26"
             ],
             [
              1,
              "#f0f921"
             ]
            ],
            "type": "contour"
           }
          ],
          "contourcarpet": [
           {
            "colorbar": {
             "outlinewidth": 0,
             "ticks": ""
            },
            "type": "contourcarpet"
           }
          ],
          "heatmap": [
           {
            "colorbar": {
             "outlinewidth": 0,
             "ticks": ""
            },
            "colorscale": [
             [
              0,
              "#0d0887"
             ],
             [
              0.1111111111111111,
              "#46039f"
             ],
             [
              0.2222222222222222,
              "#7201a8"
             ],
             [
              0.3333333333333333,
              "#9c179e"
             ],
             [
              0.4444444444444444,
              "#bd3786"
             ],
             [
              0.5555555555555556,
              "#d8576b"
             ],
             [
              0.6666666666666666,
              "#ed7953"
             ],
             [
              0.7777777777777778,
              "#fb9f3a"
             ],
             [
              0.8888888888888888,
              "#fdca26"
             ],
             [
              1,
              "#f0f921"
             ]
            ],
            "type": "heatmap"
           }
          ],
          "heatmapgl": [
           {
            "colorbar": {
             "outlinewidth": 0,
             "ticks": ""
            },
            "colorscale": [
             [
              0,
              "#0d0887"
             ],
             [
              0.1111111111111111,
              "#46039f"
             ],
             [
              0.2222222222222222,
              "#7201a8"
             ],
             [
              0.3333333333333333,
              "#9c179e"
             ],
             [
              0.4444444444444444,
              "#bd3786"
             ],
             [
              0.5555555555555556,
              "#d8576b"
             ],
             [
              0.6666666666666666,
              "#ed7953"
             ],
             [
              0.7777777777777778,
              "#fb9f3a"
             ],
             [
              0.8888888888888888,
              "#fdca26"
             ],
             [
              1,
              "#f0f921"
             ]
            ],
            "type": "heatmapgl"
           }
          ],
          "histogram": [
           {
            "marker": {
             "pattern": {
              "fillmode": "overlay",
              "size": 10,
              "solidity": 0.2
             }
            },
            "type": "histogram"
           }
          ],
          "histogram2d": [
           {
            "colorbar": {
             "outlinewidth": 0,
             "ticks": ""
            },
            "colorscale": [
             [
              0,
              "#0d0887"
             ],
             [
              0.1111111111111111,
              "#46039f"
             ],
             [
              0.2222222222222222,
              "#7201a8"
             ],
             [
              0.3333333333333333,
              "#9c179e"
             ],
             [
              0.4444444444444444,
              "#bd3786"
             ],
             [
              0.5555555555555556,
              "#d8576b"
             ],
             [
              0.6666666666666666,
              "#ed7953"
             ],
             [
              0.7777777777777778,
              "#fb9f3a"
             ],
             [
              0.8888888888888888,
              "#fdca26"
             ],
             [
              1,
              "#f0f921"
             ]
            ],
            "type": "histogram2d"
           }
          ],
          "histogram2dcontour": [
           {
            "colorbar": {
             "outlinewidth": 0,
             "ticks": ""
            },
            "colorscale": [
             [
              0,
              "#0d0887"
             ],
             [
              0.1111111111111111,
              "#46039f"
             ],
             [
              0.2222222222222222,
              "#7201a8"
             ],
             [
              0.3333333333333333,
              "#9c179e"
             ],
             [
              0.4444444444444444,
              "#bd3786"
             ],
             [
              0.5555555555555556,
              "#d8576b"
             ],
             [
              0.6666666666666666,
              "#ed7953"
             ],
             [
              0.7777777777777778,
              "#fb9f3a"
             ],
             [
              0.8888888888888888,
              "#fdca26"
             ],
             [
              1,
              "#f0f921"
             ]
            ],
            "type": "histogram2dcontour"
           }
          ],
          "mesh3d": [
           {
            "colorbar": {
             "outlinewidth": 0,
             "ticks": ""
            },
            "type": "mesh3d"
           }
          ],
          "parcoords": [
           {
            "line": {
             "colorbar": {
              "outlinewidth": 0,
              "ticks": ""
             }
            },
            "type": "parcoords"
           }
          ],
          "pie": [
           {
            "automargin": true,
            "type": "pie"
           }
          ],
          "scatter": [
           {
            "fillpattern": {
             "fillmode": "overlay",
             "size": 10,
             "solidity": 0.2
            },
            "type": "scatter"
           }
          ],
          "scatter3d": [
           {
            "line": {
             "colorbar": {
              "outlinewidth": 0,
              "ticks": ""
             }
            },
            "marker": {
             "colorbar": {
              "outlinewidth": 0,
              "ticks": ""
             }
            },
            "type": "scatter3d"
           }
          ],
          "scattercarpet": [
           {
            "marker": {
             "colorbar": {
              "outlinewidth": 0,
              "ticks": ""
             }
            },
            "type": "scattercarpet"
           }
          ],
          "scattergeo": [
           {
            "marker": {
             "colorbar": {
              "outlinewidth": 0,
              "ticks": ""
             }
            },
            "type": "scattergeo"
           }
          ],
          "scattergl": [
           {
            "marker": {
             "colorbar": {
              "outlinewidth": 0,
              "ticks": ""
             }
            },
            "type": "scattergl"
           }
          ],
          "scattermapbox": [
           {
            "marker": {
             "colorbar": {
              "outlinewidth": 0,
              "ticks": ""
             }
            },
            "type": "scattermapbox"
           }
          ],
          "scatterpolar": [
           {
            "marker": {
             "colorbar": {
              "outlinewidth": 0,
              "ticks": ""
             }
            },
            "type": "scatterpolar"
           }
          ],
          "scatterpolargl": [
           {
            "marker": {
             "colorbar": {
              "outlinewidth": 0,
              "ticks": ""
             }
            },
            "type": "scatterpolargl"
           }
          ],
          "scatterternary": [
           {
            "marker": {
             "colorbar": {
              "outlinewidth": 0,
              "ticks": ""
             }
            },
            "type": "scatterternary"
           }
          ],
          "surface": [
           {
            "colorbar": {
             "outlinewidth": 0,
             "ticks": ""
            },
            "colorscale": [
             [
              0,
              "#0d0887"
             ],
             [
              0.1111111111111111,
              "#46039f"
             ],
             [
              0.2222222222222222,
              "#7201a8"
             ],
             [
              0.3333333333333333,
              "#9c179e"
             ],
             [
              0.4444444444444444,
              "#bd3786"
             ],
             [
              0.5555555555555556,
              "#d8576b"
             ],
             [
              0.6666666666666666,
              "#ed7953"
             ],
             [
              0.7777777777777778,
              "#fb9f3a"
             ],
             [
              0.8888888888888888,
              "#fdca26"
             ],
             [
              1,
              "#f0f921"
             ]
            ],
            "type": "surface"
           }
          ],
          "table": [
           {
            "cells": {
             "fill": {
              "color": "#EBF0F8"
             },
             "line": {
              "color": "white"
             }
            },
            "header": {
             "fill": {
              "color": "#C8D4E3"
             },
             "line": {
              "color": "white"
             }
            },
            "type": "table"
           }
          ]
         },
         "layout": {
          "annotationdefaults": {
           "arrowcolor": "#2a3f5f",
           "arrowhead": 0,
           "arrowwidth": 1
          },
          "autotypenumbers": "strict",
          "coloraxis": {
           "colorbar": {
            "outlinewidth": 0,
            "ticks": ""
           }
          },
          "colorscale": {
           "diverging": [
            [
             0,
             "#8e0152"
            ],
            [
             0.1,
             "#c51b7d"
            ],
            [
             0.2,
             "#de77ae"
            ],
            [
             0.3,
             "#f1b6da"
            ],
            [
             0.4,
             "#fde0ef"
            ],
            [
             0.5,
             "#f7f7f7"
            ],
            [
             0.6,
             "#e6f5d0"
            ],
            [
             0.7,
             "#b8e186"
            ],
            [
             0.8,
             "#7fbc41"
            ],
            [
             0.9,
             "#4d9221"
            ],
            [
             1,
             "#276419"
            ]
           ],
           "sequential": [
            [
             0,
             "#0d0887"
            ],
            [
             0.1111111111111111,
             "#46039f"
            ],
            [
             0.2222222222222222,
             "#7201a8"
            ],
            [
             0.3333333333333333,
             "#9c179e"
            ],
            [
             0.4444444444444444,
             "#bd3786"
            ],
            [
             0.5555555555555556,
             "#d8576b"
            ],
            [
             0.6666666666666666,
             "#ed7953"
            ],
            [
             0.7777777777777778,
             "#fb9f3a"
            ],
            [
             0.8888888888888888,
             "#fdca26"
            ],
            [
             1,
             "#f0f921"
            ]
           ],
           "sequentialminus": [
            [
             0,
             "#0d0887"
            ],
            [
             0.1111111111111111,
             "#46039f"
            ],
            [
             0.2222222222222222,
             "#7201a8"
            ],
            [
             0.3333333333333333,
             "#9c179e"
            ],
            [
             0.4444444444444444,
             "#bd3786"
            ],
            [
             0.5555555555555556,
             "#d8576b"
            ],
            [
             0.6666666666666666,
             "#ed7953"
            ],
            [
             0.7777777777777778,
             "#fb9f3a"
            ],
            [
             0.8888888888888888,
             "#fdca26"
            ],
            [
             1,
             "#f0f921"
            ]
           ]
          },
          "colorway": [
           "#636efa",
           "#EF553B",
           "#00cc96",
           "#ab63fa",
           "#FFA15A",
           "#19d3f3",
           "#FF6692",
           "#B6E880",
           "#FF97FF",
           "#FECB52"
          ],
          "font": {
           "color": "#2a3f5f"
          },
          "geo": {
           "bgcolor": "white",
           "lakecolor": "white",
           "landcolor": "#E5ECF6",
           "showlakes": true,
           "showland": true,
           "subunitcolor": "white"
          },
          "hoverlabel": {
           "align": "left"
          },
          "hovermode": "closest",
          "mapbox": {
           "style": "light"
          },
          "paper_bgcolor": "white",
          "plot_bgcolor": "#E5ECF6",
          "polar": {
           "angularaxis": {
            "gridcolor": "white",
            "linecolor": "white",
            "ticks": ""
           },
           "bgcolor": "#E5ECF6",
           "radialaxis": {
            "gridcolor": "white",
            "linecolor": "white",
            "ticks": ""
           }
          },
          "scene": {
           "xaxis": {
            "backgroundcolor": "#E5ECF6",
            "gridcolor": "white",
            "gridwidth": 2,
            "linecolor": "white",
            "showbackground": true,
            "ticks": "",
            "zerolinecolor": "white"
           },
           "yaxis": {
            "backgroundcolor": "#E5ECF6",
            "gridcolor": "white",
            "gridwidth": 2,
            "linecolor": "white",
            "showbackground": true,
            "ticks": "",
            "zerolinecolor": "white"
           },
           "zaxis": {
            "backgroundcolor": "#E5ECF6",
            "gridcolor": "white",
            "gridwidth": 2,
            "linecolor": "white",
            "showbackground": true,
            "ticks": "",
            "zerolinecolor": "white"
           }
          },
          "shapedefaults": {
           "line": {
            "color": "#2a3f5f"
           }
          },
          "ternary": {
           "aaxis": {
            "gridcolor": "white",
            "linecolor": "white",
            "ticks": ""
           },
           "baxis": {
            "gridcolor": "white",
            "linecolor": "white",
            "ticks": ""
           },
           "bgcolor": "#E5ECF6",
           "caxis": {
            "gridcolor": "white",
            "linecolor": "white",
            "ticks": ""
           }
          },
          "title": {
           "x": 0.05
          },
          "xaxis": {
           "automargin": true,
           "gridcolor": "white",
           "linecolor": "white",
           "ticks": "",
           "title": {
            "standoff": 15
           },
           "zerolinecolor": "white",
           "zerolinewidth": 2
          },
          "yaxis": {
           "automargin": true,
           "gridcolor": "white",
           "linecolor": "white",
           "ticks": "",
           "title": {
            "standoff": 15
           },
           "zerolinecolor": "white",
           "zerolinewidth": 2
          }
         }
        },
        "title": {
         "text": "Top 10 brands"
        },
        "width": 800,
        "xaxis": {
         "anchor": "y",
         "domain": [
          0,
          1
         ],
         "tickangle": 45,
         "title": {
          "text": "brand"
         }
        },
        "yaxis": {
         "anchor": "x",
         "domain": [
          0,
          1
         ],
         "title": {
          "text": "Count"
         }
        }
       }
      },
      "text/html": [
       "<div>                            <div id=\"102f8449-ef03-4caa-b403-42577b0252c4\" class=\"plotly-graph-div\" style=\"height:800px; width:800px;\"></div>            <script type=\"text/javascript\">                require([\"plotly\"], function(Plotly) {                    window.PLOTLYENV=window.PLOTLYENV || {};                                    if (document.getElementById(\"102f8449-ef03-4caa-b403-42577b0252c4\")) {                    Plotly.newPlot(                        \"102f8449-ef03-4caa-b403-42577b0252c4\",                        [{\"alignmentgroup\":\"True\",\"hovertemplate\":\"brand=%{x}\\u003cbr\\u003eCount=%{text}\\u003cextra\\u003e\\u003c\\u002fextra\\u003e\",\"legendgroup\":\"\",\"marker\":{\"color\":\"#636efa\",\"pattern\":{\"shape\":\"\"}},\"name\":\"\",\"offsetgroup\":\"\",\"orientation\":\"v\",\"showlegend\":false,\"text\":[11.0,7.0,7.0,6.0,5.0,5.0,4.0,4.0,3.0,3.0],\"textposition\":\"outside\",\"x\":[\"Skechers\",\"Amazon Essentials\",\"AVERY\",\"New Balance\",\"adidas\",\"VEVOR\",\"Ambesonne\",\"Champion\",\"Sperry\",\"IRWIN\"],\"xaxis\":\"x\",\"y\":[11,7,7,6,5,5,4,4,3,3],\"yaxis\":\"y\",\"type\":\"bar\"}],                        {\"template\":{\"data\":{\"histogram2dcontour\":[{\"type\":\"histogram2dcontour\",\"colorbar\":{\"outlinewidth\":0,\"ticks\":\"\"},\"colorscale\":[[0.0,\"#0d0887\"],[0.1111111111111111,\"#46039f\"],[0.2222222222222222,\"#7201a8\"],[0.3333333333333333,\"#9c179e\"],[0.4444444444444444,\"#bd3786\"],[0.5555555555555556,\"#d8576b\"],[0.6666666666666666,\"#ed7953\"],[0.7777777777777778,\"#fb9f3a\"],[0.8888888888888888,\"#fdca26\"],[1.0,\"#f0f921\"]]}],\"choropleth\":[{\"type\":\"choropleth\",\"colorbar\":{\"outlinewidth\":0,\"ticks\":\"\"}}],\"histogram2d\":[{\"type\":\"histogram2d\",\"colorbar\":{\"outlinewidth\":0,\"ticks\":\"\"},\"colorscale\":[[0.0,\"#0d0887\"],[0.1111111111111111,\"#46039f\"],[0.2222222222222222,\"#7201a8\"],[0.3333333333333333,\"#9c179e\"],[0.4444444444444444,\"#bd3786\"],[0.5555555555555556,\"#d8576b\"],[0.6666666666666666,\"#ed7953\"],[0.7777777777777778,\"#fb9f3a\"],[0.8888888888888888,\"#fdca26\"],[1.0,\"#f0f921\"]]}],\"heatmap\":[{\"type\":\"heatmap\",\"colorbar\":{\"outlinewidth\":0,\"ticks\":\"\"},\"colorscale\":[[0.0,\"#0d0887\"],[0.1111111111111111,\"#46039f\"],[0.2222222222222222,\"#7201a8\"],[0.3333333333333333,\"#9c179e\"],[0.4444444444444444,\"#bd3786\"],[0.5555555555555556,\"#d8576b\"],[0.6666666666666666,\"#ed7953\"],[0.7777777777777778,\"#fb9f3a\"],[0.8888888888888888,\"#fdca26\"],[1.0,\"#f0f921\"]]}],\"heatmapgl\":[{\"type\":\"heatmapgl\",\"colorbar\":{\"outlinewidth\":0,\"ticks\":\"\"},\"colorscale\":[[0.0,\"#0d0887\"],[0.1111111111111111,\"#46039f\"],[0.2222222222222222,\"#7201a8\"],[0.3333333333333333,\"#9c179e\"],[0.4444444444444444,\"#bd3786\"],[0.5555555555555556,\"#d8576b\"],[0.6666666666666666,\"#ed7953\"],[0.7777777777777778,\"#fb9f3a\"],[0.8888888888888888,\"#fdca26\"],[1.0,\"#f0f921\"]]}],\"contourcarpet\":[{\"type\":\"contourcarpet\",\"colorbar\":{\"outlinewidth\":0,\"ticks\":\"\"}}],\"contour\":[{\"type\":\"contour\",\"colorbar\":{\"outlinewidth\":0,\"ticks\":\"\"},\"colorscale\":[[0.0,\"#0d0887\"],[0.1111111111111111,\"#46039f\"],[0.2222222222222222,\"#7201a8\"],[0.3333333333333333,\"#9c179e\"],[0.4444444444444444,\"#bd3786\"],[0.5555555555555556,\"#d8576b\"],[0.6666666666666666,\"#ed7953\"],[0.7777777777777778,\"#fb9f3a\"],[0.8888888888888888,\"#fdca26\"],[1.0,\"#f0f921\"]]}],\"surface\":[{\"type\":\"surface\",\"colorbar\":{\"outlinewidth\":0,\"ticks\":\"\"},\"colorscale\":[[0.0,\"#0d0887\"],[0.1111111111111111,\"#46039f\"],[0.2222222222222222,\"#7201a8\"],[0.3333333333333333,\"#9c179e\"],[0.4444444444444444,\"#bd3786\"],[0.5555555555555556,\"#d8576b\"],[0.6666666666666666,\"#ed7953\"],[0.7777777777777778,\"#fb9f3a\"],[0.8888888888888888,\"#fdca26\"],[1.0,\"#f0f921\"]]}],\"mesh3d\":[{\"type\":\"mesh3d\",\"colorbar\":{\"outlinewidth\":0,\"ticks\":\"\"}}],\"scatter\":[{\"fillpattern\":{\"fillmode\":\"overlay\",\"size\":10,\"solidity\":0.2},\"type\":\"scatter\"}],\"parcoords\":[{\"type\":\"parcoords\",\"line\":{\"colorbar\":{\"outlinewidth\":0,\"ticks\":\"\"}}}],\"scatterpolargl\":[{\"type\":\"scatterpolargl\",\"marker\":{\"colorbar\":{\"outlinewidth\":0,\"ticks\":\"\"}}}],\"bar\":[{\"error_x\":{\"color\":\"#2a3f5f\"},\"error_y\":{\"color\":\"#2a3f5f\"},\"marker\":{\"line\":{\"color\":\"#E5ECF6\",\"width\":0.5},\"pattern\":{\"fillmode\":\"overlay\",\"size\":10,\"solidity\":0.2}},\"type\":\"bar\"}],\"scattergeo\":[{\"type\":\"scattergeo\",\"marker\":{\"colorbar\":{\"outlinewidth\":0,\"ticks\":\"\"}}}],\"scatterpolar\":[{\"type\":\"scatterpolar\",\"marker\":{\"colorbar\":{\"outlinewidth\":0,\"ticks\":\"\"}}}],\"histogram\":[{\"marker\":{\"pattern\":{\"fillmode\":\"overlay\",\"size\":10,\"solidity\":0.2}},\"type\":\"histogram\"}],\"scattergl\":[{\"type\":\"scattergl\",\"marker\":{\"colorbar\":{\"outlinewidth\":0,\"ticks\":\"\"}}}],\"scatter3d\":[{\"type\":\"scatter3d\",\"line\":{\"colorbar\":{\"outlinewidth\":0,\"ticks\":\"\"}},\"marker\":{\"colorbar\":{\"outlinewidth\":0,\"ticks\":\"\"}}}],\"scattermapbox\":[{\"type\":\"scattermapbox\",\"marker\":{\"colorbar\":{\"outlinewidth\":0,\"ticks\":\"\"}}}],\"scatterternary\":[{\"type\":\"scatterternary\",\"marker\":{\"colorbar\":{\"outlinewidth\":0,\"ticks\":\"\"}}}],\"scattercarpet\":[{\"type\":\"scattercarpet\",\"marker\":{\"colorbar\":{\"outlinewidth\":0,\"ticks\":\"\"}}}],\"carpet\":[{\"aaxis\":{\"endlinecolor\":\"#2a3f5f\",\"gridcolor\":\"white\",\"linecolor\":\"white\",\"minorgridcolor\":\"white\",\"startlinecolor\":\"#2a3f5f\"},\"baxis\":{\"endlinecolor\":\"#2a3f5f\",\"gridcolor\":\"white\",\"linecolor\":\"white\",\"minorgridcolor\":\"white\",\"startlinecolor\":\"#2a3f5f\"},\"type\":\"carpet\"}],\"table\":[{\"cells\":{\"fill\":{\"color\":\"#EBF0F8\"},\"line\":{\"color\":\"white\"}},\"header\":{\"fill\":{\"color\":\"#C8D4E3\"},\"line\":{\"color\":\"white\"}},\"type\":\"table\"}],\"barpolar\":[{\"marker\":{\"line\":{\"color\":\"#E5ECF6\",\"width\":0.5},\"pattern\":{\"fillmode\":\"overlay\",\"size\":10,\"solidity\":0.2}},\"type\":\"barpolar\"}],\"pie\":[{\"automargin\":true,\"type\":\"pie\"}]},\"layout\":{\"autotypenumbers\":\"strict\",\"colorway\":[\"#636efa\",\"#EF553B\",\"#00cc96\",\"#ab63fa\",\"#FFA15A\",\"#19d3f3\",\"#FF6692\",\"#B6E880\",\"#FF97FF\",\"#FECB52\"],\"font\":{\"color\":\"#2a3f5f\"},\"hovermode\":\"closest\",\"hoverlabel\":{\"align\":\"left\"},\"paper_bgcolor\":\"white\",\"plot_bgcolor\":\"#E5ECF6\",\"polar\":{\"bgcolor\":\"#E5ECF6\",\"angularaxis\":{\"gridcolor\":\"white\",\"linecolor\":\"white\",\"ticks\":\"\"},\"radialaxis\":{\"gridcolor\":\"white\",\"linecolor\":\"white\",\"ticks\":\"\"}},\"ternary\":{\"bgcolor\":\"#E5ECF6\",\"aaxis\":{\"gridcolor\":\"white\",\"linecolor\":\"white\",\"ticks\":\"\"},\"baxis\":{\"gridcolor\":\"white\",\"linecolor\":\"white\",\"ticks\":\"\"},\"caxis\":{\"gridcolor\":\"white\",\"linecolor\":\"white\",\"ticks\":\"\"}},\"coloraxis\":{\"colorbar\":{\"outlinewidth\":0,\"ticks\":\"\"}},\"colorscale\":{\"sequential\":[[0.0,\"#0d0887\"],[0.1111111111111111,\"#46039f\"],[0.2222222222222222,\"#7201a8\"],[0.3333333333333333,\"#9c179e\"],[0.4444444444444444,\"#bd3786\"],[0.5555555555555556,\"#d8576b\"],[0.6666666666666666,\"#ed7953\"],[0.7777777777777778,\"#fb9f3a\"],[0.8888888888888888,\"#fdca26\"],[1.0,\"#f0f921\"]],\"sequentialminus\":[[0.0,\"#0d0887\"],[0.1111111111111111,\"#46039f\"],[0.2222222222222222,\"#7201a8\"],[0.3333333333333333,\"#9c179e\"],[0.4444444444444444,\"#bd3786\"],[0.5555555555555556,\"#d8576b\"],[0.6666666666666666,\"#ed7953\"],[0.7777777777777778,\"#fb9f3a\"],[0.8888888888888888,\"#fdca26\"],[1.0,\"#f0f921\"]],\"diverging\":[[0,\"#8e0152\"],[0.1,\"#c51b7d\"],[0.2,\"#de77ae\"],[0.3,\"#f1b6da\"],[0.4,\"#fde0ef\"],[0.5,\"#f7f7f7\"],[0.6,\"#e6f5d0\"],[0.7,\"#b8e186\"],[0.8,\"#7fbc41\"],[0.9,\"#4d9221\"],[1,\"#276419\"]]},\"xaxis\":{\"gridcolor\":\"white\",\"linecolor\":\"white\",\"ticks\":\"\",\"title\":{\"standoff\":15},\"zerolinecolor\":\"white\",\"automargin\":true,\"zerolinewidth\":2},\"yaxis\":{\"gridcolor\":\"white\",\"linecolor\":\"white\",\"ticks\":\"\",\"title\":{\"standoff\":15},\"zerolinecolor\":\"white\",\"automargin\":true,\"zerolinewidth\":2},\"scene\":{\"xaxis\":{\"backgroundcolor\":\"#E5ECF6\",\"gridcolor\":\"white\",\"linecolor\":\"white\",\"showbackground\":true,\"ticks\":\"\",\"zerolinecolor\":\"white\",\"gridwidth\":2},\"yaxis\":{\"backgroundcolor\":\"#E5ECF6\",\"gridcolor\":\"white\",\"linecolor\":\"white\",\"showbackground\":true,\"ticks\":\"\",\"zerolinecolor\":\"white\",\"gridwidth\":2},\"zaxis\":{\"backgroundcolor\":\"#E5ECF6\",\"gridcolor\":\"white\",\"linecolor\":\"white\",\"showbackground\":true,\"ticks\":\"\",\"zerolinecolor\":\"white\",\"gridwidth\":2}},\"shapedefaults\":{\"line\":{\"color\":\"#2a3f5f\"}},\"annotationdefaults\":{\"arrowcolor\":\"#2a3f5f\",\"arrowhead\":0,\"arrowwidth\":1},\"geo\":{\"bgcolor\":\"white\",\"landcolor\":\"#E5ECF6\",\"subunitcolor\":\"white\",\"showland\":true,\"showlakes\":true,\"lakecolor\":\"white\"},\"title\":{\"x\":0.05},\"mapbox\":{\"style\":\"light\"}}},\"xaxis\":{\"anchor\":\"y\",\"domain\":[0.0,1.0],\"title\":{\"text\":\"brand\"},\"tickangle\":45},\"yaxis\":{\"anchor\":\"x\",\"domain\":[0.0,1.0],\"title\":{\"text\":\"Count\"}},\"legend\":{\"tracegroupgap\":0},\"title\":{\"text\":\"Top 10 brands\"},\"barmode\":\"relative\",\"height\":800,\"width\":800},                        {\"responsive\": true}                    ).then(function(){\n",
       "                            \n",
       "var gd = document.getElementById('102f8449-ef03-4caa-b403-42577b0252c4');\n",
       "var x = new MutationObserver(function (mutations, observer) {{\n",
       "        var display = window.getComputedStyle(gd).display;\n",
       "        if (!display || display === 'none') {{\n",
       "            console.log([gd, 'removed!']);\n",
       "            Plotly.purge(gd);\n",
       "            observer.disconnect();\n",
       "        }}\n",
       "}});\n",
       "\n",
       "// Listen for the removal of the full notebook cells\n",
       "var notebookContainer = gd.closest('#notebook-container');\n",
       "if (notebookContainer) {{\n",
       "    x.observe(notebookContainer, {childList: true});\n",
       "}}\n",
       "\n",
       "// Listen for the clearing of the current output cell\n",
       "var outputEl = gd.closest('.output');\n",
       "if (outputEl) {{\n",
       "    x.observe(outputEl, {childList: true});\n",
       "}}\n",
       "\n",
       "                        })                };                });            </script>        </div>"
      ]
     },
     "metadata": {},
     "output_type": "display_data"
    }
   ],
   "source": [
    "top_brands = df['brand'].value_counts().head(10).reset_index()#Converts the result from a Series to a DataFrame\n",
    "top_brands.columns = ['brand', 'Count']\n",
    "\n",
    "\n",
    "fig = px.bar(\n",
    "    top_brands,\n",
    "    x='brand',\n",
    "    y='Count',\n",
    "    title='Top 10 brands',\n",
    "    text='Count'\n",
    ")\n",
    "\n",
    "fig.update_traces(textposition='outside')\n",
    "fig.update_layout(\n",
    "    xaxis_tickangle=45,\n",
    "    height=800,\n",
    "    width=800\n",
    ")\n",
    "\n",
    "fig"
   ]
  },
  {
   "cell_type": "code",
   "execution_count": 761,
   "id": "ea06e62c-0a53-4503-81af-e1a39e0432a4",
   "metadata": {},
   "outputs": [
    {
     "data": {
      "application/vnd.plotly.v1+json": {
       "config": {
        "plotlyServerURL": "https://plot.ly"
       },
       "data": [
        {
         "alignmentgroup": "True",
         "hovertemplate": "categories=%{x}<br>Count=%{text}<extra></extra>",
         "legendgroup": "",
         "marker": {
          "color": "#636efa",
          "pattern": {
           "shape": ""
          }
         },
         "name": "",
         "offsetgroup": "",
         "orientation": "v",
         "showlegend": false,
         "text": [
          216,
          150,
          112,
          78,
          75,
          56,
          45,
          33,
          31,
          27
         ],
         "textposition": "outside",
         "type": "bar",
         "x": [
          "Clothing",
          "Home & Kitchen",
          "Tools & Home Improvement",
          "Sports & Outdoors",
          "Electronics",
          "Automotive",
          "Office Products",
          "Health & Household",
          "Beauty",
          "Arts"
         ],
         "xaxis": "x",
         "y": [
          216,
          150,
          112,
          78,
          75,
          56,
          45,
          33,
          31,
          27
         ],
         "yaxis": "y"
        }
       ],
       "layout": {
        "barmode": "relative",
        "height": 800,
        "legend": {
         "tracegroupgap": 0
        },
        "template": {
         "data": {
          "bar": [
           {
            "error_x": {
             "color": "#2a3f5f"
            },
            "error_y": {
             "color": "#2a3f5f"
            },
            "marker": {
             "line": {
              "color": "#E5ECF6",
              "width": 0.5
             },
             "pattern": {
              "fillmode": "overlay",
              "size": 10,
              "solidity": 0.2
             }
            },
            "type": "bar"
           }
          ],
          "barpolar": [
           {
            "marker": {
             "line": {
              "color": "#E5ECF6",
              "width": 0.5
             },
             "pattern": {
              "fillmode": "overlay",
              "size": 10,
              "solidity": 0.2
             }
            },
            "type": "barpolar"
           }
          ],
          "carpet": [
           {
            "aaxis": {
             "endlinecolor": "#2a3f5f",
             "gridcolor": "white",
             "linecolor": "white",
             "minorgridcolor": "white",
             "startlinecolor": "#2a3f5f"
            },
            "baxis": {
             "endlinecolor": "#2a3f5f",
             "gridcolor": "white",
             "linecolor": "white",
             "minorgridcolor": "white",
             "startlinecolor": "#2a3f5f"
            },
            "type": "carpet"
           }
          ],
          "choropleth": [
           {
            "colorbar": {
             "outlinewidth": 0,
             "ticks": ""
            },
            "type": "choropleth"
           }
          ],
          "contour": [
           {
            "colorbar": {
             "outlinewidth": 0,
             "ticks": ""
            },
            "colorscale": [
             [
              0,
              "#0d0887"
             ],
             [
              0.1111111111111111,
              "#46039f"
             ],
             [
              0.2222222222222222,
              "#7201a8"
             ],
             [
              0.3333333333333333,
              "#9c179e"
             ],
             [
              0.4444444444444444,
              "#bd3786"
             ],
             [
              0.5555555555555556,
              "#d8576b"
             ],
             [
              0.6666666666666666,
              "#ed7953"
             ],
             [
              0.7777777777777778,
              "#fb9f3a"
             ],
             [
              0.8888888888888888,
              "#fdca26"
             ],
             [
              1,
              "#f0f921"
             ]
            ],
            "type": "contour"
           }
          ],
          "contourcarpet": [
           {
            "colorbar": {
             "outlinewidth": 0,
             "ticks": ""
            },
            "type": "contourcarpet"
           }
          ],
          "heatmap": [
           {
            "colorbar": {
             "outlinewidth": 0,
             "ticks": ""
            },
            "colorscale": [
             [
              0,
              "#0d0887"
             ],
             [
              0.1111111111111111,
              "#46039f"
             ],
             [
              0.2222222222222222,
              "#7201a8"
             ],
             [
              0.3333333333333333,
              "#9c179e"
             ],
             [
              0.4444444444444444,
              "#bd3786"
             ],
             [
              0.5555555555555556,
              "#d8576b"
             ],
             [
              0.6666666666666666,
              "#ed7953"
             ],
             [
              0.7777777777777778,
              "#fb9f3a"
             ],
             [
              0.8888888888888888,
              "#fdca26"
             ],
             [
              1,
              "#f0f921"
             ]
            ],
            "type": "heatmap"
           }
          ],
          "heatmapgl": [
           {
            "colorbar": {
             "outlinewidth": 0,
             "ticks": ""
            },
            "colorscale": [
             [
              0,
              "#0d0887"
             ],
             [
              0.1111111111111111,
              "#46039f"
             ],
             [
              0.2222222222222222,
              "#7201a8"
             ],
             [
              0.3333333333333333,
              "#9c179e"
             ],
             [
              0.4444444444444444,
              "#bd3786"
             ],
             [
              0.5555555555555556,
              "#d8576b"
             ],
             [
              0.6666666666666666,
              "#ed7953"
             ],
             [
              0.7777777777777778,
              "#fb9f3a"
             ],
             [
              0.8888888888888888,
              "#fdca26"
             ],
             [
              1,
              "#f0f921"
             ]
            ],
            "type": "heatmapgl"
           }
          ],
          "histogram": [
           {
            "marker": {
             "pattern": {
              "fillmode": "overlay",
              "size": 10,
              "solidity": 0.2
             }
            },
            "type": "histogram"
           }
          ],
          "histogram2d": [
           {
            "colorbar": {
             "outlinewidth": 0,
             "ticks": ""
            },
            "colorscale": [
             [
              0,
              "#0d0887"
             ],
             [
              0.1111111111111111,
              "#46039f"
             ],
             [
              0.2222222222222222,
              "#7201a8"
             ],
             [
              0.3333333333333333,
              "#9c179e"
             ],
             [
              0.4444444444444444,
              "#bd3786"
             ],
             [
              0.5555555555555556,
              "#d8576b"
             ],
             [
              0.6666666666666666,
              "#ed7953"
             ],
             [
              0.7777777777777778,
              "#fb9f3a"
             ],
             [
              0.8888888888888888,
              "#fdca26"
             ],
             [
              1,
              "#f0f921"
             ]
            ],
            "type": "histogram2d"
           }
          ],
          "histogram2dcontour": [
           {
            "colorbar": {
             "outlinewidth": 0,
             "ticks": ""
            },
            "colorscale": [
             [
              0,
              "#0d0887"
             ],
             [
              0.1111111111111111,
              "#46039f"
             ],
             [
              0.2222222222222222,
              "#7201a8"
             ],
             [
              0.3333333333333333,
              "#9c179e"
             ],
             [
              0.4444444444444444,
              "#bd3786"
             ],
             [
              0.5555555555555556,
              "#d8576b"
             ],
             [
              0.6666666666666666,
              "#ed7953"
             ],
             [
              0.7777777777777778,
              "#fb9f3a"
             ],
             [
              0.8888888888888888,
              "#fdca26"
             ],
             [
              1,
              "#f0f921"
             ]
            ],
            "type": "histogram2dcontour"
           }
          ],
          "mesh3d": [
           {
            "colorbar": {
             "outlinewidth": 0,
             "ticks": ""
            },
            "type": "mesh3d"
           }
          ],
          "parcoords": [
           {
            "line": {
             "colorbar": {
              "outlinewidth": 0,
              "ticks": ""
             }
            },
            "type": "parcoords"
           }
          ],
          "pie": [
           {
            "automargin": true,
            "type": "pie"
           }
          ],
          "scatter": [
           {
            "fillpattern": {
             "fillmode": "overlay",
             "size": 10,
             "solidity": 0.2
            },
            "type": "scatter"
           }
          ],
          "scatter3d": [
           {
            "line": {
             "colorbar": {
              "outlinewidth": 0,
              "ticks": ""
             }
            },
            "marker": {
             "colorbar": {
              "outlinewidth": 0,
              "ticks": ""
             }
            },
            "type": "scatter3d"
           }
          ],
          "scattercarpet": [
           {
            "marker": {
             "colorbar": {
              "outlinewidth": 0,
              "ticks": ""
             }
            },
            "type": "scattercarpet"
           }
          ],
          "scattergeo": [
           {
            "marker": {
             "colorbar": {
              "outlinewidth": 0,
              "ticks": ""
             }
            },
            "type": "scattergeo"
           }
          ],
          "scattergl": [
           {
            "marker": {
             "colorbar": {
              "outlinewidth": 0,
              "ticks": ""
             }
            },
            "type": "scattergl"
           }
          ],
          "scattermapbox": [
           {
            "marker": {
             "colorbar": {
              "outlinewidth": 0,
              "ticks": ""
             }
            },
            "type": "scattermapbox"
           }
          ],
          "scatterpolar": [
           {
            "marker": {
             "colorbar": {
              "outlinewidth": 0,
              "ticks": ""
             }
            },
            "type": "scatterpolar"
           }
          ],
          "scatterpolargl": [
           {
            "marker": {
             "colorbar": {
              "outlinewidth": 0,
              "ticks": ""
             }
            },
            "type": "scatterpolargl"
           }
          ],
          "scatterternary": [
           {
            "marker": {
             "colorbar": {
              "outlinewidth": 0,
              "ticks": ""
             }
            },
            "type": "scatterternary"
           }
          ],
          "surface": [
           {
            "colorbar": {
             "outlinewidth": 0,
             "ticks": ""
            },
            "colorscale": [
             [
              0,
              "#0d0887"
             ],
             [
              0.1111111111111111,
              "#46039f"
             ],
             [
              0.2222222222222222,
              "#7201a8"
             ],
             [
              0.3333333333333333,
              "#9c179e"
             ],
             [
              0.4444444444444444,
              "#bd3786"
             ],
             [
              0.5555555555555556,
              "#d8576b"
             ],
             [
              0.6666666666666666,
              "#ed7953"
             ],
             [
              0.7777777777777778,
              "#fb9f3a"
             ],
             [
              0.8888888888888888,
              "#fdca26"
             ],
             [
              1,
              "#f0f921"
             ]
            ],
            "type": "surface"
           }
          ],
          "table": [
           {
            "cells": {
             "fill": {
              "color": "#EBF0F8"
             },
             "line": {
              "color": "white"
             }
            },
            "header": {
             "fill": {
              "color": "#C8D4E3"
             },
             "line": {
              "color": "white"
             }
            },
            "type": "table"
           }
          ]
         },
         "layout": {
          "annotationdefaults": {
           "arrowcolor": "#2a3f5f",
           "arrowhead": 0,
           "arrowwidth": 1
          },
          "autotypenumbers": "strict",
          "coloraxis": {
           "colorbar": {
            "outlinewidth": 0,
            "ticks": ""
           }
          },
          "colorscale": {
           "diverging": [
            [
             0,
             "#8e0152"
            ],
            [
             0.1,
             "#c51b7d"
            ],
            [
             0.2,
             "#de77ae"
            ],
            [
             0.3,
             "#f1b6da"
            ],
            [
             0.4,
             "#fde0ef"
            ],
            [
             0.5,
             "#f7f7f7"
            ],
            [
             0.6,
             "#e6f5d0"
            ],
            [
             0.7,
             "#b8e186"
            ],
            [
             0.8,
             "#7fbc41"
            ],
            [
             0.9,
             "#4d9221"
            ],
            [
             1,
             "#276419"
            ]
           ],
           "sequential": [
            [
             0,
             "#0d0887"
            ],
            [
             0.1111111111111111,
             "#46039f"
            ],
            [
             0.2222222222222222,
             "#7201a8"
            ],
            [
             0.3333333333333333,
             "#9c179e"
            ],
            [
             0.4444444444444444,
             "#bd3786"
            ],
            [
             0.5555555555555556,
             "#d8576b"
            ],
            [
             0.6666666666666666,
             "#ed7953"
            ],
            [
             0.7777777777777778,
             "#fb9f3a"
            ],
            [
             0.8888888888888888,
             "#fdca26"
            ],
            [
             1,
             "#f0f921"
            ]
           ],
           "sequentialminus": [
            [
             0,
             "#0d0887"
            ],
            [
             0.1111111111111111,
             "#46039f"
            ],
            [
             0.2222222222222222,
             "#7201a8"
            ],
            [
             0.3333333333333333,
             "#9c179e"
            ],
            [
             0.4444444444444444,
             "#bd3786"
            ],
            [
             0.5555555555555556,
             "#d8576b"
            ],
            [
             0.6666666666666666,
             "#ed7953"
            ],
            [
             0.7777777777777778,
             "#fb9f3a"
            ],
            [
             0.8888888888888888,
             "#fdca26"
            ],
            [
             1,
             "#f0f921"
            ]
           ]
          },
          "colorway": [
           "#636efa",
           "#EF553B",
           "#00cc96",
           "#ab63fa",
           "#FFA15A",
           "#19d3f3",
           "#FF6692",
           "#B6E880",
           "#FF97FF",
           "#FECB52"
          ],
          "font": {
           "color": "#2a3f5f"
          },
          "geo": {
           "bgcolor": "white",
           "lakecolor": "white",
           "landcolor": "#E5ECF6",
           "showlakes": true,
           "showland": true,
           "subunitcolor": "white"
          },
          "hoverlabel": {
           "align": "left"
          },
          "hovermode": "closest",
          "mapbox": {
           "style": "light"
          },
          "paper_bgcolor": "white",
          "plot_bgcolor": "#E5ECF6",
          "polar": {
           "angularaxis": {
            "gridcolor": "white",
            "linecolor": "white",
            "ticks": ""
           },
           "bgcolor": "#E5ECF6",
           "radialaxis": {
            "gridcolor": "white",
            "linecolor": "white",
            "ticks": ""
           }
          },
          "scene": {
           "xaxis": {
            "backgroundcolor": "#E5ECF6",
            "gridcolor": "white",
            "gridwidth": 2,
            "linecolor": "white",
            "showbackground": true,
            "ticks": "",
            "zerolinecolor": "white"
           },
           "yaxis": {
            "backgroundcolor": "#E5ECF6",
            "gridcolor": "white",
            "gridwidth": 2,
            "linecolor": "white",
            "showbackground": true,
            "ticks": "",
            "zerolinecolor": "white"
           },
           "zaxis": {
            "backgroundcolor": "#E5ECF6",
            "gridcolor": "white",
            "gridwidth": 2,
            "linecolor": "white",
            "showbackground": true,
            "ticks": "",
            "zerolinecolor": "white"
           }
          },
          "shapedefaults": {
           "line": {
            "color": "#2a3f5f"
           }
          },
          "ternary": {
           "aaxis": {
            "gridcolor": "white",
            "linecolor": "white",
            "ticks": ""
           },
           "baxis": {
            "gridcolor": "white",
            "linecolor": "white",
            "ticks": ""
           },
           "bgcolor": "#E5ECF6",
           "caxis": {
            "gridcolor": "white",
            "linecolor": "white",
            "ticks": ""
           }
          },
          "title": {
           "x": 0.05
          },
          "xaxis": {
           "automargin": true,
           "gridcolor": "white",
           "linecolor": "white",
           "ticks": "",
           "title": {
            "standoff": 15
           },
           "zerolinecolor": "white",
           "zerolinewidth": 2
          },
          "yaxis": {
           "automargin": true,
           "gridcolor": "white",
           "linecolor": "white",
           "ticks": "",
           "title": {
            "standoff": 15
           },
           "zerolinecolor": "white",
           "zerolinewidth": 2
          }
         }
        },
        "title": {
         "text": "Top 10 categories"
        },
        "width": 800,
        "xaxis": {
         "anchor": "y",
         "domain": [
          0,
          1
         ],
         "tickangle": 45,
         "title": {
          "text": "categories"
         }
        },
        "yaxis": {
         "anchor": "x",
         "domain": [
          0,
          1
         ],
         "title": {
          "text": "Count"
         }
        }
       }
      },
      "text/html": [
       "<div>                            <div id=\"22513aa8-5156-4755-b586-ea8495903070\" class=\"plotly-graph-div\" style=\"height:800px; width:800px;\"></div>            <script type=\"text/javascript\">                require([\"plotly\"], function(Plotly) {                    window.PLOTLYENV=window.PLOTLYENV || {};                                    if (document.getElementById(\"22513aa8-5156-4755-b586-ea8495903070\")) {                    Plotly.newPlot(                        \"22513aa8-5156-4755-b586-ea8495903070\",                        [{\"alignmentgroup\":\"True\",\"hovertemplate\":\"categories=%{x}\\u003cbr\\u003eCount=%{text}\\u003cextra\\u003e\\u003c\\u002fextra\\u003e\",\"legendgroup\":\"\",\"marker\":{\"color\":\"#636efa\",\"pattern\":{\"shape\":\"\"}},\"name\":\"\",\"offsetgroup\":\"\",\"orientation\":\"v\",\"showlegend\":false,\"text\":[216.0,150.0,112.0,78.0,75.0,56.0,45.0,33.0,31.0,27.0],\"textposition\":\"outside\",\"x\":[\"Clothing\",\"Home & Kitchen\",\"Tools & Home Improvement\",\"Sports & Outdoors\",\"Electronics\",\"Automotive\",\"Office Products\",\"Health & Household\",\"Beauty\",\"Arts\"],\"xaxis\":\"x\",\"y\":[216,150,112,78,75,56,45,33,31,27],\"yaxis\":\"y\",\"type\":\"bar\"}],                        {\"template\":{\"data\":{\"histogram2dcontour\":[{\"type\":\"histogram2dcontour\",\"colorbar\":{\"outlinewidth\":0,\"ticks\":\"\"},\"colorscale\":[[0.0,\"#0d0887\"],[0.1111111111111111,\"#46039f\"],[0.2222222222222222,\"#7201a8\"],[0.3333333333333333,\"#9c179e\"],[0.4444444444444444,\"#bd3786\"],[0.5555555555555556,\"#d8576b\"],[0.6666666666666666,\"#ed7953\"],[0.7777777777777778,\"#fb9f3a\"],[0.8888888888888888,\"#fdca26\"],[1.0,\"#f0f921\"]]}],\"choropleth\":[{\"type\":\"choropleth\",\"colorbar\":{\"outlinewidth\":0,\"ticks\":\"\"}}],\"histogram2d\":[{\"type\":\"histogram2d\",\"colorbar\":{\"outlinewidth\":0,\"ticks\":\"\"},\"colorscale\":[[0.0,\"#0d0887\"],[0.1111111111111111,\"#46039f\"],[0.2222222222222222,\"#7201a8\"],[0.3333333333333333,\"#9c179e\"],[0.4444444444444444,\"#bd3786\"],[0.5555555555555556,\"#d8576b\"],[0.6666666666666666,\"#ed7953\"],[0.7777777777777778,\"#fb9f3a\"],[0.8888888888888888,\"#fdca26\"],[1.0,\"#f0f921\"]]}],\"heatmap\":[{\"type\":\"heatmap\",\"colorbar\":{\"outlinewidth\":0,\"ticks\":\"\"},\"colorscale\":[[0.0,\"#0d0887\"],[0.1111111111111111,\"#46039f\"],[0.2222222222222222,\"#7201a8\"],[0.3333333333333333,\"#9c179e\"],[0.4444444444444444,\"#bd3786\"],[0.5555555555555556,\"#d8576b\"],[0.6666666666666666,\"#ed7953\"],[0.7777777777777778,\"#fb9f3a\"],[0.8888888888888888,\"#fdca26\"],[1.0,\"#f0f921\"]]}],\"heatmapgl\":[{\"type\":\"heatmapgl\",\"colorbar\":{\"outlinewidth\":0,\"ticks\":\"\"},\"colorscale\":[[0.0,\"#0d0887\"],[0.1111111111111111,\"#46039f\"],[0.2222222222222222,\"#7201a8\"],[0.3333333333333333,\"#9c179e\"],[0.4444444444444444,\"#bd3786\"],[0.5555555555555556,\"#d8576b\"],[0.6666666666666666,\"#ed7953\"],[0.7777777777777778,\"#fb9f3a\"],[0.8888888888888888,\"#fdca26\"],[1.0,\"#f0f921\"]]}],\"contourcarpet\":[{\"type\":\"contourcarpet\",\"colorbar\":{\"outlinewidth\":0,\"ticks\":\"\"}}],\"contour\":[{\"type\":\"contour\",\"colorbar\":{\"outlinewidth\":0,\"ticks\":\"\"},\"colorscale\":[[0.0,\"#0d0887\"],[0.1111111111111111,\"#46039f\"],[0.2222222222222222,\"#7201a8\"],[0.3333333333333333,\"#9c179e\"],[0.4444444444444444,\"#bd3786\"],[0.5555555555555556,\"#d8576b\"],[0.6666666666666666,\"#ed7953\"],[0.7777777777777778,\"#fb9f3a\"],[0.8888888888888888,\"#fdca26\"],[1.0,\"#f0f921\"]]}],\"surface\":[{\"type\":\"surface\",\"colorbar\":{\"outlinewidth\":0,\"ticks\":\"\"},\"colorscale\":[[0.0,\"#0d0887\"],[0.1111111111111111,\"#46039f\"],[0.2222222222222222,\"#7201a8\"],[0.3333333333333333,\"#9c179e\"],[0.4444444444444444,\"#bd3786\"],[0.5555555555555556,\"#d8576b\"],[0.6666666666666666,\"#ed7953\"],[0.7777777777777778,\"#fb9f3a\"],[0.8888888888888888,\"#fdca26\"],[1.0,\"#f0f921\"]]}],\"mesh3d\":[{\"type\":\"mesh3d\",\"colorbar\":{\"outlinewidth\":0,\"ticks\":\"\"}}],\"scatter\":[{\"fillpattern\":{\"fillmode\":\"overlay\",\"size\":10,\"solidity\":0.2},\"type\":\"scatter\"}],\"parcoords\":[{\"type\":\"parcoords\",\"line\":{\"colorbar\":{\"outlinewidth\":0,\"ticks\":\"\"}}}],\"scatterpolargl\":[{\"type\":\"scatterpolargl\",\"marker\":{\"colorbar\":{\"outlinewidth\":0,\"ticks\":\"\"}}}],\"bar\":[{\"error_x\":{\"color\":\"#2a3f5f\"},\"error_y\":{\"color\":\"#2a3f5f\"},\"marker\":{\"line\":{\"color\":\"#E5ECF6\",\"width\":0.5},\"pattern\":{\"fillmode\":\"overlay\",\"size\":10,\"solidity\":0.2}},\"type\":\"bar\"}],\"scattergeo\":[{\"type\":\"scattergeo\",\"marker\":{\"colorbar\":{\"outlinewidth\":0,\"ticks\":\"\"}}}],\"scatterpolar\":[{\"type\":\"scatterpolar\",\"marker\":{\"colorbar\":{\"outlinewidth\":0,\"ticks\":\"\"}}}],\"histogram\":[{\"marker\":{\"pattern\":{\"fillmode\":\"overlay\",\"size\":10,\"solidity\":0.2}},\"type\":\"histogram\"}],\"scattergl\":[{\"type\":\"scattergl\",\"marker\":{\"colorbar\":{\"outlinewidth\":0,\"ticks\":\"\"}}}],\"scatter3d\":[{\"type\":\"scatter3d\",\"line\":{\"colorbar\":{\"outlinewidth\":0,\"ticks\":\"\"}},\"marker\":{\"colorbar\":{\"outlinewidth\":0,\"ticks\":\"\"}}}],\"scattermapbox\":[{\"type\":\"scattermapbox\",\"marker\":{\"colorbar\":{\"outlinewidth\":0,\"ticks\":\"\"}}}],\"scatterternary\":[{\"type\":\"scatterternary\",\"marker\":{\"colorbar\":{\"outlinewidth\":0,\"ticks\":\"\"}}}],\"scattercarpet\":[{\"type\":\"scattercarpet\",\"marker\":{\"colorbar\":{\"outlinewidth\":0,\"ticks\":\"\"}}}],\"carpet\":[{\"aaxis\":{\"endlinecolor\":\"#2a3f5f\",\"gridcolor\":\"white\",\"linecolor\":\"white\",\"minorgridcolor\":\"white\",\"startlinecolor\":\"#2a3f5f\"},\"baxis\":{\"endlinecolor\":\"#2a3f5f\",\"gridcolor\":\"white\",\"linecolor\":\"white\",\"minorgridcolor\":\"white\",\"startlinecolor\":\"#2a3f5f\"},\"type\":\"carpet\"}],\"table\":[{\"cells\":{\"fill\":{\"color\":\"#EBF0F8\"},\"line\":{\"color\":\"white\"}},\"header\":{\"fill\":{\"color\":\"#C8D4E3\"},\"line\":{\"color\":\"white\"}},\"type\":\"table\"}],\"barpolar\":[{\"marker\":{\"line\":{\"color\":\"#E5ECF6\",\"width\":0.5},\"pattern\":{\"fillmode\":\"overlay\",\"size\":10,\"solidity\":0.2}},\"type\":\"barpolar\"}],\"pie\":[{\"automargin\":true,\"type\":\"pie\"}]},\"layout\":{\"autotypenumbers\":\"strict\",\"colorway\":[\"#636efa\",\"#EF553B\",\"#00cc96\",\"#ab63fa\",\"#FFA15A\",\"#19d3f3\",\"#FF6692\",\"#B6E880\",\"#FF97FF\",\"#FECB52\"],\"font\":{\"color\":\"#2a3f5f\"},\"hovermode\":\"closest\",\"hoverlabel\":{\"align\":\"left\"},\"paper_bgcolor\":\"white\",\"plot_bgcolor\":\"#E5ECF6\",\"polar\":{\"bgcolor\":\"#E5ECF6\",\"angularaxis\":{\"gridcolor\":\"white\",\"linecolor\":\"white\",\"ticks\":\"\"},\"radialaxis\":{\"gridcolor\":\"white\",\"linecolor\":\"white\",\"ticks\":\"\"}},\"ternary\":{\"bgcolor\":\"#E5ECF6\",\"aaxis\":{\"gridcolor\":\"white\",\"linecolor\":\"white\",\"ticks\":\"\"},\"baxis\":{\"gridcolor\":\"white\",\"linecolor\":\"white\",\"ticks\":\"\"},\"caxis\":{\"gridcolor\":\"white\",\"linecolor\":\"white\",\"ticks\":\"\"}},\"coloraxis\":{\"colorbar\":{\"outlinewidth\":0,\"ticks\":\"\"}},\"colorscale\":{\"sequential\":[[0.0,\"#0d0887\"],[0.1111111111111111,\"#46039f\"],[0.2222222222222222,\"#7201a8\"],[0.3333333333333333,\"#9c179e\"],[0.4444444444444444,\"#bd3786\"],[0.5555555555555556,\"#d8576b\"],[0.6666666666666666,\"#ed7953\"],[0.7777777777777778,\"#fb9f3a\"],[0.8888888888888888,\"#fdca26\"],[1.0,\"#f0f921\"]],\"sequentialminus\":[[0.0,\"#0d0887\"],[0.1111111111111111,\"#46039f\"],[0.2222222222222222,\"#7201a8\"],[0.3333333333333333,\"#9c179e\"],[0.4444444444444444,\"#bd3786\"],[0.5555555555555556,\"#d8576b\"],[0.6666666666666666,\"#ed7953\"],[0.7777777777777778,\"#fb9f3a\"],[0.8888888888888888,\"#fdca26\"],[1.0,\"#f0f921\"]],\"diverging\":[[0,\"#8e0152\"],[0.1,\"#c51b7d\"],[0.2,\"#de77ae\"],[0.3,\"#f1b6da\"],[0.4,\"#fde0ef\"],[0.5,\"#f7f7f7\"],[0.6,\"#e6f5d0\"],[0.7,\"#b8e186\"],[0.8,\"#7fbc41\"],[0.9,\"#4d9221\"],[1,\"#276419\"]]},\"xaxis\":{\"gridcolor\":\"white\",\"linecolor\":\"white\",\"ticks\":\"\",\"title\":{\"standoff\":15},\"zerolinecolor\":\"white\",\"automargin\":true,\"zerolinewidth\":2},\"yaxis\":{\"gridcolor\":\"white\",\"linecolor\":\"white\",\"ticks\":\"\",\"title\":{\"standoff\":15},\"zerolinecolor\":\"white\",\"automargin\":true,\"zerolinewidth\":2},\"scene\":{\"xaxis\":{\"backgroundcolor\":\"#E5ECF6\",\"gridcolor\":\"white\",\"linecolor\":\"white\",\"showbackground\":true,\"ticks\":\"\",\"zerolinecolor\":\"white\",\"gridwidth\":2},\"yaxis\":{\"backgroundcolor\":\"#E5ECF6\",\"gridcolor\":\"white\",\"linecolor\":\"white\",\"showbackground\":true,\"ticks\":\"\",\"zerolinecolor\":\"white\",\"gridwidth\":2},\"zaxis\":{\"backgroundcolor\":\"#E5ECF6\",\"gridcolor\":\"white\",\"linecolor\":\"white\",\"showbackground\":true,\"ticks\":\"\",\"zerolinecolor\":\"white\",\"gridwidth\":2}},\"shapedefaults\":{\"line\":{\"color\":\"#2a3f5f\"}},\"annotationdefaults\":{\"arrowcolor\":\"#2a3f5f\",\"arrowhead\":0,\"arrowwidth\":1},\"geo\":{\"bgcolor\":\"white\",\"landcolor\":\"#E5ECF6\",\"subunitcolor\":\"white\",\"showland\":true,\"showlakes\":true,\"lakecolor\":\"white\"},\"title\":{\"x\":0.05},\"mapbox\":{\"style\":\"light\"}}},\"xaxis\":{\"anchor\":\"y\",\"domain\":[0.0,1.0],\"title\":{\"text\":\"categories\"},\"tickangle\":45},\"yaxis\":{\"anchor\":\"x\",\"domain\":[0.0,1.0],\"title\":{\"text\":\"Count\"}},\"legend\":{\"tracegroupgap\":0},\"title\":{\"text\":\"Top 10 categories\"},\"barmode\":\"relative\",\"height\":800,\"width\":800},                        {\"responsive\": true}                    ).then(function(){\n",
       "                            \n",
       "var gd = document.getElementById('22513aa8-5156-4755-b586-ea8495903070');\n",
       "var x = new MutationObserver(function (mutations, observer) {{\n",
       "        var display = window.getComputedStyle(gd).display;\n",
       "        if (!display || display === 'none') {{\n",
       "            console.log([gd, 'removed!']);\n",
       "            Plotly.purge(gd);\n",
       "            observer.disconnect();\n",
       "        }}\n",
       "}});\n",
       "\n",
       "// Listen for the removal of the full notebook cells\n",
       "var notebookContainer = gd.closest('#notebook-container');\n",
       "if (notebookContainer) {{\n",
       "    x.observe(notebookContainer, {childList: true});\n",
       "}}\n",
       "\n",
       "// Listen for the clearing of the current output cell\n",
       "var outputEl = gd.closest('.output');\n",
       "if (outputEl) {{\n",
       "    x.observe(outputEl, {childList: true});\n",
       "}}\n",
       "\n",
       "                        })                };                });            </script>        </div>"
      ]
     },
     "metadata": {},
     "output_type": "display_data"
    }
   ],
   "source": [
    "top_categories = df['categories'].value_counts().head(10).reset_index()\n",
    "top_categories.columns = ['categories', 'Count']\n",
    "\n",
    "\n",
    "fig = px.bar(\n",
    "    top_categories,\n",
    "    x='categories',\n",
    "    y='Count',\n",
    "    title='Top 10 categories',\n",
    "    text='Count'\n",
    ")\n",
    "\n",
    "fig.update_traces(textposition='outside')\n",
    "fig.update_layout(\n",
    "    xaxis_tickangle=45,\n",
    "    height=800,\n",
    "    width=800\n",
    ")\n",
    "\n",
    "fig"
   ]
  },
  {
   "cell_type": "code",
   "execution_count": 762,
   "id": "d9bb75b3-24c9-4ebe-9515-36be62b495df",
   "metadata": {},
   "outputs": [
    {
     "data": {
      "application/vnd.plotly.v1+json": {
       "config": {
        "plotlyServerURL": "https://plot.ly"
       },
       "data": [
        {
         "domain": {
          "x": [
           0,
           1
          ],
          "y": [
           0,
           1
          ]
         },
         "hovertemplate": "discount=%{label}<br>Count=%{value}<extra></extra>",
         "labels": [
          20,
          5,
          7,
          9,
          13,
          10,
          25,
          15
         ],
         "legendgroup": "",
         "name": "",
         "showlegend": true,
         "textinfo": "percent+label",
         "type": "pie",
         "values": [
          47,
          38,
          37,
          33,
          32,
          31,
          29,
          29
         ]
        }
       ],
       "layout": {
        "legend": {
         "tracegroupgap": 0
        },
        "template": {
         "data": {
          "bar": [
           {
            "error_x": {
             "color": "#2a3f5f"
            },
            "error_y": {
             "color": "#2a3f5f"
            },
            "marker": {
             "line": {
              "color": "#E5ECF6",
              "width": 0.5
             },
             "pattern": {
              "fillmode": "overlay",
              "size": 10,
              "solidity": 0.2
             }
            },
            "type": "bar"
           }
          ],
          "barpolar": [
           {
            "marker": {
             "line": {
              "color": "#E5ECF6",
              "width": 0.5
             },
             "pattern": {
              "fillmode": "overlay",
              "size": 10,
              "solidity": 0.2
             }
            },
            "type": "barpolar"
           }
          ],
          "carpet": [
           {
            "aaxis": {
             "endlinecolor": "#2a3f5f",
             "gridcolor": "white",
             "linecolor": "white",
             "minorgridcolor": "white",
             "startlinecolor": "#2a3f5f"
            },
            "baxis": {
             "endlinecolor": "#2a3f5f",
             "gridcolor": "white",
             "linecolor": "white",
             "minorgridcolor": "white",
             "startlinecolor": "#2a3f5f"
            },
            "type": "carpet"
           }
          ],
          "choropleth": [
           {
            "colorbar": {
             "outlinewidth": 0,
             "ticks": ""
            },
            "type": "choropleth"
           }
          ],
          "contour": [
           {
            "colorbar": {
             "outlinewidth": 0,
             "ticks": ""
            },
            "colorscale": [
             [
              0,
              "#0d0887"
             ],
             [
              0.1111111111111111,
              "#46039f"
             ],
             [
              0.2222222222222222,
              "#7201a8"
             ],
             [
              0.3333333333333333,
              "#9c179e"
             ],
             [
              0.4444444444444444,
              "#bd3786"
             ],
             [
              0.5555555555555556,
              "#d8576b"
             ],
             [
              0.6666666666666666,
              "#ed7953"
             ],
             [
              0.7777777777777778,
              "#fb9f3a"
             ],
             [
              0.8888888888888888,
              "#fdca26"
             ],
             [
              1,
              "#f0f921"
             ]
            ],
            "type": "contour"
           }
          ],
          "contourcarpet": [
           {
            "colorbar": {
             "outlinewidth": 0,
             "ticks": ""
            },
            "type": "contourcarpet"
           }
          ],
          "heatmap": [
           {
            "colorbar": {
             "outlinewidth": 0,
             "ticks": ""
            },
            "colorscale": [
             [
              0,
              "#0d0887"
             ],
             [
              0.1111111111111111,
              "#46039f"
             ],
             [
              0.2222222222222222,
              "#7201a8"
             ],
             [
              0.3333333333333333,
              "#9c179e"
             ],
             [
              0.4444444444444444,
              "#bd3786"
             ],
             [
              0.5555555555555556,
              "#d8576b"
             ],
             [
              0.6666666666666666,
              "#ed7953"
             ],
             [
              0.7777777777777778,
              "#fb9f3a"
             ],
             [
              0.8888888888888888,
              "#fdca26"
             ],
             [
              1,
              "#f0f921"
             ]
            ],
            "type": "heatmap"
           }
          ],
          "heatmapgl": [
           {
            "colorbar": {
             "outlinewidth": 0,
             "ticks": ""
            },
            "colorscale": [
             [
              0,
              "#0d0887"
             ],
             [
              0.1111111111111111,
              "#46039f"
             ],
             [
              0.2222222222222222,
              "#7201a8"
             ],
             [
              0.3333333333333333,
              "#9c179e"
             ],
             [
              0.4444444444444444,
              "#bd3786"
             ],
             [
              0.5555555555555556,
              "#d8576b"
             ],
             [
              0.6666666666666666,
              "#ed7953"
             ],
             [
              0.7777777777777778,
              "#fb9f3a"
             ],
             [
              0.8888888888888888,
              "#fdca26"
             ],
             [
              1,
              "#f0f921"
             ]
            ],
            "type": "heatmapgl"
           }
          ],
          "histogram": [
           {
            "marker": {
             "pattern": {
              "fillmode": "overlay",
              "size": 10,
              "solidity": 0.2
             }
            },
            "type": "histogram"
           }
          ],
          "histogram2d": [
           {
            "colorbar": {
             "outlinewidth": 0,
             "ticks": ""
            },
            "colorscale": [
             [
              0,
              "#0d0887"
             ],
             [
              0.1111111111111111,
              "#46039f"
             ],
             [
              0.2222222222222222,
              "#7201a8"
             ],
             [
              0.3333333333333333,
              "#9c179e"
             ],
             [
              0.4444444444444444,
              "#bd3786"
             ],
             [
              0.5555555555555556,
              "#d8576b"
             ],
             [
              0.6666666666666666,
              "#ed7953"
             ],
             [
              0.7777777777777778,
              "#fb9f3a"
             ],
             [
              0.8888888888888888,
              "#fdca26"
             ],
             [
              1,
              "#f0f921"
             ]
            ],
            "type": "histogram2d"
           }
          ],
          "histogram2dcontour": [
           {
            "colorbar": {
             "outlinewidth": 0,
             "ticks": ""
            },
            "colorscale": [
             [
              0,
              "#0d0887"
             ],
             [
              0.1111111111111111,
              "#46039f"
             ],
             [
              0.2222222222222222,
              "#7201a8"
             ],
             [
              0.3333333333333333,
              "#9c179e"
             ],
             [
              0.4444444444444444,
              "#bd3786"
             ],
             [
              0.5555555555555556,
              "#d8576b"
             ],
             [
              0.6666666666666666,
              "#ed7953"
             ],
             [
              0.7777777777777778,
              "#fb9f3a"
             ],
             [
              0.8888888888888888,
              "#fdca26"
             ],
             [
              1,
              "#f0f921"
             ]
            ],
            "type": "histogram2dcontour"
           }
          ],
          "mesh3d": [
           {
            "colorbar": {
             "outlinewidth": 0,
             "ticks": ""
            },
            "type": "mesh3d"
           }
          ],
          "parcoords": [
           {
            "line": {
             "colorbar": {
              "outlinewidth": 0,
              "ticks": ""
             }
            },
            "type": "parcoords"
           }
          ],
          "pie": [
           {
            "automargin": true,
            "type": "pie"
           }
          ],
          "scatter": [
           {
            "fillpattern": {
             "fillmode": "overlay",
             "size": 10,
             "solidity": 0.2
            },
            "type": "scatter"
           }
          ],
          "scatter3d": [
           {
            "line": {
             "colorbar": {
              "outlinewidth": 0,
              "ticks": ""
             }
            },
            "marker": {
             "colorbar": {
              "outlinewidth": 0,
              "ticks": ""
             }
            },
            "type": "scatter3d"
           }
          ],
          "scattercarpet": [
           {
            "marker": {
             "colorbar": {
              "outlinewidth": 0,
              "ticks": ""
             }
            },
            "type": "scattercarpet"
           }
          ],
          "scattergeo": [
           {
            "marker": {
             "colorbar": {
              "outlinewidth": 0,
              "ticks": ""
             }
            },
            "type": "scattergeo"
           }
          ],
          "scattergl": [
           {
            "marker": {
             "colorbar": {
              "outlinewidth": 0,
              "ticks": ""
             }
            },
            "type": "scattergl"
           }
          ],
          "scattermapbox": [
           {
            "marker": {
             "colorbar": {
              "outlinewidth": 0,
              "ticks": ""
             }
            },
            "type": "scattermapbox"
           }
          ],
          "scatterpolar": [
           {
            "marker": {
             "colorbar": {
              "outlinewidth": 0,
              "ticks": ""
             }
            },
            "type": "scatterpolar"
           }
          ],
          "scatterpolargl": [
           {
            "marker": {
             "colorbar": {
              "outlinewidth": 0,
              "ticks": ""
             }
            },
            "type": "scatterpolargl"
           }
          ],
          "scatterternary": [
           {
            "marker": {
             "colorbar": {
              "outlinewidth": 0,
              "ticks": ""
             }
            },
            "type": "scatterternary"
           }
          ],
          "surface": [
           {
            "colorbar": {
             "outlinewidth": 0,
             "ticks": ""
            },
            "colorscale": [
             [
              0,
              "#0d0887"
             ],
             [
              0.1111111111111111,
              "#46039f"
             ],
             [
              0.2222222222222222,
              "#7201a8"
             ],
             [
              0.3333333333333333,
              "#9c179e"
             ],
             [
              0.4444444444444444,
              "#bd3786"
             ],
             [
              0.5555555555555556,
              "#d8576b"
             ],
             [
              0.6666666666666666,
              "#ed7953"
             ],
             [
              0.7777777777777778,
              "#fb9f3a"
             ],
             [
              0.8888888888888888,
              "#fdca26"
             ],
             [
              1,
              "#f0f921"
             ]
            ],
            "type": "surface"
           }
          ],
          "table": [
           {
            "cells": {
             "fill": {
              "color": "#EBF0F8"
             },
             "line": {
              "color": "white"
             }
            },
            "header": {
             "fill": {
              "color": "#C8D4E3"
             },
             "line": {
              "color": "white"
             }
            },
            "type": "table"
           }
          ]
         },
         "layout": {
          "annotationdefaults": {
           "arrowcolor": "#2a3f5f",
           "arrowhead": 0,
           "arrowwidth": 1
          },
          "autotypenumbers": "strict",
          "coloraxis": {
           "colorbar": {
            "outlinewidth": 0,
            "ticks": ""
           }
          },
          "colorscale": {
           "diverging": [
            [
             0,
             "#8e0152"
            ],
            [
             0.1,
             "#c51b7d"
            ],
            [
             0.2,
             "#de77ae"
            ],
            [
             0.3,
             "#f1b6da"
            ],
            [
             0.4,
             "#fde0ef"
            ],
            [
             0.5,
             "#f7f7f7"
            ],
            [
             0.6,
             "#e6f5d0"
            ],
            [
             0.7,
             "#b8e186"
            ],
            [
             0.8,
             "#7fbc41"
            ],
            [
             0.9,
             "#4d9221"
            ],
            [
             1,
             "#276419"
            ]
           ],
           "sequential": [
            [
             0,
             "#0d0887"
            ],
            [
             0.1111111111111111,
             "#46039f"
            ],
            [
             0.2222222222222222,
             "#7201a8"
            ],
            [
             0.3333333333333333,
             "#9c179e"
            ],
            [
             0.4444444444444444,
             "#bd3786"
            ],
            [
             0.5555555555555556,
             "#d8576b"
            ],
            [
             0.6666666666666666,
             "#ed7953"
            ],
            [
             0.7777777777777778,
             "#fb9f3a"
            ],
            [
             0.8888888888888888,
             "#fdca26"
            ],
            [
             1,
             "#f0f921"
            ]
           ],
           "sequentialminus": [
            [
             0,
             "#0d0887"
            ],
            [
             0.1111111111111111,
             "#46039f"
            ],
            [
             0.2222222222222222,
             "#7201a8"
            ],
            [
             0.3333333333333333,
             "#9c179e"
            ],
            [
             0.4444444444444444,
             "#bd3786"
            ],
            [
             0.5555555555555556,
             "#d8576b"
            ],
            [
             0.6666666666666666,
             "#ed7953"
            ],
            [
             0.7777777777777778,
             "#fb9f3a"
            ],
            [
             0.8888888888888888,
             "#fdca26"
            ],
            [
             1,
             "#f0f921"
            ]
           ]
          },
          "colorway": [
           "#636efa",
           "#EF553B",
           "#00cc96",
           "#ab63fa",
           "#FFA15A",
           "#19d3f3",
           "#FF6692",
           "#B6E880",
           "#FF97FF",
           "#FECB52"
          ],
          "font": {
           "color": "#2a3f5f"
          },
          "geo": {
           "bgcolor": "white",
           "lakecolor": "white",
           "landcolor": "#E5ECF6",
           "showlakes": true,
           "showland": true,
           "subunitcolor": "white"
          },
          "hoverlabel": {
           "align": "left"
          },
          "hovermode": "closest",
          "mapbox": {
           "style": "light"
          },
          "paper_bgcolor": "white",
          "plot_bgcolor": "#E5ECF6",
          "polar": {
           "angularaxis": {
            "gridcolor": "white",
            "linecolor": "white",
            "ticks": ""
           },
           "bgcolor": "#E5ECF6",
           "radialaxis": {
            "gridcolor": "white",
            "linecolor": "white",
            "ticks": ""
           }
          },
          "scene": {
           "xaxis": {
            "backgroundcolor": "#E5ECF6",
            "gridcolor": "white",
            "gridwidth": 2,
            "linecolor": "white",
            "showbackground": true,
            "ticks": "",
            "zerolinecolor": "white"
           },
           "yaxis": {
            "backgroundcolor": "#E5ECF6",
            "gridcolor": "white",
            "gridwidth": 2,
            "linecolor": "white",
            "showbackground": true,
            "ticks": "",
            "zerolinecolor": "white"
           },
           "zaxis": {
            "backgroundcolor": "#E5ECF6",
            "gridcolor": "white",
            "gridwidth": 2,
            "linecolor": "white",
            "showbackground": true,
            "ticks": "",
            "zerolinecolor": "white"
           }
          },
          "shapedefaults": {
           "line": {
            "color": "#2a3f5f"
           }
          },
          "ternary": {
           "aaxis": {
            "gridcolor": "white",
            "linecolor": "white",
            "ticks": ""
           },
           "baxis": {
            "gridcolor": "white",
            "linecolor": "white",
            "ticks": ""
           },
           "bgcolor": "#E5ECF6",
           "caxis": {
            "gridcolor": "white",
            "linecolor": "white",
            "ticks": ""
           }
          },
          "title": {
           "x": 0.05
          },
          "xaxis": {
           "automargin": true,
           "gridcolor": "white",
           "linecolor": "white",
           "ticks": "",
           "title": {
            "standoff": 15
           },
           "zerolinecolor": "white",
           "zerolinewidth": 2
          },
          "yaxis": {
           "automargin": true,
           "gridcolor": "white",
           "linecolor": "white",
           "ticks": "",
           "title": {
            "standoff": 15
           },
           "zerolinecolor": "white",
           "zerolinewidth": 2
          }
         }
        },
        "title": {
         "text": "Top 10 discount"
        }
       }
      },
      "text/html": [
       "<div>                            <div id=\"b399e81c-d859-48af-bbb2-38ddfa11da58\" class=\"plotly-graph-div\" style=\"height:525px; width:100%;\"></div>            <script type=\"text/javascript\">                require([\"plotly\"], function(Plotly) {                    window.PLOTLYENV=window.PLOTLYENV || {};                                    if (document.getElementById(\"b399e81c-d859-48af-bbb2-38ddfa11da58\")) {                    Plotly.newPlot(                        \"b399e81c-d859-48af-bbb2-38ddfa11da58\",                        [{\"domain\":{\"x\":[0.0,1.0],\"y\":[0.0,1.0]},\"hovertemplate\":\"discount=%{label}\\u003cbr\\u003eCount=%{value}\\u003cextra\\u003e\\u003c\\u002fextra\\u003e\",\"labels\":[20.0,5.0,7.0,9.0,13.0,10.0,25.0,15.0],\"legendgroup\":\"\",\"name\":\"\",\"showlegend\":true,\"values\":[47,38,37,33,32,31,29,29],\"type\":\"pie\",\"textinfo\":\"percent+label\"}],                        {\"template\":{\"data\":{\"histogram2dcontour\":[{\"type\":\"histogram2dcontour\",\"colorbar\":{\"outlinewidth\":0,\"ticks\":\"\"},\"colorscale\":[[0.0,\"#0d0887\"],[0.1111111111111111,\"#46039f\"],[0.2222222222222222,\"#7201a8\"],[0.3333333333333333,\"#9c179e\"],[0.4444444444444444,\"#bd3786\"],[0.5555555555555556,\"#d8576b\"],[0.6666666666666666,\"#ed7953\"],[0.7777777777777778,\"#fb9f3a\"],[0.8888888888888888,\"#fdca26\"],[1.0,\"#f0f921\"]]}],\"choropleth\":[{\"type\":\"choropleth\",\"colorbar\":{\"outlinewidth\":0,\"ticks\":\"\"}}],\"histogram2d\":[{\"type\":\"histogram2d\",\"colorbar\":{\"outlinewidth\":0,\"ticks\":\"\"},\"colorscale\":[[0.0,\"#0d0887\"],[0.1111111111111111,\"#46039f\"],[0.2222222222222222,\"#7201a8\"],[0.3333333333333333,\"#9c179e\"],[0.4444444444444444,\"#bd3786\"],[0.5555555555555556,\"#d8576b\"],[0.6666666666666666,\"#ed7953\"],[0.7777777777777778,\"#fb9f3a\"],[0.8888888888888888,\"#fdca26\"],[1.0,\"#f0f921\"]]}],\"heatmap\":[{\"type\":\"heatmap\",\"colorbar\":{\"outlinewidth\":0,\"ticks\":\"\"},\"colorscale\":[[0.0,\"#0d0887\"],[0.1111111111111111,\"#46039f\"],[0.2222222222222222,\"#7201a8\"],[0.3333333333333333,\"#9c179e\"],[0.4444444444444444,\"#bd3786\"],[0.5555555555555556,\"#d8576b\"],[0.6666666666666666,\"#ed7953\"],[0.7777777777777778,\"#fb9f3a\"],[0.8888888888888888,\"#fdca26\"],[1.0,\"#f0f921\"]]}],\"heatmapgl\":[{\"type\":\"heatmapgl\",\"colorbar\":{\"outlinewidth\":0,\"ticks\":\"\"},\"colorscale\":[[0.0,\"#0d0887\"],[0.1111111111111111,\"#46039f\"],[0.2222222222222222,\"#7201a8\"],[0.3333333333333333,\"#9c179e\"],[0.4444444444444444,\"#bd3786\"],[0.5555555555555556,\"#d8576b\"],[0.6666666666666666,\"#ed7953\"],[0.7777777777777778,\"#fb9f3a\"],[0.8888888888888888,\"#fdca26\"],[1.0,\"#f0f921\"]]}],\"contourcarpet\":[{\"type\":\"contourcarpet\",\"colorbar\":{\"outlinewidth\":0,\"ticks\":\"\"}}],\"contour\":[{\"type\":\"contour\",\"colorbar\":{\"outlinewidth\":0,\"ticks\":\"\"},\"colorscale\":[[0.0,\"#0d0887\"],[0.1111111111111111,\"#46039f\"],[0.2222222222222222,\"#7201a8\"],[0.3333333333333333,\"#9c179e\"],[0.4444444444444444,\"#bd3786\"],[0.5555555555555556,\"#d8576b\"],[0.6666666666666666,\"#ed7953\"],[0.7777777777777778,\"#fb9f3a\"],[0.8888888888888888,\"#fdca26\"],[1.0,\"#f0f921\"]]}],\"surface\":[{\"type\":\"surface\",\"colorbar\":{\"outlinewidth\":0,\"ticks\":\"\"},\"colorscale\":[[0.0,\"#0d0887\"],[0.1111111111111111,\"#46039f\"],[0.2222222222222222,\"#7201a8\"],[0.3333333333333333,\"#9c179e\"],[0.4444444444444444,\"#bd3786\"],[0.5555555555555556,\"#d8576b\"],[0.6666666666666666,\"#ed7953\"],[0.7777777777777778,\"#fb9f3a\"],[0.8888888888888888,\"#fdca26\"],[1.0,\"#f0f921\"]]}],\"mesh3d\":[{\"type\":\"mesh3d\",\"colorbar\":{\"outlinewidth\":0,\"ticks\":\"\"}}],\"scatter\":[{\"fillpattern\":{\"fillmode\":\"overlay\",\"size\":10,\"solidity\":0.2},\"type\":\"scatter\"}],\"parcoords\":[{\"type\":\"parcoords\",\"line\":{\"colorbar\":{\"outlinewidth\":0,\"ticks\":\"\"}}}],\"scatterpolargl\":[{\"type\":\"scatterpolargl\",\"marker\":{\"colorbar\":{\"outlinewidth\":0,\"ticks\":\"\"}}}],\"bar\":[{\"error_x\":{\"color\":\"#2a3f5f\"},\"error_y\":{\"color\":\"#2a3f5f\"},\"marker\":{\"line\":{\"color\":\"#E5ECF6\",\"width\":0.5},\"pattern\":{\"fillmode\":\"overlay\",\"size\":10,\"solidity\":0.2}},\"type\":\"bar\"}],\"scattergeo\":[{\"type\":\"scattergeo\",\"marker\":{\"colorbar\":{\"outlinewidth\":0,\"ticks\":\"\"}}}],\"scatterpolar\":[{\"type\":\"scatterpolar\",\"marker\":{\"colorbar\":{\"outlinewidth\":0,\"ticks\":\"\"}}}],\"histogram\":[{\"marker\":{\"pattern\":{\"fillmode\":\"overlay\",\"size\":10,\"solidity\":0.2}},\"type\":\"histogram\"}],\"scattergl\":[{\"type\":\"scattergl\",\"marker\":{\"colorbar\":{\"outlinewidth\":0,\"ticks\":\"\"}}}],\"scatter3d\":[{\"type\":\"scatter3d\",\"line\":{\"colorbar\":{\"outlinewidth\":0,\"ticks\":\"\"}},\"marker\":{\"colorbar\":{\"outlinewidth\":0,\"ticks\":\"\"}}}],\"scattermapbox\":[{\"type\":\"scattermapbox\",\"marker\":{\"colorbar\":{\"outlinewidth\":0,\"ticks\":\"\"}}}],\"scatterternary\":[{\"type\":\"scatterternary\",\"marker\":{\"colorbar\":{\"outlinewidth\":0,\"ticks\":\"\"}}}],\"scattercarpet\":[{\"type\":\"scattercarpet\",\"marker\":{\"colorbar\":{\"outlinewidth\":0,\"ticks\":\"\"}}}],\"carpet\":[{\"aaxis\":{\"endlinecolor\":\"#2a3f5f\",\"gridcolor\":\"white\",\"linecolor\":\"white\",\"minorgridcolor\":\"white\",\"startlinecolor\":\"#2a3f5f\"},\"baxis\":{\"endlinecolor\":\"#2a3f5f\",\"gridcolor\":\"white\",\"linecolor\":\"white\",\"minorgridcolor\":\"white\",\"startlinecolor\":\"#2a3f5f\"},\"type\":\"carpet\"}],\"table\":[{\"cells\":{\"fill\":{\"color\":\"#EBF0F8\"},\"line\":{\"color\":\"white\"}},\"header\":{\"fill\":{\"color\":\"#C8D4E3\"},\"line\":{\"color\":\"white\"}},\"type\":\"table\"}],\"barpolar\":[{\"marker\":{\"line\":{\"color\":\"#E5ECF6\",\"width\":0.5},\"pattern\":{\"fillmode\":\"overlay\",\"size\":10,\"solidity\":0.2}},\"type\":\"barpolar\"}],\"pie\":[{\"automargin\":true,\"type\":\"pie\"}]},\"layout\":{\"autotypenumbers\":\"strict\",\"colorway\":[\"#636efa\",\"#EF553B\",\"#00cc96\",\"#ab63fa\",\"#FFA15A\",\"#19d3f3\",\"#FF6692\",\"#B6E880\",\"#FF97FF\",\"#FECB52\"],\"font\":{\"color\":\"#2a3f5f\"},\"hovermode\":\"closest\",\"hoverlabel\":{\"align\":\"left\"},\"paper_bgcolor\":\"white\",\"plot_bgcolor\":\"#E5ECF6\",\"polar\":{\"bgcolor\":\"#E5ECF6\",\"angularaxis\":{\"gridcolor\":\"white\",\"linecolor\":\"white\",\"ticks\":\"\"},\"radialaxis\":{\"gridcolor\":\"white\",\"linecolor\":\"white\",\"ticks\":\"\"}},\"ternary\":{\"bgcolor\":\"#E5ECF6\",\"aaxis\":{\"gridcolor\":\"white\",\"linecolor\":\"white\",\"ticks\":\"\"},\"baxis\":{\"gridcolor\":\"white\",\"linecolor\":\"white\",\"ticks\":\"\"},\"caxis\":{\"gridcolor\":\"white\",\"linecolor\":\"white\",\"ticks\":\"\"}},\"coloraxis\":{\"colorbar\":{\"outlinewidth\":0,\"ticks\":\"\"}},\"colorscale\":{\"sequential\":[[0.0,\"#0d0887\"],[0.1111111111111111,\"#46039f\"],[0.2222222222222222,\"#7201a8\"],[0.3333333333333333,\"#9c179e\"],[0.4444444444444444,\"#bd3786\"],[0.5555555555555556,\"#d8576b\"],[0.6666666666666666,\"#ed7953\"],[0.7777777777777778,\"#fb9f3a\"],[0.8888888888888888,\"#fdca26\"],[1.0,\"#f0f921\"]],\"sequentialminus\":[[0.0,\"#0d0887\"],[0.1111111111111111,\"#46039f\"],[0.2222222222222222,\"#7201a8\"],[0.3333333333333333,\"#9c179e\"],[0.4444444444444444,\"#bd3786\"],[0.5555555555555556,\"#d8576b\"],[0.6666666666666666,\"#ed7953\"],[0.7777777777777778,\"#fb9f3a\"],[0.8888888888888888,\"#fdca26\"],[1.0,\"#f0f921\"]],\"diverging\":[[0,\"#8e0152\"],[0.1,\"#c51b7d\"],[0.2,\"#de77ae\"],[0.3,\"#f1b6da\"],[0.4,\"#fde0ef\"],[0.5,\"#f7f7f7\"],[0.6,\"#e6f5d0\"],[0.7,\"#b8e186\"],[0.8,\"#7fbc41\"],[0.9,\"#4d9221\"],[1,\"#276419\"]]},\"xaxis\":{\"gridcolor\":\"white\",\"linecolor\":\"white\",\"ticks\":\"\",\"title\":{\"standoff\":15},\"zerolinecolor\":\"white\",\"automargin\":true,\"zerolinewidth\":2},\"yaxis\":{\"gridcolor\":\"white\",\"linecolor\":\"white\",\"ticks\":\"\",\"title\":{\"standoff\":15},\"zerolinecolor\":\"white\",\"automargin\":true,\"zerolinewidth\":2},\"scene\":{\"xaxis\":{\"backgroundcolor\":\"#E5ECF6\",\"gridcolor\":\"white\",\"linecolor\":\"white\",\"showbackground\":true,\"ticks\":\"\",\"zerolinecolor\":\"white\",\"gridwidth\":2},\"yaxis\":{\"backgroundcolor\":\"#E5ECF6\",\"gridcolor\":\"white\",\"linecolor\":\"white\",\"showbackground\":true,\"ticks\":\"\",\"zerolinecolor\":\"white\",\"gridwidth\":2},\"zaxis\":{\"backgroundcolor\":\"#E5ECF6\",\"gridcolor\":\"white\",\"linecolor\":\"white\",\"showbackground\":true,\"ticks\":\"\",\"zerolinecolor\":\"white\",\"gridwidth\":2}},\"shapedefaults\":{\"line\":{\"color\":\"#2a3f5f\"}},\"annotationdefaults\":{\"arrowcolor\":\"#2a3f5f\",\"arrowhead\":0,\"arrowwidth\":1},\"geo\":{\"bgcolor\":\"white\",\"landcolor\":\"#E5ECF6\",\"subunitcolor\":\"white\",\"showland\":true,\"showlakes\":true,\"lakecolor\":\"white\"},\"title\":{\"x\":0.05},\"mapbox\":{\"style\":\"light\"}}},\"legend\":{\"tracegroupgap\":0},\"title\":{\"text\":\"Top 10 discount\"}},                        {\"responsive\": true}                    ).then(function(){\n",
       "                            \n",
       "var gd = document.getElementById('b399e81c-d859-48af-bbb2-38ddfa11da58');\n",
       "var x = new MutationObserver(function (mutations, observer) {{\n",
       "        var display = window.getComputedStyle(gd).display;\n",
       "        if (!display || display === 'none') {{\n",
       "            console.log([gd, 'removed!']);\n",
       "            Plotly.purge(gd);\n",
       "            observer.disconnect();\n",
       "        }}\n",
       "}});\n",
       "\n",
       "// Listen for the removal of the full notebook cells\n",
       "var notebookContainer = gd.closest('#notebook-container');\n",
       "if (notebookContainer) {{\n",
       "    x.observe(notebookContainer, {childList: true});\n",
       "}}\n",
       "\n",
       "// Listen for the clearing of the current output cell\n",
       "var outputEl = gd.closest('.output');\n",
       "if (outputEl) {{\n",
       "    x.observe(outputEl, {childList: true});\n",
       "}}\n",
       "\n",
       "                        })                };                });            </script>        </div>"
      ]
     },
     "metadata": {},
     "output_type": "display_data"
    }
   ],
   "source": [
    "discount = df['discount'].value_counts().head(8).reset_index()\n",
    "discount.columns = ['discount', 'Count']\n",
    "\n",
    "fig = px.pie(\n",
    "    discount,\n",
    "    names='discount',\n",
    "    values='Count',\n",
    "    title='Top 10 discount',\n",
    ")\n",
    "\n",
    "fig.update_traces(textinfo='percent+label')\n",
    "fig.show()"
   ]
  },
  {
   "cell_type": "code",
   "execution_count": 763,
   "id": "f15f6f1a-890e-44b7-9476-9b2310410518",
   "metadata": {},
   "outputs": [
    {
     "data": {
      "application/vnd.plotly.v1+json": {
       "config": {
        "plotlyServerURL": "https://plot.ly"
       },
       "data": [
        {
         "domain": {
          "x": [
           0,
           1
          ],
          "y": [
           0,
           1
          ]
         },
         "hovertemplate": "availability=%{label}<br>Count=%{value}<extra></extra>",
         "labels": [
          "in stock",
          "limited stock",
          "delayed shipping",
          "unknown",
          "out of stock"
         ],
         "legendgroup": "",
         "name": "",
         "showlegend": true,
         "textinfo": "percent+label",
         "type": "pie",
         "values": [
          709,
          253,
          30,
          6,
          2
         ]
        }
       ],
       "layout": {
        "legend": {
         "tracegroupgap": 0
        },
        "template": {
         "data": {
          "bar": [
           {
            "error_x": {
             "color": "#2a3f5f"
            },
            "error_y": {
             "color": "#2a3f5f"
            },
            "marker": {
             "line": {
              "color": "#E5ECF6",
              "width": 0.5
             },
             "pattern": {
              "fillmode": "overlay",
              "size": 10,
              "solidity": 0.2
             }
            },
            "type": "bar"
           }
          ],
          "barpolar": [
           {
            "marker": {
             "line": {
              "color": "#E5ECF6",
              "width": 0.5
             },
             "pattern": {
              "fillmode": "overlay",
              "size": 10,
              "solidity": 0.2
             }
            },
            "type": "barpolar"
           }
          ],
          "carpet": [
           {
            "aaxis": {
             "endlinecolor": "#2a3f5f",
             "gridcolor": "white",
             "linecolor": "white",
             "minorgridcolor": "white",
             "startlinecolor": "#2a3f5f"
            },
            "baxis": {
             "endlinecolor": "#2a3f5f",
             "gridcolor": "white",
             "linecolor": "white",
             "minorgridcolor": "white",
             "startlinecolor": "#2a3f5f"
            },
            "type": "carpet"
           }
          ],
          "choropleth": [
           {
            "colorbar": {
             "outlinewidth": 0,
             "ticks": ""
            },
            "type": "choropleth"
           }
          ],
          "contour": [
           {
            "colorbar": {
             "outlinewidth": 0,
             "ticks": ""
            },
            "colorscale": [
             [
              0,
              "#0d0887"
             ],
             [
              0.1111111111111111,
              "#46039f"
             ],
             [
              0.2222222222222222,
              "#7201a8"
             ],
             [
              0.3333333333333333,
              "#9c179e"
             ],
             [
              0.4444444444444444,
              "#bd3786"
             ],
             [
              0.5555555555555556,
              "#d8576b"
             ],
             [
              0.6666666666666666,
              "#ed7953"
             ],
             [
              0.7777777777777778,
              "#fb9f3a"
             ],
             [
              0.8888888888888888,
              "#fdca26"
             ],
             [
              1,
              "#f0f921"
             ]
            ],
            "type": "contour"
           }
          ],
          "contourcarpet": [
           {
            "colorbar": {
             "outlinewidth": 0,
             "ticks": ""
            },
            "type": "contourcarpet"
           }
          ],
          "heatmap": [
           {
            "colorbar": {
             "outlinewidth": 0,
             "ticks": ""
            },
            "colorscale": [
             [
              0,
              "#0d0887"
             ],
             [
              0.1111111111111111,
              "#46039f"
             ],
             [
              0.2222222222222222,
              "#7201a8"
             ],
             [
              0.3333333333333333,
              "#9c179e"
             ],
             [
              0.4444444444444444,
              "#bd3786"
             ],
             [
              0.5555555555555556,
              "#d8576b"
             ],
             [
              0.6666666666666666,
              "#ed7953"
             ],
             [
              0.7777777777777778,
              "#fb9f3a"
             ],
             [
              0.8888888888888888,
              "#fdca26"
             ],
             [
              1,
              "#f0f921"
             ]
            ],
            "type": "heatmap"
           }
          ],
          "heatmapgl": [
           {
            "colorbar": {
             "outlinewidth": 0,
             "ticks": ""
            },
            "colorscale": [
             [
              0,
              "#0d0887"
             ],
             [
              0.1111111111111111,
              "#46039f"
             ],
             [
              0.2222222222222222,
              "#7201a8"
             ],
             [
              0.3333333333333333,
              "#9c179e"
             ],
             [
              0.4444444444444444,
              "#bd3786"
             ],
             [
              0.5555555555555556,
              "#d8576b"
             ],
             [
              0.6666666666666666,
              "#ed7953"
             ],
             [
              0.7777777777777778,
              "#fb9f3a"
             ],
             [
              0.8888888888888888,
              "#fdca26"
             ],
             [
              1,
              "#f0f921"
             ]
            ],
            "type": "heatmapgl"
           }
          ],
          "histogram": [
           {
            "marker": {
             "pattern": {
              "fillmode": "overlay",
              "size": 10,
              "solidity": 0.2
             }
            },
            "type": "histogram"
           }
          ],
          "histogram2d": [
           {
            "colorbar": {
             "outlinewidth": 0,
             "ticks": ""
            },
            "colorscale": [
             [
              0,
              "#0d0887"
             ],
             [
              0.1111111111111111,
              "#46039f"
             ],
             [
              0.2222222222222222,
              "#7201a8"
             ],
             [
              0.3333333333333333,
              "#9c179e"
             ],
             [
              0.4444444444444444,
              "#bd3786"
             ],
             [
              0.5555555555555556,
              "#d8576b"
             ],
             [
              0.6666666666666666,
              "#ed7953"
             ],
             [
              0.7777777777777778,
              "#fb9f3a"
             ],
             [
              0.8888888888888888,
              "#fdca26"
             ],
             [
              1,
              "#f0f921"
             ]
            ],
            "type": "histogram2d"
           }
          ],
          "histogram2dcontour": [
           {
            "colorbar": {
             "outlinewidth": 0,
             "ticks": ""
            },
            "colorscale": [
             [
              0,
              "#0d0887"
             ],
             [
              0.1111111111111111,
              "#46039f"
             ],
             [
              0.2222222222222222,
              "#7201a8"
             ],
             [
              0.3333333333333333,
              "#9c179e"
             ],
             [
              0.4444444444444444,
              "#bd3786"
             ],
             [
              0.5555555555555556,
              "#d8576b"
             ],
             [
              0.6666666666666666,
              "#ed7953"
             ],
             [
              0.7777777777777778,
              "#fb9f3a"
             ],
             [
              0.8888888888888888,
              "#fdca26"
             ],
             [
              1,
              "#f0f921"
             ]
            ],
            "type": "histogram2dcontour"
           }
          ],
          "mesh3d": [
           {
            "colorbar": {
             "outlinewidth": 0,
             "ticks": ""
            },
            "type": "mesh3d"
           }
          ],
          "parcoords": [
           {
            "line": {
             "colorbar": {
              "outlinewidth": 0,
              "ticks": ""
             }
            },
            "type": "parcoords"
           }
          ],
          "pie": [
           {
            "automargin": true,
            "type": "pie"
           }
          ],
          "scatter": [
           {
            "fillpattern": {
             "fillmode": "overlay",
             "size": 10,
             "solidity": 0.2
            },
            "type": "scatter"
           }
          ],
          "scatter3d": [
           {
            "line": {
             "colorbar": {
              "outlinewidth": 0,
              "ticks": ""
             }
            },
            "marker": {
             "colorbar": {
              "outlinewidth": 0,
              "ticks": ""
             }
            },
            "type": "scatter3d"
           }
          ],
          "scattercarpet": [
           {
            "marker": {
             "colorbar": {
              "outlinewidth": 0,
              "ticks": ""
             }
            },
            "type": "scattercarpet"
           }
          ],
          "scattergeo": [
           {
            "marker": {
             "colorbar": {
              "outlinewidth": 0,
              "ticks": ""
             }
            },
            "type": "scattergeo"
           }
          ],
          "scattergl": [
           {
            "marker": {
             "colorbar": {
              "outlinewidth": 0,
              "ticks": ""
             }
            },
            "type": "scattergl"
           }
          ],
          "scattermapbox": [
           {
            "marker": {
             "colorbar": {
              "outlinewidth": 0,
              "ticks": ""
             }
            },
            "type": "scattermapbox"
           }
          ],
          "scatterpolar": [
           {
            "marker": {
             "colorbar": {
              "outlinewidth": 0,
              "ticks": ""
             }
            },
            "type": "scatterpolar"
           }
          ],
          "scatterpolargl": [
           {
            "marker": {
             "colorbar": {
              "outlinewidth": 0,
              "ticks": ""
             }
            },
            "type": "scatterpolargl"
           }
          ],
          "scatterternary": [
           {
            "marker": {
             "colorbar": {
              "outlinewidth": 0,
              "ticks": ""
             }
            },
            "type": "scatterternary"
           }
          ],
          "surface": [
           {
            "colorbar": {
             "outlinewidth": 0,
             "ticks": ""
            },
            "colorscale": [
             [
              0,
              "#0d0887"
             ],
             [
              0.1111111111111111,
              "#46039f"
             ],
             [
              0.2222222222222222,
              "#7201a8"
             ],
             [
              0.3333333333333333,
              "#9c179e"
             ],
             [
              0.4444444444444444,
              "#bd3786"
             ],
             [
              0.5555555555555556,
              "#d8576b"
             ],
             [
              0.6666666666666666,
              "#ed7953"
             ],
             [
              0.7777777777777778,
              "#fb9f3a"
             ],
             [
              0.8888888888888888,
              "#fdca26"
             ],
             [
              1,
              "#f0f921"
             ]
            ],
            "type": "surface"
           }
          ],
          "table": [
           {
            "cells": {
             "fill": {
              "color": "#EBF0F8"
             },
             "line": {
              "color": "white"
             }
            },
            "header": {
             "fill": {
              "color": "#C8D4E3"
             },
             "line": {
              "color": "white"
             }
            },
            "type": "table"
           }
          ]
         },
         "layout": {
          "annotationdefaults": {
           "arrowcolor": "#2a3f5f",
           "arrowhead": 0,
           "arrowwidth": 1
          },
          "autotypenumbers": "strict",
          "coloraxis": {
           "colorbar": {
            "outlinewidth": 0,
            "ticks": ""
           }
          },
          "colorscale": {
           "diverging": [
            [
             0,
             "#8e0152"
            ],
            [
             0.1,
             "#c51b7d"
            ],
            [
             0.2,
             "#de77ae"
            ],
            [
             0.3,
             "#f1b6da"
            ],
            [
             0.4,
             "#fde0ef"
            ],
            [
             0.5,
             "#f7f7f7"
            ],
            [
             0.6,
             "#e6f5d0"
            ],
            [
             0.7,
             "#b8e186"
            ],
            [
             0.8,
             "#7fbc41"
            ],
            [
             0.9,
             "#4d9221"
            ],
            [
             1,
             "#276419"
            ]
           ],
           "sequential": [
            [
             0,
             "#0d0887"
            ],
            [
             0.1111111111111111,
             "#46039f"
            ],
            [
             0.2222222222222222,
             "#7201a8"
            ],
            [
             0.3333333333333333,
             "#9c179e"
            ],
            [
             0.4444444444444444,
             "#bd3786"
            ],
            [
             0.5555555555555556,
             "#d8576b"
            ],
            [
             0.6666666666666666,
             "#ed7953"
            ],
            [
             0.7777777777777778,
             "#fb9f3a"
            ],
            [
             0.8888888888888888,
             "#fdca26"
            ],
            [
             1,
             "#f0f921"
            ]
           ],
           "sequentialminus": [
            [
             0,
             "#0d0887"
            ],
            [
             0.1111111111111111,
             "#46039f"
            ],
            [
             0.2222222222222222,
             "#7201a8"
            ],
            [
             0.3333333333333333,
             "#9c179e"
            ],
            [
             0.4444444444444444,
             "#bd3786"
            ],
            [
             0.5555555555555556,
             "#d8576b"
            ],
            [
             0.6666666666666666,
             "#ed7953"
            ],
            [
             0.7777777777777778,
             "#fb9f3a"
            ],
            [
             0.8888888888888888,
             "#fdca26"
            ],
            [
             1,
             "#f0f921"
            ]
           ]
          },
          "colorway": [
           "#636efa",
           "#EF553B",
           "#00cc96",
           "#ab63fa",
           "#FFA15A",
           "#19d3f3",
           "#FF6692",
           "#B6E880",
           "#FF97FF",
           "#FECB52"
          ],
          "font": {
           "color": "#2a3f5f"
          },
          "geo": {
           "bgcolor": "white",
           "lakecolor": "white",
           "landcolor": "#E5ECF6",
           "showlakes": true,
           "showland": true,
           "subunitcolor": "white"
          },
          "hoverlabel": {
           "align": "left"
          },
          "hovermode": "closest",
          "mapbox": {
           "style": "light"
          },
          "paper_bgcolor": "white",
          "plot_bgcolor": "#E5ECF6",
          "polar": {
           "angularaxis": {
            "gridcolor": "white",
            "linecolor": "white",
            "ticks": ""
           },
           "bgcolor": "#E5ECF6",
           "radialaxis": {
            "gridcolor": "white",
            "linecolor": "white",
            "ticks": ""
           }
          },
          "scene": {
           "xaxis": {
            "backgroundcolor": "#E5ECF6",
            "gridcolor": "white",
            "gridwidth": 2,
            "linecolor": "white",
            "showbackground": true,
            "ticks": "",
            "zerolinecolor": "white"
           },
           "yaxis": {
            "backgroundcolor": "#E5ECF6",
            "gridcolor": "white",
            "gridwidth": 2,
            "linecolor": "white",
            "showbackground": true,
            "ticks": "",
            "zerolinecolor": "white"
           },
           "zaxis": {
            "backgroundcolor": "#E5ECF6",
            "gridcolor": "white",
            "gridwidth": 2,
            "linecolor": "white",
            "showbackground": true,
            "ticks": "",
            "zerolinecolor": "white"
           }
          },
          "shapedefaults": {
           "line": {
            "color": "#2a3f5f"
           }
          },
          "ternary": {
           "aaxis": {
            "gridcolor": "white",
            "linecolor": "white",
            "ticks": ""
           },
           "baxis": {
            "gridcolor": "white",
            "linecolor": "white",
            "ticks": ""
           },
           "bgcolor": "#E5ECF6",
           "caxis": {
            "gridcolor": "white",
            "linecolor": "white",
            "ticks": ""
           }
          },
          "title": {
           "x": 0.05
          },
          "xaxis": {
           "automargin": true,
           "gridcolor": "white",
           "linecolor": "white",
           "ticks": "",
           "title": {
            "standoff": 15
           },
           "zerolinecolor": "white",
           "zerolinewidth": 2
          },
          "yaxis": {
           "automargin": true,
           "gridcolor": "white",
           "linecolor": "white",
           "ticks": "",
           "title": {
            "standoff": 15
           },
           "zerolinecolor": "white",
           "zerolinewidth": 2
          }
         }
        },
        "title": {
         "text": "availability"
        }
       }
      },
      "text/html": [
       "<div>                            <div id=\"b571c6e5-7e65-458e-b002-e2206d0aab10\" class=\"plotly-graph-div\" style=\"height:525px; width:100%;\"></div>            <script type=\"text/javascript\">                require([\"plotly\"], function(Plotly) {                    window.PLOTLYENV=window.PLOTLYENV || {};                                    if (document.getElementById(\"b571c6e5-7e65-458e-b002-e2206d0aab10\")) {                    Plotly.newPlot(                        \"b571c6e5-7e65-458e-b002-e2206d0aab10\",                        [{\"domain\":{\"x\":[0.0,1.0],\"y\":[0.0,1.0]},\"hovertemplate\":\"availability=%{label}\\u003cbr\\u003eCount=%{value}\\u003cextra\\u003e\\u003c\\u002fextra\\u003e\",\"labels\":[\"in stock\",\"limited stock\",\"delayed shipping\",\"unknown\",\"out of stock\"],\"legendgroup\":\"\",\"name\":\"\",\"showlegend\":true,\"values\":[709,253,30,6,2],\"type\":\"pie\",\"textinfo\":\"percent+label\"}],                        {\"template\":{\"data\":{\"histogram2dcontour\":[{\"type\":\"histogram2dcontour\",\"colorbar\":{\"outlinewidth\":0,\"ticks\":\"\"},\"colorscale\":[[0.0,\"#0d0887\"],[0.1111111111111111,\"#46039f\"],[0.2222222222222222,\"#7201a8\"],[0.3333333333333333,\"#9c179e\"],[0.4444444444444444,\"#bd3786\"],[0.5555555555555556,\"#d8576b\"],[0.6666666666666666,\"#ed7953\"],[0.7777777777777778,\"#fb9f3a\"],[0.8888888888888888,\"#fdca26\"],[1.0,\"#f0f921\"]]}],\"choropleth\":[{\"type\":\"choropleth\",\"colorbar\":{\"outlinewidth\":0,\"ticks\":\"\"}}],\"histogram2d\":[{\"type\":\"histogram2d\",\"colorbar\":{\"outlinewidth\":0,\"ticks\":\"\"},\"colorscale\":[[0.0,\"#0d0887\"],[0.1111111111111111,\"#46039f\"],[0.2222222222222222,\"#7201a8\"],[0.3333333333333333,\"#9c179e\"],[0.4444444444444444,\"#bd3786\"],[0.5555555555555556,\"#d8576b\"],[0.6666666666666666,\"#ed7953\"],[0.7777777777777778,\"#fb9f3a\"],[0.8888888888888888,\"#fdca26\"],[1.0,\"#f0f921\"]]}],\"heatmap\":[{\"type\":\"heatmap\",\"colorbar\":{\"outlinewidth\":0,\"ticks\":\"\"},\"colorscale\":[[0.0,\"#0d0887\"],[0.1111111111111111,\"#46039f\"],[0.2222222222222222,\"#7201a8\"],[0.3333333333333333,\"#9c179e\"],[0.4444444444444444,\"#bd3786\"],[0.5555555555555556,\"#d8576b\"],[0.6666666666666666,\"#ed7953\"],[0.7777777777777778,\"#fb9f3a\"],[0.8888888888888888,\"#fdca26\"],[1.0,\"#f0f921\"]]}],\"heatmapgl\":[{\"type\":\"heatmapgl\",\"colorbar\":{\"outlinewidth\":0,\"ticks\":\"\"},\"colorscale\":[[0.0,\"#0d0887\"],[0.1111111111111111,\"#46039f\"],[0.2222222222222222,\"#7201a8\"],[0.3333333333333333,\"#9c179e\"],[0.4444444444444444,\"#bd3786\"],[0.5555555555555556,\"#d8576b\"],[0.6666666666666666,\"#ed7953\"],[0.7777777777777778,\"#fb9f3a\"],[0.8888888888888888,\"#fdca26\"],[1.0,\"#f0f921\"]]}],\"contourcarpet\":[{\"type\":\"contourcarpet\",\"colorbar\":{\"outlinewidth\":0,\"ticks\":\"\"}}],\"contour\":[{\"type\":\"contour\",\"colorbar\":{\"outlinewidth\":0,\"ticks\":\"\"},\"colorscale\":[[0.0,\"#0d0887\"],[0.1111111111111111,\"#46039f\"],[0.2222222222222222,\"#7201a8\"],[0.3333333333333333,\"#9c179e\"],[0.4444444444444444,\"#bd3786\"],[0.5555555555555556,\"#d8576b\"],[0.6666666666666666,\"#ed7953\"],[0.7777777777777778,\"#fb9f3a\"],[0.8888888888888888,\"#fdca26\"],[1.0,\"#f0f921\"]]}],\"surface\":[{\"type\":\"surface\",\"colorbar\":{\"outlinewidth\":0,\"ticks\":\"\"},\"colorscale\":[[0.0,\"#0d0887\"],[0.1111111111111111,\"#46039f\"],[0.2222222222222222,\"#7201a8\"],[0.3333333333333333,\"#9c179e\"],[0.4444444444444444,\"#bd3786\"],[0.5555555555555556,\"#d8576b\"],[0.6666666666666666,\"#ed7953\"],[0.7777777777777778,\"#fb9f3a\"],[0.8888888888888888,\"#fdca26\"],[1.0,\"#f0f921\"]]}],\"mesh3d\":[{\"type\":\"mesh3d\",\"colorbar\":{\"outlinewidth\":0,\"ticks\":\"\"}}],\"scatter\":[{\"fillpattern\":{\"fillmode\":\"overlay\",\"size\":10,\"solidity\":0.2},\"type\":\"scatter\"}],\"parcoords\":[{\"type\":\"parcoords\",\"line\":{\"colorbar\":{\"outlinewidth\":0,\"ticks\":\"\"}}}],\"scatterpolargl\":[{\"type\":\"scatterpolargl\",\"marker\":{\"colorbar\":{\"outlinewidth\":0,\"ticks\":\"\"}}}],\"bar\":[{\"error_x\":{\"color\":\"#2a3f5f\"},\"error_y\":{\"color\":\"#2a3f5f\"},\"marker\":{\"line\":{\"color\":\"#E5ECF6\",\"width\":0.5},\"pattern\":{\"fillmode\":\"overlay\",\"size\":10,\"solidity\":0.2}},\"type\":\"bar\"}],\"scattergeo\":[{\"type\":\"scattergeo\",\"marker\":{\"colorbar\":{\"outlinewidth\":0,\"ticks\":\"\"}}}],\"scatterpolar\":[{\"type\":\"scatterpolar\",\"marker\":{\"colorbar\":{\"outlinewidth\":0,\"ticks\":\"\"}}}],\"histogram\":[{\"marker\":{\"pattern\":{\"fillmode\":\"overlay\",\"size\":10,\"solidity\":0.2}},\"type\":\"histogram\"}],\"scattergl\":[{\"type\":\"scattergl\",\"marker\":{\"colorbar\":{\"outlinewidth\":0,\"ticks\":\"\"}}}],\"scatter3d\":[{\"type\":\"scatter3d\",\"line\":{\"colorbar\":{\"outlinewidth\":0,\"ticks\":\"\"}},\"marker\":{\"colorbar\":{\"outlinewidth\":0,\"ticks\":\"\"}}}],\"scattermapbox\":[{\"type\":\"scattermapbox\",\"marker\":{\"colorbar\":{\"outlinewidth\":0,\"ticks\":\"\"}}}],\"scatterternary\":[{\"type\":\"scatterternary\",\"marker\":{\"colorbar\":{\"outlinewidth\":0,\"ticks\":\"\"}}}],\"scattercarpet\":[{\"type\":\"scattercarpet\",\"marker\":{\"colorbar\":{\"outlinewidth\":0,\"ticks\":\"\"}}}],\"carpet\":[{\"aaxis\":{\"endlinecolor\":\"#2a3f5f\",\"gridcolor\":\"white\",\"linecolor\":\"white\",\"minorgridcolor\":\"white\",\"startlinecolor\":\"#2a3f5f\"},\"baxis\":{\"endlinecolor\":\"#2a3f5f\",\"gridcolor\":\"white\",\"linecolor\":\"white\",\"minorgridcolor\":\"white\",\"startlinecolor\":\"#2a3f5f\"},\"type\":\"carpet\"}],\"table\":[{\"cells\":{\"fill\":{\"color\":\"#EBF0F8\"},\"line\":{\"color\":\"white\"}},\"header\":{\"fill\":{\"color\":\"#C8D4E3\"},\"line\":{\"color\":\"white\"}},\"type\":\"table\"}],\"barpolar\":[{\"marker\":{\"line\":{\"color\":\"#E5ECF6\",\"width\":0.5},\"pattern\":{\"fillmode\":\"overlay\",\"size\":10,\"solidity\":0.2}},\"type\":\"barpolar\"}],\"pie\":[{\"automargin\":true,\"type\":\"pie\"}]},\"layout\":{\"autotypenumbers\":\"strict\",\"colorway\":[\"#636efa\",\"#EF553B\",\"#00cc96\",\"#ab63fa\",\"#FFA15A\",\"#19d3f3\",\"#FF6692\",\"#B6E880\",\"#FF97FF\",\"#FECB52\"],\"font\":{\"color\":\"#2a3f5f\"},\"hovermode\":\"closest\",\"hoverlabel\":{\"align\":\"left\"},\"paper_bgcolor\":\"white\",\"plot_bgcolor\":\"#E5ECF6\",\"polar\":{\"bgcolor\":\"#E5ECF6\",\"angularaxis\":{\"gridcolor\":\"white\",\"linecolor\":\"white\",\"ticks\":\"\"},\"radialaxis\":{\"gridcolor\":\"white\",\"linecolor\":\"white\",\"ticks\":\"\"}},\"ternary\":{\"bgcolor\":\"#E5ECF6\",\"aaxis\":{\"gridcolor\":\"white\",\"linecolor\":\"white\",\"ticks\":\"\"},\"baxis\":{\"gridcolor\":\"white\",\"linecolor\":\"white\",\"ticks\":\"\"},\"caxis\":{\"gridcolor\":\"white\",\"linecolor\":\"white\",\"ticks\":\"\"}},\"coloraxis\":{\"colorbar\":{\"outlinewidth\":0,\"ticks\":\"\"}},\"colorscale\":{\"sequential\":[[0.0,\"#0d0887\"],[0.1111111111111111,\"#46039f\"],[0.2222222222222222,\"#7201a8\"],[0.3333333333333333,\"#9c179e\"],[0.4444444444444444,\"#bd3786\"],[0.5555555555555556,\"#d8576b\"],[0.6666666666666666,\"#ed7953\"],[0.7777777777777778,\"#fb9f3a\"],[0.8888888888888888,\"#fdca26\"],[1.0,\"#f0f921\"]],\"sequentialminus\":[[0.0,\"#0d0887\"],[0.1111111111111111,\"#46039f\"],[0.2222222222222222,\"#7201a8\"],[0.3333333333333333,\"#9c179e\"],[0.4444444444444444,\"#bd3786\"],[0.5555555555555556,\"#d8576b\"],[0.6666666666666666,\"#ed7953\"],[0.7777777777777778,\"#fb9f3a\"],[0.8888888888888888,\"#fdca26\"],[1.0,\"#f0f921\"]],\"diverging\":[[0,\"#8e0152\"],[0.1,\"#c51b7d\"],[0.2,\"#de77ae\"],[0.3,\"#f1b6da\"],[0.4,\"#fde0ef\"],[0.5,\"#f7f7f7\"],[0.6,\"#e6f5d0\"],[0.7,\"#b8e186\"],[0.8,\"#7fbc41\"],[0.9,\"#4d9221\"],[1,\"#276419\"]]},\"xaxis\":{\"gridcolor\":\"white\",\"linecolor\":\"white\",\"ticks\":\"\",\"title\":{\"standoff\":15},\"zerolinecolor\":\"white\",\"automargin\":true,\"zerolinewidth\":2},\"yaxis\":{\"gridcolor\":\"white\",\"linecolor\":\"white\",\"ticks\":\"\",\"title\":{\"standoff\":15},\"zerolinecolor\":\"white\",\"automargin\":true,\"zerolinewidth\":2},\"scene\":{\"xaxis\":{\"backgroundcolor\":\"#E5ECF6\",\"gridcolor\":\"white\",\"linecolor\":\"white\",\"showbackground\":true,\"ticks\":\"\",\"zerolinecolor\":\"white\",\"gridwidth\":2},\"yaxis\":{\"backgroundcolor\":\"#E5ECF6\",\"gridcolor\":\"white\",\"linecolor\":\"white\",\"showbackground\":true,\"ticks\":\"\",\"zerolinecolor\":\"white\",\"gridwidth\":2},\"zaxis\":{\"backgroundcolor\":\"#E5ECF6\",\"gridcolor\":\"white\",\"linecolor\":\"white\",\"showbackground\":true,\"ticks\":\"\",\"zerolinecolor\":\"white\",\"gridwidth\":2}},\"shapedefaults\":{\"line\":{\"color\":\"#2a3f5f\"}},\"annotationdefaults\":{\"arrowcolor\":\"#2a3f5f\",\"arrowhead\":0,\"arrowwidth\":1},\"geo\":{\"bgcolor\":\"white\",\"landcolor\":\"#E5ECF6\",\"subunitcolor\":\"white\",\"showland\":true,\"showlakes\":true,\"lakecolor\":\"white\"},\"title\":{\"x\":0.05},\"mapbox\":{\"style\":\"light\"}}},\"legend\":{\"tracegroupgap\":0},\"title\":{\"text\":\"availability\"}},                        {\"responsive\": true}                    ).then(function(){\n",
       "                            \n",
       "var gd = document.getElementById('b571c6e5-7e65-458e-b002-e2206d0aab10');\n",
       "var x = new MutationObserver(function (mutations, observer) {{\n",
       "        var display = window.getComputedStyle(gd).display;\n",
       "        if (!display || display === 'none') {{\n",
       "            console.log([gd, 'removed!']);\n",
       "            Plotly.purge(gd);\n",
       "            observer.disconnect();\n",
       "        }}\n",
       "}});\n",
       "\n",
       "// Listen for the removal of the full notebook cells\n",
       "var notebookContainer = gd.closest('#notebook-container');\n",
       "if (notebookContainer) {{\n",
       "    x.observe(notebookContainer, {childList: true});\n",
       "}}\n",
       "\n",
       "// Listen for the clearing of the current output cell\n",
       "var outputEl = gd.closest('.output');\n",
       "if (outputEl) {{\n",
       "    x.observe(outputEl, {childList: true});\n",
       "}}\n",
       "\n",
       "                        })                };                });            </script>        </div>"
      ]
     },
     "metadata": {},
     "output_type": "display_data"
    }
   ],
   "source": [
    "availability = df['availability'].value_counts().head(8).reset_index()\n",
    "availability.columns = ['availability', 'Count']\n",
    "\n",
    "fig = px.pie(\n",
    "    availability,\n",
    "    names='availability',\n",
    "    values='Count',\n",
    "    title='availability',\n",
    ")\n",
    "\n",
    "fig.update_traces(textinfo='percent+label')\n",
    "fig.show()"
   ]
  },
  {
   "cell_type": "markdown",
   "id": "27dab9f4-57ac-4826-9944-bbd156824f0a",
   "metadata": {},
   "source": [
    "**Bi-Variate Analysis - Study of Two Different Columns data**"
   ]
  },
  {
   "cell_type": "code",
   "execution_count": 765,
   "id": "13c3a363-f047-4db5-8111-9417689ec54b",
   "metadata": {},
   "outputs": [
    {
     "data": {
      "image/png": "[encoded data removed]",
      "text/plain": [
       "<Figure size 640x480 with 1 Axes>"
      ]
     },
     "metadata": {},
     "output_type": "display_data"
    }
   ],
   "source": [
    "plt.scatter(df['discount'], df['final_price'], alpha=0.5)\n",
    "plt.title(\"Discount vs final_price\")\n",
    "plt.xlabel(\"Discount (%)\")\n",
    "plt.ylabel(\"final_price\")\n",
    "plt.show()"
   ]
  },
  {
   "cell_type": "code",
   "execution_count": 766,
   "id": "fda162d5-5bbd-48b6-ab84-bf1b64e43db4",
   "metadata": {},
   "outputs": [
    {
     "data": {
      "application/vnd.plotly.v1+json": {
       "config": {
        "plotlyServerURL": "https://plot.ly"
       },
       "data": [
        {
         "alignmentgroup": "True",
         "hovertemplate": "brand=%{x}<br>discount=%{y}<extra></extra>",
         "legendgroup": "",
         "marker": {
          "color": "#636efa",
          "pattern": {
           "shape": ""
          }
         },
         "name": "",
         "offsetgroup": "",
         "orientation": "v",
         "showlegend": false,
         "textposition": "auto",
         "type": "bar",
         "x": [
          "wusoda",
          "wochel",
          "thermomate",
          "superbpag",
          "seceles",
          "nuLOOM",
          "nsb herbals",
          "mushie",
          "molshine",
          "kmucutie"
         ],
         "xaxis": "x",
         "y": [
          5,
          null,
          12,
          10,
          28,
          50,
          33,
          null,
          5,
          5
         ],
         "yaxis": "y"
        }
       ],
       "layout": {
        "barmode": "relative",
        "legend": {
         "tracegroupgap": 0
        },
        "template": {
         "data": {
          "bar": [
           {
            "error_x": {
             "color": "#2a3f5f"
            },
            "error_y": {
             "color": "#2a3f5f"
            },
            "marker": {
             "line": {
              "color": "#E5ECF6",
              "width": 0.5
             },
             "pattern": {
              "fillmode": "overlay",
              "size": 10,
              "solidity": 0.2
             }
            },
            "type": "bar"
           }
          ],
          "barpolar": [
           {
            "marker": {
             "line": {
              "color": "#E5ECF6",
              "width": 0.5
             },
             "pattern": {
              "fillmode": "overlay",
              "size": 10,
              "solidity": 0.2
             }
            },
            "type": "barpolar"
           }
          ],
          "carpet": [
           {
            "aaxis": {
             "endlinecolor": "#2a3f5f",
             "gridcolor": "white",
             "linecolor": "white",
             "minorgridcolor": "white",
             "startlinecolor": "#2a3f5f"
            },
            "baxis": {
             "endlinecolor": "#2a3f5f",
             "gridcolor": "white",
             "linecolor": "white",
             "minorgridcolor": "white",
             "startlinecolor": "#2a3f5f"
            },
            "type": "carpet"
           }
          ],
          "choropleth": [
           {
            "colorbar": {
             "outlinewidth": 0,
             "ticks": ""
            },
            "type": "choropleth"
           }
          ],
          "contour": [
           {
            "colorbar": {
             "outlinewidth": 0,
             "ticks": ""
            },
            "colorscale": [
             [
              0,
              "#0d0887"
             ],
             [
              0.1111111111111111,
              "#46039f"
             ],
             [
              0.2222222222222222,
              "#7201a8"
             ],
             [
              0.3333333333333333,
              "#9c179e"
             ],
             [
              0.4444444444444444,
              "#bd3786"
             ],
             [
              0.5555555555555556,
              "#d8576b"
             ],
             [
              0.6666666666666666,
              "#ed7953"
             ],
             [
              0.7777777777777778,
              "#fb9f3a"
             ],
             [
              0.8888888888888888,
              "#fdca26"
             ],
             [
              1,
              "#f0f921"
             ]
            ],
            "type": "contour"
           }
          ],
          "contourcarpet": [
           {
            "colorbar": {
             "outlinewidth": 0,
             "ticks": ""
            },
            "type": "contourcarpet"
           }
          ],
          "heatmap": [
           {
            "colorbar": {
             "outlinewidth": 0,
             "ticks": ""
            },
            "colorscale": [
             [
              0,
              "#0d0887"
             ],
             [
              0.1111111111111111,
              "#46039f"
             ],
             [
              0.2222222222222222,
              "#7201a8"
             ],
             [
              0.3333333333333333,
              "#9c179e"
             ],
             [
              0.4444444444444444,
              "#bd3786"
             ],
             [
              0.5555555555555556,
              "#d8576b"
             ],
             [
              0.6666666666666666,
              "#ed7953"
             ],
             [
              0.7777777777777778,
              "#fb9f3a"
             ],
             [
              0.8888888888888888,
              "#fdca26"
             ],
             [
              1,
              "#f0f921"
             ]
            ],
            "type": "heatmap"
           }
          ],
          "heatmapgl": [
           {
            "colorbar": {
             "outlinewidth": 0,
             "ticks": ""
            },
            "colorscale": [
             [
              0,
              "#0d0887"
             ],
             [
              0.1111111111111111,
              "#46039f"
             ],
             [
              0.2222222222222222,
              "#7201a8"
             ],
             [
              0.3333333333333333,
              "#9c179e"
             ],
             [
              0.4444444444444444,
              "#bd3786"
             ],
             [
              0.5555555555555556,
              "#d8576b"
             ],
             [
              0.6666666666666666,
              "#ed7953"
             ],
             [
              0.7777777777777778,
              "#fb9f3a"
             ],
             [
              0.8888888888888888,
              "#fdca26"
             ],
             [
              1,
              "#f0f921"
             ]
            ],
            "type": "heatmapgl"
           }
          ],
          "histogram": [
           {
            "marker": {
             "pattern": {
              "fillmode": "overlay",
              "size": 10,
              "solidity": 0.2
             }
            },
            "type": "histogram"
           }
          ],
          "histogram2d": [
           {
            "colorbar": {
             "outlinewidth": 0,
             "ticks": ""
            },
            "colorscale": [
             [
              0,
              "#0d0887"
             ],
             [
              0.1111111111111111,
              "#46039f"
             ],
             [
              0.2222222222222222,
              "#7201a8"
             ],
             [
              0.3333333333333333,
              "#9c179e"
             ],
             [
              0.4444444444444444,
              "#bd3786"
             ],
             [
              0.5555555555555556,
              "#d8576b"
             ],
             [
              0.6666666666666666,
              "#ed7953"
             ],
             [
              0.7777777777777778,
              "#fb9f3a"
             ],
             [
              0.8888888888888888,
              "#fdca26"
             ],
             [
              1,
              "#f0f921"
             ]
            ],
            "type": "histogram2d"
           }
          ],
          "histogram2dcontour": [
           {
            "colorbar": {
             "outlinewidth": 0,
             "ticks": ""
            },
            "colorscale": [
             [
              0,
              "#0d0887"
             ],
             [
              0.1111111111111111,
              "#46039f"
             ],
             [
              0.2222222222222222,
              "#7201a8"
             ],
             [
              0.3333333333333333,
              "#9c179e"
             ],
             [
              0.4444444444444444,
              "#bd3786"
             ],
             [
              0.5555555555555556,
              "#d8576b"
             ],
             [
              0.6666666666666666,
              "#ed7953"
             ],
             [
              0.7777777777777778,
              "#fb9f3a"
             ],
             [
              0.8888888888888888,
              "#fdca26"
             ],
             [
              1,
              "#f0f921"
             ]
            ],
            "type": "histogram2dcontour"
           }
          ],
          "mesh3d": [
           {
            "colorbar": {
             "outlinewidth": 0,
             "ticks": ""
            },
            "type": "mesh3d"
           }
          ],
          "parcoords": [
           {
            "line": {
             "colorbar": {
              "outlinewidth": 0,
              "ticks": ""
             }
            },
            "type": "parcoords"
           }
          ],
          "pie": [
           {
            "automargin": true,
            "type": "pie"
           }
          ],
          "scatter": [
           {
            "fillpattern": {
             "fillmode": "overlay",
             "size": 10,
             "solidity": 0.2
            },
            "type": "scatter"
           }
          ],
          "scatter3d": [
           {
            "line": {
             "colorbar": {
              "outlinewidth": 0,
              "ticks": ""
             }
            },
            "marker": {
             "colorbar": {
              "outlinewidth": 0,
              "ticks": ""
             }
            },
            "type": "scatter3d"
           }
          ],
          "scattercarpet": [
           {
            "marker": {
             "colorbar": {
              "outlinewidth": 0,
              "ticks": ""
             }
            },
            "type": "scattercarpet"
           }
          ],
          "scattergeo": [
           {
            "marker": {
             "colorbar": {
              "outlinewidth": 0,
              "ticks": ""
             }
            },
            "type": "scattergeo"
           }
          ],
          "scattergl": [
           {
            "marker": {
             "colorbar": {
              "outlinewidth": 0,
              "ticks": ""
             }
            },
            "type": "scattergl"
           }
          ],
          "scattermapbox": [
           {
            "marker": {
             "colorbar": {
              "outlinewidth": 0,
              "ticks": ""
             }
            },
            "type": "scattermapbox"
           }
          ],
          "scatterpolar": [
           {
            "marker": {
             "colorbar": {
              "outlinewidth": 0,
              "ticks": ""
             }
            },
            "type": "scatterpolar"
           }
          ],
          "scatterpolargl": [
           {
            "marker": {
             "colorbar": {
              "outlinewidth": 0,
              "ticks": ""
             }
            },
            "type": "scatterpolargl"
           }
          ],
          "scatterternary": [
           {
            "marker": {
             "colorbar": {
              "outlinewidth": 0,
              "ticks": ""
             }
            },
            "type": "scatterternary"
           }
          ],
          "surface": [
           {
            "colorbar": {
             "outlinewidth": 0,
             "ticks": ""
            },
            "colorscale": [
             [
              0,
              "#0d0887"
             ],
             [
              0.1111111111111111,
              "#46039f"
             ],
             [
              0.2222222222222222,
              "#7201a8"
             ],
             [
              0.3333333333333333,
              "#9c179e"
             ],
             [
              0.4444444444444444,
              "#bd3786"
             ],
             [
              0.5555555555555556,
              "#d8576b"
             ],
             [
              0.6666666666666666,
              "#ed7953"
             ],
             [
              0.7777777777777778,
              "#fb9f3a"
             ],
             [
              0.8888888888888888,
              "#fdca26"
             ],
             [
              1,
              "#f0f921"
             ]
            ],
            "type": "surface"
           }
          ],
          "table": [
           {
            "cells": {
             "fill": {
              "color": "#EBF0F8"
             },
             "line": {
              "color": "white"
             }
            },
            "header": {
             "fill": {
              "color": "#C8D4E3"
             },
             "line": {
              "color": "white"
             }
            },
            "type": "table"
           }
          ]
         },
         "layout": {
          "annotationdefaults": {
           "arrowcolor": "#2a3f5f",
           "arrowhead": 0,
           "arrowwidth": 1
          },
          "autotypenumbers": "strict",
          "coloraxis": {
           "colorbar": {
            "outlinewidth": 0,
            "ticks": ""
           }
          },
          "colorscale": {
           "diverging": [
            [
             0,
             "#8e0152"
            ],
            [
             0.1,
             "#c51b7d"
            ],
            [
             0.2,
             "#de77ae"
            ],
            [
             0.3,
             "#f1b6da"
            ],
            [
             0.4,
             "#fde0ef"
            ],
            [
             0.5,
             "#f7f7f7"
            ],
            [
             0.6,
             "#e6f5d0"
            ],
            [
             0.7,
             "#b8e186"
            ],
            [
             0.8,
             "#7fbc41"
            ],
            [
             0.9,
             "#4d9221"
            ],
            [
             1,
             "#276419"
            ]
           ],
           "sequential": [
            [
             0,
             "#0d0887"
            ],
            [
             0.1111111111111111,
             "#46039f"
            ],
            [
             0.2222222222222222,
             "#7201a8"
            ],
            [
             0.3333333333333333,
             "#9c179e"
            ],
            [
             0.4444444444444444,
             "#bd3786"
            ],
            [
             0.5555555555555556,
             "#d8576b"
            ],
            [
             0.6666666666666666,
             "#ed7953"
            ],
            [
             0.7777777777777778,
             "#fb9f3a"
            ],
            [
             0.8888888888888888,
             "#fdca26"
            ],
            [
             1,
             "#f0f921"
            ]
           ],
           "sequentialminus": [
            [
             0,
             "#0d0887"
            ],
            [
             0.1111111111111111,
             "#46039f"
            ],
            [
             0.2222222222222222,
             "#7201a8"
            ],
            [
             0.3333333333333333,
             "#9c179e"
            ],
            [
             0.4444444444444444,
             "#bd3786"
            ],
            [
             0.5555555555555556,
             "#d8576b"
            ],
            [
             0.6666666666666666,
             "#ed7953"
            ],
            [
             0.7777777777777778,
             "#fb9f3a"
            ],
            [
             0.8888888888888888,
             "#fdca26"
            ],
            [
             1,
             "#f0f921"
            ]
           ]
          },
          "colorway": [
           "#636efa",
           "#EF553B",
           "#00cc96",
           "#ab63fa",
           "#FFA15A",
           "#19d3f3",
           "#FF6692",
           "#B6E880",
           "#FF97FF",
           "#FECB52"
          ],
          "font": {
           "color": "#2a3f5f"
          },
          "geo": {
           "bgcolor": "white",
           "lakecolor": "white",
           "landcolor": "#E5ECF6",
           "showlakes": true,
           "showland": true,
           "subunitcolor": "white"
          },
          "hoverlabel": {
           "align": "left"
          },
          "hovermode": "closest",
          "mapbox": {
           "style": "light"
          },
          "paper_bgcolor": "white",
          "plot_bgcolor": "#E5ECF6",
          "polar": {
           "angularaxis": {
            "gridcolor": "white",
            "linecolor": "white",
            "ticks": ""
           },
           "bgcolor": "#E5ECF6",
           "radialaxis": {
            "gridcolor": "white",
            "linecolor": "white",
            "ticks": ""
           }
          },
          "scene": {
           "xaxis": {
            "backgroundcolor": "#E5ECF6",
            "gridcolor": "white",
            "gridwidth": 2,
            "linecolor": "white",
            "showbackground": true,
            "ticks": "",
            "zerolinecolor": "white"
           },
           "yaxis": {
            "backgroundcolor": "#E5ECF6",
            "gridcolor": "white",
            "gridwidth": 2,
            "linecolor": "white",
            "showbackground": true,
            "ticks": "",
            "zerolinecolor": "white"
           },
           "zaxis": {
            "backgroundcolor": "#E5ECF6",
            "gridcolor": "white",
            "gridwidth": 2,
            "linecolor": "white",
            "showbackground": true,
            "ticks": "",
            "zerolinecolor": "white"
           }
          },
          "shapedefaults": {
           "line": {
            "color": "#2a3f5f"
           }
          },
          "ternary": {
           "aaxis": {
            "gridcolor": "white",
            "linecolor": "white",
            "ticks": ""
           },
           "baxis": {
            "gridcolor": "white",
            "linecolor": "white",
            "ticks": ""
           },
           "bgcolor": "#E5ECF6",
           "caxis": {
            "gridcolor": "white",
            "linecolor": "white",
            "ticks": ""
           }
          },
          "title": {
           "x": 0.05
          },
          "xaxis": {
           "automargin": true,
           "gridcolor": "white",
           "linecolor": "white",
           "ticks": "",
           "title": {
            "standoff": 15
           },
           "zerolinecolor": "white",
           "zerolinewidth": 2
          },
          "yaxis": {
           "automargin": true,
           "gridcolor": "white",
           "linecolor": "white",
           "ticks": "",
           "title": {
            "standoff": 15
           },
           "zerolinecolor": "white",
           "zerolinewidth": 2
          }
         }
        },
        "title": {
         "text": "Top 10 brands by discount"
        },
        "xaxis": {
         "anchor": "y",
         "domain": [
          0,
          1
         ],
         "title": {
          "text": "brand"
         }
        },
        "yaxis": {
         "anchor": "x",
         "domain": [
          0,
          1
         ],
         "title": {
          "text": "discount"
         }
        }
       }
      },
      "text/html": [
       "<div>                            <div id=\"76e31de6-d3d5-4d1e-8f25-3f0a4063fd54\" class=\"plotly-graph-div\" style=\"height:525px; width:100%;\"></div>            <script type=\"text/javascript\">                require([\"plotly\"], function(Plotly) {                    window.PLOTLYENV=window.PLOTLYENV || {};                                    if (document.getElementById(\"76e31de6-d3d5-4d1e-8f25-3f0a4063fd54\")) {                    Plotly.newPlot(                        \"76e31de6-d3d5-4d1e-8f25-3f0a4063fd54\",                        [{\"alignmentgroup\":\"True\",\"hovertemplate\":\"brand=%{x}\\u003cbr\\u003ediscount=%{y}\\u003cextra\\u003e\\u003c\\u002fextra\\u003e\",\"legendgroup\":\"\",\"marker\":{\"color\":\"#636efa\",\"pattern\":{\"shape\":\"\"}},\"name\":\"\",\"offsetgroup\":\"\",\"orientation\":\"v\",\"showlegend\":false,\"textposition\":\"auto\",\"x\":[\"wusoda\",\"wochel\",\"thermomate\",\"superbpag\",\"seceles\",\"nuLOOM\",\"nsb herbals\",\"mushie\",\"molshine\",\"kmucutie\"],\"xaxis\":\"x\",\"y\":[5.0,null,12.0,10.0,28.0,50.0,33.0,null,5.0,5.0],\"yaxis\":\"y\",\"type\":\"bar\"}],                        {\"template\":{\"data\":{\"histogram2dcontour\":[{\"type\":\"histogram2dcontour\",\"colorbar\":{\"outlinewidth\":0,\"ticks\":\"\"},\"colorscale\":[[0.0,\"#0d0887\"],[0.1111111111111111,\"#46039f\"],[0.2222222222222222,\"#7201a8\"],[0.3333333333333333,\"#9c179e\"],[0.4444444444444444,\"#bd3786\"],[0.5555555555555556,\"#d8576b\"],[0.6666666666666666,\"#ed7953\"],[0.7777777777777778,\"#fb9f3a\"],[0.8888888888888888,\"#fdca26\"],[1.0,\"#f0f921\"]]}],\"choropleth\":[{\"type\":\"choropleth\",\"colorbar\":{\"outlinewidth\":0,\"ticks\":\"\"}}],\"histogram2d\":[{\"type\":\"histogram2d\",\"colorbar\":{\"outlinewidth\":0,\"ticks\":\"\"},\"colorscale\":[[0.0,\"#0d0887\"],[0.1111111111111111,\"#46039f\"],[0.2222222222222222,\"#7201a8\"],[0.3333333333333333,\"#9c179e\"],[0.4444444444444444,\"#bd3786\"],[0.5555555555555556,\"#d8576b\"],[0.6666666666666666,\"#ed7953\"],[0.7777777777777778,\"#fb9f3a\"],[0.8888888888888888,\"#fdca26\"],[1.0,\"#f0f921\"]]}],\"heatmap\":[{\"type\":\"heatmap\",\"colorbar\":{\"outlinewidth\":0,\"ticks\":\"\"},\"colorscale\":[[0.0,\"#0d0887\"],[0.1111111111111111,\"#46039f\"],[0.2222222222222222,\"#7201a8\"],[0.3333333333333333,\"#9c179e\"],[0.4444444444444444,\"#bd3786\"],[0.5555555555555556,\"#d8576b\"],[0.6666666666666666,\"#ed7953\"],[0.7777777777777778,\"#fb9f3a\"],[0.8888888888888888,\"#fdca26\"],[1.0,\"#f0f921\"]]}],\"heatmapgl\":[{\"type\":\"heatmapgl\",\"colorbar\":{\"outlinewidth\":0,\"ticks\":\"\"},\"colorscale\":[[0.0,\"#0d0887\"],[0.1111111111111111,\"#46039f\"],[0.2222222222222222,\"#7201a8\"],[0.3333333333333333,\"#9c179e\"],[0.4444444444444444,\"#bd3786\"],[0.5555555555555556,\"#d8576b\"],[0.6666666666666666,\"#ed7953\"],[0.7777777777777778,\"#fb9f3a\"],[0.8888888888888888,\"#fdca26\"],[1.0,\"#f0f921\"]]}],\"contourcarpet\":[{\"type\":\"contourcarpet\",\"colorbar\":{\"outlinewidth\":0,\"ticks\":\"\"}}],\"contour\":[{\"type\":\"contour\",\"colorbar\":{\"outlinewidth\":0,\"ticks\":\"\"},\"colorscale\":[[0.0,\"#0d0887\"],[0.1111111111111111,\"#46039f\"],[0.2222222222222222,\"#7201a8\"],[0.3333333333333333,\"#9c179e\"],[0.4444444444444444,\"#bd3786\"],[0.5555555555555556,\"#d8576b\"],[0.6666666666666666,\"#ed7953\"],[0.7777777777777778,\"#fb9f3a\"],[0.8888888888888888,\"#fdca26\"],[1.0,\"#f0f921\"]]}],\"surface\":[{\"type\":\"surface\",\"colorbar\":{\"outlinewidth\":0,\"ticks\":\"\"},\"colorscale\":[[0.0,\"#0d0887\"],[0.1111111111111111,\"#46039f\"],[0.2222222222222222,\"#7201a8\"],[0.3333333333333333,\"#9c179e\"],[0.4444444444444444,\"#bd3786\"],[0.5555555555555556,\"#d8576b\"],[0.6666666666666666,\"#ed7953\"],[0.7777777777777778,\"#fb9f3a\"],[0.8888888888888888,\"#fdca26\"],[1.0,\"#f0f921\"]]}],\"mesh3d\":[{\"type\":\"mesh3d\",\"colorbar\":{\"outlinewidth\":0,\"ticks\":\"\"}}],\"scatter\":[{\"fillpattern\":{\"fillmode\":\"overlay\",\"size\":10,\"solidity\":0.2},\"type\":\"scatter\"}],\"parcoords\":[{\"type\":\"parcoords\",\"line\":{\"colorbar\":{\"outlinewidth\":0,\"ticks\":\"\"}}}],\"scatterpolargl\":[{\"type\":\"scatterpolargl\",\"marker\":{\"colorbar\":{\"outlinewidth\":0,\"ticks\":\"\"}}}],\"bar\":[{\"error_x\":{\"color\":\"#2a3f5f\"},\"error_y\":{\"color\":\"#2a3f5f\"},\"marker\":{\"line\":{\"color\":\"#E5ECF6\",\"width\":0.5},\"pattern\":{\"fillmode\":\"overlay\",\"size\":10,\"solidity\":0.2}},\"type\":\"bar\"}],\"scattergeo\":[{\"type\":\"scattergeo\",\"marker\":{\"colorbar\":{\"outlinewidth\":0,\"ticks\":\"\"}}}],\"scatterpolar\":[{\"type\":\"scatterpolar\",\"marker\":{\"colorbar\":{\"outlinewidth\":0,\"ticks\":\"\"}}}],\"histogram\":[{\"marker\":{\"pattern\":{\"fillmode\":\"overlay\",\"size\":10,\"solidity\":0.2}},\"type\":\"histogram\"}],\"scattergl\":[{\"type\":\"scattergl\",\"marker\":{\"colorbar\":{\"outlinewidth\":0,\"ticks\":\"\"}}}],\"scatter3d\":[{\"type\":\"scatter3d\",\"line\":{\"colorbar\":{\"outlinewidth\":0,\"ticks\":\"\"}},\"marker\":{\"colorbar\":{\"outlinewidth\":0,\"ticks\":\"\"}}}],\"scattermapbox\":[{\"type\":\"scattermapbox\",\"marker\":{\"colorbar\":{\"outlinewidth\":0,\"ticks\":\"\"}}}],\"scatterternary\":[{\"type\":\"scatterternary\",\"marker\":{\"colorbar\":{\"outlinewidth\":0,\"ticks\":\"\"}}}],\"scattercarpet\":[{\"type\":\"scattercarpet\",\"marker\":{\"colorbar\":{\"outlinewidth\":0,\"ticks\":\"\"}}}],\"carpet\":[{\"aaxis\":{\"endlinecolor\":\"#2a3f5f\",\"gridcolor\":\"white\",\"linecolor\":\"white\",\"minorgridcolor\":\"white\",\"startlinecolor\":\"#2a3f5f\"},\"baxis\":{\"endlinecolor\":\"#2a3f5f\",\"gridcolor\":\"white\",\"linecolor\":\"white\",\"minorgridcolor\":\"white\",\"startlinecolor\":\"#2a3f5f\"},\"type\":\"carpet\"}],\"table\":[{\"cells\":{\"fill\":{\"color\":\"#EBF0F8\"},\"line\":{\"color\":\"white\"}},\"header\":{\"fill\":{\"color\":\"#C8D4E3\"},\"line\":{\"color\":\"white\"}},\"type\":\"table\"}],\"barpolar\":[{\"marker\":{\"line\":{\"color\":\"#E5ECF6\",\"width\":0.5},\"pattern\":{\"fillmode\":\"overlay\",\"size\":10,\"solidity\":0.2}},\"type\":\"barpolar\"}],\"pie\":[{\"automargin\":true,\"type\":\"pie\"}]},\"layout\":{\"autotypenumbers\":\"strict\",\"colorway\":[\"#636efa\",\"#EF553B\",\"#00cc96\",\"#ab63fa\",\"#FFA15A\",\"#19d3f3\",\"#FF6692\",\"#B6E880\",\"#FF97FF\",\"#FECB52\"],\"font\":{\"color\":\"#2a3f5f\"},\"hovermode\":\"closest\",\"hoverlabel\":{\"align\":\"left\"},\"paper_bgcolor\":\"white\",\"plot_bgcolor\":\"#E5ECF6\",\"polar\":{\"bgcolor\":\"#E5ECF6\",\"angularaxis\":{\"gridcolor\":\"white\",\"linecolor\":\"white\",\"ticks\":\"\"},\"radialaxis\":{\"gridcolor\":\"white\",\"linecolor\":\"white\",\"ticks\":\"\"}},\"ternary\":{\"bgcolor\":\"#E5ECF6\",\"aaxis\":{\"gridcolor\":\"white\",\"linecolor\":\"white\",\"ticks\":\"\"},\"baxis\":{\"gridcolor\":\"white\",\"linecolor\":\"white\",\"ticks\":\"\"},\"caxis\":{\"gridcolor\":\"white\",\"linecolor\":\"white\",\"ticks\":\"\"}},\"coloraxis\":{\"colorbar\":{\"outlinewidth\":0,\"ticks\":\"\"}},\"colorscale\":{\"sequential\":[[0.0,\"#0d0887\"],[0.1111111111111111,\"#46039f\"],[0.2222222222222222,\"#7201a8\"],[0.3333333333333333,\"#9c179e\"],[0.4444444444444444,\"#bd3786\"],[0.5555555555555556,\"#d8576b\"],[0.6666666666666666,\"#ed7953\"],[0.7777777777777778,\"#fb9f3a\"],[0.8888888888888888,\"#fdca26\"],[1.0,\"#f0f921\"]],\"sequentialminus\":[[0.0,\"#0d0887\"],[0.1111111111111111,\"#46039f\"],[0.2222222222222222,\"#7201a8\"],[0.3333333333333333,\"#9c179e\"],[0.4444444444444444,\"#bd3786\"],[0.5555555555555556,\"#d8576b\"],[0.6666666666666666,\"#ed7953\"],[0.7777777777777778,\"#fb9f3a\"],[0.8888888888888888,\"#fdca26\"],[1.0,\"#f0f921\"]],\"diverging\":[[0,\"#8e0152\"],[0.1,\"#c51b7d\"],[0.2,\"#de77ae\"],[0.3,\"#f1b6da\"],[0.4,\"#fde0ef\"],[0.5,\"#f7f7f7\"],[0.6,\"#e6f5d0\"],[0.7,\"#b8e186\"],[0.8,\"#7fbc41\"],[0.9,\"#4d9221\"],[1,\"#276419\"]]},\"xaxis\":{\"gridcolor\":\"white\",\"linecolor\":\"white\",\"ticks\":\"\",\"title\":{\"standoff\":15},\"zerolinecolor\":\"white\",\"automargin\":true,\"zerolinewidth\":2},\"yaxis\":{\"gridcolor\":\"white\",\"linecolor\":\"white\",\"ticks\":\"\",\"title\":{\"standoff\":15},\"zerolinecolor\":\"white\",\"automargin\":true,\"zerolinewidth\":2},\"scene\":{\"xaxis\":{\"backgroundcolor\":\"#E5ECF6\",\"gridcolor\":\"white\",\"linecolor\":\"white\",\"showbackground\":true,\"ticks\":\"\",\"zerolinecolor\":\"white\",\"gridwidth\":2},\"yaxis\":{\"backgroundcolor\":\"#E5ECF6\",\"gridcolor\":\"white\",\"linecolor\":\"white\",\"showbackground\":true,\"ticks\":\"\",\"zerolinecolor\":\"white\",\"gridwidth\":2},\"zaxis\":{\"backgroundcolor\":\"#E5ECF6\",\"gridcolor\":\"white\",\"linecolor\":\"white\",\"showbackground\":true,\"ticks\":\"\",\"zerolinecolor\":\"white\",\"gridwidth\":2}},\"shapedefaults\":{\"line\":{\"color\":\"#2a3f5f\"}},\"annotationdefaults\":{\"arrowcolor\":\"#2a3f5f\",\"arrowhead\":0,\"arrowwidth\":1},\"geo\":{\"bgcolor\":\"white\",\"landcolor\":\"#E5ECF6\",\"subunitcolor\":\"white\",\"showland\":true,\"showlakes\":true,\"lakecolor\":\"white\"},\"title\":{\"x\":0.05},\"mapbox\":{\"style\":\"light\"}}},\"xaxis\":{\"anchor\":\"y\",\"domain\":[0.0,1.0],\"title\":{\"text\":\"brand\"}},\"yaxis\":{\"anchor\":\"x\",\"domain\":[0.0,1.0],\"title\":{\"text\":\"discount\"}},\"legend\":{\"tracegroupgap\":0},\"title\":{\"text\":\"Top 10 brands by discount\"},\"barmode\":\"relative\"},                        {\"responsive\": true}                    ).then(function(){\n",
       "                            \n",
       "var gd = document.getElementById('76e31de6-d3d5-4d1e-8f25-3f0a4063fd54');\n",
       "var x = new MutationObserver(function (mutations, observer) {{\n",
       "        var display = window.getComputedStyle(gd).display;\n",
       "        if (!display || display === 'none') {{\n",
       "            console.log([gd, 'removed!']);\n",
       "            Plotly.purge(gd);\n",
       "            observer.disconnect();\n",
       "        }}\n",
       "}});\n",
       "\n",
       "// Listen for the removal of the full notebook cells\n",
       "var notebookContainer = gd.closest('#notebook-container');\n",
       "if (notebookContainer) {{\n",
       "    x.observe(notebookContainer, {childList: true});\n",
       "}}\n",
       "\n",
       "// Listen for the clearing of the current output cell\n",
       "var outputEl = gd.closest('.output');\n",
       "if (outputEl) {{\n",
       "    x.observe(outputEl, {childList: true});\n",
       "}}\n",
       "\n",
       "                        })                };                });            </script>        </div>"
      ]
     },
     "metadata": {},
     "output_type": "display_data"
    }
   ],
   "source": [
    "top_10 = df.sort_values(by='brand', ascending=False).head(10)\n",
    "\n",
    "# Create bar chart\n",
    "fig = px.bar(top_10, x='brand', y='discount', \n",
    "             title='Top 10 brands by discount')\n",
    "fig.show()"
   ]
  },
  {
   "cell_type": "code",
   "execution_count": null,
   "id": "5eeab031-ae3c-461d-a8bb-1e0f4e9cec3c",
   "metadata": {},
   "outputs": [],
   "source": [
    "\n"
   ]
  },
  {
   "cell_type": "markdown",
   "id": "34eca803-0cd2-4e48-867c-8e2fd0d8cb02",
   "metadata": {},
   "source": [
    "**Descriptive analysis**"
   ]
  },
  {
   "cell_type": "code",
   "execution_count": 768,
   "id": "9c9278b7-e385-43d0-b826-1c46fba01049",
   "metadata": {},
   "outputs": [
    {
     "data": {
      "text/html": [
       "<div>\n",
       "<style scoped>\n",
       "    .dataframe tbody tr th:only-of-type {\n",
       "        vertical-align: middle;\n",
       "    }\n",
       "\n",
       "    .dataframe tbody tr th {\n",
       "        vertical-align: top;\n",
       "    }\n",
       "\n",
       "    .dataframe thead th {\n",
       "        text-align: right;\n",
       "    }\n",
       "</style>\n",
       "<table border=\"1\" class=\"dataframe\">\n",
       "  <thead>\n",
       "    <tr style=\"text-align: right;\">\n",
       "      <th></th>\n",
       "      <th>Product_name</th>\n",
       "      <th>brand</th>\n",
       "      <th>rating</th>\n",
       "      <th>reviews_count</th>\n",
       "      <th>final_price</th>\n",
       "    </tr>\n",
       "  </thead>\n",
       "  <tbody>\n",
       "    <tr>\n",
       "      <th>528</th>\n",
       "      <td>Pilot Board Master Begreen</td>\n",
       "      <td>PILOT</td>\n",
       "      <td>4.9</td>\n",
       "      <td>156</td>\n",
       "      <td>21.00</td>\n",
       "    </tr>\n",
       "    <tr>\n",
       "      <th>134</th>\n",
       "      <td>Victorinox Classic Precious Alox</td>\n",
       "      <td>Victorinox</td>\n",
       "      <td>4.9</td>\n",
       "      <td>135</td>\n",
       "      <td>42.90</td>\n",
       "    </tr>\n",
       "    <tr>\n",
       "      <th>608</th>\n",
       "      <td>Park Tool Master Link Pliers</td>\n",
       "      <td>Park Tool</td>\n",
       "      <td>4.9</td>\n",
       "      <td>5694</td>\n",
       "      <td>16.95</td>\n",
       "    </tr>\n",
       "    <tr>\n",
       "      <th>560</th>\n",
       "      <td>Jot &amp; Mark Recipe Cards Floral</td>\n",
       "      <td>Jot &amp; Mark</td>\n",
       "      <td>4.9</td>\n",
       "      <td>2747</td>\n",
       "      <td>5.67</td>\n",
       "    </tr>\n",
       "    <tr>\n",
       "      <th>872</th>\n",
       "      <td>Liquitex Professional Heavy Body</td>\n",
       "      <td>Liquitex</td>\n",
       "      <td>4.8</td>\n",
       "      <td>8736</td>\n",
       "      <td>9.80</td>\n",
       "    </tr>\n",
       "    <tr>\n",
       "      <th>842</th>\n",
       "      <td>Jbl Charge Portable Bluetooth Speakers</td>\n",
       "      <td>JBL</td>\n",
       "      <td>4.8</td>\n",
       "      <td>45361</td>\n",
       "      <td>114.95</td>\n",
       "    </tr>\n",
       "    <tr>\n",
       "      <th>662</th>\n",
       "      <td>Intimo Star Trek</td>\n",
       "      <td>INTIMO</td>\n",
       "      <td>4.8</td>\n",
       "      <td>52</td>\n",
       "      <td>26.95</td>\n",
       "    </tr>\n",
       "    <tr>\n",
       "      <th>855</th>\n",
       "      <td>Betooll Capacity Heavy Duty</td>\n",
       "      <td>BETOOLL</td>\n",
       "      <td>4.8</td>\n",
       "      <td>7059</td>\n",
       "      <td>21.99</td>\n",
       "    </tr>\n",
       "    <tr>\n",
       "      <th>659</th>\n",
       "      <td>Avery Labels</td>\n",
       "      <td>AVERY</td>\n",
       "      <td>4.8</td>\n",
       "      <td>717</td>\n",
       "      <td>13.29</td>\n",
       "    </tr>\n",
       "    <tr>\n",
       "      <th>390</th>\n",
       "      <td>Avery Easy Peel Address</td>\n",
       "      <td>AVERY</td>\n",
       "      <td>4.8</td>\n",
       "      <td>869</td>\n",
       "      <td>25.22</td>\n",
       "    </tr>\n",
       "  </tbody>\n",
       "</table>\n",
       "</div>"
      ],
      "text/plain": [
       "                               Product_name       brand  rating  \\\n",
       "528              Pilot Board Master Begreen       PILOT     4.9   \n",
       "134        Victorinox Classic Precious Alox  Victorinox     4.9   \n",
       "608            Park Tool Master Link Pliers   Park Tool     4.9   \n",
       "560          Jot & Mark Recipe Cards Floral  Jot & Mark     4.9   \n",
       "872        Liquitex Professional Heavy Body    Liquitex     4.8   \n",
       "842  Jbl Charge Portable Bluetooth Speakers         JBL     4.8   \n",
       "662                       Intimo Star Trek       INTIMO     4.8   \n",
       "855             Betooll Capacity Heavy Duty     BETOOLL     4.8   \n",
       "659                            Avery Labels       AVERY     4.8   \n",
       "390                 Avery Easy Peel Address       AVERY     4.8   \n",
       "\n",
       "     reviews_count  final_price  \n",
       "528            156        21.00  \n",
       "134            135        42.90  \n",
       "608           5694        16.95  \n",
       "560           2747         5.67  \n",
       "872           8736         9.80  \n",
       "842          45361       114.95  \n",
       "662             52        26.95  \n",
       "855           7059        21.99  \n",
       "659            717        13.29  \n",
       "390            869        25.22  "
      ]
     },
     "execution_count": 768,
     "metadata": {},
     "output_type": "execute_result"
    }
   ],
   "source": [
    "# Top 10 highest-rated products (with at least 50 reviews for reliability)\n",
    "top_rated = df[df['reviews_count'] > 50].sort_values(by='rating', ascending=False).head(10)\n",
    "top_rated[['Product_name', 'brand', 'rating', 'reviews_count', 'final_price']]"
   ]
  },
  {
   "cell_type": "code",
   "execution_count": 769,
   "id": "37afb640-69f4-4de5-83dc-0b0c0cdf3a6f",
   "metadata": {},
   "outputs": [
    {
     "data": {
      "text/html": [
       "<div>\n",
       "<style scoped>\n",
       "    .dataframe tbody tr th:only-of-type {\n",
       "        vertical-align: middle;\n",
       "    }\n",
       "\n",
       "    .dataframe tbody tr th {\n",
       "        vertical-align: top;\n",
       "    }\n",
       "\n",
       "    .dataframe thead th {\n",
       "        text-align: right;\n",
       "    }\n",
       "</style>\n",
       "<table border=\"1\" class=\"dataframe\">\n",
       "  <thead>\n",
       "    <tr style=\"text-align: right;\">\n",
       "      <th></th>\n",
       "      <th>Product_name</th>\n",
       "      <th>brand</th>\n",
       "      <th>initial_price</th>\n",
       "      <th>final_price</th>\n",
       "      <th>discount</th>\n",
       "    </tr>\n",
       "  </thead>\n",
       "  <tbody>\n",
       "    <tr>\n",
       "      <th>442</th>\n",
       "      <td>Zagg Invisibleshield Glass Elite</td>\n",
       "      <td>ZAGG</td>\n",
       "      <td>59.99</td>\n",
       "      <td>4.50</td>\n",
       "      <td>92.0</td>\n",
       "    </tr>\n",
       "    <tr>\n",
       "      <th>203</th>\n",
       "      <td>Codemasters Formula Games</td>\n",
       "      <td>Codemasters</td>\n",
       "      <td>44.99</td>\n",
       "      <td>44.99</td>\n",
       "      <td>82.0</td>\n",
       "    </tr>\n",
       "    <tr>\n",
       "      <th>809</th>\n",
       "      <td>Mud Kingdom Baby Toddler</td>\n",
       "      <td>Mud Kingdom</td>\n",
       "      <td>42.99</td>\n",
       "      <td>9.99</td>\n",
       "      <td>77.0</td>\n",
       "    </tr>\n",
       "    <tr>\n",
       "      <th>45</th>\n",
       "      <td>Safavieh Lyndhurst Collection Runner</td>\n",
       "      <td>Safavieh</td>\n",
       "      <td>360.00</td>\n",
       "      <td>90.09</td>\n",
       "      <td>75.0</td>\n",
       "    </tr>\n",
       "    <tr>\n",
       "      <th>937</th>\n",
       "      <td>At-A-Glance Weekly Appointment Book</td>\n",
       "      <td>AT-A-GLANCE</td>\n",
       "      <td>22.69</td>\n",
       "      <td>6.33</td>\n",
       "      <td>72.0</td>\n",
       "    </tr>\n",
       "    <tr>\n",
       "      <th>478</th>\n",
       "      <td>Gloria Vanderbilt Women'S Amanda Classic</td>\n",
       "      <td>Gloria Vanderbilt</td>\n",
       "      <td>48.00</td>\n",
       "      <td>13.90</td>\n",
       "      <td>71.0</td>\n",
       "    </tr>\n",
       "    <tr>\n",
       "      <th>377</th>\n",
       "      <td>Propet Womens Erika Mary</td>\n",
       "      <td>Propet</td>\n",
       "      <td>104.95</td>\n",
       "      <td>30.64</td>\n",
       "      <td>71.0</td>\n",
       "    </tr>\n",
       "    <tr>\n",
       "      <th>498</th>\n",
       "      <td>Blowfish Malibu Women'S Blumoon</td>\n",
       "      <td>Blowfish</td>\n",
       "      <td>44.99</td>\n",
       "      <td>13.98</td>\n",
       "      <td>69.0</td>\n",
       "    </tr>\n",
       "    <tr>\n",
       "      <th>697</th>\n",
       "      <td>Btfbm Women'S Casual Party</td>\n",
       "      <td>BTFBM</td>\n",
       "      <td>53.99</td>\n",
       "      <td>16.99</td>\n",
       "      <td>69.0</td>\n",
       "    </tr>\n",
       "    <tr>\n",
       "      <th>774</th>\n",
       "      <td>Hunky Dory Transparent Plastic Unbreakable</td>\n",
       "      <td>Hunky Dory</td>\n",
       "      <td>299.00</td>\n",
       "      <td>99.00</td>\n",
       "      <td>67.0</td>\n",
       "    </tr>\n",
       "  </tbody>\n",
       "</table>\n",
       "</div>"
      ],
      "text/plain": [
       "                                   Product_name              brand  \\\n",
       "442            Zagg Invisibleshield Glass Elite               ZAGG   \n",
       "203                   Codemasters Formula Games        Codemasters   \n",
       "809                   Mud Kingdom Baby Toddler         Mud Kingdom   \n",
       "45         Safavieh Lyndhurst Collection Runner           Safavieh   \n",
       "937         At-A-Glance Weekly Appointment Book        AT-A-GLANCE   \n",
       "478    Gloria Vanderbilt Women'S Amanda Classic  Gloria Vanderbilt   \n",
       "377                    Propet Womens Erika Mary             Propet   \n",
       "498             Blowfish Malibu Women'S Blumoon           Blowfish   \n",
       "697                  Btfbm Women'S Casual Party              BTFBM   \n",
       "774  Hunky Dory Transparent Plastic Unbreakable         Hunky Dory   \n",
       "\n",
       "     initial_price  final_price  discount  \n",
       "442          59.99         4.50      92.0  \n",
       "203          44.99        44.99      82.0  \n",
       "809          42.99         9.99      77.0  \n",
       "45          360.00        90.09      75.0  \n",
       "937          22.69         6.33      72.0  \n",
       "478          48.00        13.90      71.0  \n",
       "377         104.95        30.64      71.0  \n",
       "498          44.99        13.98      69.0  \n",
       "697          53.99        16.99      69.0  \n",
       "774         299.00        99.00      67.0  "
      ]
     },
     "execution_count": 769,
     "metadata": {},
     "output_type": "execute_result"
    }
   ],
   "source": [
    "# Top 10 biggest discounts\n",
    "highest_discounts = df.sort_values(by='discount', ascending=False).head(10)\n",
    "highest_discounts[['Product_name', 'brand', 'initial_price', 'final_price', 'discount']]"
   ]
  },
  {
   "cell_type": "code",
   "execution_count": 770,
   "id": "3b6567ab-6c7f-449a-bbbf-10eb911d2cff",
   "metadata": {},
   "outputs": [
    {
     "data": {
      "text/html": [
       "<div>\n",
       "<style scoped>\n",
       "    .dataframe tbody tr th:only-of-type {\n",
       "        vertical-align: middle;\n",
       "    }\n",
       "\n",
       "    .dataframe tbody tr th {\n",
       "        vertical-align: top;\n",
       "    }\n",
       "\n",
       "    .dataframe thead th {\n",
       "        text-align: right;\n",
       "    }\n",
       "</style>\n",
       "<table border=\"1\" class=\"dataframe\">\n",
       "  <thead>\n",
       "    <tr style=\"text-align: right;\">\n",
       "      <th></th>\n",
       "      <th>Product_name</th>\n",
       "      <th>brand</th>\n",
       "      <th>reviews_count</th>\n",
       "      <th>rating</th>\n",
       "    </tr>\n",
       "  </thead>\n",
       "  <tbody>\n",
       "    <tr>\n",
       "      <th>176</th>\n",
       "      <td>Seagate Expansion External Hard</td>\n",
       "      <td>Seagate</td>\n",
       "      <td>243907</td>\n",
       "      <td>4.7</td>\n",
       "    </tr>\n",
       "    <tr>\n",
       "      <th>337</th>\n",
       "      <td>Outward Hound Fun Feeder Slo</td>\n",
       "      <td>Outward Hound</td>\n",
       "      <td>121619</td>\n",
       "      <td>4.6</td>\n",
       "    </tr>\n",
       "    <tr>\n",
       "      <th>44</th>\n",
       "      <td>Seresto Large Dog Vet</td>\n",
       "      <td>Seresto</td>\n",
       "      <td>101767</td>\n",
       "      <td>4.5</td>\n",
       "    </tr>\n",
       "    <tr>\n",
       "      <th>943</th>\n",
       "      <td>Allstar Innovations Wobble Wag Giggle</td>\n",
       "      <td>Allstar Innovations</td>\n",
       "      <td>94871</td>\n",
       "      <td>4.1</td>\n",
       "    </tr>\n",
       "    <tr>\n",
       "      <th>159</th>\n",
       "      <td>Vans Unisex Old Skool</td>\n",
       "      <td>Vans</td>\n",
       "      <td>79644</td>\n",
       "      <td>4.7</td>\n",
       "    </tr>\n",
       "    <tr>\n",
       "      <th>508</th>\n",
       "      <td>Skechers Women'S Joy Walking</td>\n",
       "      <td>Skechers</td>\n",
       "      <td>79555</td>\n",
       "      <td>4.5</td>\n",
       "    </tr>\n",
       "    <tr>\n",
       "      <th>171</th>\n",
       "      <td>Skechers Women'S Joy Walking</td>\n",
       "      <td>Skechers</td>\n",
       "      <td>77067</td>\n",
       "      <td>4.5</td>\n",
       "    </tr>\n",
       "    <tr>\n",
       "      <th>656</th>\n",
       "      <td>Under Armour Men'S Charged Assert</td>\n",
       "      <td>Under Armour</td>\n",
       "      <td>52817</td>\n",
       "      <td>4.6</td>\n",
       "    </tr>\n",
       "    <tr>\n",
       "      <th>119</th>\n",
       "      <td>Set Wet Styling Kit</td>\n",
       "      <td>Set Wet</td>\n",
       "      <td>47246</td>\n",
       "      <td>4.0</td>\n",
       "    </tr>\n",
       "    <tr>\n",
       "      <th>722</th>\n",
       "      <td>Wallflower Women'S Luscious Curvy</td>\n",
       "      <td>WallFlower</td>\n",
       "      <td>47149</td>\n",
       "      <td>4.4</td>\n",
       "    </tr>\n",
       "  </tbody>\n",
       "</table>\n",
       "</div>"
      ],
      "text/plain": [
       "                              Product_name                brand  \\\n",
       "176        Seagate Expansion External Hard              Seagate   \n",
       "337           Outward Hound Fun Feeder Slo        Outward Hound   \n",
       "44                   Seresto Large Dog Vet              Seresto   \n",
       "943  Allstar Innovations Wobble Wag Giggle  Allstar Innovations   \n",
       "159                  Vans Unisex Old Skool                 Vans   \n",
       "508           Skechers Women'S Joy Walking             Skechers   \n",
       "171           Skechers Women'S Joy Walking             Skechers   \n",
       "656      Under Armour Men'S Charged Assert         Under Armour   \n",
       "119                    Set Wet Styling Kit              Set Wet   \n",
       "722      Wallflower Women'S Luscious Curvy           WallFlower   \n",
       "\n",
       "     reviews_count  rating  \n",
       "176         243907     4.7  \n",
       "337         121619     4.6  \n",
       "44          101767     4.5  \n",
       "943          94871     4.1  \n",
       "159          79644     4.7  \n",
       "508          79555     4.5  \n",
       "171          77067     4.5  \n",
       "656          52817     4.6  \n",
       "119          47246     4.0  \n",
       "722          47149     4.4  "
      ]
     },
     "execution_count": 770,
     "metadata": {},
     "output_type": "execute_result"
    }
   ],
   "source": [
    "# Top 10 most reviewed products\n",
    "most_reviewed = df.sort_values(by='reviews_count', ascending=False).head(10)\n",
    "most_reviewed[['Product_name', 'brand', 'reviews_count', 'rating']]"
   ]
  },
  {
   "cell_type": "code",
   "execution_count": null,
   "id": "27a7d04b-9b2f-41dd-9871-8e64bcfa64a6",
   "metadata": {},
   "outputs": [],
   "source": []
  },
  {
   "cell_type": "markdown",
   "id": "3ad2b786-5190-4db6-8b9c-e6152cd2ae9e",
   "metadata": {},
   "source": [
    "**Dropping Columns**"
   ]
  },
  {
   "cell_type": "code",
   "execution_count": 772,
   "id": "e9d44e77-faf6-4787-b6eb-b7c51473b44a",
   "metadata": {},
   "outputs": [],
   "source": [
    "df.drop(columns = ['Department','Product_name'],inplace = True)\n",
    "   "
   ]
  },
  {
   "cell_type": "code",
   "execution_count": 773,
   "id": "b0809e17-b498-4134-b4e2-24c1ea4f0983",
   "metadata": {},
   "outputs": [
    {
     "name": "stdout",
     "output_type": "stream",
     "text": [
      "<class 'pandas.core.frame.DataFrame'>\n",
      "RangeIndex: 1000 entries, 0 to 999\n",
      "Data columns (total 10 columns):\n",
      " #   Column             Non-Null Count  Dtype  \n",
      "---  ------             --------------  -----  \n",
      " 0   brand              999 non-null    object \n",
      " 1   initial_price      814 non-null    float64\n",
      " 2   final_price        997 non-null    float64\n",
      " 3   currency           1000 non-null   object \n",
      " 4   availability       1000 non-null   object \n",
      " 5   reviews_count      1000 non-null   int64  \n",
      " 6   categories         1000 non-null   object \n",
      " 7   number_of_sellers  984 non-null    float64\n",
      " 8   rating             1000 non-null   float64\n",
      " 9   discount           820 non-null    float64\n",
      "dtypes: float64(5), int64(1), object(4)\n",
      "memory usage: 78.3+ KB\n"
     ]
    }
   ],
   "source": [
    "df.info()"
   ]
  },
  {
   "cell_type": "code",
   "execution_count": 774,
   "id": "9d1bb017-ba72-4e30-a372-ff78bc5dfac1",
   "metadata": {},
   "outputs": [
    {
     "data": {
      "text/plain": [
       "brand                  1\n",
       "initial_price        186\n",
       "final_price            3\n",
       "currency               0\n",
       "availability           0\n",
       "reviews_count          0\n",
       "categories             0\n",
       "number_of_sellers     16\n",
       "rating                 0\n",
       "discount             180\n",
       "dtype: int64"
      ]
     },
     "execution_count": 774,
     "metadata": {},
     "output_type": "execute_result"
    }
   ],
   "source": [
    "df.isnull().sum()"
   ]
  },
  {
   "cell_type": "markdown",
   "id": "4925cd48-cdf6-45bc-aa3c-b6832e6d2e16",
   "metadata": {},
   "source": [
    "### Filling Null Values"
   ]
  },
  {
   "cell_type": "code",
   "execution_count": 776,
   "id": "fd7cca23-91ac-46af-9c45-73ff47297c94",
   "metadata": {},
   "outputs": [],
   "source": [
    "df['number_of_sellers'].fillna(df['number_of_sellers'].median(),inplace = True)"
   ]
  },
  {
   "cell_type": "code",
   "execution_count": 777,
   "id": "a3feab57-4acc-469a-8141-f4e8435a86dc",
   "metadata": {},
   "outputs": [
    {
     "data": {
      "text/html": [
       "<div>\n",
       "<style scoped>\n",
       "    .dataframe tbody tr th:only-of-type {\n",
       "        vertical-align: middle;\n",
       "    }\n",
       "\n",
       "    .dataframe tbody tr th {\n",
       "        vertical-align: top;\n",
       "    }\n",
       "\n",
       "    .dataframe thead th {\n",
       "        text-align: right;\n",
       "    }\n",
       "</style>\n",
       "<table border=\"1\" class=\"dataframe\">\n",
       "  <thead>\n",
       "    <tr style=\"text-align: right;\">\n",
       "      <th></th>\n",
       "      <th>initial_price</th>\n",
       "      <th>final_price</th>\n",
       "      <th>discount</th>\n",
       "    </tr>\n",
       "  </thead>\n",
       "  <tbody>\n",
       "    <tr>\n",
       "      <th>0</th>\n",
       "      <td>NaN</td>\n",
       "      <td>57.79</td>\n",
       "      <td>NaN</td>\n",
       "    </tr>\n",
       "    <tr>\n",
       "      <th>1</th>\n",
       "      <td>NaN</td>\n",
       "      <td>28.50</td>\n",
       "      <td>NaN</td>\n",
       "    </tr>\n",
       "    <tr>\n",
       "      <th>2</th>\n",
       "      <td>49.99</td>\n",
       "      <td>33.99</td>\n",
       "      <td>32.0</td>\n",
       "    </tr>\n",
       "    <tr>\n",
       "      <th>3</th>\n",
       "      <td>18.00</td>\n",
       "      <td>18.00</td>\n",
       "      <td>NaN</td>\n",
       "    </tr>\n",
       "    <tr>\n",
       "      <th>4</th>\n",
       "      <td>1299.00</td>\n",
       "      <td>799.00</td>\n",
       "      <td>38.0</td>\n",
       "    </tr>\n",
       "    <tr>\n",
       "      <th>...</th>\n",
       "      <td>...</td>\n",
       "      <td>...</td>\n",
       "      <td>...</td>\n",
       "    </tr>\n",
       "    <tr>\n",
       "      <th>995</th>\n",
       "      <td>154.99</td>\n",
       "      <td>111.99</td>\n",
       "      <td>28.0</td>\n",
       "    </tr>\n",
       "    <tr>\n",
       "      <th>996</th>\n",
       "      <td>10.99</td>\n",
       "      <td>9.99</td>\n",
       "      <td>9.0</td>\n",
       "    </tr>\n",
       "    <tr>\n",
       "      <th>997</th>\n",
       "      <td>14.00</td>\n",
       "      <td>14.00</td>\n",
       "      <td>NaN</td>\n",
       "    </tr>\n",
       "    <tr>\n",
       "      <th>998</th>\n",
       "      <td>40.00</td>\n",
       "      <td>40.00</td>\n",
       "      <td>13.0</td>\n",
       "    </tr>\n",
       "    <tr>\n",
       "      <th>999</th>\n",
       "      <td>32.99</td>\n",
       "      <td>16.49</td>\n",
       "      <td>50.0</td>\n",
       "    </tr>\n",
       "  </tbody>\n",
       "</table>\n",
       "<p>1000 rows × 3 columns</p>\n",
       "</div>"
      ],
      "text/plain": [
       "     initial_price  final_price  discount\n",
       "0              NaN        57.79       NaN\n",
       "1              NaN        28.50       NaN\n",
       "2            49.99        33.99      32.0\n",
       "3            18.00        18.00       NaN\n",
       "4          1299.00       799.00      38.0\n",
       "..             ...          ...       ...\n",
       "995         154.99       111.99      28.0\n",
       "996          10.99         9.99       9.0\n",
       "997          14.00        14.00       NaN\n",
       "998          40.00        40.00      13.0\n",
       "999          32.99        16.49      50.0\n",
       "\n",
       "[1000 rows x 3 columns]"
      ]
     },
     "execution_count": 777,
     "metadata": {},
     "output_type": "execute_result"
    }
   ],
   "source": [
    "df[['initial_price','final_price','discount']]"
   ]
  },
  {
   "cell_type": "code",
   "execution_count": 778,
   "id": "193a4da3-20f3-4c89-81c3-0d6b411b3275",
   "metadata": {},
   "outputs": [],
   "source": [
    "df['brand'].fillna(df['brand'].mode(),inplace = True)"
   ]
  },
  {
   "cell_type": "code",
   "execution_count": 779,
   "id": "86bbffe8-1c18-4703-b902-3a8ec25c9833",
   "metadata": {},
   "outputs": [],
   "source": [
    "df = df.dropna(subset=['initial_price', 'final_price', 'discount'], thresh=2)"
   ]
  },
  {
   "cell_type": "code",
   "execution_count": 780,
   "id": "e46dbff7-d716-4173-9edf-6c8dba7f70c0",
   "metadata": {},
   "outputs": [
    {
     "data": {
      "text/html": [
       "<div>\n",
       "<style scoped>\n",
       "    .dataframe tbody tr th:only-of-type {\n",
       "        vertical-align: middle;\n",
       "    }\n",
       "\n",
       "    .dataframe tbody tr th {\n",
       "        vertical-align: top;\n",
       "    }\n",
       "\n",
       "    .dataframe thead th {\n",
       "        text-align: right;\n",
       "    }\n",
       "</style>\n",
       "<table border=\"1\" class=\"dataframe\">\n",
       "  <thead>\n",
       "    <tr style=\"text-align: right;\">\n",
       "      <th></th>\n",
       "      <th>brand</th>\n",
       "      <th>initial_price</th>\n",
       "      <th>final_price</th>\n",
       "      <th>currency</th>\n",
       "      <th>availability</th>\n",
       "      <th>reviews_count</th>\n",
       "      <th>categories</th>\n",
       "      <th>number_of_sellers</th>\n",
       "      <th>rating</th>\n",
       "      <th>discount</th>\n",
       "    </tr>\n",
       "  </thead>\n",
       "  <tbody>\n",
       "    <tr>\n",
       "      <th>2</th>\n",
       "      <td>TWINSLUXES</td>\n",
       "      <td>49.99</td>\n",
       "      <td>33.99</td>\n",
       "      <td>USD</td>\n",
       "      <td>in stock</td>\n",
       "      <td>3178</td>\n",
       "      <td>Tools &amp; Home Improvement</td>\n",
       "      <td>1.0</td>\n",
       "      <td>4.2</td>\n",
       "      <td>32.0</td>\n",
       "    </tr>\n",
       "    <tr>\n",
       "      <th>3</th>\n",
       "      <td>Accutire</td>\n",
       "      <td>18.00</td>\n",
       "      <td>18.00</td>\n",
       "      <td>USD</td>\n",
       "      <td>in stock</td>\n",
       "      <td>8034</td>\n",
       "      <td>Automotive</td>\n",
       "      <td>1.0</td>\n",
       "      <td>4.4</td>\n",
       "      <td>NaN</td>\n",
       "    </tr>\n",
       "    <tr>\n",
       "      <th>4</th>\n",
       "      <td>SAURA LIFE SCIENCE</td>\n",
       "      <td>1299.00</td>\n",
       "      <td>799.00</td>\n",
       "      <td>INR</td>\n",
       "      <td>in stock</td>\n",
       "      <td>5</td>\n",
       "      <td>Beauty</td>\n",
       "      <td>1.0</td>\n",
       "      <td>5.0</td>\n",
       "      <td>38.0</td>\n",
       "    </tr>\n",
       "    <tr>\n",
       "      <th>5</th>\n",
       "      <td>KASOTT</td>\n",
       "      <td>17.88</td>\n",
       "      <td>17.88</td>\n",
       "      <td>USD</td>\n",
       "      <td>in stock</td>\n",
       "      <td>67</td>\n",
       "      <td>Electronics</td>\n",
       "      <td>3.0</td>\n",
       "      <td>4.3</td>\n",
       "      <td>13.0</td>\n",
       "    </tr>\n",
       "    <tr>\n",
       "      <th>6</th>\n",
       "      <td>Bio-Oil</td>\n",
       "      <td>39.24</td>\n",
       "      <td>24.95</td>\n",
       "      <td>USD</td>\n",
       "      <td>in stock</td>\n",
       "      <td>6095</td>\n",
       "      <td>Beauty &amp; Personal Care</td>\n",
       "      <td>1.0</td>\n",
       "      <td>4.6</td>\n",
       "      <td>36.0</td>\n",
       "    </tr>\n",
       "    <tr>\n",
       "      <th>...</th>\n",
       "      <td>...</td>\n",
       "      <td>...</td>\n",
       "      <td>...</td>\n",
       "      <td>...</td>\n",
       "      <td>...</td>\n",
       "      <td>...</td>\n",
       "      <td>...</td>\n",
       "      <td>...</td>\n",
       "      <td>...</td>\n",
       "      <td>...</td>\n",
       "    </tr>\n",
       "    <tr>\n",
       "      <th>995</th>\n",
       "      <td>Madison Park</td>\n",
       "      <td>154.99</td>\n",
       "      <td>111.99</td>\n",
       "      <td>USD</td>\n",
       "      <td>limited stock</td>\n",
       "      <td>4828</td>\n",
       "      <td>Home &amp; Kitchen</td>\n",
       "      <td>4.0</td>\n",
       "      <td>4.4</td>\n",
       "      <td>28.0</td>\n",
       "    </tr>\n",
       "    <tr>\n",
       "      <th>996</th>\n",
       "      <td>BIC</td>\n",
       "      <td>10.99</td>\n",
       "      <td>9.99</td>\n",
       "      <td>USD</td>\n",
       "      <td>in stock</td>\n",
       "      <td>9272</td>\n",
       "      <td>Office Products</td>\n",
       "      <td>21.0</td>\n",
       "      <td>4.5</td>\n",
       "      <td>9.0</td>\n",
       "    </tr>\n",
       "    <tr>\n",
       "      <th>997</th>\n",
       "      <td>Elmer's</td>\n",
       "      <td>14.00</td>\n",
       "      <td>14.00</td>\n",
       "      <td>USD</td>\n",
       "      <td>in stock</td>\n",
       "      <td>1052</td>\n",
       "      <td>Tools &amp; Home Improvement</td>\n",
       "      <td>1.0</td>\n",
       "      <td>4.6</td>\n",
       "      <td>NaN</td>\n",
       "    </tr>\n",
       "    <tr>\n",
       "      <th>998</th>\n",
       "      <td>HOMEK</td>\n",
       "      <td>40.00</td>\n",
       "      <td>40.00</td>\n",
       "      <td>USD</td>\n",
       "      <td>in stock</td>\n",
       "      <td>1039</td>\n",
       "      <td>Office Products</td>\n",
       "      <td>1.0</td>\n",
       "      <td>4.0</td>\n",
       "      <td>13.0</td>\n",
       "    </tr>\n",
       "    <tr>\n",
       "      <th>999</th>\n",
       "      <td>Bavilk</td>\n",
       "      <td>32.99</td>\n",
       "      <td>16.49</td>\n",
       "      <td>USD</td>\n",
       "      <td>unknown</td>\n",
       "      <td>254</td>\n",
       "      <td>Sports &amp; Outdoors</td>\n",
       "      <td>1.0</td>\n",
       "      <td>4.7</td>\n",
       "      <td>50.0</td>\n",
       "    </tr>\n",
       "  </tbody>\n",
       "</table>\n",
       "<p>875 rows × 10 columns</p>\n",
       "</div>"
      ],
      "text/plain": [
       "                  brand  initial_price  final_price currency   availability  \\\n",
       "2            TWINSLUXES          49.99        33.99      USD       in stock   \n",
       "3              Accutire          18.00        18.00      USD       in stock   \n",
       "4    SAURA LIFE SCIENCE        1299.00       799.00      INR       in stock   \n",
       "5                KASOTT          17.88        17.88      USD       in stock   \n",
       "6               Bio-Oil          39.24        24.95      USD       in stock   \n",
       "..                  ...            ...          ...      ...            ...   \n",
       "995        Madison Park         154.99       111.99      USD  limited stock   \n",
       "996                 BIC          10.99         9.99      USD       in stock   \n",
       "997             Elmer's          14.00        14.00      USD       in stock   \n",
       "998               HOMEK          40.00        40.00      USD       in stock   \n",
       "999              Bavilk          32.99        16.49      USD        unknown   \n",
       "\n",
       "     reviews_count                categories  number_of_sellers  rating  \\\n",
       "2             3178  Tools & Home Improvement                1.0     4.2   \n",
       "3             8034                Automotive                1.0     4.4   \n",
       "4                5                    Beauty                1.0     5.0   \n",
       "5               67               Electronics                3.0     4.3   \n",
       "6             6095    Beauty & Personal Care                1.0     4.6   \n",
       "..             ...                       ...                ...     ...   \n",
       "995           4828            Home & Kitchen                4.0     4.4   \n",
       "996           9272           Office Products               21.0     4.5   \n",
       "997           1052  Tools & Home Improvement                1.0     4.6   \n",
       "998           1039           Office Products                1.0     4.0   \n",
       "999            254         Sports & Outdoors                1.0     4.7   \n",
       "\n",
       "     discount  \n",
       "2        32.0  \n",
       "3         NaN  \n",
       "4        38.0  \n",
       "5        13.0  \n",
       "6        36.0  \n",
       "..        ...  \n",
       "995      28.0  \n",
       "996       9.0  \n",
       "997       NaN  \n",
       "998      13.0  \n",
       "999      50.0  \n",
       "\n",
       "[875 rows x 10 columns]"
      ]
     },
     "execution_count": 780,
     "metadata": {},
     "output_type": "execute_result"
    }
   ],
   "source": [
    "df"
   ]
  },
  {
   "cell_type": "code",
   "execution_count": 781,
   "id": "9609191c-86a4-4b0f-a92e-b7583fa3ff1e",
   "metadata": {},
   "outputs": [
    {
     "data": {
      "text/html": [
       "<div>\n",
       "<style scoped>\n",
       "    .dataframe tbody tr th:only-of-type {\n",
       "        vertical-align: middle;\n",
       "    }\n",
       "\n",
       "    .dataframe tbody tr th {\n",
       "        vertical-align: top;\n",
       "    }\n",
       "\n",
       "    .dataframe thead th {\n",
       "        text-align: right;\n",
       "    }\n",
       "</style>\n",
       "<table border=\"1\" class=\"dataframe\">\n",
       "  <thead>\n",
       "    <tr style=\"text-align: right;\">\n",
       "      <th></th>\n",
       "      <th>initial_price</th>\n",
       "      <th>final_price</th>\n",
       "      <th>discount</th>\n",
       "    </tr>\n",
       "  </thead>\n",
       "  <tbody>\n",
       "    <tr>\n",
       "      <th>2</th>\n",
       "      <td>49.99</td>\n",
       "      <td>33.99</td>\n",
       "      <td>32.0</td>\n",
       "    </tr>\n",
       "    <tr>\n",
       "      <th>3</th>\n",
       "      <td>18.00</td>\n",
       "      <td>18.00</td>\n",
       "      <td>NaN</td>\n",
       "    </tr>\n",
       "    <tr>\n",
       "      <th>4</th>\n",
       "      <td>1299.00</td>\n",
       "      <td>799.00</td>\n",
       "      <td>38.0</td>\n",
       "    </tr>\n",
       "    <tr>\n",
       "      <th>5</th>\n",
       "      <td>17.88</td>\n",
       "      <td>17.88</td>\n",
       "      <td>13.0</td>\n",
       "    </tr>\n",
       "    <tr>\n",
       "      <th>6</th>\n",
       "      <td>39.24</td>\n",
       "      <td>24.95</td>\n",
       "      <td>36.0</td>\n",
       "    </tr>\n",
       "    <tr>\n",
       "      <th>...</th>\n",
       "      <td>...</td>\n",
       "      <td>...</td>\n",
       "      <td>...</td>\n",
       "    </tr>\n",
       "    <tr>\n",
       "      <th>995</th>\n",
       "      <td>154.99</td>\n",
       "      <td>111.99</td>\n",
       "      <td>28.0</td>\n",
       "    </tr>\n",
       "    <tr>\n",
       "      <th>996</th>\n",
       "      <td>10.99</td>\n",
       "      <td>9.99</td>\n",
       "      <td>9.0</td>\n",
       "    </tr>\n",
       "    <tr>\n",
       "      <th>997</th>\n",
       "      <td>14.00</td>\n",
       "      <td>14.00</td>\n",
       "      <td>NaN</td>\n",
       "    </tr>\n",
       "    <tr>\n",
       "      <th>998</th>\n",
       "      <td>40.00</td>\n",
       "      <td>40.00</td>\n",
       "      <td>13.0</td>\n",
       "    </tr>\n",
       "    <tr>\n",
       "      <th>999</th>\n",
       "      <td>32.99</td>\n",
       "      <td>16.49</td>\n",
       "      <td>50.0</td>\n",
       "    </tr>\n",
       "  </tbody>\n",
       "</table>\n",
       "<p>875 rows × 3 columns</p>\n",
       "</div>"
      ],
      "text/plain": [
       "     initial_price  final_price  discount\n",
       "2            49.99        33.99      32.0\n",
       "3            18.00        18.00       NaN\n",
       "4          1299.00       799.00      38.0\n",
       "5            17.88        17.88      13.0\n",
       "6            39.24        24.95      36.0\n",
       "..             ...          ...       ...\n",
       "995         154.99       111.99      28.0\n",
       "996          10.99         9.99       9.0\n",
       "997          14.00        14.00       NaN\n",
       "998          40.00        40.00      13.0\n",
       "999          32.99        16.49      50.0\n",
       "\n",
       "[875 rows x 3 columns]"
      ]
     },
     "execution_count": 781,
     "metadata": {},
     "output_type": "execute_result"
    }
   ],
   "source": [
    "df[['initial_price','final_price','discount']]"
   ]
  },
  {
   "cell_type": "code",
   "execution_count": 782,
   "id": "c9eb3ca1-659a-4607-83f8-be72251d3ffb",
   "metadata": {},
   "outputs": [],
   "source": [
    "discount = ((df['initial_price'] - df['final_price']) / df['initial_price']) * 100"
   ]
  },
  {
   "cell_type": "code",
   "execution_count": 783,
   "id": "3368c5e9-f4fd-4a54-a4d3-ac9bafda6714",
   "metadata": {},
   "outputs": [],
   "source": [
    "df['discount'] = df['discount'].fillna(discount)"
   ]
  },
  {
   "cell_type": "code",
   "execution_count": 784,
   "id": "909c3bb6-2fc0-4c44-b3e7-2167a7237e08",
   "metadata": {},
   "outputs": [],
   "source": [
    "final_price = df['initial_price'] - ((df['discount'] * df['initial_price'])/100)"
   ]
  },
  {
   "cell_type": "code",
   "execution_count": 785,
   "id": "f4206d7a-6ca1-42ee-97eb-1b23d8df3ace",
   "metadata": {},
   "outputs": [],
   "source": [
    "df['final_price'] = df['final_price'].fillna(final_price)"
   ]
  },
  {
   "cell_type": "code",
   "execution_count": 786,
   "id": "baea8f88-781e-42e9-8bc4-f56c2e553c69",
   "metadata": {},
   "outputs": [],
   "source": [
    "initial_price = df['final_price'] / (1 - (df['discount']/100))"
   ]
  },
  {
   "cell_type": "code",
   "execution_count": 787,
   "id": "8945c9dd-97e6-44c4-a3ad-6533e166ece8",
   "metadata": {},
   "outputs": [],
   "source": [
    "df['initial_price'] = df['initial_price'].fillna(initial_price)"
   ]
  },
  {
   "cell_type": "code",
   "execution_count": 788,
   "id": "7c7a40e2-a2ec-448b-9433-b16ad982c332",
   "metadata": {},
   "outputs": [
    {
     "data": {
      "text/plain": [
       "brand                1\n",
       "initial_price        0\n",
       "final_price          0\n",
       "currency             0\n",
       "availability         0\n",
       "reviews_count        0\n",
       "categories           0\n",
       "number_of_sellers    0\n",
       "rating               0\n",
       "discount             0\n",
       "dtype: int64"
      ]
     },
     "execution_count": 788,
     "metadata": {},
     "output_type": "execute_result"
    }
   ],
   "source": [
    "df.isnull().sum()"
   ]
  },
  {
   "cell_type": "code",
   "execution_count": 789,
   "id": "008b94a3-1085-4acb-a7c0-c0a1646b4955",
   "metadata": {},
   "outputs": [
    {
     "data": {
      "text/html": [
       "<div>\n",
       "<style scoped>\n",
       "    .dataframe tbody tr th:only-of-type {\n",
       "        vertical-align: middle;\n",
       "    }\n",
       "\n",
       "    .dataframe tbody tr th {\n",
       "        vertical-align: top;\n",
       "    }\n",
       "\n",
       "    .dataframe thead th {\n",
       "        text-align: right;\n",
       "    }\n",
       "</style>\n",
       "<table border=\"1\" class=\"dataframe\">\n",
       "  <thead>\n",
       "    <tr style=\"text-align: right;\">\n",
       "      <th></th>\n",
       "      <th>initial_price</th>\n",
       "      <th>final_price</th>\n",
       "      <th>reviews_count</th>\n",
       "      <th>number_of_sellers</th>\n",
       "      <th>rating</th>\n",
       "      <th>discount</th>\n",
       "    </tr>\n",
       "  </thead>\n",
       "  <tbody>\n",
       "    <tr>\n",
       "      <th>2</th>\n",
       "      <td>49.99</td>\n",
       "      <td>33.99</td>\n",
       "      <td>3178</td>\n",
       "      <td>1.0</td>\n",
       "      <td>4.2</td>\n",
       "      <td>32.0</td>\n",
       "    </tr>\n",
       "    <tr>\n",
       "      <th>3</th>\n",
       "      <td>18.00</td>\n",
       "      <td>18.00</td>\n",
       "      <td>8034</td>\n",
       "      <td>1.0</td>\n",
       "      <td>4.4</td>\n",
       "      <td>0.0</td>\n",
       "    </tr>\n",
       "    <tr>\n",
       "      <th>4</th>\n",
       "      <td>1299.00</td>\n",
       "      <td>799.00</td>\n",
       "      <td>5</td>\n",
       "      <td>1.0</td>\n",
       "      <td>5.0</td>\n",
       "      <td>38.0</td>\n",
       "    </tr>\n",
       "    <tr>\n",
       "      <th>5</th>\n",
       "      <td>17.88</td>\n",
       "      <td>17.88</td>\n",
       "      <td>67</td>\n",
       "      <td>3.0</td>\n",
       "      <td>4.3</td>\n",
       "      <td>13.0</td>\n",
       "    </tr>\n",
       "    <tr>\n",
       "      <th>6</th>\n",
       "      <td>39.24</td>\n",
       "      <td>24.95</td>\n",
       "      <td>6095</td>\n",
       "      <td>1.0</td>\n",
       "      <td>4.6</td>\n",
       "      <td>36.0</td>\n",
       "    </tr>\n",
       "    <tr>\n",
       "      <th>...</th>\n",
       "      <td>...</td>\n",
       "      <td>...</td>\n",
       "      <td>...</td>\n",
       "      <td>...</td>\n",
       "      <td>...</td>\n",
       "      <td>...</td>\n",
       "    </tr>\n",
       "    <tr>\n",
       "      <th>995</th>\n",
       "      <td>154.99</td>\n",
       "      <td>111.99</td>\n",
       "      <td>4828</td>\n",
       "      <td>4.0</td>\n",
       "      <td>4.4</td>\n",
       "      <td>28.0</td>\n",
       "    </tr>\n",
       "    <tr>\n",
       "      <th>996</th>\n",
       "      <td>10.99</td>\n",
       "      <td>9.99</td>\n",
       "      <td>9272</td>\n",
       "      <td>21.0</td>\n",
       "      <td>4.5</td>\n",
       "      <td>9.0</td>\n",
       "    </tr>\n",
       "    <tr>\n",
       "      <th>997</th>\n",
       "      <td>14.00</td>\n",
       "      <td>14.00</td>\n",
       "      <td>1052</td>\n",
       "      <td>1.0</td>\n",
       "      <td>4.6</td>\n",
       "      <td>0.0</td>\n",
       "    </tr>\n",
       "    <tr>\n",
       "      <th>998</th>\n",
       "      <td>40.00</td>\n",
       "      <td>40.00</td>\n",
       "      <td>1039</td>\n",
       "      <td>1.0</td>\n",
       "      <td>4.0</td>\n",
       "      <td>13.0</td>\n",
       "    </tr>\n",
       "    <tr>\n",
       "      <th>999</th>\n",
       "      <td>32.99</td>\n",
       "      <td>16.49</td>\n",
       "      <td>254</td>\n",
       "      <td>1.0</td>\n",
       "      <td>4.7</td>\n",
       "      <td>50.0</td>\n",
       "    </tr>\n",
       "  </tbody>\n",
       "</table>\n",
       "<p>875 rows × 6 columns</p>\n",
       "</div>"
      ],
      "text/plain": [
       "     initial_price  final_price  reviews_count  number_of_sellers  rating  \\\n",
       "2            49.99        33.99           3178                1.0     4.2   \n",
       "3            18.00        18.00           8034                1.0     4.4   \n",
       "4          1299.00       799.00              5                1.0     5.0   \n",
       "5            17.88        17.88             67                3.0     4.3   \n",
       "6            39.24        24.95           6095                1.0     4.6   \n",
       "..             ...          ...            ...                ...     ...   \n",
       "995         154.99       111.99           4828                4.0     4.4   \n",
       "996          10.99         9.99           9272               21.0     4.5   \n",
       "997          14.00        14.00           1052                1.0     4.6   \n",
       "998          40.00        40.00           1039                1.0     4.0   \n",
       "999          32.99        16.49            254                1.0     4.7   \n",
       "\n",
       "     discount  \n",
       "2        32.0  \n",
       "3         0.0  \n",
       "4        38.0  \n",
       "5        13.0  \n",
       "6        36.0  \n",
       "..        ...  \n",
       "995      28.0  \n",
       "996       9.0  \n",
       "997       0.0  \n",
       "998      13.0  \n",
       "999      50.0  \n",
       "\n",
       "[875 rows x 6 columns]"
      ]
     },
     "execution_count": 789,
     "metadata": {},
     "output_type": "execute_result"
    }
   ],
   "source": [
    "num = df.select_dtypes(include = 'number')\n",
    "num"
   ]
  },
  {
   "cell_type": "code",
   "execution_count": 790,
   "id": "d019940c-0657-4556-ac68-848373761ee7",
   "metadata": {},
   "outputs": [
    {
     "data": {
      "text/plain": [
       "Index(['initial_price', 'final_price', 'reviews_count', 'number_of_sellers',\n",
       "       'rating', 'discount'],\n",
       "      dtype='object')"
      ]
     },
     "execution_count": 790,
     "metadata": {},
     "output_type": "execute_result"
    }
   ],
   "source": [
    "num.columns"
   ]
  },
  {
   "cell_type": "markdown",
   "id": "9e7473a9-0d0a-4dba-9205-94d14c47638a",
   "metadata": {},
   "source": [
    "### outliers"
   ]
  },
  {
   "cell_type": "code",
   "execution_count": 792,
   "id": "82628c58-ebc5-4afb-bcfb-ee2359d86617",
   "metadata": {},
   "outputs": [
    {
     "data": {
      "image/png": "[encoded data removed]",
      "text/plain": [
       "<Figure size 1200x400 with 1 Axes>"
      ]
     },
     "metadata": {},
     "output_type": "display_data"
    },
    {
     "data": {
      "image/png": "[encoded data removed]",
      "text/plain": [
       "<Figure size 1200x400 with 1 Axes>"
      ]
     },
     "metadata": {},
     "output_type": "display_data"
    },
    {
     "data": {
      "image/png": "[encoded data removed]",
      "text/plain": [
       "<Figure size 1200x400 with 1 Axes>"
      ]
     },
     "metadata": {},
     "output_type": "display_data"
    },
    {
     "data": {
      "image/png": "[encoded data removed]",
      "text/plain": [
       "<Figure size 1200x400 with 1 Axes>"
      ]
     },
     "metadata": {},
     "output_type": "display_data"
    },
    {
     "data": {
      "image/png": "[encoded data removed]",
      "text/plain": [
       "<Figure size 1200x400 with 1 Axes>"
      ]
     },
     "metadata": {},
     "output_type": "display_data"
    },
    {
     "data": {
      "image/png": "[encoded data removed]",
      "text/plain": [
       "<Figure size 1200x400 with 1 Axes>"
      ]
     },
     "metadata": {},
     "output_type": "display_data"
    }
   ],
   "source": [
    "for col in num.columns:\n",
    "    plt.figure(figsize=(12, 4))\n",
    "    sns.boxplot(x=num[col])\n",
    "    plt.show()"
   ]
  },
  {
   "cell_type": "code",
   "execution_count": 793,
   "id": "4394b3b3-e146-4c88-b946-62412b803297",
   "metadata": {},
   "outputs": [],
   "source": [
    "for col in num.columns:\n",
    "    Q1, Q3 = num[col].quantile([0.25, 0.75])\n",
    "    IQR = Q3 - Q1\n",
    "    lower_bound = Q1 - 1.5 * IQR\n",
    "    upper_bound = Q3 + 1.5 * IQR\n",
    "    num[col] = num[col].where(num[col] >= lower_bound, lower_bound)\n",
    "    num[col] = num[col].where(num[col] <= upper_bound, upper_bound)\n"
   ]
  },
  {
   "cell_type": "code",
   "execution_count": 794,
   "id": "203f8068-11bd-49c0-a27c-605e6d0d55a2",
   "metadata": {},
   "outputs": [
    {
     "data": {
      "image/png": "[encoded data removed]",
      "text/plain": [
       "<Figure size 1600x400 with 1 Axes>"
      ]
     },
     "metadata": {},
     "output_type": "display_data"
    },
    {
     "data": {
      "image/png": "[encoded data removed]",
      "text/plain": [
       "<Figure size 1600x400 with 1 Axes>"
      ]
     },
     "metadata": {},
     "output_type": "display_data"
    },
    {
     "data": {
      "image/png": "[encoded data removed]",
      "text/plain": [
       "<Figure size 1600x400 with 1 Axes>"
      ]
     },
     "metadata": {},
     "output_type": "display_data"
    },
    {
     "data": {
      "image/png": "[encoded data removed]",
      "text/plain": [
       "<Figure size 1600x400 with 1 Axes>"
      ]
     },
     "metadata": {},
     "output_type": "display_data"
    },
    {
     "data": {
      "image/png": "[encoded data removed]",
      "text/plain": [
       "<Figure size 1600x400 with 1 Axes>"
      ]
     },
     "metadata": {},
     "output_type": "display_data"
    },
    {
     "data": {
      "image/png": "[encoded data removed]",
      "text/plain": [
       "<Figure size 1600x400 with 1 Axes>"
      ]
     },
     "metadata": {},
     "output_type": "display_data"
    }
   ],
   "source": [
    "for col in num.columns:\n",
    "    plt.figure(figsize=(16, 4))\n",
    "    sns.boxplot(x=num[col])\n",
    "    plt.show()"
   ]
  },
  {
   "cell_type": "markdown",
   "id": "b56de7f8-ec8a-4cce-be09-6d984b72f5f7",
   "metadata": {},
   "source": [
    "### Encoding"
   ]
  },
  {
   "cell_type": "code",
   "execution_count": 796,
   "id": "0376cb31-0ce1-44f5-9751-b1d09451e891",
   "metadata": {},
   "outputs": [
    {
     "data": {
      "text/html": [
       "<div>\n",
       "<style scoped>\n",
       "    .dataframe tbody tr th:only-of-type {\n",
       "        vertical-align: middle;\n",
       "    }\n",
       "\n",
       "    .dataframe tbody tr th {\n",
       "        vertical-align: top;\n",
       "    }\n",
       "\n",
       "    .dataframe thead th {\n",
       "        text-align: right;\n",
       "    }\n",
       "</style>\n",
       "<table border=\"1\" class=\"dataframe\">\n",
       "  <thead>\n",
       "    <tr style=\"text-align: right;\">\n",
       "      <th></th>\n",
       "      <th>brand</th>\n",
       "      <th>currency</th>\n",
       "      <th>availability</th>\n",
       "      <th>categories</th>\n",
       "    </tr>\n",
       "  </thead>\n",
       "  <tbody>\n",
       "    <tr>\n",
       "      <th>2</th>\n",
       "      <td>TWINSLUXES</td>\n",
       "      <td>USD</td>\n",
       "      <td>in stock</td>\n",
       "      <td>Tools &amp; Home Improvement</td>\n",
       "    </tr>\n",
       "    <tr>\n",
       "      <th>3</th>\n",
       "      <td>Accutire</td>\n",
       "      <td>USD</td>\n",
       "      <td>in stock</td>\n",
       "      <td>Automotive</td>\n",
       "    </tr>\n",
       "    <tr>\n",
       "      <th>4</th>\n",
       "      <td>SAURA LIFE SCIENCE</td>\n",
       "      <td>INR</td>\n",
       "      <td>in stock</td>\n",
       "      <td>Beauty</td>\n",
       "    </tr>\n",
       "    <tr>\n",
       "      <th>5</th>\n",
       "      <td>KASOTT</td>\n",
       "      <td>USD</td>\n",
       "      <td>in stock</td>\n",
       "      <td>Electronics</td>\n",
       "    </tr>\n",
       "    <tr>\n",
       "      <th>6</th>\n",
       "      <td>Bio-Oil</td>\n",
       "      <td>USD</td>\n",
       "      <td>in stock</td>\n",
       "      <td>Beauty &amp; Personal Care</td>\n",
       "    </tr>\n",
       "    <tr>\n",
       "      <th>...</th>\n",
       "      <td>...</td>\n",
       "      <td>...</td>\n",
       "      <td>...</td>\n",
       "      <td>...</td>\n",
       "    </tr>\n",
       "    <tr>\n",
       "      <th>995</th>\n",
       "      <td>Madison Park</td>\n",
       "      <td>USD</td>\n",
       "      <td>limited stock</td>\n",
       "      <td>Home &amp; Kitchen</td>\n",
       "    </tr>\n",
       "    <tr>\n",
       "      <th>996</th>\n",
       "      <td>BIC</td>\n",
       "      <td>USD</td>\n",
       "      <td>in stock</td>\n",
       "      <td>Office Products</td>\n",
       "    </tr>\n",
       "    <tr>\n",
       "      <th>997</th>\n",
       "      <td>Elmer's</td>\n",
       "      <td>USD</td>\n",
       "      <td>in stock</td>\n",
       "      <td>Tools &amp; Home Improvement</td>\n",
       "    </tr>\n",
       "    <tr>\n",
       "      <th>998</th>\n",
       "      <td>HOMEK</td>\n",
       "      <td>USD</td>\n",
       "      <td>in stock</td>\n",
       "      <td>Office Products</td>\n",
       "    </tr>\n",
       "    <tr>\n",
       "      <th>999</th>\n",
       "      <td>Bavilk</td>\n",
       "      <td>USD</td>\n",
       "      <td>unknown</td>\n",
       "      <td>Sports &amp; Outdoors</td>\n",
       "    </tr>\n",
       "  </tbody>\n",
       "</table>\n",
       "<p>875 rows × 4 columns</p>\n",
       "</div>"
      ],
      "text/plain": [
       "                  brand currency   availability                categories\n",
       "2            TWINSLUXES      USD       in stock  Tools & Home Improvement\n",
       "3              Accutire      USD       in stock                Automotive\n",
       "4    SAURA LIFE SCIENCE      INR       in stock                    Beauty\n",
       "5                KASOTT      USD       in stock               Electronics\n",
       "6               Bio-Oil      USD       in stock    Beauty & Personal Care\n",
       "..                  ...      ...            ...                       ...\n",
       "995        Madison Park      USD  limited stock            Home & Kitchen\n",
       "996                 BIC      USD       in stock           Office Products\n",
       "997             Elmer's      USD       in stock  Tools & Home Improvement\n",
       "998               HOMEK      USD       in stock           Office Products\n",
       "999              Bavilk      USD        unknown         Sports & Outdoors\n",
       "\n",
       "[875 rows x 4 columns]"
      ]
     },
     "execution_count": 796,
     "metadata": {},
     "output_type": "execute_result"
    }
   ],
   "source": [
    "cat = df.select_dtypes(exclude = 'number')\n",
    "cat"
   ]
  },
  {
   "cell_type": "code",
   "execution_count": 797,
   "id": "746ba260-6614-4860-bc3b-3432d5be7397",
   "metadata": {},
   "outputs": [
    {
     "data": {
      "text/plain": [
       "Index(['brand', 'currency', 'availability', 'categories'], dtype='object')"
      ]
     },
     "execution_count": 797,
     "metadata": {},
     "output_type": "execute_result"
    }
   ],
   "source": [
    "cat.columns"
   ]
  },
  {
   "cell_type": "code",
   "execution_count": 798,
   "id": "5dea6595-b105-4de6-8f4e-58bc9e320115",
   "metadata": {},
   "outputs": [
    {
     "data": {
      "text/plain": [
       "array(['USD', 'INR', 'GBP'], dtype=object)"
      ]
     },
     "execution_count": 798,
     "metadata": {},
     "output_type": "execute_result"
    }
   ],
   "source": [
    "cat['currency'].unique()"
   ]
  },
  {
   "cell_type": "code",
   "execution_count": 799,
   "id": "687ff3f9-b2b1-46ad-a061-63b15a2a7c7e",
   "metadata": {},
   "outputs": [
    {
     "data": {
      "text/plain": [
       "currency\n",
       "USD    842\n",
       "INR     31\n",
       "GBP      2\n",
       "Name: count, dtype: int64"
      ]
     },
     "execution_count": 799,
     "metadata": {},
     "output_type": "execute_result"
    }
   ],
   "source": [
    "cat['currency'].value_counts()"
   ]
  },
  {
   "cell_type": "code",
   "execution_count": 800,
   "id": "d887cbf3-4b32-4a5d-9b85-19778ae4d009",
   "metadata": {},
   "outputs": [],
   "source": [
    "cat['currency'] = cat['currency'].replace({'USD': 2, 'INR': 1, 'GBP': 0}).astype(float)"
   ]
  },
  {
   "cell_type": "code",
   "execution_count": 801,
   "id": "0c6539d8-5ba3-427a-8f82-077a5cebdf1f",
   "metadata": {},
   "outputs": [
    {
     "data": {
      "text/plain": [
       "array(['in stock', 'limited stock', 'out of stock', 'delayed shipping',\n",
       "       'unknown'], dtype=object)"
      ]
     },
     "execution_count": 801,
     "metadata": {},
     "output_type": "execute_result"
    }
   ],
   "source": [
    "cat['availability'].unique()"
   ]
  },
  {
   "cell_type": "code",
   "execution_count": 802,
   "id": "c4fb566f-6cc5-4051-90c3-91debed9e92f",
   "metadata": {},
   "outputs": [
    {
     "data": {
      "text/plain": [
       "availability\n",
       "in stock            635\n",
       "limited stock       207\n",
       "delayed shipping     25\n",
       "unknown               6\n",
       "out of stock          2\n",
       "Name: count, dtype: int64"
      ]
     },
     "execution_count": 802,
     "metadata": {},
     "output_type": "execute_result"
    }
   ],
   "source": [
    "cat['availability'].value_counts()"
   ]
  },
  {
   "cell_type": "code",
   "execution_count": 803,
   "id": "dae3cf66-c15c-4716-9eca-dbf219a10ba7",
   "metadata": {},
   "outputs": [],
   "source": [
    "cat['availability'] = cat['availability'].replace({'in stock': 0, 'limited stock': 1, 'delayed shipping': 2, 'unknown': 3, 'out of stock': 4}).astype(float)"
   ]
  },
  {
   "cell_type": "code",
   "execution_count": 804,
   "id": "8e3ff37f-1322-4bb1-9057-07f8ff8c4ed7",
   "metadata": {},
   "outputs": [
    {
     "data": {
      "text/html": [
       "<div>\n",
       "<style scoped>\n",
       "    .dataframe tbody tr th:only-of-type {\n",
       "        vertical-align: middle;\n",
       "    }\n",
       "\n",
       "    .dataframe tbody tr th {\n",
       "        vertical-align: top;\n",
       "    }\n",
       "\n",
       "    .dataframe thead th {\n",
       "        text-align: right;\n",
       "    }\n",
       "</style>\n",
       "<table border=\"1\" class=\"dataframe\">\n",
       "  <thead>\n",
       "    <tr style=\"text-align: right;\">\n",
       "      <th></th>\n",
       "      <th>brand</th>\n",
       "      <th>currency</th>\n",
       "      <th>availability</th>\n",
       "      <th>categories</th>\n",
       "      <th>initial_price</th>\n",
       "      <th>final_price</th>\n",
       "      <th>reviews_count</th>\n",
       "      <th>number_of_sellers</th>\n",
       "      <th>rating</th>\n",
       "      <th>discount</th>\n",
       "    </tr>\n",
       "  </thead>\n",
       "  <tbody>\n",
       "    <tr>\n",
       "      <th>2</th>\n",
       "      <td>TWINSLUXES</td>\n",
       "      <td>2.0</td>\n",
       "      <td>0.0</td>\n",
       "      <td>Tools &amp; Home Improvement</td>\n",
       "      <td>49.99</td>\n",
       "      <td>33.990</td>\n",
       "      <td>3178.0</td>\n",
       "      <td>1.0</td>\n",
       "      <td>4.2</td>\n",
       "      <td>32.0</td>\n",
       "    </tr>\n",
       "    <tr>\n",
       "      <th>3</th>\n",
       "      <td>Accutire</td>\n",
       "      <td>2.0</td>\n",
       "      <td>0.0</td>\n",
       "      <td>Automotive</td>\n",
       "      <td>18.00</td>\n",
       "      <td>18.000</td>\n",
       "      <td>4541.5</td>\n",
       "      <td>1.0</td>\n",
       "      <td>4.4</td>\n",
       "      <td>0.0</td>\n",
       "    </tr>\n",
       "    <tr>\n",
       "      <th>4</th>\n",
       "      <td>SAURA LIFE SCIENCE</td>\n",
       "      <td>1.0</td>\n",
       "      <td>0.0</td>\n",
       "      <td>Beauty</td>\n",
       "      <td>171.49</td>\n",
       "      <td>132.815</td>\n",
       "      <td>5.0</td>\n",
       "      <td>1.0</td>\n",
       "      <td>5.0</td>\n",
       "      <td>38.0</td>\n",
       "    </tr>\n",
       "    <tr>\n",
       "      <th>5</th>\n",
       "      <td>KASOTT</td>\n",
       "      <td>2.0</td>\n",
       "      <td>0.0</td>\n",
       "      <td>Electronics</td>\n",
       "      <td>17.88</td>\n",
       "      <td>17.880</td>\n",
       "      <td>67.0</td>\n",
       "      <td>3.0</td>\n",
       "      <td>4.3</td>\n",
       "      <td>13.0</td>\n",
       "    </tr>\n",
       "    <tr>\n",
       "      <th>6</th>\n",
       "      <td>Bio-Oil</td>\n",
       "      <td>2.0</td>\n",
       "      <td>0.0</td>\n",
       "      <td>Beauty &amp; Personal Care</td>\n",
       "      <td>39.24</td>\n",
       "      <td>24.950</td>\n",
       "      <td>4541.5</td>\n",
       "      <td>1.0</td>\n",
       "      <td>4.6</td>\n",
       "      <td>36.0</td>\n",
       "    </tr>\n",
       "    <tr>\n",
       "      <th>...</th>\n",
       "      <td>...</td>\n",
       "      <td>...</td>\n",
       "      <td>...</td>\n",
       "      <td>...</td>\n",
       "      <td>...</td>\n",
       "      <td>...</td>\n",
       "      <td>...</td>\n",
       "      <td>...</td>\n",
       "      <td>...</td>\n",
       "      <td>...</td>\n",
       "    </tr>\n",
       "    <tr>\n",
       "      <th>995</th>\n",
       "      <td>Madison Park</td>\n",
       "      <td>2.0</td>\n",
       "      <td>1.0</td>\n",
       "      <td>Home &amp; Kitchen</td>\n",
       "      <td>154.99</td>\n",
       "      <td>111.990</td>\n",
       "      <td>4541.5</td>\n",
       "      <td>4.0</td>\n",
       "      <td>4.4</td>\n",
       "      <td>28.0</td>\n",
       "    </tr>\n",
       "    <tr>\n",
       "      <th>996</th>\n",
       "      <td>BIC</td>\n",
       "      <td>2.0</td>\n",
       "      <td>0.0</td>\n",
       "      <td>Office Products</td>\n",
       "      <td>10.99</td>\n",
       "      <td>9.990</td>\n",
       "      <td>4541.5</td>\n",
       "      <td>6.0</td>\n",
       "      <td>4.5</td>\n",
       "      <td>9.0</td>\n",
       "    </tr>\n",
       "    <tr>\n",
       "      <th>997</th>\n",
       "      <td>Elmer's</td>\n",
       "      <td>2.0</td>\n",
       "      <td>0.0</td>\n",
       "      <td>Tools &amp; Home Improvement</td>\n",
       "      <td>14.00</td>\n",
       "      <td>14.000</td>\n",
       "      <td>1052.0</td>\n",
       "      <td>1.0</td>\n",
       "      <td>4.6</td>\n",
       "      <td>0.0</td>\n",
       "    </tr>\n",
       "    <tr>\n",
       "      <th>998</th>\n",
       "      <td>HOMEK</td>\n",
       "      <td>2.0</td>\n",
       "      <td>0.0</td>\n",
       "      <td>Office Products</td>\n",
       "      <td>40.00</td>\n",
       "      <td>40.000</td>\n",
       "      <td>1039.0</td>\n",
       "      <td>1.0</td>\n",
       "      <td>4.0</td>\n",
       "      <td>13.0</td>\n",
       "    </tr>\n",
       "    <tr>\n",
       "      <th>999</th>\n",
       "      <td>Bavilk</td>\n",
       "      <td>2.0</td>\n",
       "      <td>3.0</td>\n",
       "      <td>Sports &amp; Outdoors</td>\n",
       "      <td>32.99</td>\n",
       "      <td>16.490</td>\n",
       "      <td>254.0</td>\n",
       "      <td>1.0</td>\n",
       "      <td>4.7</td>\n",
       "      <td>50.0</td>\n",
       "    </tr>\n",
       "  </tbody>\n",
       "</table>\n",
       "<p>875 rows × 10 columns</p>\n",
       "</div>"
      ],
      "text/plain": [
       "                  brand  currency  availability                categories  \\\n",
       "2            TWINSLUXES       2.0           0.0  Tools & Home Improvement   \n",
       "3              Accutire       2.0           0.0                Automotive   \n",
       "4    SAURA LIFE SCIENCE       1.0           0.0                    Beauty   \n",
       "5                KASOTT       2.0           0.0               Electronics   \n",
       "6               Bio-Oil       2.0           0.0    Beauty & Personal Care   \n",
       "..                  ...       ...           ...                       ...   \n",
       "995        Madison Park       2.0           1.0            Home & Kitchen   \n",
       "996                 BIC       2.0           0.0           Office Products   \n",
       "997             Elmer's       2.0           0.0  Tools & Home Improvement   \n",
       "998               HOMEK       2.0           0.0           Office Products   \n",
       "999              Bavilk       2.0           3.0         Sports & Outdoors   \n",
       "\n",
       "     initial_price  final_price  reviews_count  number_of_sellers  rating  \\\n",
       "2            49.99       33.990         3178.0                1.0     4.2   \n",
       "3            18.00       18.000         4541.5                1.0     4.4   \n",
       "4           171.49      132.815            5.0                1.0     5.0   \n",
       "5            17.88       17.880           67.0                3.0     4.3   \n",
       "6            39.24       24.950         4541.5                1.0     4.6   \n",
       "..             ...          ...            ...                ...     ...   \n",
       "995         154.99      111.990         4541.5                4.0     4.4   \n",
       "996          10.99        9.990         4541.5                6.0     4.5   \n",
       "997          14.00       14.000         1052.0                1.0     4.6   \n",
       "998          40.00       40.000         1039.0                1.0     4.0   \n",
       "999          32.99       16.490          254.0                1.0     4.7   \n",
       "\n",
       "     discount  \n",
       "2        32.0  \n",
       "3         0.0  \n",
       "4        38.0  \n",
       "5        13.0  \n",
       "6        36.0  \n",
       "..        ...  \n",
       "995      28.0  \n",
       "996       9.0  \n",
       "997       0.0  \n",
       "998      13.0  \n",
       "999      50.0  \n",
       "\n",
       "[875 rows x 10 columns]"
      ]
     },
     "execution_count": 804,
     "metadata": {},
     "output_type": "execute_result"
    }
   ],
   "source": [
    "df = pd.concat([cat,num],axis= 1)\n",
    "df"
   ]
  },
  {
   "cell_type": "code",
   "execution_count": 805,
   "id": "e5b76561-a913-4723-8762-f6e54df8d1ff",
   "metadata": {},
   "outputs": [
    {
     "data": {
      "text/html": [
       "<div>\n",
       "<style scoped>\n",
       "    .dataframe tbody tr th:only-of-type {\n",
       "        vertical-align: middle;\n",
       "    }\n",
       "\n",
       "    .dataframe tbody tr th {\n",
       "        vertical-align: top;\n",
       "    }\n",
       "\n",
       "    .dataframe thead th {\n",
       "        text-align: right;\n",
       "    }\n",
       "</style>\n",
       "<table border=\"1\" class=\"dataframe\">\n",
       "  <thead>\n",
       "    <tr style=\"text-align: right;\">\n",
       "      <th></th>\n",
       "      <th>currency</th>\n",
       "      <th>availability</th>\n",
       "      <th>initial_price</th>\n",
       "      <th>final_price</th>\n",
       "      <th>reviews_count</th>\n",
       "      <th>number_of_sellers</th>\n",
       "      <th>rating</th>\n",
       "      <th>discount</th>\n",
       "    </tr>\n",
       "  </thead>\n",
       "  <tbody>\n",
       "    <tr>\n",
       "      <th>2</th>\n",
       "      <td>2.0</td>\n",
       "      <td>0.0</td>\n",
       "      <td>49.99</td>\n",
       "      <td>33.990</td>\n",
       "      <td>3178.0</td>\n",
       "      <td>1.0</td>\n",
       "      <td>4.2</td>\n",
       "      <td>32.0</td>\n",
       "    </tr>\n",
       "    <tr>\n",
       "      <th>3</th>\n",
       "      <td>2.0</td>\n",
       "      <td>0.0</td>\n",
       "      <td>18.00</td>\n",
       "      <td>18.000</td>\n",
       "      <td>4541.5</td>\n",
       "      <td>1.0</td>\n",
       "      <td>4.4</td>\n",
       "      <td>0.0</td>\n",
       "    </tr>\n",
       "    <tr>\n",
       "      <th>4</th>\n",
       "      <td>1.0</td>\n",
       "      <td>0.0</td>\n",
       "      <td>171.49</td>\n",
       "      <td>132.815</td>\n",
       "      <td>5.0</td>\n",
       "      <td>1.0</td>\n",
       "      <td>5.0</td>\n",
       "      <td>38.0</td>\n",
       "    </tr>\n",
       "    <tr>\n",
       "      <th>5</th>\n",
       "      <td>2.0</td>\n",
       "      <td>0.0</td>\n",
       "      <td>17.88</td>\n",
       "      <td>17.880</td>\n",
       "      <td>67.0</td>\n",
       "      <td>3.0</td>\n",
       "      <td>4.3</td>\n",
       "      <td>13.0</td>\n",
       "    </tr>\n",
       "    <tr>\n",
       "      <th>6</th>\n",
       "      <td>2.0</td>\n",
       "      <td>0.0</td>\n",
       "      <td>39.24</td>\n",
       "      <td>24.950</td>\n",
       "      <td>4541.5</td>\n",
       "      <td>1.0</td>\n",
       "      <td>4.6</td>\n",
       "      <td>36.0</td>\n",
       "    </tr>\n",
       "    <tr>\n",
       "      <th>...</th>\n",
       "      <td>...</td>\n",
       "      <td>...</td>\n",
       "      <td>...</td>\n",
       "      <td>...</td>\n",
       "      <td>...</td>\n",
       "      <td>...</td>\n",
       "      <td>...</td>\n",
       "      <td>...</td>\n",
       "    </tr>\n",
       "    <tr>\n",
       "      <th>995</th>\n",
       "      <td>2.0</td>\n",
       "      <td>1.0</td>\n",
       "      <td>154.99</td>\n",
       "      <td>111.990</td>\n",
       "      <td>4541.5</td>\n",
       "      <td>4.0</td>\n",
       "      <td>4.4</td>\n",
       "      <td>28.0</td>\n",
       "    </tr>\n",
       "    <tr>\n",
       "      <th>996</th>\n",
       "      <td>2.0</td>\n",
       "      <td>0.0</td>\n",
       "      <td>10.99</td>\n",
       "      <td>9.990</td>\n",
       "      <td>4541.5</td>\n",
       "      <td>6.0</td>\n",
       "      <td>4.5</td>\n",
       "      <td>9.0</td>\n",
       "    </tr>\n",
       "    <tr>\n",
       "      <th>997</th>\n",
       "      <td>2.0</td>\n",
       "      <td>0.0</td>\n",
       "      <td>14.00</td>\n",
       "      <td>14.000</td>\n",
       "      <td>1052.0</td>\n",
       "      <td>1.0</td>\n",
       "      <td>4.6</td>\n",
       "      <td>0.0</td>\n",
       "    </tr>\n",
       "    <tr>\n",
       "      <th>998</th>\n",
       "      <td>2.0</td>\n",
       "      <td>0.0</td>\n",
       "      <td>40.00</td>\n",
       "      <td>40.000</td>\n",
       "      <td>1039.0</td>\n",
       "      <td>1.0</td>\n",
       "      <td>4.0</td>\n",
       "      <td>13.0</td>\n",
       "    </tr>\n",
       "    <tr>\n",
       "      <th>999</th>\n",
       "      <td>2.0</td>\n",
       "      <td>3.0</td>\n",
       "      <td>32.99</td>\n",
       "      <td>16.490</td>\n",
       "      <td>254.0</td>\n",
       "      <td>1.0</td>\n",
       "      <td>4.7</td>\n",
       "      <td>50.0</td>\n",
       "    </tr>\n",
       "  </tbody>\n",
       "</table>\n",
       "<p>875 rows × 8 columns</p>\n",
       "</div>"
      ],
      "text/plain": [
       "     currency  availability  initial_price  final_price  reviews_count  \\\n",
       "2         2.0           0.0          49.99       33.990         3178.0   \n",
       "3         2.0           0.0          18.00       18.000         4541.5   \n",
       "4         1.0           0.0         171.49      132.815            5.0   \n",
       "5         2.0           0.0          17.88       17.880           67.0   \n",
       "6         2.0           0.0          39.24       24.950         4541.5   \n",
       "..        ...           ...            ...          ...            ...   \n",
       "995       2.0           1.0         154.99      111.990         4541.5   \n",
       "996       2.0           0.0          10.99        9.990         4541.5   \n",
       "997       2.0           0.0          14.00       14.000         1052.0   \n",
       "998       2.0           0.0          40.00       40.000         1039.0   \n",
       "999       2.0           3.0          32.99       16.490          254.0   \n",
       "\n",
       "     number_of_sellers  rating  discount  \n",
       "2                  1.0     4.2      32.0  \n",
       "3                  1.0     4.4       0.0  \n",
       "4                  1.0     5.0      38.0  \n",
       "5                  3.0     4.3      13.0  \n",
       "6                  1.0     4.6      36.0  \n",
       "..                 ...     ...       ...  \n",
       "995                4.0     4.4      28.0  \n",
       "996                6.0     4.5       9.0  \n",
       "997                1.0     4.6       0.0  \n",
       "998                1.0     4.0      13.0  \n",
       "999                1.0     4.7      50.0  \n",
       "\n",
       "[875 rows x 8 columns]"
      ]
     },
     "execution_count": 805,
     "metadata": {},
     "output_type": "execute_result"
    }
   ],
   "source": [
    "nd = df.select_dtypes(include = 'number')\n",
    "nd"
   ]
  },
  {
   "cell_type": "code",
   "execution_count": 806,
   "id": "c36c21f6-5115-421f-a02e-01f47b4e8863",
   "metadata": {},
   "outputs": [
    {
     "data": {
      "text/html": [
       "<div>\n",
       "<style scoped>\n",
       "    .dataframe tbody tr th:only-of-type {\n",
       "        vertical-align: middle;\n",
       "    }\n",
       "\n",
       "    .dataframe tbody tr th {\n",
       "        vertical-align: top;\n",
       "    }\n",
       "\n",
       "    .dataframe thead th {\n",
       "        text-align: right;\n",
       "    }\n",
       "</style>\n",
       "<table border=\"1\" class=\"dataframe\">\n",
       "  <thead>\n",
       "    <tr style=\"text-align: right;\">\n",
       "      <th></th>\n",
       "      <th>brand</th>\n",
       "      <th>currency</th>\n",
       "      <th>availability</th>\n",
       "      <th>categories</th>\n",
       "      <th>initial_price</th>\n",
       "      <th>final_price</th>\n",
       "      <th>reviews_count</th>\n",
       "      <th>number_of_sellers</th>\n",
       "      <th>rating</th>\n",
       "      <th>discount</th>\n",
       "    </tr>\n",
       "  </thead>\n",
       "  <tbody>\n",
       "    <tr>\n",
       "      <th>2</th>\n",
       "      <td>TWINSLUXES</td>\n",
       "      <td>2.0</td>\n",
       "      <td>0.0</td>\n",
       "      <td>Tools &amp; Home Improvement</td>\n",
       "      <td>49.99</td>\n",
       "      <td>33.990</td>\n",
       "      <td>3178.0</td>\n",
       "      <td>1.0</td>\n",
       "      <td>4.2</td>\n",
       "      <td>32.0</td>\n",
       "    </tr>\n",
       "    <tr>\n",
       "      <th>3</th>\n",
       "      <td>Accutire</td>\n",
       "      <td>2.0</td>\n",
       "      <td>0.0</td>\n",
       "      <td>Automotive</td>\n",
       "      <td>18.00</td>\n",
       "      <td>18.000</td>\n",
       "      <td>4541.5</td>\n",
       "      <td>1.0</td>\n",
       "      <td>4.4</td>\n",
       "      <td>0.0</td>\n",
       "    </tr>\n",
       "    <tr>\n",
       "      <th>4</th>\n",
       "      <td>SAURA LIFE SCIENCE</td>\n",
       "      <td>1.0</td>\n",
       "      <td>0.0</td>\n",
       "      <td>Beauty</td>\n",
       "      <td>171.49</td>\n",
       "      <td>132.815</td>\n",
       "      <td>5.0</td>\n",
       "      <td>1.0</td>\n",
       "      <td>5.0</td>\n",
       "      <td>38.0</td>\n",
       "    </tr>\n",
       "    <tr>\n",
       "      <th>5</th>\n",
       "      <td>KASOTT</td>\n",
       "      <td>2.0</td>\n",
       "      <td>0.0</td>\n",
       "      <td>Electronics</td>\n",
       "      <td>17.88</td>\n",
       "      <td>17.880</td>\n",
       "      <td>67.0</td>\n",
       "      <td>3.0</td>\n",
       "      <td>4.3</td>\n",
       "      <td>13.0</td>\n",
       "    </tr>\n",
       "    <tr>\n",
       "      <th>6</th>\n",
       "      <td>Bio-Oil</td>\n",
       "      <td>2.0</td>\n",
       "      <td>0.0</td>\n",
       "      <td>Beauty &amp; Personal Care</td>\n",
       "      <td>39.24</td>\n",
       "      <td>24.950</td>\n",
       "      <td>4541.5</td>\n",
       "      <td>1.0</td>\n",
       "      <td>4.6</td>\n",
       "      <td>36.0</td>\n",
       "    </tr>\n",
       "  </tbody>\n",
       "</table>\n",
       "</div>"
      ],
      "text/plain": [
       "                brand  currency  availability                categories  \\\n",
       "2          TWINSLUXES       2.0           0.0  Tools & Home Improvement   \n",
       "3            Accutire       2.0           0.0                Automotive   \n",
       "4  SAURA LIFE SCIENCE       1.0           0.0                    Beauty   \n",
       "5              KASOTT       2.0           0.0               Electronics   \n",
       "6             Bio-Oil       2.0           0.0    Beauty & Personal Care   \n",
       "\n",
       "   initial_price  final_price  reviews_count  number_of_sellers  rating  \\\n",
       "2          49.99       33.990         3178.0                1.0     4.2   \n",
       "3          18.00       18.000         4541.5                1.0     4.4   \n",
       "4         171.49      132.815            5.0                1.0     5.0   \n",
       "5          17.88       17.880           67.0                3.0     4.3   \n",
       "6          39.24       24.950         4541.5                1.0     4.6   \n",
       "\n",
       "   discount  \n",
       "2      32.0  \n",
       "3       0.0  \n",
       "4      38.0  \n",
       "5      13.0  \n",
       "6      36.0  "
      ]
     },
     "execution_count": 806,
     "metadata": {},
     "output_type": "execute_result"
    }
   ],
   "source": [
    "df.head()"
   ]
  },
  {
   "cell_type": "code",
   "execution_count": 807,
   "id": "7cef98f7-a6b8-4020-a165-38d327110c32",
   "metadata": {},
   "outputs": [
    {
     "data": {
      "text/html": [
       "<div>\n",
       "<style scoped>\n",
       "    .dataframe tbody tr th:only-of-type {\n",
       "        vertical-align: middle;\n",
       "    }\n",
       "\n",
       "    .dataframe tbody tr th {\n",
       "        vertical-align: top;\n",
       "    }\n",
       "\n",
       "    .dataframe thead th {\n",
       "        text-align: right;\n",
       "    }\n",
       "</style>\n",
       "<table border=\"1\" class=\"dataframe\">\n",
       "  <thead>\n",
       "    <tr style=\"text-align: right;\">\n",
       "      <th></th>\n",
       "      <th>brand</th>\n",
       "      <th>categories</th>\n",
       "    </tr>\n",
       "  </thead>\n",
       "  <tbody>\n",
       "    <tr>\n",
       "      <th>2</th>\n",
       "      <td>TWINSLUXES</td>\n",
       "      <td>Tools &amp; Home Improvement</td>\n",
       "    </tr>\n",
       "    <tr>\n",
       "      <th>3</th>\n",
       "      <td>Accutire</td>\n",
       "      <td>Automotive</td>\n",
       "    </tr>\n",
       "    <tr>\n",
       "      <th>4</th>\n",
       "      <td>SAURA LIFE SCIENCE</td>\n",
       "      <td>Beauty</td>\n",
       "    </tr>\n",
       "    <tr>\n",
       "      <th>5</th>\n",
       "      <td>KASOTT</td>\n",
       "      <td>Electronics</td>\n",
       "    </tr>\n",
       "    <tr>\n",
       "      <th>6</th>\n",
       "      <td>Bio-Oil</td>\n",
       "      <td>Beauty &amp; Personal Care</td>\n",
       "    </tr>\n",
       "    <tr>\n",
       "      <th>...</th>\n",
       "      <td>...</td>\n",
       "      <td>...</td>\n",
       "    </tr>\n",
       "    <tr>\n",
       "      <th>995</th>\n",
       "      <td>Madison Park</td>\n",
       "      <td>Home &amp; Kitchen</td>\n",
       "    </tr>\n",
       "    <tr>\n",
       "      <th>996</th>\n",
       "      <td>BIC</td>\n",
       "      <td>Office Products</td>\n",
       "    </tr>\n",
       "    <tr>\n",
       "      <th>997</th>\n",
       "      <td>Elmer's</td>\n",
       "      <td>Tools &amp; Home Improvement</td>\n",
       "    </tr>\n",
       "    <tr>\n",
       "      <th>998</th>\n",
       "      <td>HOMEK</td>\n",
       "      <td>Office Products</td>\n",
       "    </tr>\n",
       "    <tr>\n",
       "      <th>999</th>\n",
       "      <td>Bavilk</td>\n",
       "      <td>Sports &amp; Outdoors</td>\n",
       "    </tr>\n",
       "  </tbody>\n",
       "</table>\n",
       "<p>875 rows × 2 columns</p>\n",
       "</div>"
      ],
      "text/plain": [
       "                  brand                categories\n",
       "2            TWINSLUXES  Tools & Home Improvement\n",
       "3              Accutire                Automotive\n",
       "4    SAURA LIFE SCIENCE                    Beauty\n",
       "5                KASOTT               Electronics\n",
       "6               Bio-Oil    Beauty & Personal Care\n",
       "..                  ...                       ...\n",
       "995        Madison Park            Home & Kitchen\n",
       "996                 BIC           Office Products\n",
       "997             Elmer's  Tools & Home Improvement\n",
       "998               HOMEK           Office Products\n",
       "999              Bavilk         Sports & Outdoors\n",
       "\n",
       "[875 rows x 2 columns]"
      ]
     },
     "execution_count": 807,
     "metadata": {},
     "output_type": "execute_result"
    }
   ],
   "source": [
    "df.select_dtypes(\"O\")"
   ]
  },
  {
   "cell_type": "markdown",
   "id": "715f8bab-f89a-4afb-bc1e-4304215a1def",
   "metadata": {},
   "source": [
    "**Considering ordinal Encoding of above columns with avg values of discount**"
   ]
  },
  {
   "cell_type": "code",
   "execution_count": 809,
   "id": "9c87fe2b-e496-4bb0-9ecb-5f29aef3ab67",
   "metadata": {},
   "outputs": [],
   "source": [
    "catcols = df.select_dtypes(\"O\").columns"
   ]
  },
  {
   "cell_type": "code",
   "execution_count": 810,
   "id": "4f8ec8a7-4660-4c84-bd65-ac1040612fc5",
   "metadata": {},
   "outputs": [
    {
     "data": {
      "text/plain": [
       "Index(['brand', 'categories'], dtype='object')"
      ]
     },
     "execution_count": 810,
     "metadata": {},
     "output_type": "execute_result"
    }
   ],
   "source": [
    "catcols"
   ]
  },
  {
   "cell_type": "code",
   "execution_count": 811,
   "id": "74196192-5064-425e-93d8-19cd52917f88",
   "metadata": {},
   "outputs": [],
   "source": [
    "# Group by -> Average of discount -> Encodings -> Saving encoding -> Replacing Cat Values\n",
    "import pickle\n",
    "\n",
    "for col in catcols:\n",
    "    grouped = round(df.groupby(col)['discount'].mean(),2)\n",
    "    maps = {k:v for k, v in zip(grouped.index, grouped.values)}\n",
    "    with open(f\"{col}_encoding.pkl\", 'wb') as f:\n",
    "        pickle.dump(maps, f)\n",
    "\n",
    "    df[col].replace(maps, inplace=True)"
   ]
  },
  {
   "cell_type": "code",
   "execution_count": 812,
   "id": "0b839cb2-7adf-4d65-8752-356a291b21c3",
   "metadata": {},
   "outputs": [],
   "source": [
    "df.fillna(0,inplace=True)"
   ]
  },
  {
   "cell_type": "code",
   "execution_count": 813,
   "id": "66a5a54f-9978-494c-9cc3-71d2ba843e94",
   "metadata": {},
   "outputs": [
    {
     "data": {
      "text/plain": [
       "brand                float64\n",
       "currency             float64\n",
       "availability         float64\n",
       "categories           float64\n",
       "initial_price        float64\n",
       "final_price          float64\n",
       "reviews_count        float64\n",
       "number_of_sellers    float64\n",
       "rating               float64\n",
       "discount             float64\n",
       "dtype: object"
      ]
     },
     "execution_count": 813,
     "metadata": {},
     "output_type": "execute_result"
    }
   ],
   "source": [
    "df.dtypes"
   ]
  },
  {
   "cell_type": "code",
   "execution_count": 814,
   "id": "d2b4d18b-41e8-473c-ad68-f899a94aaf83",
   "metadata": {},
   "outputs": [],
   "source": [
    "y = df['discount']"
   ]
  },
  {
   "cell_type": "code",
   "execution_count": 815,
   "id": "210815e8-1846-4d79-bc0e-33f2838e6f34",
   "metadata": {},
   "outputs": [],
   "source": [
    "x = df.drop(columns=['discount'])"
   ]
  },
  {
   "cell_type": "code",
   "execution_count": 816,
   "id": "b736536d-e523-4ce5-ae14-68fd738f45a5",
   "metadata": {},
   "outputs": [
    {
     "data": {
      "text/html": [
       "<div>\n",
       "<style scoped>\n",
       "    .dataframe tbody tr th:only-of-type {\n",
       "        vertical-align: middle;\n",
       "    }\n",
       "\n",
       "    .dataframe tbody tr th {\n",
       "        vertical-align: top;\n",
       "    }\n",
       "\n",
       "    .dataframe thead th {\n",
       "        text-align: right;\n",
       "    }\n",
       "</style>\n",
       "<table border=\"1\" class=\"dataframe\">\n",
       "  <thead>\n",
       "    <tr style=\"text-align: right;\">\n",
       "      <th></th>\n",
       "      <th>brand</th>\n",
       "      <th>currency</th>\n",
       "      <th>availability</th>\n",
       "      <th>categories</th>\n",
       "      <th>initial_price</th>\n",
       "      <th>final_price</th>\n",
       "      <th>reviews_count</th>\n",
       "      <th>number_of_sellers</th>\n",
       "      <th>rating</th>\n",
       "    </tr>\n",
       "  </thead>\n",
       "  <tbody>\n",
       "    <tr>\n",
       "      <th>2</th>\n",
       "      <td>32.0</td>\n",
       "      <td>2.0</td>\n",
       "      <td>0.0</td>\n",
       "      <td>17.15</td>\n",
       "      <td>49.99</td>\n",
       "      <td>33.990</td>\n",
       "      <td>3178.0</td>\n",
       "      <td>1.0</td>\n",
       "      <td>4.2</td>\n",
       "    </tr>\n",
       "    <tr>\n",
       "      <th>3</th>\n",
       "      <td>0.0</td>\n",
       "      <td>2.0</td>\n",
       "      <td>0.0</td>\n",
       "      <td>15.29</td>\n",
       "      <td>18.00</td>\n",
       "      <td>18.000</td>\n",
       "      <td>4541.5</td>\n",
       "      <td>1.0</td>\n",
       "      <td>4.4</td>\n",
       "    </tr>\n",
       "    <tr>\n",
       "      <th>4</th>\n",
       "      <td>38.0</td>\n",
       "      <td>1.0</td>\n",
       "      <td>0.0</td>\n",
       "      <td>25.39</td>\n",
       "      <td>171.49</td>\n",
       "      <td>132.815</td>\n",
       "      <td>5.0</td>\n",
       "      <td>1.0</td>\n",
       "      <td>5.0</td>\n",
       "    </tr>\n",
       "    <tr>\n",
       "      <th>5</th>\n",
       "      <td>13.0</td>\n",
       "      <td>2.0</td>\n",
       "      <td>0.0</td>\n",
       "      <td>18.56</td>\n",
       "      <td>17.88</td>\n",
       "      <td>17.880</td>\n",
       "      <td>67.0</td>\n",
       "      <td>3.0</td>\n",
       "      <td>4.3</td>\n",
       "    </tr>\n",
       "    <tr>\n",
       "      <th>6</th>\n",
       "      <td>36.0</td>\n",
       "      <td>2.0</td>\n",
       "      <td>0.0</td>\n",
       "      <td>11.74</td>\n",
       "      <td>39.24</td>\n",
       "      <td>24.950</td>\n",
       "      <td>4541.5</td>\n",
       "      <td>1.0</td>\n",
       "      <td>4.6</td>\n",
       "    </tr>\n",
       "    <tr>\n",
       "      <th>...</th>\n",
       "      <td>...</td>\n",
       "      <td>...</td>\n",
       "      <td>...</td>\n",
       "      <td>...</td>\n",
       "      <td>...</td>\n",
       "      <td>...</td>\n",
       "      <td>...</td>\n",
       "      <td>...</td>\n",
       "      <td>...</td>\n",
       "    </tr>\n",
       "    <tr>\n",
       "      <th>995</th>\n",
       "      <td>28.0</td>\n",
       "      <td>2.0</td>\n",
       "      <td>1.0</td>\n",
       "      <td>19.30</td>\n",
       "      <td>154.99</td>\n",
       "      <td>111.990</td>\n",
       "      <td>4541.5</td>\n",
       "      <td>4.0</td>\n",
       "      <td>4.4</td>\n",
       "    </tr>\n",
       "    <tr>\n",
       "      <th>996</th>\n",
       "      <td>9.0</td>\n",
       "      <td>2.0</td>\n",
       "      <td>0.0</td>\n",
       "      <td>18.45</td>\n",
       "      <td>10.99</td>\n",
       "      <td>9.990</td>\n",
       "      <td>4541.5</td>\n",
       "      <td>6.0</td>\n",
       "      <td>4.5</td>\n",
       "    </tr>\n",
       "    <tr>\n",
       "      <th>997</th>\n",
       "      <td>0.0</td>\n",
       "      <td>2.0</td>\n",
       "      <td>0.0</td>\n",
       "      <td>17.15</td>\n",
       "      <td>14.00</td>\n",
       "      <td>14.000</td>\n",
       "      <td>1052.0</td>\n",
       "      <td>1.0</td>\n",
       "      <td>4.6</td>\n",
       "    </tr>\n",
       "    <tr>\n",
       "      <th>998</th>\n",
       "      <td>13.0</td>\n",
       "      <td>2.0</td>\n",
       "      <td>0.0</td>\n",
       "      <td>18.45</td>\n",
       "      <td>40.00</td>\n",
       "      <td>40.000</td>\n",
       "      <td>1039.0</td>\n",
       "      <td>1.0</td>\n",
       "      <td>4.0</td>\n",
       "    </tr>\n",
       "    <tr>\n",
       "      <th>999</th>\n",
       "      <td>50.0</td>\n",
       "      <td>2.0</td>\n",
       "      <td>3.0</td>\n",
       "      <td>21.78</td>\n",
       "      <td>32.99</td>\n",
       "      <td>16.490</td>\n",
       "      <td>254.0</td>\n",
       "      <td>1.0</td>\n",
       "      <td>4.7</td>\n",
       "    </tr>\n",
       "  </tbody>\n",
       "</table>\n",
       "<p>875 rows × 9 columns</p>\n",
       "</div>"
      ],
      "text/plain": [
       "     brand  currency  availability  categories  initial_price  final_price  \\\n",
       "2     32.0       2.0           0.0       17.15          49.99       33.990   \n",
       "3      0.0       2.0           0.0       15.29          18.00       18.000   \n",
       "4     38.0       1.0           0.0       25.39         171.49      132.815   \n",
       "5     13.0       2.0           0.0       18.56          17.88       17.880   \n",
       "6     36.0       2.0           0.0       11.74          39.24       24.950   \n",
       "..     ...       ...           ...         ...            ...          ...   \n",
       "995   28.0       2.0           1.0       19.30         154.99      111.990   \n",
       "996    9.0       2.0           0.0       18.45          10.99        9.990   \n",
       "997    0.0       2.0           0.0       17.15          14.00       14.000   \n",
       "998   13.0       2.0           0.0       18.45          40.00       40.000   \n",
       "999   50.0       2.0           3.0       21.78          32.99       16.490   \n",
       "\n",
       "     reviews_count  number_of_sellers  rating  \n",
       "2           3178.0                1.0     4.2  \n",
       "3           4541.5                1.0     4.4  \n",
       "4              5.0                1.0     5.0  \n",
       "5             67.0                3.0     4.3  \n",
       "6           4541.5                1.0     4.6  \n",
       "..             ...                ...     ...  \n",
       "995         4541.5                4.0     4.4  \n",
       "996         4541.5                6.0     4.5  \n",
       "997         1052.0                1.0     4.6  \n",
       "998         1039.0                1.0     4.0  \n",
       "999          254.0                1.0     4.7  \n",
       "\n",
       "[875 rows x 9 columns]"
      ]
     },
     "execution_count": 816,
     "metadata": {},
     "output_type": "execute_result"
    }
   ],
   "source": [
    "x"
   ]
  },
  {
   "cell_type": "markdown",
   "id": "fa981b20-6ba8-42da-88a5-143c59a83e1c",
   "metadata": {},
   "source": [
    "### Model building"
   ]
  },
  {
   "cell_type": "markdown",
   "id": "feb1c598-133b-415f-91c1-dafbb656416e",
   "metadata": {},
   "source": [
    "### Linear Regression"
   ]
  },
  {
   "cell_type": "code",
   "execution_count": 819,
   "id": "92221b6b-c570-4b1c-a690-425def3de06d",
   "metadata": {},
   "outputs": [],
   "source": [
    "df['brand'].fillna(df['brand'].mode(),inplace = True)"
   ]
  },
  {
   "cell_type": "code",
   "execution_count": 820,
   "id": "1c10faf2-ccbf-4548-b62e-d9adef73e216",
   "metadata": {},
   "outputs": [
    {
     "name": "stdout",
     "output_type": "stream",
     "text": [
      "<class 'pandas.core.frame.DataFrame'>\n",
      "Index: 875 entries, 2 to 999\n",
      "Data columns (total 9 columns):\n",
      " #   Column             Non-Null Count  Dtype  \n",
      "---  ------             --------------  -----  \n",
      " 0   brand              875 non-null    float64\n",
      " 1   currency           875 non-null    float64\n",
      " 2   availability       875 non-null    float64\n",
      " 3   categories         875 non-null    float64\n",
      " 4   initial_price      875 non-null    float64\n",
      " 5   final_price        875 non-null    float64\n",
      " 6   reviews_count      875 non-null    float64\n",
      " 7   number_of_sellers  875 non-null    float64\n",
      " 8   rating             875 non-null    float64\n",
      "dtypes: float64(9)\n",
      "memory usage: 68.4 KB\n"
     ]
    }
   ],
   "source": [
    "x.info()"
   ]
  },
  {
   "cell_type": "code",
   "execution_count": 821,
   "id": "b2c08539-7aa9-40b9-89a2-f0d122b545d5",
   "metadata": {},
   "outputs": [],
   "source": [
    "from sklearn.model_selection import train_test_split\n",
    "from sklearn.linear_model import LinearRegression,Ridge,Lasso\n",
    "from sklearn.metrics import mean_squared_error, r2_score"
   ]
  },
  {
   "cell_type": "code",
   "execution_count": 822,
   "id": "bf7f1ba9-29ee-48f2-af5d-e55445b66ca9",
   "metadata": {},
   "outputs": [],
   "source": [
    "x_train,x_test,y_train,y_test = train_test_split(x,y,test_size=0.20, random_state = 9)"
   ]
  },
  {
   "cell_type": "code",
   "execution_count": 823,
   "id": "7cf4bf8f-e40c-4910-aab2-5b98cb172b55",
   "metadata": {},
   "outputs": [
    {
     "name": "stdout",
     "output_type": "stream",
     "text": [
      "(700, 9) (175, 9) (700,) (175,)\n"
     ]
    }
   ],
   "source": [
    "print(x_train.shape,x_test.shape,y_train.shape,y_test.shape)"
   ]
  },
  {
   "cell_type": "code",
   "execution_count": 824,
   "id": "ffddbdbc-aa49-41fa-8785-91a14e1382cd",
   "metadata": {},
   "outputs": [],
   "source": [
    "linear_model = LinearRegression() # model initilization"
   ]
  },
  {
   "cell_type": "code",
   "execution_count": 825,
   "id": "df63fed7-9978-4b53-91ba-8e04cb60fecd",
   "metadata": {},
   "outputs": [
    {
     "data": {
      "text/html": [
       "<style>#sk-container-id-3 {\n",
       "  /* Definition of color scheme common for light and dark mode */\n",
       "  --sklearn-color-text: black;\n",
       "  --sklearn-color-line: gray;\n",
       "  /* Definition of color scheme for unfitted estimators */\n",
       "  --sklearn-color-unfitted-level-0: #fff5e6;\n",
       "  --sklearn-color-unfitted-level-1: #f6e4d2;\n",
       "  --sklearn-color-unfitted-level-2: #ffe0b3;\n",
       "  --sklearn-color-unfitted-level-3: chocolate;\n",
       "  /* Definition of color scheme for fitted estimators */\n",
       "  --sklearn-color-fitted-level-0: #f0f8ff;\n",
       "  --sklearn-color-fitted-level-1: #d4ebff;\n",
       "  --sklearn-color-fitted-level-2: #b3dbfd;\n",
       "  --sklearn-color-fitted-level-3: cornflowerblue;\n",
       "\n",
       "  /* Specific color for light theme */\n",
       "  --sklearn-color-text-on-default-background: var(--sg-text-color, var(--theme-code-foreground, var(--jp-content-font-color1, black)));\n",
       "  --sklearn-color-background: var(--sg-background-color, var(--theme-background, var(--jp-layout-color0, white)));\n",
       "  --sklearn-color-border-box: var(--sg-text-color, var(--theme-code-foreground, var(--jp-content-font-color1, black)));\n",
       "  --sklearn-color-icon: #696969;\n",
       "\n",
       "  @media (prefers-color-scheme: dark) {\n",
       "    /* Redefinition of color scheme for dark theme */\n",
       "    --sklearn-color-text-on-default-background: var(--sg-text-color, var(--theme-code-foreground, var(--jp-content-font-color1, white)));\n",
       "    --sklearn-color-background: var(--sg-background-color, var(--theme-background, var(--jp-layout-color0, #111)));\n",
       "    --sklearn-color-border-box: var(--sg-text-color, var(--theme-code-foreground, var(--jp-content-font-color1, white)));\n",
       "    --sklearn-color-icon: #878787;\n",
       "  }\n",
       "}\n",
       "\n",
       "#sk-container-id-3 {\n",
       "  color: var(--sklearn-color-text);\n",
       "}\n",
       "\n",
       "#sk-container-id-3 pre {\n",
       "  padding: 0;\n",
       "}\n",
       "\n",
       "#sk-container-id-3 input.sk-hidden--visually {\n",
       "  border: 0;\n",
       "  clip: rect(1px 1px 1px 1px);\n",
       "  clip: rect(1px, 1px, 1px, 1px);\n",
       "  height: 1px;\n",
       "  margin: -1px;\n",
       "  overflow: hidden;\n",
       "  padding: 0;\n",
       "  position: absolute;\n",
       "  width: 1px;\n",
       "}\n",
       "\n",
       "#sk-container-id-3 div.sk-dashed-wrapped {\n",
       "  border: 1px dashed var(--sklearn-color-line);\n",
       "  margin: 0 0.4em 0.5em 0.4em;\n",
       "  box-sizing: border-box;\n",
       "  padding-bottom: 0.4em;\n",
       "  background-color: var(--sklearn-color-background);\n",
       "}\n",
       "\n",
       "#sk-container-id-3 div.sk-container {\n",
       "  /* jupyter's `normalize.less` sets `[hidden] { display: none; }`\n",
       "     but bootstrap.min.css set `[hidden] { display: none !important; }`\n",
       "     so we also need the `!important` here to be able to override the\n",
       "     default hidden behavior on the sphinx rendered scikit-learn.org.\n",
       "     See: https://github.com/scikit-learn/scikit-learn/issues/21755 */\n",
       "  display: inline-block !important;\n",
       "  position: relative;\n",
       "}\n",
       "\n",
       "#sk-container-id-3 div.sk-text-repr-fallback {\n",
       "  display: none;\n",
       "}\n",
       "\n",
       "div.sk-parallel-item,\n",
       "div.sk-serial,\n",
       "div.sk-item {\n",
       "  /* draw centered vertical line to link estimators */\n",
       "  background-image: linear-gradient(var(--sklearn-color-text-on-default-background), var(--sklearn-color-text-on-default-background));\n",
       "  background-size: 2px 100%;\n",
       "  background-repeat: no-repeat;\n",
       "  background-position: center center;\n",
       "}\n",
       "\n",
       "/* Parallel-specific style estimator block */\n",
       "\n",
       "#sk-container-id-3 div.sk-parallel-item::after {\n",
       "  content: \"\";\n",
       "  width: 100%;\n",
       "  border-bottom: 2px solid var(--sklearn-color-text-on-default-background);\n",
       "  flex-grow: 1;\n",
       "}\n",
       "\n",
       "#sk-container-id-3 div.sk-parallel {\n",
       "  display: flex;\n",
       "  align-items: stretch;\n",
       "  justify-content: center;\n",
       "  background-color: var(--sklearn-color-background);\n",
       "  position: relative;\n",
       "}\n",
       "\n",
       "#sk-container-id-3 div.sk-parallel-item {\n",
       "  display: flex;\n",
       "  flex-direction: column;\n",
       "}\n",
       "\n",
       "#sk-container-id-3 div.sk-parallel-item:first-child::after {\n",
       "  align-self: flex-end;\n",
       "  width: 50%;\n",
       "}\n",
       "\n",
       "#sk-container-id-3 div.sk-parallel-item:last-child::after {\n",
       "  align-self: flex-start;\n",
       "  width: 50%;\n",
       "}\n",
       "\n",
       "#sk-container-id-3 div.sk-parallel-item:only-child::after {\n",
       "  width: 0;\n",
       "}\n",
       "\n",
       "/* Serial-specific style estimator block */\n",
       "\n",
       "#sk-container-id-3 div.sk-serial {\n",
       "  display: flex;\n",
       "  flex-direction: column;\n",
       "  align-items: center;\n",
       "  background-color: var(--sklearn-color-background);\n",
       "  padding-right: 1em;\n",
       "  padding-left: 1em;\n",
       "}\n",
       "\n",
       "\n",
       "/* Toggleable style: style used for estimator/Pipeline/ColumnTransformer box that is\n",
       "clickable and can be expanded/collapsed.\n",
       "- Pipeline and ColumnTransformer use this feature and define the default style\n",
       "- Estimators will overwrite some part of the style using the `sk-estimator` class\n",
       "*/\n",
       "\n",
       "/* Pipeline and ColumnTransformer style (default) */\n",
       "\n",
       "#sk-container-id-3 div.sk-toggleable {\n",
       "  /* Default theme specific background. It is overwritten whether we have a\n",
       "  specific estimator or a Pipeline/ColumnTransformer */\n",
       "  background-color: var(--sklearn-color-background);\n",
       "}\n",
       "\n",
       "/* Toggleable label */\n",
       "#sk-container-id-3 label.sk-toggleable__label {\n",
       "  cursor: pointer;\n",
       "  display: block;\n",
       "  width: 100%;\n",
       "  margin-bottom: 0;\n",
       "  padding: 0.5em;\n",
       "  box-sizing: border-box;\n",
       "  text-align: center;\n",
       "}\n",
       "\n",
       "#sk-container-id-3 label.sk-toggleable__label-arrow:before {\n",
       "  /* Arrow on the left of the label */\n",
       "  content: \"▸\";\n",
       "  float: left;\n",
       "  margin-right: 0.25em;\n",
       "  color: var(--sklearn-color-icon);\n",
       "}\n",
       "\n",
       "#sk-container-id-3 label.sk-toggleable__label-arrow:hover:before {\n",
       "  color: var(--sklearn-color-text);\n",
       "}\n",
       "\n",
       "/* Toggleable content - dropdown */\n",
       "\n",
       "#sk-container-id-3 div.sk-toggleable__content {\n",
       "  max-height: 0;\n",
       "  max-width: 0;\n",
       "  overflow: hidden;\n",
       "  text-align: left;\n",
       "  /* unfitted */\n",
       "  background-color: var(--sklearn-color-unfitted-level-0);\n",
       "}\n",
       "\n",
       "#sk-container-id-3 div.sk-toggleable__content.fitted {\n",
       "  /* fitted */\n",
       "  background-color: var(--sklearn-color-fitted-level-0);\n",
       "}\n",
       "\n",
       "#sk-container-id-3 div.sk-toggleable__content pre {\n",
       "  margin: 0.2em;\n",
       "  border-radius: 0.25em;\n",
       "  color: var(--sklearn-color-text);\n",
       "  /* unfitted */\n",
       "  background-color: var(--sklearn-color-unfitted-level-0);\n",
       "}\n",
       "\n",
       "#sk-container-id-3 div.sk-toggleable__content.fitted pre {\n",
       "  /* unfitted */\n",
       "  background-color: var(--sklearn-color-fitted-level-0);\n",
       "}\n",
       "\n",
       "#sk-container-id-3 input.sk-toggleable__control:checked~div.sk-toggleable__content {\n",
       "  /* Expand drop-down */\n",
       "  max-height: 200px;\n",
       "  max-width: 100%;\n",
       "  overflow: auto;\n",
       "}\n",
       "\n",
       "#sk-container-id-3 input.sk-toggleable__control:checked~label.sk-toggleable__label-arrow:before {\n",
       "  content: \"▾\";\n",
       "}\n",
       "\n",
       "/* Pipeline/ColumnTransformer-specific style */\n",
       "\n",
       "#sk-container-id-3 div.sk-label input.sk-toggleable__control:checked~label.sk-toggleable__label {\n",
       "  color: var(--sklearn-color-text);\n",
       "  background-color: var(--sklearn-color-unfitted-level-2);\n",
       "}\n",
       "\n",
       "#sk-container-id-3 div.sk-label.fitted input.sk-toggleable__control:checked~label.sk-toggleable__label {\n",
       "  background-color: var(--sklearn-color-fitted-level-2);\n",
       "}\n",
       "\n",
       "/* Estimator-specific style */\n",
       "\n",
       "/* Colorize estimator box */\n",
       "#sk-container-id-3 div.sk-estimator input.sk-toggleable__control:checked~label.sk-toggleable__label {\n",
       "  /* unfitted */\n",
       "  background-color: var(--sklearn-color-unfitted-level-2);\n",
       "}\n",
       "\n",
       "#sk-container-id-3 div.sk-estimator.fitted input.sk-toggleable__control:checked~label.sk-toggleable__label {\n",
       "  /* fitted */\n",
       "  background-color: var(--sklearn-color-fitted-level-2);\n",
       "}\n",
       "\n",
       "#sk-container-id-3 div.sk-label label.sk-toggleable__label,\n",
       "#sk-container-id-3 div.sk-label label {\n",
       "  /* The background is the default theme color */\n",
       "  color: var(--sklearn-color-text-on-default-background);\n",
       "}\n",
       "\n",
       "/* On hover, darken the color of the background */\n",
       "#sk-container-id-3 div.sk-label:hover label.sk-toggleable__label {\n",
       "  color: var(--sklearn-color-text);\n",
       "  background-color: var(--sklearn-color-unfitted-level-2);\n",
       "}\n",
       "\n",
       "/* Label box, darken color on hover, fitted */\n",
       "#sk-container-id-3 div.sk-label.fitted:hover label.sk-toggleable__label.fitted {\n",
       "  color: var(--sklearn-color-text);\n",
       "  background-color: var(--sklearn-color-fitted-level-2);\n",
       "}\n",
       "\n",
       "/* Estimator label */\n",
       "\n",
       "#sk-container-id-3 div.sk-label label {\n",
       "  font-family: monospace;\n",
       "  font-weight: bold;\n",
       "  display: inline-block;\n",
       "  line-height: 1.2em;\n",
       "}\n",
       "\n",
       "#sk-container-id-3 div.sk-label-container {\n",
       "  text-align: center;\n",
       "}\n",
       "\n",
       "/* Estimator-specific */\n",
       "#sk-container-id-3 div.sk-estimator {\n",
       "  font-family: monospace;\n",
       "  border: 1px dotted var(--sklearn-color-border-box);\n",
       "  border-radius: 0.25em;\n",
       "  box-sizing: border-box;\n",
       "  margin-bottom: 0.5em;\n",
       "  /* unfitted */\n",
       "  background-color: var(--sklearn-color-unfitted-level-0);\n",
       "}\n",
       "\n",
       "#sk-container-id-3 div.sk-estimator.fitted {\n",
       "  /* fitted */\n",
       "  background-color: var(--sklearn-color-fitted-level-0);\n",
       "}\n",
       "\n",
       "/* on hover */\n",
       "#sk-container-id-3 div.sk-estimator:hover {\n",
       "  /* unfitted */\n",
       "  background-color: var(--sklearn-color-unfitted-level-2);\n",
       "}\n",
       "\n",
       "#sk-container-id-3 div.sk-estimator.fitted:hover {\n",
       "  /* fitted */\n",
       "  background-color: var(--sklearn-color-fitted-level-2);\n",
       "}\n",
       "\n",
       "/* Specification for estimator info (e.g. \"i\" and \"?\") */\n",
       "\n",
       "/* Common style for \"i\" and \"?\" */\n",
       "\n",
       ".sk-estimator-doc-link,\n",
       "a:link.sk-estimator-doc-link,\n",
       "a:visited.sk-estimator-doc-link {\n",
       "  float: right;\n",
       "  font-size: smaller;\n",
       "  line-height: 1em;\n",
       "  font-family: monospace;\n",
       "  background-color: var(--sklearn-color-background);\n",
       "  border-radius: 1em;\n",
       "  height: 1em;\n",
       "  width: 1em;\n",
       "  text-decoration: none !important;\n",
       "  margin-left: 1ex;\n",
       "  /* unfitted */\n",
       "  border: var(--sklearn-color-unfitted-level-1) 1pt solid;\n",
       "  color: var(--sklearn-color-unfitted-level-1);\n",
       "}\n",
       "\n",
       ".sk-estimator-doc-link.fitted,\n",
       "a:link.sk-estimator-doc-link.fitted,\n",
       "a:visited.sk-estimator-doc-link.fitted {\n",
       "  /* fitted */\n",
       "  border: var(--sklearn-color-fitted-level-1) 1pt solid;\n",
       "  color: var(--sklearn-color-fitted-level-1);\n",
       "}\n",
       "\n",
       "/* On hover */\n",
       "div.sk-estimator:hover .sk-estimator-doc-link:hover,\n",
       ".sk-estimator-doc-link:hover,\n",
       "div.sk-label-container:hover .sk-estimator-doc-link:hover,\n",
       ".sk-estimator-doc-link:hover {\n",
       "  /* unfitted */\n",
       "  background-color: var(--sklearn-color-unfitted-level-3);\n",
       "  color: var(--sklearn-color-background);\n",
       "  text-decoration: none;\n",
       "}\n",
       "\n",
       "div.sk-estimator.fitted:hover .sk-estimator-doc-link.fitted:hover,\n",
       ".sk-estimator-doc-link.fitted:hover,\n",
       "div.sk-label-container:hover .sk-estimator-doc-link.fitted:hover,\n",
       ".sk-estimator-doc-link.fitted:hover {\n",
       "  /* fitted */\n",
       "  background-color: var(--sklearn-color-fitted-level-3);\n",
       "  color: var(--sklearn-color-background);\n",
       "  text-decoration: none;\n",
       "}\n",
       "\n",
       "/* Span, style for the box shown on hovering the info icon */\n",
       ".sk-estimator-doc-link span {\n",
       "  display: none;\n",
       "  z-index: 9999;\n",
       "  position: relative;\n",
       "  font-weight: normal;\n",
       "  right: .2ex;\n",
       "  padding: .5ex;\n",
       "  margin: .5ex;\n",
       "  width: min-content;\n",
       "  min-width: 20ex;\n",
       "  max-width: 50ex;\n",
       "  color: var(--sklearn-color-text);\n",
       "  box-shadow: 2pt 2pt 4pt #999;\n",
       "  /* unfitted */\n",
       "  background: var(--sklearn-color-unfitted-level-0);\n",
       "  border: .5pt solid var(--sklearn-color-unfitted-level-3);\n",
       "}\n",
       "\n",
       ".sk-estimator-doc-link.fitted span {\n",
       "  /* fitted */\n",
       "  background: var(--sklearn-color-fitted-level-0);\n",
       "  border: var(--sklearn-color-fitted-level-3);\n",
       "}\n",
       "\n",
       ".sk-estimator-doc-link:hover span {\n",
       "  display: block;\n",
       "}\n",
       "\n",
       "/* \"?\"-specific style due to the `<a>` HTML tag */\n",
       "\n",
       "#sk-container-id-3 a.estimator_doc_link {\n",
       "  float: right;\n",
       "  font-size: 1rem;\n",
       "  line-height: 1em;\n",
       "  font-family: monospace;\n",
       "  background-color: var(--sklearn-color-background);\n",
       "  border-radius: 1rem;\n",
       "  height: 1rem;\n",
       "  width: 1rem;\n",
       "  text-decoration: none;\n",
       "  /* unfitted */\n",
       "  color: var(--sklearn-color-unfitted-level-1);\n",
       "  border: var(--sklearn-color-unfitted-level-1) 1pt solid;\n",
       "}\n",
       "\n",
       "#sk-container-id-3 a.estimator_doc_link.fitted {\n",
       "  /* fitted */\n",
       "  border: var(--sklearn-color-fitted-level-1) 1pt solid;\n",
       "  color: var(--sklearn-color-fitted-level-1);\n",
       "}\n",
       "\n",
       "/* On hover */\n",
       "#sk-container-id-3 a.estimator_doc_link:hover {\n",
       "  /* unfitted */\n",
       "  background-color: var(--sklearn-color-unfitted-level-3);\n",
       "  color: var(--sklearn-color-background);\n",
       "  text-decoration: none;\n",
       "}\n",
       "\n",
       "#sk-container-id-3 a.estimator_doc_link.fitted:hover {\n",
       "  /* fitted */\n",
       "  background-color: var(--sklearn-color-fitted-level-3);\n",
       "}\n",
       "</style><div id=\"sk-container-id-3\" class=\"sk-top-container\"><div class=\"sk-text-repr-fallback\"><pre>LinearRegression()</pre><b>In a Jupyter environment, please rerun this cell to show the HTML representation or trust the notebook. <br />On GitHub, the HTML representation is unable to render, please try loading this page with nbviewer.org.</b></div><div class=\"sk-container\" hidden><div class=\"sk-item\"><div class=\"sk-estimator fitted sk-toggleable\"><input class=\"sk-toggleable__control sk-hidden--visually\" id=\"sk-estimator-id-3\" type=\"checkbox\" checked><label for=\"sk-estimator-id-3\" class=\"sk-toggleable__label fitted sk-toggleable__label-arrow fitted\">&nbsp;&nbsp;LinearRegression<a class=\"sk-estimator-doc-link fitted\" rel=\"noreferrer\" target=\"_blank\" href=\"https://scikit-learn.org/1.4/modules/generated/sklearn.linear_model.LinearRegression.html\">?<span>Documentation for LinearRegression</span></a><span class=\"sk-estimator-doc-link fitted\">i<span>Fitted</span></span></label><div class=\"sk-toggleable__content fitted\"><pre>LinearRegression()</pre></div> </div></div></div></div>"
      ],
      "text/plain": [
       "LinearRegression()"
      ]
     },
     "execution_count": 825,
     "metadata": {},
     "output_type": "execute_result"
    }
   ],
   "source": [
    "linear_model.fit(x_train,y_train)"
   ]
  },
  {
   "cell_type": "code",
   "execution_count": 826,
   "id": "ad25d580-c2e0-4bf8-ace7-2a0e9879c67d",
   "metadata": {},
   "outputs": [],
   "source": [
    "test_predictions = linear_model.predict(x_test)"
   ]
  },
  {
   "cell_type": "code",
   "execution_count": 827,
   "id": "4b0833bc-5ffc-4b2e-8e9b-ea874aa44030",
   "metadata": {},
   "outputs": [
    {
     "data": {
      "text/plain": [
       "array([41., 21., 12., 10., 61., 30., 10.,  1., 28., 15., 21.,  6., -0.,\n",
       "       35., 21., 32., 23., 31.,  4., 14., 27., 39., 37., 27., 18., 18.,\n",
       "       24., 19., 13.,  1., 28., 36.,  4.,  4., -1., 29., 20., 49., 14.,\n",
       "       10., 25., 26., 15., 39., 24., 21., 19., 50.,  5.,  7., 21., 42.,\n",
       "       20., 21., 15., 24., 65., 50., 19., -0., 13.,  6., 21.,  8., -1.,\n",
       "        9., 21., 17., 31.,  8., 37., 27.,  9., 36., 56.,  4., 50., 44.,\n",
       "        5., 44., 13.,  6., 11., 30.,  7., 39., 25.,  8.,  6., 32., 29.,\n",
       "       63., 10., 15., 11., 32., 22., 29., 14., 10.,  4., 19.,  7., 22.,\n",
       "        6.,  5., 26.,  8., 26.,  6.,  7., 25., 42.,  5., 12., 12.,  8.,\n",
       "        9., 32., 13., 26.,  0., 38., 15., 23., 16., 33., 31., 18.,  9.,\n",
       "       38., 31., 15., 18.,  9., 43.,  5.,  8., 21., 13.,  8., 62., 34.,\n",
       "        1., 15., 10., 14., 19.,  2.,  8., 20., 10.,  8., 36., 12., 20.,\n",
       "       32., 34., 23., 13., 11., 24., 38., 29., 20., 31., 19., 25., 49.,\n",
       "       12., 16., 13., 20., 12., 17.])"
      ]
     },
     "execution_count": 827,
     "metadata": {},
     "output_type": "execute_result"
    }
   ],
   "source": [
    "np.round(test_predictions)"
   ]
  },
  {
   "cell_type": "code",
   "execution_count": 828,
   "id": "e7135c7f-204f-47ca-8e46-dadc5c696978",
   "metadata": {},
   "outputs": [
    {
     "data": {
      "text/plain": [
       "560    43.0\n",
       "957    20.0\n",
       "371    13.0\n",
       "46     10.0\n",
       "478    59.0\n",
       "       ... \n",
       "43     13.0\n",
       "98     13.0\n",
       "626    20.0\n",
       "490    11.0\n",
       "949    16.0\n",
       "Name: discount, Length: 175, dtype: float64"
      ]
     },
     "execution_count": 828,
     "metadata": {},
     "output_type": "execute_result"
    }
   ],
   "source": [
    "y_test"
   ]
  },
  {
   "cell_type": "code",
   "execution_count": 829,
   "id": "0dbcbf70-e8ff-4578-a59a-064f8c4712ad",
   "metadata": {},
   "outputs": [],
   "source": [
    "train_predictions = linear_model.predict(x_train)"
   ]
  },
  {
   "cell_type": "code",
   "execution_count": 830,
   "id": "a552e7f4-3614-4687-aedc-d4c925f8c3e1",
   "metadata": {},
   "outputs": [
    {
     "name": "stdout",
     "output_type": "stream",
     "text": [
      "Test Mean Squared Error:  11.735009844899489\n"
     ]
    }
   ],
   "source": [
    "print(\"Test Mean Squared Error: \",mean_squared_error(y_test,test_predictions))"
   ]
  },
  {
   "cell_type": "code",
   "execution_count": 831,
   "id": "7ff530fc-1bfc-48c4-a968-8b6033d59d29",
   "metadata": {},
   "outputs": [
    {
     "name": "stdout",
     "output_type": "stream",
     "text": [
      "Train Mean Squared Error:  13.484165079525654\n"
     ]
    }
   ],
   "source": [
    "print(\"Train Mean Squared Error: \",mean_squared_error(y_train,train_predictions))"
   ]
  },
  {
   "cell_type": "code",
   "execution_count": 832,
   "id": "0e66aea0-961b-4f7d-b731-8cf24d81a87b",
   "metadata": {},
   "outputs": [
    {
     "name": "stdout",
     "output_type": "stream",
     "text": [
      "Test R2 Score:  0.9415291626298383\n"
     ]
    }
   ],
   "source": [
    "print(\"Test R2 Score: \",r2_score(y_test,test_predictions))"
   ]
  },
  {
   "cell_type": "code",
   "execution_count": 833,
   "id": "bef50c93-a7c0-42cb-8027-a3442fb6c52e",
   "metadata": {},
   "outputs": [
    {
     "name": "stdout",
     "output_type": "stream",
     "text": [
      "Train R2 Score:  0.9387216488527561\n"
     ]
    }
   ],
   "source": [
    "print(\"Train R2 Score: \",r2_score(y_train,train_predictions))"
   ]
  },
  {
   "cell_type": "markdown",
   "id": "9cdb9dab-72d3-471b-a835-d820ba8c12f7",
   "metadata": {},
   "source": [
    "### RIDGE"
   ]
  },
  {
   "cell_type": "code",
   "execution_count": 835,
   "id": "61f6c26b-ed2f-4010-8629-948ac700aa5a",
   "metadata": {},
   "outputs": [
    {
     "data": {
      "text/html": [
       "<style>#sk-container-id-4 {\n",
       "  /* Definition of color scheme common for light and dark mode */\n",
       "  --sklearn-color-text: black;\n",
       "  --sklearn-color-line: gray;\n",
       "  /* Definition of color scheme for unfitted estimators */\n",
       "  --sklearn-color-unfitted-level-0: #fff5e6;\n",
       "  --sklearn-color-unfitted-level-1: #f6e4d2;\n",
       "  --sklearn-color-unfitted-level-2: #ffe0b3;\n",
       "  --sklearn-color-unfitted-level-3: chocolate;\n",
       "  /* Definition of color scheme for fitted estimators */\n",
       "  --sklearn-color-fitted-level-0: #f0f8ff;\n",
       "  --sklearn-color-fitted-level-1: #d4ebff;\n",
       "  --sklearn-color-fitted-level-2: #b3dbfd;\n",
       "  --sklearn-color-fitted-level-3: cornflowerblue;\n",
       "\n",
       "  /* Specific color for light theme */\n",
       "  --sklearn-color-text-on-default-background: var(--sg-text-color, var(--theme-code-foreground, var(--jp-content-font-color1, black)));\n",
       "  --sklearn-color-background: var(--sg-background-color, var(--theme-background, var(--jp-layout-color0, white)));\n",
       "  --sklearn-color-border-box: var(--sg-text-color, var(--theme-code-foreground, var(--jp-content-font-color1, black)));\n",
       "  --sklearn-color-icon: #696969;\n",
       "\n",
       "  @media (prefers-color-scheme: dark) {\n",
       "    /* Redefinition of color scheme for dark theme */\n",
       "    --sklearn-color-text-on-default-background: var(--sg-text-color, var(--theme-code-foreground, var(--jp-content-font-color1, white)));\n",
       "    --sklearn-color-background: var(--sg-background-color, var(--theme-background, var(--jp-layout-color0, #111)));\n",
       "    --sklearn-color-border-box: var(--sg-text-color, var(--theme-code-foreground, var(--jp-content-font-color1, white)));\n",
       "    --sklearn-color-icon: #878787;\n",
       "  }\n",
       "}\n",
       "\n",
       "#sk-container-id-4 {\n",
       "  color: var(--sklearn-color-text);\n",
       "}\n",
       "\n",
       "#sk-container-id-4 pre {\n",
       "  padding: 0;\n",
       "}\n",
       "\n",
       "#sk-container-id-4 input.sk-hidden--visually {\n",
       "  border: 0;\n",
       "  clip: rect(1px 1px 1px 1px);\n",
       "  clip: rect(1px, 1px, 1px, 1px);\n",
       "  height: 1px;\n",
       "  margin: -1px;\n",
       "  overflow: hidden;\n",
       "  padding: 0;\n",
       "  position: absolute;\n",
       "  width: 1px;\n",
       "}\n",
       "\n",
       "#sk-container-id-4 div.sk-dashed-wrapped {\n",
       "  border: 1px dashed var(--sklearn-color-line);\n",
       "  margin: 0 0.4em 0.5em 0.4em;\n",
       "  box-sizing: border-box;\n",
       "  padding-bottom: 0.4em;\n",
       "  background-color: var(--sklearn-color-background);\n",
       "}\n",
       "\n",
       "#sk-container-id-4 div.sk-container {\n",
       "  /* jupyter's `normalize.less` sets `[hidden] { display: none; }`\n",
       "     but bootstrap.min.css set `[hidden] { display: none !important; }`\n",
       "     so we also need the `!important` here to be able to override the\n",
       "     default hidden behavior on the sphinx rendered scikit-learn.org.\n",
       "     See: https://github.com/scikit-learn/scikit-learn/issues/21755 */\n",
       "  display: inline-block !important;\n",
       "  position: relative;\n",
       "}\n",
       "\n",
       "#sk-container-id-4 div.sk-text-repr-fallback {\n",
       "  display: none;\n",
       "}\n",
       "\n",
       "div.sk-parallel-item,\n",
       "div.sk-serial,\n",
       "div.sk-item {\n",
       "  /* draw centered vertical line to link estimators */\n",
       "  background-image: linear-gradient(var(--sklearn-color-text-on-default-background), var(--sklearn-color-text-on-default-background));\n",
       "  background-size: 2px 100%;\n",
       "  background-repeat: no-repeat;\n",
       "  background-position: center center;\n",
       "}\n",
       "\n",
       "/* Parallel-specific style estimator block */\n",
       "\n",
       "#sk-container-id-4 div.sk-parallel-item::after {\n",
       "  content: \"\";\n",
       "  width: 100%;\n",
       "  border-bottom: 2px solid var(--sklearn-color-text-on-default-background);\n",
       "  flex-grow: 1;\n",
       "}\n",
       "\n",
       "#sk-container-id-4 div.sk-parallel {\n",
       "  display: flex;\n",
       "  align-items: stretch;\n",
       "  justify-content: center;\n",
       "  background-color: var(--sklearn-color-background);\n",
       "  position: relative;\n",
       "}\n",
       "\n",
       "#sk-container-id-4 div.sk-parallel-item {\n",
       "  display: flex;\n",
       "  flex-direction: column;\n",
       "}\n",
       "\n",
       "#sk-container-id-4 div.sk-parallel-item:first-child::after {\n",
       "  align-self: flex-end;\n",
       "  width: 50%;\n",
       "}\n",
       "\n",
       "#sk-container-id-4 div.sk-parallel-item:last-child::after {\n",
       "  align-self: flex-start;\n",
       "  width: 50%;\n",
       "}\n",
       "\n",
       "#sk-container-id-4 div.sk-parallel-item:only-child::after {\n",
       "  width: 0;\n",
       "}\n",
       "\n",
       "/* Serial-specific style estimator block */\n",
       "\n",
       "#sk-container-id-4 div.sk-serial {\n",
       "  display: flex;\n",
       "  flex-direction: column;\n",
       "  align-items: center;\n",
       "  background-color: var(--sklearn-color-background);\n",
       "  padding-right: 1em;\n",
       "  padding-left: 1em;\n",
       "}\n",
       "\n",
       "\n",
       "/* Toggleable style: style used for estimator/Pipeline/ColumnTransformer box that is\n",
       "clickable and can be expanded/collapsed.\n",
       "- Pipeline and ColumnTransformer use this feature and define the default style\n",
       "- Estimators will overwrite some part of the style using the `sk-estimator` class\n",
       "*/\n",
       "\n",
       "/* Pipeline and ColumnTransformer style (default) */\n",
       "\n",
       "#sk-container-id-4 div.sk-toggleable {\n",
       "  /* Default theme specific background. It is overwritten whether we have a\n",
       "  specific estimator or a Pipeline/ColumnTransformer */\n",
       "  background-color: var(--sklearn-color-background);\n",
       "}\n",
       "\n",
       "/* Toggleable label */\n",
       "#sk-container-id-4 label.sk-toggleable__label {\n",
       "  cursor: pointer;\n",
       "  display: block;\n",
       "  width: 100%;\n",
       "  margin-bottom: 0;\n",
       "  padding: 0.5em;\n",
       "  box-sizing: border-box;\n",
       "  text-align: center;\n",
       "}\n",
       "\n",
       "#sk-container-id-4 label.sk-toggleable__label-arrow:before {\n",
       "  /* Arrow on the left of the label */\n",
       "  content: \"▸\";\n",
       "  float: left;\n",
       "  margin-right: 0.25em;\n",
       "  color: var(--sklearn-color-icon);\n",
       "}\n",
       "\n",
       "#sk-container-id-4 label.sk-toggleable__label-arrow:hover:before {\n",
       "  color: var(--sklearn-color-text);\n",
       "}\n",
       "\n",
       "/* Toggleable content - dropdown */\n",
       "\n",
       "#sk-container-id-4 div.sk-toggleable__content {\n",
       "  max-height: 0;\n",
       "  max-width: 0;\n",
       "  overflow: hidden;\n",
       "  text-align: left;\n",
       "  /* unfitted */\n",
       "  background-color: var(--sklearn-color-unfitted-level-0);\n",
       "}\n",
       "\n",
       "#sk-container-id-4 div.sk-toggleable__content.fitted {\n",
       "  /* fitted */\n",
       "  background-color: var(--sklearn-color-fitted-level-0);\n",
       "}\n",
       "\n",
       "#sk-container-id-4 div.sk-toggleable__content pre {\n",
       "  margin: 0.2em;\n",
       "  border-radius: 0.25em;\n",
       "  color: var(--sklearn-color-text);\n",
       "  /* unfitted */\n",
       "  background-color: var(--sklearn-color-unfitted-level-0);\n",
       "}\n",
       "\n",
       "#sk-container-id-4 div.sk-toggleable__content.fitted pre {\n",
       "  /* unfitted */\n",
       "  background-color: var(--sklearn-color-fitted-level-0);\n",
       "}\n",
       "\n",
       "#sk-container-id-4 input.sk-toggleable__control:checked~div.sk-toggleable__content {\n",
       "  /* Expand drop-down */\n",
       "  max-height: 200px;\n",
       "  max-width: 100%;\n",
       "  overflow: auto;\n",
       "}\n",
       "\n",
       "#sk-container-id-4 input.sk-toggleable__control:checked~label.sk-toggleable__label-arrow:before {\n",
       "  content: \"▾\";\n",
       "}\n",
       "\n",
       "/* Pipeline/ColumnTransformer-specific style */\n",
       "\n",
       "#sk-container-id-4 div.sk-label input.sk-toggleable__control:checked~label.sk-toggleable__label {\n",
       "  color: var(--sklearn-color-text);\n",
       "  background-color: var(--sklearn-color-unfitted-level-2);\n",
       "}\n",
       "\n",
       "#sk-container-id-4 div.sk-label.fitted input.sk-toggleable__control:checked~label.sk-toggleable__label {\n",
       "  background-color: var(--sklearn-color-fitted-level-2);\n",
       "}\n",
       "\n",
       "/* Estimator-specific style */\n",
       "\n",
       "/* Colorize estimator box */\n",
       "#sk-container-id-4 div.sk-estimator input.sk-toggleable__control:checked~label.sk-toggleable__label {\n",
       "  /* unfitted */\n",
       "  background-color: var(--sklearn-color-unfitted-level-2);\n",
       "}\n",
       "\n",
       "#sk-container-id-4 div.sk-estimator.fitted input.sk-toggleable__control:checked~label.sk-toggleable__label {\n",
       "  /* fitted */\n",
       "  background-color: var(--sklearn-color-fitted-level-2);\n",
       "}\n",
       "\n",
       "#sk-container-id-4 div.sk-label label.sk-toggleable__label,\n",
       "#sk-container-id-4 div.sk-label label {\n",
       "  /* The background is the default theme color */\n",
       "  color: var(--sklearn-color-text-on-default-background);\n",
       "}\n",
       "\n",
       "/* On hover, darken the color of the background */\n",
       "#sk-container-id-4 div.sk-label:hover label.sk-toggleable__label {\n",
       "  color: var(--sklearn-color-text);\n",
       "  background-color: var(--sklearn-color-unfitted-level-2);\n",
       "}\n",
       "\n",
       "/* Label box, darken color on hover, fitted */\n",
       "#sk-container-id-4 div.sk-label.fitted:hover label.sk-toggleable__label.fitted {\n",
       "  color: var(--sklearn-color-text);\n",
       "  background-color: var(--sklearn-color-fitted-level-2);\n",
       "}\n",
       "\n",
       "/* Estimator label */\n",
       "\n",
       "#sk-container-id-4 div.sk-label label {\n",
       "  font-family: monospace;\n",
       "  font-weight: bold;\n",
       "  display: inline-block;\n",
       "  line-height: 1.2em;\n",
       "}\n",
       "\n",
       "#sk-container-id-4 div.sk-label-container {\n",
       "  text-align: center;\n",
       "}\n",
       "\n",
       "/* Estimator-specific */\n",
       "#sk-container-id-4 div.sk-estimator {\n",
       "  font-family: monospace;\n",
       "  border: 1px dotted var(--sklearn-color-border-box);\n",
       "  border-radius: 0.25em;\n",
       "  box-sizing: border-box;\n",
       "  margin-bottom: 0.5em;\n",
       "  /* unfitted */\n",
       "  background-color: var(--sklearn-color-unfitted-level-0);\n",
       "}\n",
       "\n",
       "#sk-container-id-4 div.sk-estimator.fitted {\n",
       "  /* fitted */\n",
       "  background-color: var(--sklearn-color-fitted-level-0);\n",
       "}\n",
       "\n",
       "/* on hover */\n",
       "#sk-container-id-4 div.sk-estimator:hover {\n",
       "  /* unfitted */\n",
       "  background-color: var(--sklearn-color-unfitted-level-2);\n",
       "}\n",
       "\n",
       "#sk-container-id-4 div.sk-estimator.fitted:hover {\n",
       "  /* fitted */\n",
       "  background-color: var(--sklearn-color-fitted-level-2);\n",
       "}\n",
       "\n",
       "/* Specification for estimator info (e.g. \"i\" and \"?\") */\n",
       "\n",
       "/* Common style for \"i\" and \"?\" */\n",
       "\n",
       ".sk-estimator-doc-link,\n",
       "a:link.sk-estimator-doc-link,\n",
       "a:visited.sk-estimator-doc-link {\n",
       "  float: right;\n",
       "  font-size: smaller;\n",
       "  line-height: 1em;\n",
       "  font-family: monospace;\n",
       "  background-color: var(--sklearn-color-background);\n",
       "  border-radius: 1em;\n",
       "  height: 1em;\n",
       "  width: 1em;\n",
       "  text-decoration: none !important;\n",
       "  margin-left: 1ex;\n",
       "  /* unfitted */\n",
       "  border: var(--sklearn-color-unfitted-level-1) 1pt solid;\n",
       "  color: var(--sklearn-color-unfitted-level-1);\n",
       "}\n",
       "\n",
       ".sk-estimator-doc-link.fitted,\n",
       "a:link.sk-estimator-doc-link.fitted,\n",
       "a:visited.sk-estimator-doc-link.fitted {\n",
       "  /* fitted */\n",
       "  border: var(--sklearn-color-fitted-level-1) 1pt solid;\n",
       "  color: var(--sklearn-color-fitted-level-1);\n",
       "}\n",
       "\n",
       "/* On hover */\n",
       "div.sk-estimator:hover .sk-estimator-doc-link:hover,\n",
       ".sk-estimator-doc-link:hover,\n",
       "div.sk-label-container:hover .sk-estimator-doc-link:hover,\n",
       ".sk-estimator-doc-link:hover {\n",
       "  /* unfitted */\n",
       "  background-color: var(--sklearn-color-unfitted-level-3);\n",
       "  color: var(--sklearn-color-background);\n",
       "  text-decoration: none;\n",
       "}\n",
       "\n",
       "div.sk-estimator.fitted:hover .sk-estimator-doc-link.fitted:hover,\n",
       ".sk-estimator-doc-link.fitted:hover,\n",
       "div.sk-label-container:hover .sk-estimator-doc-link.fitted:hover,\n",
       ".sk-estimator-doc-link.fitted:hover {\n",
       "  /* fitted */\n",
       "  background-color: var(--sklearn-color-fitted-level-3);\n",
       "  color: var(--sklearn-color-background);\n",
       "  text-decoration: none;\n",
       "}\n",
       "\n",
       "/* Span, style for the box shown on hovering the info icon */\n",
       ".sk-estimator-doc-link span {\n",
       "  display: none;\n",
       "  z-index: 9999;\n",
       "  position: relative;\n",
       "  font-weight: normal;\n",
       "  right: .2ex;\n",
       "  padding: .5ex;\n",
       "  margin: .5ex;\n",
       "  width: min-content;\n",
       "  min-width: 20ex;\n",
       "  max-width: 50ex;\n",
       "  color: var(--sklearn-color-text);\n",
       "  box-shadow: 2pt 2pt 4pt #999;\n",
       "  /* unfitted */\n",
       "  background: var(--sklearn-color-unfitted-level-0);\n",
       "  border: .5pt solid var(--sklearn-color-unfitted-level-3);\n",
       "}\n",
       "\n",
       ".sk-estimator-doc-link.fitted span {\n",
       "  /* fitted */\n",
       "  background: var(--sklearn-color-fitted-level-0);\n",
       "  border: var(--sklearn-color-fitted-level-3);\n",
       "}\n",
       "\n",
       ".sk-estimator-doc-link:hover span {\n",
       "  display: block;\n",
       "}\n",
       "\n",
       "/* \"?\"-specific style due to the `<a>` HTML tag */\n",
       "\n",
       "#sk-container-id-4 a.estimator_doc_link {\n",
       "  float: right;\n",
       "  font-size: 1rem;\n",
       "  line-height: 1em;\n",
       "  font-family: monospace;\n",
       "  background-color: var(--sklearn-color-background);\n",
       "  border-radius: 1rem;\n",
       "  height: 1rem;\n",
       "  width: 1rem;\n",
       "  text-decoration: none;\n",
       "  /* unfitted */\n",
       "  color: var(--sklearn-color-unfitted-level-1);\n",
       "  border: var(--sklearn-color-unfitted-level-1) 1pt solid;\n",
       "}\n",
       "\n",
       "#sk-container-id-4 a.estimator_doc_link.fitted {\n",
       "  /* fitted */\n",
       "  border: var(--sklearn-color-fitted-level-1) 1pt solid;\n",
       "  color: var(--sklearn-color-fitted-level-1);\n",
       "}\n",
       "\n",
       "/* On hover */\n",
       "#sk-container-id-4 a.estimator_doc_link:hover {\n",
       "  /* unfitted */\n",
       "  background-color: var(--sklearn-color-unfitted-level-3);\n",
       "  color: var(--sklearn-color-background);\n",
       "  text-decoration: none;\n",
       "}\n",
       "\n",
       "#sk-container-id-4 a.estimator_doc_link.fitted:hover {\n",
       "  /* fitted */\n",
       "  background-color: var(--sklearn-color-fitted-level-3);\n",
       "}\n",
       "</style><div id=\"sk-container-id-4\" class=\"sk-top-container\"><div class=\"sk-text-repr-fallback\"><pre>Ridge(alpha=0.01)</pre><b>In a Jupyter environment, please rerun this cell to show the HTML representation or trust the notebook. <br />On GitHub, the HTML representation is unable to render, please try loading this page with nbviewer.org.</b></div><div class=\"sk-container\" hidden><div class=\"sk-item\"><div class=\"sk-estimator fitted sk-toggleable\"><input class=\"sk-toggleable__control sk-hidden--visually\" id=\"sk-estimator-id-4\" type=\"checkbox\" checked><label for=\"sk-estimator-id-4\" class=\"sk-toggleable__label fitted sk-toggleable__label-arrow fitted\">&nbsp;&nbsp;Ridge<a class=\"sk-estimator-doc-link fitted\" rel=\"noreferrer\" target=\"_blank\" href=\"https://scikit-learn.org/1.4/modules/generated/sklearn.linear_model.Ridge.html\">?<span>Documentation for Ridge</span></a><span class=\"sk-estimator-doc-link fitted\">i<span>Fitted</span></span></label><div class=\"sk-toggleable__content fitted\"><pre>Ridge(alpha=0.01)</pre></div> </div></div></div></div>"
      ],
      "text/plain": [
       "Ridge(alpha=0.01)"
      ]
     },
     "execution_count": 835,
     "metadata": {},
     "output_type": "execute_result"
    }
   ],
   "source": [
    "ridge_model = Ridge(alpha = 0.01)\n",
    "ridge_model.fit(x_train,y_train)"
   ]
  },
  {
   "cell_type": "code",
   "execution_count": 836,
   "id": "fae6acf4-1f71-4a40-8085-51834df04ed4",
   "metadata": {},
   "outputs": [],
   "source": [
    "rigde_test=ridge_model.predict(x_test)\n",
    "rigde_train=ridge_model.predict(x_train)"
   ]
  },
  {
   "cell_type": "code",
   "execution_count": 837,
   "id": "17b11362-5fee-4a23-8e14-a7af49b7b253",
   "metadata": {},
   "outputs": [
    {
     "name": "stdout",
     "output_type": "stream",
     "text": [
      "Ridge Model MSE of Train:  13.48416508183484\n"
     ]
    }
   ],
   "source": [
    "print(\"Ridge Model MSE of Train: \",mean_squared_error(y_train,rigde_train))"
   ]
  },
  {
   "cell_type": "code",
   "execution_count": 838,
   "id": "55f606a3-4af9-4298-9d97-8c246a0a2f4f",
   "metadata": {},
   "outputs": [
    {
     "name": "stdout",
     "output_type": "stream",
     "text": [
      "Ridge Model MSE of Test:  11.7349731308004\n"
     ]
    }
   ],
   "source": [
    "print(\"Ridge Model MSE of Test: \",mean_squared_error(y_test,rigde_test))"
   ]
  },
  {
   "cell_type": "code",
   "execution_count": 839,
   "id": "6b4f6de2-8b07-46a4-a250-d438a6ce2873",
   "metadata": {},
   "outputs": [
    {
     "name": "stdout",
     "output_type": "stream",
     "text": [
      "Ridge Model Train R^2 value:  0.9387216488422622\n"
     ]
    }
   ],
   "source": [
    "print(\"Ridge Model Train R^2 value: \",r2_score(y_train,rigde_train))"
   ]
  },
  {
   "cell_type": "code",
   "execution_count": 840,
   "id": "39dfdb8e-0daf-4ebb-bff9-515afbba4758",
   "metadata": {},
   "outputs": [
    {
     "name": "stdout",
     "output_type": "stream",
     "text": [
      "Ridge Model Test R^2 value:  0.9415293455614375\n"
     ]
    }
   ],
   "source": [
    "print(\"Ridge Model Test R^2 value: \",r2_score(y_test,rigde_test))"
   ]
  },
  {
   "cell_type": "markdown",
   "id": "7b378920-cc33-4440-909e-450ba1492a53",
   "metadata": {},
   "source": [
    "### Lasso"
   ]
  },
  {
   "cell_type": "code",
   "execution_count": 842,
   "id": "bc2ebe88-916d-49c9-a2a6-7733e146e95a",
   "metadata": {},
   "outputs": [
    {
     "data": {
      "text/html": [
       "<style>#sk-container-id-5 {\n",
       "  /* Definition of color scheme common for light and dark mode */\n",
       "  --sklearn-color-text: black;\n",
       "  --sklearn-color-line: gray;\n",
       "  /* Definition of color scheme for unfitted estimators */\n",
       "  --sklearn-color-unfitted-level-0: #fff5e6;\n",
       "  --sklearn-color-unfitted-level-1: #f6e4d2;\n",
       "  --sklearn-color-unfitted-level-2: #ffe0b3;\n",
       "  --sklearn-color-unfitted-level-3: chocolate;\n",
       "  /* Definition of color scheme for fitted estimators */\n",
       "  --sklearn-color-fitted-level-0: #f0f8ff;\n",
       "  --sklearn-color-fitted-level-1: #d4ebff;\n",
       "  --sklearn-color-fitted-level-2: #b3dbfd;\n",
       "  --sklearn-color-fitted-level-3: cornflowerblue;\n",
       "\n",
       "  /* Specific color for light theme */\n",
       "  --sklearn-color-text-on-default-background: var(--sg-text-color, var(--theme-code-foreground, var(--jp-content-font-color1, black)));\n",
       "  --sklearn-color-background: var(--sg-background-color, var(--theme-background, var(--jp-layout-color0, white)));\n",
       "  --sklearn-color-border-box: var(--sg-text-color, var(--theme-code-foreground, var(--jp-content-font-color1, black)));\n",
       "  --sklearn-color-icon: #696969;\n",
       "\n",
       "  @media (prefers-color-scheme: dark) {\n",
       "    /* Redefinition of color scheme for dark theme */\n",
       "    --sklearn-color-text-on-default-background: var(--sg-text-color, var(--theme-code-foreground, var(--jp-content-font-color1, white)));\n",
       "    --sklearn-color-background: var(--sg-background-color, var(--theme-background, var(--jp-layout-color0, #111)));\n",
       "    --sklearn-color-border-box: var(--sg-text-color, var(--theme-code-foreground, var(--jp-content-font-color1, white)));\n",
       "    --sklearn-color-icon: #878787;\n",
       "  }\n",
       "}\n",
       "\n",
       "#sk-container-id-5 {\n",
       "  color: var(--sklearn-color-text);\n",
       "}\n",
       "\n",
       "#sk-container-id-5 pre {\n",
       "  padding: 0;\n",
       "}\n",
       "\n",
       "#sk-container-id-5 input.sk-hidden--visually {\n",
       "  border: 0;\n",
       "  clip: rect(1px 1px 1px 1px);\n",
       "  clip: rect(1px, 1px, 1px, 1px);\n",
       "  height: 1px;\n",
       "  margin: -1px;\n",
       "  overflow: hidden;\n",
       "  padding: 0;\n",
       "  position: absolute;\n",
       "  width: 1px;\n",
       "}\n",
       "\n",
       "#sk-container-id-5 div.sk-dashed-wrapped {\n",
       "  border: 1px dashed var(--sklearn-color-line);\n",
       "  margin: 0 0.4em 0.5em 0.4em;\n",
       "  box-sizing: border-box;\n",
       "  padding-bottom: 0.4em;\n",
       "  background-color: var(--sklearn-color-background);\n",
       "}\n",
       "\n",
       "#sk-container-id-5 div.sk-container {\n",
       "  /* jupyter's `normalize.less` sets `[hidden] { display: none; }`\n",
       "     but bootstrap.min.css set `[hidden] { display: none !important; }`\n",
       "     so we also need the `!important` here to be able to override the\n",
       "     default hidden behavior on the sphinx rendered scikit-learn.org.\n",
       "     See: https://github.com/scikit-learn/scikit-learn/issues/21755 */\n",
       "  display: inline-block !important;\n",
       "  position: relative;\n",
       "}\n",
       "\n",
       "#sk-container-id-5 div.sk-text-repr-fallback {\n",
       "  display: none;\n",
       "}\n",
       "\n",
       "div.sk-parallel-item,\n",
       "div.sk-serial,\n",
       "div.sk-item {\n",
       "  /* draw centered vertical line to link estimators */\n",
       "  background-image: linear-gradient(var(--sklearn-color-text-on-default-background), var(--sklearn-color-text-on-default-background));\n",
       "  background-size: 2px 100%;\n",
       "  background-repeat: no-repeat;\n",
       "  background-position: center center;\n",
       "}\n",
       "\n",
       "/* Parallel-specific style estimator block */\n",
       "\n",
       "#sk-container-id-5 div.sk-parallel-item::after {\n",
       "  content: \"\";\n",
       "  width: 100%;\n",
       "  border-bottom: 2px solid var(--sklearn-color-text-on-default-background);\n",
       "  flex-grow: 1;\n",
       "}\n",
       "\n",
       "#sk-container-id-5 div.sk-parallel {\n",
       "  display: flex;\n",
       "  align-items: stretch;\n",
       "  justify-content: center;\n",
       "  background-color: var(--sklearn-color-background);\n",
       "  position: relative;\n",
       "}\n",
       "\n",
       "#sk-container-id-5 div.sk-parallel-item {\n",
       "  display: flex;\n",
       "  flex-direction: column;\n",
       "}\n",
       "\n",
       "#sk-container-id-5 div.sk-parallel-item:first-child::after {\n",
       "  align-self: flex-end;\n",
       "  width: 50%;\n",
       "}\n",
       "\n",
       "#sk-container-id-5 div.sk-parallel-item:last-child::after {\n",
       "  align-self: flex-start;\n",
       "  width: 50%;\n",
       "}\n",
       "\n",
       "#sk-container-id-5 div.sk-parallel-item:only-child::after {\n",
       "  width: 0;\n",
       "}\n",
       "\n",
       "/* Serial-specific style estimator block */\n",
       "\n",
       "#sk-container-id-5 div.sk-serial {\n",
       "  display: flex;\n",
       "  flex-direction: column;\n",
       "  align-items: center;\n",
       "  background-color: var(--sklearn-color-background);\n",
       "  padding-right: 1em;\n",
       "  padding-left: 1em;\n",
       "}\n",
       "\n",
       "\n",
       "/* Toggleable style: style used for estimator/Pipeline/ColumnTransformer box that is\n",
       "clickable and can be expanded/collapsed.\n",
       "- Pipeline and ColumnTransformer use this feature and define the default style\n",
       "- Estimators will overwrite some part of the style using the `sk-estimator` class\n",
       "*/\n",
       "\n",
       "/* Pipeline and ColumnTransformer style (default) */\n",
       "\n",
       "#sk-container-id-5 div.sk-toggleable {\n",
       "  /* Default theme specific background. It is overwritten whether we have a\n",
       "  specific estimator or a Pipeline/ColumnTransformer */\n",
       "  background-color: var(--sklearn-color-background);\n",
       "}\n",
       "\n",
       "/* Toggleable label */\n",
       "#sk-container-id-5 label.sk-toggleable__label {\n",
       "  cursor: pointer;\n",
       "  display: block;\n",
       "  width: 100%;\n",
       "  margin-bottom: 0;\n",
       "  padding: 0.5em;\n",
       "  box-sizing: border-box;\n",
       "  text-align: center;\n",
       "}\n",
       "\n",
       "#sk-container-id-5 label.sk-toggleable__label-arrow:before {\n",
       "  /* Arrow on the left of the label */\n",
       "  content: \"▸\";\n",
       "  float: left;\n",
       "  margin-right: 0.25em;\n",
       "  color: var(--sklearn-color-icon);\n",
       "}\n",
       "\n",
       "#sk-container-id-5 label.sk-toggleable__label-arrow:hover:before {\n",
       "  color: var(--sklearn-color-text);\n",
       "}\n",
       "\n",
       "/* Toggleable content - dropdown */\n",
       "\n",
       "#sk-container-id-5 div.sk-toggleable__content {\n",
       "  max-height: 0;\n",
       "  max-width: 0;\n",
       "  overflow: hidden;\n",
       "  text-align: left;\n",
       "  /* unfitted */\n",
       "  background-color: var(--sklearn-color-unfitted-level-0);\n",
       "}\n",
       "\n",
       "#sk-container-id-5 div.sk-toggleable__content.fitted {\n",
       "  /* fitted */\n",
       "  background-color: var(--sklearn-color-fitted-level-0);\n",
       "}\n",
       "\n",
       "#sk-container-id-5 div.sk-toggleable__content pre {\n",
       "  margin: 0.2em;\n",
       "  border-radius: 0.25em;\n",
       "  color: var(--sklearn-color-text);\n",
       "  /* unfitted */\n",
       "  background-color: var(--sklearn-color-unfitted-level-0);\n",
       "}\n",
       "\n",
       "#sk-container-id-5 div.sk-toggleable__content.fitted pre {\n",
       "  /* unfitted */\n",
       "  background-color: var(--sklearn-color-fitted-level-0);\n",
       "}\n",
       "\n",
       "#sk-container-id-5 input.sk-toggleable__control:checked~div.sk-toggleable__content {\n",
       "  /* Expand drop-down */\n",
       "  max-height: 200px;\n",
       "  max-width: 100%;\n",
       "  overflow: auto;\n",
       "}\n",
       "\n",
       "#sk-container-id-5 input.sk-toggleable__control:checked~label.sk-toggleable__label-arrow:before {\n",
       "  content: \"▾\";\n",
       "}\n",
       "\n",
       "/* Pipeline/ColumnTransformer-specific style */\n",
       "\n",
       "#sk-container-id-5 div.sk-label input.sk-toggleable__control:checked~label.sk-toggleable__label {\n",
       "  color: var(--sklearn-color-text);\n",
       "  background-color: var(--sklearn-color-unfitted-level-2);\n",
       "}\n",
       "\n",
       "#sk-container-id-5 div.sk-label.fitted input.sk-toggleable__control:checked~label.sk-toggleable__label {\n",
       "  background-color: var(--sklearn-color-fitted-level-2);\n",
       "}\n",
       "\n",
       "/* Estimator-specific style */\n",
       "\n",
       "/* Colorize estimator box */\n",
       "#sk-container-id-5 div.sk-estimator input.sk-toggleable__control:checked~label.sk-toggleable__label {\n",
       "  /* unfitted */\n",
       "  background-color: var(--sklearn-color-unfitted-level-2);\n",
       "}\n",
       "\n",
       "#sk-container-id-5 div.sk-estimator.fitted input.sk-toggleable__control:checked~label.sk-toggleable__label {\n",
       "  /* fitted */\n",
       "  background-color: var(--sklearn-color-fitted-level-2);\n",
       "}\n",
       "\n",
       "#sk-container-id-5 div.sk-label label.sk-toggleable__label,\n",
       "#sk-container-id-5 div.sk-label label {\n",
       "  /* The background is the default theme color */\n",
       "  color: var(--sklearn-color-text-on-default-background);\n",
       "}\n",
       "\n",
       "/* On hover, darken the color of the background */\n",
       "#sk-container-id-5 div.sk-label:hover label.sk-toggleable__label {\n",
       "  color: var(--sklearn-color-text);\n",
       "  background-color: var(--sklearn-color-unfitted-level-2);\n",
       "}\n",
       "\n",
       "/* Label box, darken color on hover, fitted */\n",
       "#sk-container-id-5 div.sk-label.fitted:hover label.sk-toggleable__label.fitted {\n",
       "  color: var(--sklearn-color-text);\n",
       "  background-color: var(--sklearn-color-fitted-level-2);\n",
       "}\n",
       "\n",
       "/* Estimator label */\n",
       "\n",
       "#sk-container-id-5 div.sk-label label {\n",
       "  font-family: monospace;\n",
       "  font-weight: bold;\n",
       "  display: inline-block;\n",
       "  line-height: 1.2em;\n",
       "}\n",
       "\n",
       "#sk-container-id-5 div.sk-label-container {\n",
       "  text-align: center;\n",
       "}\n",
       "\n",
       "/* Estimator-specific */\n",
       "#sk-container-id-5 div.sk-estimator {\n",
       "  font-family: monospace;\n",
       "  border: 1px dotted var(--sklearn-color-border-box);\n",
       "  border-radius: 0.25em;\n",
       "  box-sizing: border-box;\n",
       "  margin-bottom: 0.5em;\n",
       "  /* unfitted */\n",
       "  background-color: var(--sklearn-color-unfitted-level-0);\n",
       "}\n",
       "\n",
       "#sk-container-id-5 div.sk-estimator.fitted {\n",
       "  /* fitted */\n",
       "  background-color: var(--sklearn-color-fitted-level-0);\n",
       "}\n",
       "\n",
       "/* on hover */\n",
       "#sk-container-id-5 div.sk-estimator:hover {\n",
       "  /* unfitted */\n",
       "  background-color: var(--sklearn-color-unfitted-level-2);\n",
       "}\n",
       "\n",
       "#sk-container-id-5 div.sk-estimator.fitted:hover {\n",
       "  /* fitted */\n",
       "  background-color: var(--sklearn-color-fitted-level-2);\n",
       "}\n",
       "\n",
       "/* Specification for estimator info (e.g. \"i\" and \"?\") */\n",
       "\n",
       "/* Common style for \"i\" and \"?\" */\n",
       "\n",
       ".sk-estimator-doc-link,\n",
       "a:link.sk-estimator-doc-link,\n",
       "a:visited.sk-estimator-doc-link {\n",
       "  float: right;\n",
       "  font-size: smaller;\n",
       "  line-height: 1em;\n",
       "  font-family: monospace;\n",
       "  background-color: var(--sklearn-color-background);\n",
       "  border-radius: 1em;\n",
       "  height: 1em;\n",
       "  width: 1em;\n",
       "  text-decoration: none !important;\n",
       "  margin-left: 1ex;\n",
       "  /* unfitted */\n",
       "  border: var(--sklearn-color-unfitted-level-1) 1pt solid;\n",
       "  color: var(--sklearn-color-unfitted-level-1);\n",
       "}\n",
       "\n",
       ".sk-estimator-doc-link.fitted,\n",
       "a:link.sk-estimator-doc-link.fitted,\n",
       "a:visited.sk-estimator-doc-link.fitted {\n",
       "  /* fitted */\n",
       "  border: var(--sklearn-color-fitted-level-1) 1pt solid;\n",
       "  color: var(--sklearn-color-fitted-level-1);\n",
       "}\n",
       "\n",
       "/* On hover */\n",
       "div.sk-estimator:hover .sk-estimator-doc-link:hover,\n",
       ".sk-estimator-doc-link:hover,\n",
       "div.sk-label-container:hover .sk-estimator-doc-link:hover,\n",
       ".sk-estimator-doc-link:hover {\n",
       "  /* unfitted */\n",
       "  background-color: var(--sklearn-color-unfitted-level-3);\n",
       "  color: var(--sklearn-color-background);\n",
       "  text-decoration: none;\n",
       "}\n",
       "\n",
       "div.sk-estimator.fitted:hover .sk-estimator-doc-link.fitted:hover,\n",
       ".sk-estimator-doc-link.fitted:hover,\n",
       "div.sk-label-container:hover .sk-estimator-doc-link.fitted:hover,\n",
       ".sk-estimator-doc-link.fitted:hover {\n",
       "  /* fitted */\n",
       "  background-color: var(--sklearn-color-fitted-level-3);\n",
       "  color: var(--sklearn-color-background);\n",
       "  text-decoration: none;\n",
       "}\n",
       "\n",
       "/* Span, style for the box shown on hovering the info icon */\n",
       ".sk-estimator-doc-link span {\n",
       "  display: none;\n",
       "  z-index: 9999;\n",
       "  position: relative;\n",
       "  font-weight: normal;\n",
       "  right: .2ex;\n",
       "  padding: .5ex;\n",
       "  margin: .5ex;\n",
       "  width: min-content;\n",
       "  min-width: 20ex;\n",
       "  max-width: 50ex;\n",
       "  color: var(--sklearn-color-text);\n",
       "  box-shadow: 2pt 2pt 4pt #999;\n",
       "  /* unfitted */\n",
       "  background: var(--sklearn-color-unfitted-level-0);\n",
       "  border: .5pt solid var(--sklearn-color-unfitted-level-3);\n",
       "}\n",
       "\n",
       ".sk-estimator-doc-link.fitted span {\n",
       "  /* fitted */\n",
       "  background: var(--sklearn-color-fitted-level-0);\n",
       "  border: var(--sklearn-color-fitted-level-3);\n",
       "}\n",
       "\n",
       ".sk-estimator-doc-link:hover span {\n",
       "  display: block;\n",
       "}\n",
       "\n",
       "/* \"?\"-specific style due to the `<a>` HTML tag */\n",
       "\n",
       "#sk-container-id-5 a.estimator_doc_link {\n",
       "  float: right;\n",
       "  font-size: 1rem;\n",
       "  line-height: 1em;\n",
       "  font-family: monospace;\n",
       "  background-color: var(--sklearn-color-background);\n",
       "  border-radius: 1rem;\n",
       "  height: 1rem;\n",
       "  width: 1rem;\n",
       "  text-decoration: none;\n",
       "  /* unfitted */\n",
       "  color: var(--sklearn-color-unfitted-level-1);\n",
       "  border: var(--sklearn-color-unfitted-level-1) 1pt solid;\n",
       "}\n",
       "\n",
       "#sk-container-id-5 a.estimator_doc_link.fitted {\n",
       "  /* fitted */\n",
       "  border: var(--sklearn-color-fitted-level-1) 1pt solid;\n",
       "  color: var(--sklearn-color-fitted-level-1);\n",
       "}\n",
       "\n",
       "/* On hover */\n",
       "#sk-container-id-5 a.estimator_doc_link:hover {\n",
       "  /* unfitted */\n",
       "  background-color: var(--sklearn-color-unfitted-level-3);\n",
       "  color: var(--sklearn-color-background);\n",
       "  text-decoration: none;\n",
       "}\n",
       "\n",
       "#sk-container-id-5 a.estimator_doc_link.fitted:hover {\n",
       "  /* fitted */\n",
       "  background-color: var(--sklearn-color-fitted-level-3);\n",
       "}\n",
       "</style><div id=\"sk-container-id-5\" class=\"sk-top-container\"><div class=\"sk-text-repr-fallback\"><pre>Lasso(alpha=0.01)</pre><b>In a Jupyter environment, please rerun this cell to show the HTML representation or trust the notebook. <br />On GitHub, the HTML representation is unable to render, please try loading this page with nbviewer.org.</b></div><div class=\"sk-container\" hidden><div class=\"sk-item\"><div class=\"sk-estimator fitted sk-toggleable\"><input class=\"sk-toggleable__control sk-hidden--visually\" id=\"sk-estimator-id-5\" type=\"checkbox\" checked><label for=\"sk-estimator-id-5\" class=\"sk-toggleable__label fitted sk-toggleable__label-arrow fitted\">&nbsp;&nbsp;Lasso<a class=\"sk-estimator-doc-link fitted\" rel=\"noreferrer\" target=\"_blank\" href=\"https://scikit-learn.org/1.4/modules/generated/sklearn.linear_model.Lasso.html\">?<span>Documentation for Lasso</span></a><span class=\"sk-estimator-doc-link fitted\">i<span>Fitted</span></span></label><div class=\"sk-toggleable__content fitted\"><pre>Lasso(alpha=0.01)</pre></div> </div></div></div></div>"
      ],
      "text/plain": [
       "Lasso(alpha=0.01)"
      ]
     },
     "execution_count": 842,
     "metadata": {},
     "output_type": "execute_result"
    }
   ],
   "source": [
    "Lasso_model=Lasso(alpha=0.01)\n",
    "Lasso_model.fit(x_train,y_train)"
   ]
  },
  {
   "cell_type": "code",
   "execution_count": 843,
   "id": "091c2ad9-c2da-4595-aa01-dfe0314d0314",
   "metadata": {},
   "outputs": [],
   "source": [
    "Lasso_test=Lasso_model.predict(x_test)\n",
    "Lasso_train=Lasso_model.predict(x_train)"
   ]
  },
  {
   "cell_type": "code",
   "execution_count": 844,
   "id": "670b006c-bfc0-4622-aec3-3d8a5e8393c3",
   "metadata": {},
   "outputs": [
    {
     "name": "stdout",
     "output_type": "stream",
     "text": [
      "Lasso Model MSE of Train:  13.489211916524711\n"
     ]
    }
   ],
   "source": [
    "print(\"Lasso Model MSE of Train: \",mean_squared_error(y_train,Lasso_train))"
   ]
  },
  {
   "cell_type": "code",
   "execution_count": 845,
   "id": "100dc5e2-3240-4fbf-b586-bdc39373733d",
   "metadata": {},
   "outputs": [
    {
     "name": "stdout",
     "output_type": "stream",
     "text": [
      "Lasso Model MSE of Test:  11.709615176516984\n"
     ]
    }
   ],
   "source": [
    "\n",
    "print(\"Lasso Model MSE of Test: \",mean_squared_error(y_test,Lasso_test))"
   ]
  },
  {
   "cell_type": "code",
   "execution_count": 846,
   "id": "ed2f39ba-18ea-4290-916f-761d3c30e083",
   "metadata": {},
   "outputs": [
    {
     "name": "stdout",
     "output_type": "stream",
     "text": [
      "Lasso Model Train R^2 value:  0.938698713665595\n"
     ]
    }
   ],
   "source": [
    "print(\"Lasso Model Train R^2 value: \",r2_score(y_train,Lasso_train))"
   ]
  },
  {
   "cell_type": "code",
   "execution_count": 847,
   "id": "9141c5d4-cc00-4bbc-bd0b-c8d2bf3b7ea3",
   "metadata": {},
   "outputs": [
    {
     "name": "stdout",
     "output_type": "stream",
     "text": [
      "Lasso Model Test R^2 value:  0.9416556940554348\n"
     ]
    }
   ],
   "source": [
    "print(\"Lasso Model Test R^2 value: \",r2_score(y_test,Lasso_test))"
   ]
  },
  {
   "cell_type": "code",
   "execution_count": 848,
   "id": "48580315-31e6-42b5-8c85-1a23ac2733f3",
   "metadata": {},
   "outputs": [
    {
     "data": {
      "text/plain": [
       "array([41.50745012, 20.65266863, 11.79766591, 10.2865355 , 60.8059861 ,\n",
       "       29.80576099, 10.34173025,  0.83207373, 27.85084111, 15.20242767,\n",
       "       20.4677937 ,  5.6930757 , -0.28814412, 35.47457537, 21.08447502,\n",
       "       32.11639372, 22.92152029, 30.90145972,  4.27995955, 13.87591833,\n",
       "       27.14458759, 38.74491798, 37.33478634, 27.46457136, 17.91164867,\n",
       "       17.8025518 , 24.40847745, 19.08730333, 13.15988868,  1.05912642,\n",
       "       27.82345146, 35.61541195,  4.41516164,  4.35390429, -0.81135199,\n",
       "       29.41107024, 20.1764145 , 48.77615266, 14.07414239,  9.92332932,\n",
       "       25.02768869, 26.13691593, 14.57892768, 38.6887624 , 24.40949992,\n",
       "       21.08180574, 19.3517744 , 49.4816603 ,  5.40238153,  7.48164019,\n",
       "       20.9651597 , 42.0518028 , 19.62249956, 21.14708782, 14.49125515,\n",
       "       24.33252085, 64.50532279, 49.70753908, 18.90704656, -0.31554189,\n",
       "       13.12370689,  5.53819595, 21.17274867,  7.66884475, -1.16256496,\n",
       "        9.22829353, 21.10338485, 17.15889808, 31.13587543,  8.13139463,\n",
       "       37.22543534, 26.66262666,  8.75585257, 35.92942966, 56.34436111,\n",
       "        3.73818444, 49.58312693, 43.70840021,  5.43023499, 44.33100304,\n",
       "       12.68777072,  6.35093594, 11.43977402, 29.70934507,  7.40470321,\n",
       "       39.428069  , 25.46374773,  7.78470867,  6.4746119 , 31.77709632,\n",
       "       29.07369419, 63.03999641, 10.19992622, 14.59447961, 11.43973202,\n",
       "       32.24177566, 22.20241914, 28.87929189, 14.2041286 ,  9.63111881,\n",
       "        3.99730118, 18.80854863,  6.63004173, 21.93307184,  6.22175199,\n",
       "        4.7267274 , 26.14474807,  7.61013122, 25.51960339,  6.32157352,\n",
       "        6.90801454, 24.91828261, 41.83926932,  5.27753436, 12.03108724,\n",
       "       11.97087738,  7.58355399,  8.71479813, 32.38573072, 13.20596391,\n",
       "       25.81943418,  0.30819383, 37.75586443, 15.2605021 , 23.4166689 ,\n",
       "       16.03817384, 32.67132077, 31.19167551, 17.44210491,  9.30351023,\n",
       "       38.28224214, 30.84097427, 14.99444381, 18.17091694,  9.11516067,\n",
       "       43.17766156,  5.0258946 ,  7.56800672, 21.33652282, 13.36623209,\n",
       "        7.98706512, 61.75981202, 33.63740786,  0.69939345, 15.05017589,\n",
       "        9.53741649, 14.4586026 , 18.8535361 ,  1.99987706,  7.68627534,\n",
       "       19.79606197, 10.33272146,  7.94183839, 35.55032597, 12.05314944,\n",
       "       19.74288103, 31.79419591, 34.07186115, 23.07368818, 13.10631225,\n",
       "       10.72120569, 24.45711747, 37.67097745, 29.32510716, 19.62745144,\n",
       "       30.62888057, 19.32385625, 25.42197144, 49.05203523, 12.15774935,\n",
       "       16.31257793, 13.03006713, 19.8539495 , 11.42053005, 16.93554274])"
      ]
     },
     "execution_count": 848,
     "metadata": {},
     "output_type": "execute_result"
    }
   ],
   "source": [
    "Lasso_test"
   ]
  },
  {
   "cell_type": "code",
   "execution_count": 849,
   "id": "ea2e46b9-8641-4f3f-9cc4-4e298d01fbaa",
   "metadata": {},
   "outputs": [
    {
     "data": {
      "text/plain": [
       "560    43.0\n",
       "957    20.0\n",
       "371    13.0\n",
       "46     10.0\n",
       "478    59.0\n",
       "       ... \n",
       "43     13.0\n",
       "98     13.0\n",
       "626    20.0\n",
       "490    11.0\n",
       "949    16.0\n",
       "Name: discount, Length: 175, dtype: float64"
      ]
     },
     "execution_count": 849,
     "metadata": {},
     "output_type": "execute_result"
    }
   ],
   "source": [
    "y_test"
   ]
  },
  {
   "cell_type": "markdown",
   "id": "60f4df5c-0365-46ae-83d2-2186fc11fd49",
   "metadata": {},
   "source": [
    "### Decision Tree"
   ]
  },
  {
   "cell_type": "code",
   "execution_count": 851,
   "id": "d5c9d43a-9e5c-444b-acac-8c4697111b84",
   "metadata": {},
   "outputs": [
    {
     "name": "stdout",
     "output_type": "stream",
     "text": [
      "Train R² Score: 0.9409\n",
      "Test R² Score: 0.8719\n",
      "Train RMSE: 3.5511\n",
      "Test RMSE: 5.3871\n",
      "Cross-Validation R² Scores: [0.87135559 0.91211175 0.85176584 0.90419105 0.8888531 ]\n",
      "Mean Cross-Validation R² Score: 0.8857\n",
      "The model has a MODERATE FIT. Consider tuning max_depth or trying ensemble methods.\n"
     ]
    }
   ],
   "source": [
    "from sklearn.model_selection import train_test_split, cross_val_score\n",
    "from sklearn.tree import DecisionTreeRegressor\n",
    "from sklearn.metrics import mean_squared_error, r2_score\n",
    "\n",
    "\n",
    "# Split the dataset into training and test sets\n",
    "x_train, x_test, y_train, y_test = train_test_split(x, y, test_size=0.2, random_state=42)\n",
    "\n",
    "# Initialize and train Decision Tree Regressor\n",
    "regressor = DecisionTreeRegressor(max_depth=5, random_state=42)\n",
    "regressor.fit(x_train, y_train)\n",
    "\n",
    "# Predict on train and test sets\n",
    "y_train_pred = regressor.predict(x_train)\n",
    "y_test_pred = regressor.predict(x_test)\n",
    "\n",
    "# Evaluation metrics\n",
    "train_r2 = r2_score(y_train, y_train_pred)\n",
    "test_r2 = r2_score(y_test, y_test_pred)\n",
    "\n",
    "train_rmse = np.sqrt(mean_squared_error(y_train, y_train_pred))\n",
    "test_rmse = np.sqrt(mean_squared_error(y_test, y_test_pred))\n",
    "\n",
    "# Cross-validation\n",
    "cv_scores = cross_val_score(regressor, x, y, cv=5, scoring='r2')\n",
    "cv_mean = np.mean(cv_scores)\n",
    "\n",
    "# Print metrics\n",
    "print(f\"Train R² Score: {train_r2:.4f}\")\n",
    "print(f\"Test R² Score: {test_r2:.4f}\")\n",
    "print(f\"Train RMSE: {train_rmse:.4f}\")\n",
    "print(f\"Test RMSE: {test_rmse:.4f}\")\n",
    "print(f\"Cross-Validation R² Scores: {cv_scores}\")\n",
    "print(f\"Mean Cross-Validation R² Score: {cv_mean:.4f}\")\n",
    "\n",
    "# Model Fit Diagnosis\n",
    "if train_r2 > 0.9 and test_r2 > 0.9:\n",
    "    print(\"The model is a GOOD FIT.\")\n",
    "elif train_r2 > 0.9 and test_r2 < 0.6:\n",
    "    print(\"The model is OVERFITTING.\")\n",
    "elif train_r2 < 0.6 and test_r2 < 0.6:\n",
    "    print(\"The model is UNDERFITTING.\")\n",
    "else:\n",
    "    print(\"The model has a MODERATE FIT. Consider tuning max_depth or trying ensemble methods.\")\n"
   ]
  },
  {
   "cell_type": "markdown",
   "id": "669d3662-bfab-42dc-88e0-879d1b123860",
   "metadata": {},
   "source": [
    "### Random forest"
   ]
  },
  {
   "cell_type": "code",
   "execution_count": 853,
   "id": "0068a867-ef8d-4a3c-98f5-d57f31828827",
   "metadata": {},
   "outputs": [
    {
     "name": "stdout",
     "output_type": "stream",
     "text": [
      "Train R² Score: 0.9847\n",
      "Test R² Score: 0.9030\n",
      "Train RMSE: 1.8101\n",
      "Test RMSE: 4.6883\n",
      "Cross-Validation R² Scores: [0.90458284 0.89929271 0.89100375 0.91995246 0.88773191]\n",
      "Mean Cross-Validation R² Score: 0.9005\n",
      "The model is a GOOD FIT.\n"
     ]
    }
   ],
   "source": [
    "from sklearn.model_selection import train_test_split, cross_val_score\n",
    "from sklearn.ensemble import RandomForestRegressor\n",
    "from sklearn.metrics import mean_squared_error, r2_score\n",
    "import numpy as np\n",
    "\n",
    "# Split the dataset into training and test sets\n",
    "x_train, x_test, y_train, y_test = train_test_split(x, y, test_size=0.2, random_state=42)\n",
    "\n",
    "# Initialize and train Random Forest Regressor\n",
    "rf = RandomForestRegressor(n_estimators=100, max_depth=10, random_state=42)\n",
    "rf.fit(x_train, y_train)\n",
    "\n",
    "# Predict on the train and test sets\n",
    "y_train_pred = rf.predict(x_train)\n",
    "y_test_pred = rf.predict(x_test)\n",
    "\n",
    "# Evaluate the model\n",
    "train_r2 = r2_score(y_train, y_train_pred)\n",
    "test_r2 = r2_score(y_test, y_test_pred)\n",
    "train_rmse = np.sqrt(mean_squared_error(y_train, y_train_pred))\n",
    "test_rmse = np.sqrt(mean_squared_error(y_test, y_test_pred))\n",
    "\n",
    "# Cross-validation\n",
    "cv_scores = cross_val_score(rf, x, y, cv=5, scoring='r2')\n",
    "cv_mean = np.mean(cv_scores)\n",
    "\n",
    "# Print metrics\n",
    "print(f\"Train R² Score: {train_r2:.4f}\")\n",
    "print(f\"Test R² Score: {test_r2:.4f}\")\n",
    "print(f\"Train RMSE: {train_rmse:.4f}\")\n",
    "print(f\"Test RMSE: {test_rmse:.4f}\")\n",
    "print(f\"Cross-Validation R² Scores: {cv_scores}\")\n",
    "print(f\"Mean Cross-Validation R² Score: {cv_mean:.4f}\")\n",
    "\n",
    "# Diagnose model fit\n",
    "if train_r2 > 0.9 and test_r2 > 0.9:\n",
    "    print(\"The model is a GOOD FIT.\")\n",
    "elif train_r2 > 0.9 and test_r2 < 0.6:\n",
    "    print(\"The model is OVERFITTING.\")\n",
    "elif train_r2 < 0.6 and test_r2 < 0.6:\n",
    "    print(\"The model is UNDERFITTING.\")\n",
    "else:\n",
    "    print(\"The model has a MODERATE FIT. Consider tuning hyperparameters.\")\n"
   ]
  },
  {
   "cell_type": "markdown",
   "id": "b6225f30-9fdb-4b97-ba95-d1b7986068dd",
   "metadata": {},
   "source": [
    "### SVM"
   ]
  },
  {
   "cell_type": "code",
   "execution_count": 855,
   "id": "00318fea-1bd7-4676-8820-2c72a8d11664",
   "metadata": {},
   "outputs": [
    {
     "name": "stdout",
     "output_type": "stream",
     "text": [
      "Train R² Score: 0.8123\n",
      "Test R² Score: 0.7940\n",
      "Train RMSE: 6.3300\n",
      "Test RMSE: 6.8316\n",
      "Cross-Validation R² Scores: [0.75583147 0.8154262  0.81509601 0.79045367 0.78661035]\n",
      "Mean Cross-Validation R² Score: 0.7927\n",
      "The model has a MODERATE FIT. Consider tuning kernel, C, epsilon, or trying other models.\n"
     ]
    }
   ],
   "source": [
    "from sklearn.svm import SVR\n",
    "from sklearn.metrics import mean_squared_error, r2_score\n",
    "from sklearn.model_selection import train_test_split, cross_val_score\n",
    "from sklearn.preprocessing import StandardScaler\n",
    "import numpy as np\n",
    "\n",
    "# Standardize features\n",
    "scaler = StandardScaler()\n",
    "x_scaled = scaler.fit_transform(x)\n",
    "\n",
    "# Train-test split\n",
    "x_train, x_test, y_train, y_test = train_test_split(x_scaled, y, test_size=0.2, random_state=42)\n",
    "\n",
    "# Initialize and train SVR model\n",
    "svm_model = SVR(kernel='rbf')\n",
    "svm_model.fit(x_train, y_train)\n",
    "\n",
    "# Predict\n",
    "y_train_pred = svm_model.predict(x_train)\n",
    "y_test_pred = svm_model.predict(x_test)\n",
    "\n",
    "# R² Scores\n",
    "train_r2 = r2_score(y_train, y_train_pred)\n",
    "test_r2 = r2_score(y_test, y_test_pred)\n",
    "\n",
    "# RMSE\n",
    "train_rmse = np.sqrt(mean_squared_error(y_train, y_train_pred))\n",
    "test_rmse = np.sqrt(mean_squared_error(y_test, y_test_pred))\n",
    "\n",
    "# Cross-validation\n",
    "cv_scores = cross_val_score(svm_model, x_scaled, y, cv=5, scoring='r2')\n",
    "cv_mean = np.mean(cv_scores)\n",
    "\n",
    "# Print metrics\n",
    "print(f\"Train R² Score: {train_r2:.4f}\")\n",
    "print(f\"Test R² Score: {test_r2:.4f}\")\n",
    "print(f\"Train RMSE: {train_rmse:.4f}\")\n",
    "print(f\"Test RMSE: {test_rmse:.4f}\")\n",
    "print(f\"Cross-Validation R² Scores: {cv_scores}\")\n",
    "print(f\"Mean Cross-Validation R² Score: {cv_mean:.4f}\")\n",
    "\n",
    "# Model Fit Diagnosis\n",
    "if train_r2 > 0.9 and test_r2 > 0.9:\n",
    "    print(\"The model is a GOOD FIT.\")\n",
    "elif train_r2 > 0.9 and test_r2 < 0.6:\n",
    "    print(\"The model is OVERFITTING.\")\n",
    "elif train_r2 < 0.6 and test_r2 < 0.6:\n",
    "    print(\"The model is UNDERFITTING.\")\n",
    "else:\n",
    "    print(\"The model has a MODERATE FIT. Consider tuning kernel, C, epsilon, or trying other models.\")\n"
   ]
  },
  {
   "cell_type": "markdown",
   "id": "2478ed17-80fb-4b0d-9e83-80f581268469",
   "metadata": {},
   "source": [
    "### xgboost"
   ]
  },
  {
   "cell_type": "code",
   "execution_count": 857,
   "id": "2c9f43cf-d527-496c-af45-f759121fa133",
   "metadata": {},
   "outputs": [
    {
     "name": "stdout",
     "output_type": "stream",
     "text": [
      "Requirement already satisfied: xgboost in c:\\users\\jeswa\\ana\\lib\\site-packages (3.0.0)Note: you may need to restart the kernel to use updated packages.\n",
      "\n",
      "Requirement already satisfied: numpy in c:\\users\\jeswa\\ana\\lib\\site-packages (from xgboost) (1.26.4)\n",
      "Requirement already satisfied: scipy in c:\\users\\jeswa\\ana\\lib\\site-packages (from xgboost) (1.13.1)\n"
     ]
    }
   ],
   "source": [
    "pip install xgboost\n"
   ]
  },
  {
   "cell_type": "code",
   "execution_count": 858,
   "id": "f5d98def-b712-44c8-a257-a4e617c40ba8",
   "metadata": {},
   "outputs": [
    {
     "name": "stdout",
     "output_type": "stream",
     "text": [
      "Train R² Score: 0.9920\n",
      "Test R² Score: 0.9100\n",
      "Train RMSE: 1.3055\n",
      "Test RMSE: 4.5157\n",
      "Cross-Validation R² Scores: [0.89750958 0.90814259 0.90786583 0.93639294 0.88250889]\n",
      "Mean Cross-Validation R² Score: 0.9065\n",
      "The model is a GOOD FIT.\n"
     ]
    }
   ],
   "source": [
    "from sklearn.model_selection import train_test_split, cross_val_score\n",
    "from sklearn.metrics import mean_squared_error, r2_score\n",
    "from xgboost import XGBRegressor\n",
    "import numpy as np\n",
    "\n",
    "# Split data\n",
    "x_train, x_test, y_train, y_test = train_test_split(x, y, test_size=0.2, random_state=42)\n",
    "\n",
    "# Initialize XGBoost model\n",
    "xgb_model = XGBRegressor(\n",
    "    n_estimators=100,\n",
    "    learning_rate=0.1,\n",
    "    max_depth=5,\n",
    "    subsample=0.8,\n",
    "    colsample_bytree=0.8,\n",
    "    random_state=42\n",
    ")\n",
    "\n",
    "# Fit the model\n",
    "xgb_model.fit(x_train, y_train)\n",
    "\n",
    "# Predictions\n",
    "y_train_pred = xgb_model.predict(x_train)\n",
    "y_test_pred = xgb_model.predict(x_test)\n",
    "\n",
    "# Evaluation metrics\n",
    "train_r2 = r2_score(y_train, y_train_pred)\n",
    "test_r2 = r2_score(y_test, y_test_pred)\n",
    "train_rmse = np.sqrt(mean_squared_error(y_train, y_train_pred))\n",
    "test_rmse = np.sqrt(mean_squared_error(y_test, y_test_pred))\n",
    "\n",
    "# Cross-validation (5-fold)\n",
    "cv_scores = cross_val_score(xgb_model, x, y, cv=5, scoring='r2')\n",
    "cv_mean = np.mean(cv_scores)\n",
    "\n",
    "# Print metrics\n",
    "print(f\"Train R² Score: {train_r2:.4f}\")\n",
    "print(f\"Test R² Score: {test_r2:.4f}\")\n",
    "print(f\"Train RMSE: {train_rmse:.4f}\")\n",
    "print(f\"Test RMSE: {test_rmse:.4f}\")\n",
    "print(f\"Cross-Validation R² Scores: {cv_scores}\")\n",
    "print(f\"Mean Cross-Validation R² Score: {cv_mean:.4f}\")\n",
    "\n",
    "# Diagnose model fit\n",
    "if train_r2 > 0.9 and test_r2 > 0.9:\n",
    "    print(\"The model is a GOOD FIT.\")\n",
    "elif train_r2 > 0.9 and test_r2 < 0.6:\n",
    "    print(\"The model is OVERFITTING.\")\n",
    "elif train_r2 < 0.6 and test_r2 < 0.6:\n",
    "    print(\"The model is UNDERFITTING.\")\n",
    "else:\n",
    "    print(\"The model has a MODERATE FIT. Consider tuning hyperparameters or trying other models.\")\n",
    "\n"
   ]
  },
  {
   "cell_type": "markdown",
   "id": "d6637e14-41c1-4238-9e49-6c4b616e2dfd",
   "metadata": {},
   "source": [
    "### KNN"
   ]
  },
  {
   "cell_type": "code",
   "execution_count": 860,
   "id": "3b7d3be9-e98a-4757-8d35-14d76d9dfb9a",
   "metadata": {},
   "outputs": [
    {
     "name": "stdout",
     "output_type": "stream",
     "text": [
      "Train R² Score: 0.8791\n",
      "Test R² Score: 0.7909\n",
      "Train RMSE: 5.0800\n",
      "Test RMSE: 6.8818\n",
      "Cross-Validation R² Scores: [0.75739371 0.76940175 0.85352625 0.82302835 0.80298284]\n",
      "Mean Cross-Validation R² Score: 0.8013\n",
      "The model has a MODERATE FIT. You might try tuning 'n_neighbors'.\n"
     ]
    }
   ],
   "source": [
    "from sklearn.preprocessing import StandardScaler\n",
    "from sklearn.model_selection import train_test_split, cross_val_score\n",
    "from sklearn.neighbors import KNeighborsRegressor\n",
    "\n",
    "\n",
    "# Standardize features (important for KNN)\n",
    "scaler = StandardScaler()\n",
    "x_scaled = scaler.fit_transform(x)\n",
    "\n",
    "# Train-test split\n",
    "x_train, x_test, y_train, y_test = train_test_split(x_scaled, y, test_size=0.2, random_state=42)\n",
    "\n",
    "# Initialize the KNN Regressor\n",
    "knn_model = KNeighborsRegressor(n_neighbors=5)\n",
    "\n",
    "# Train the model\n",
    "knn_model.fit(x_train, y_train)\n",
    "\n",
    "# Predict on train and test set\n",
    "y_train_pred = knn_model.predict(x_train)\n",
    "y_test_pred = knn_model.predict(x_test)\n",
    "\n",
    "# R² Scores\n",
    "train_r2 = r2_score(y_train, y_train_pred)\n",
    "test_r2 = r2_score(y_test, y_test_pred)\n",
    "\n",
    "# RMSE\n",
    "train_rmse = np.sqrt(mean_squared_error(y_train, y_train_pred))\n",
    "test_rmse = np.sqrt(mean_squared_error(y_test, y_test_pred))\n",
    "\n",
    "# Cross-validation (5-fold)\n",
    "cv_scores = cross_val_score(knn_model, x_scaled, y, cv=5, scoring='r2')\n",
    "cv_mean = np.mean(cv_scores)\n",
    "\n",
    "# Print metrics\n",
    "print(f\"Train R² Score: {train_r2:.4f}\")\n",
    "print(f\"Test R² Score: {test_r2:.4f}\")\n",
    "print(f\"Train RMSE: {train_rmse:.4f}\")\n",
    "print(f\"Test RMSE: {test_rmse:.4f}\")\n",
    "print(f\"Cross-Validation R² Scores: {cv_scores}\")\n",
    "print(f\"Mean Cross-Validation R² Score: {cv_mean:.4f}\")\n",
    "\n",
    "# Model Fit Diagnosis\n",
    "if train_r2 > 0.9 and test_r2 > 0.9:\n",
    "    print(\"The model is a GOOD FIT.\")\n",
    "elif train_r2 > 0.9 and test_r2 < 0.6:\n",
    "    print(\"The model is OVERFITTING.\")\n",
    "elif train_r2 < 0.6 and test_r2 < 0.6:\n",
    "    print(\"The model is UNDERFITTING.\")\n",
    "else:\n",
    "    print(\"The model has a MODERATE FIT. You might try tuning 'n_neighbors'.\")\n"
   ]
  },
  {
   "cell_type": "markdown",
   "id": "c8841d19-2c6f-43ad-8fca-6053b05dfacf",
   "metadata": {},
   "source": [
    "**Saving Better Performance Model**\n",
    "- Xgboost"
   ]
  },
  {
   "cell_type": "code",
   "execution_count": 862,
   "id": "850f684a-8503-4c97-9836-5cf3cc87bdaf",
   "metadata": {},
   "outputs": [
    {
     "data": {
      "text/plain": [
       "['xgb.pkl']"
      ]
     },
     "execution_count": 862,
     "metadata": {},
     "output_type": "execute_result"
    }
   ],
   "source": [
    "import joblib\n",
    "\n",
    "joblib.dump(xgb_model, \"xgb.pkl\")"
   ]
  },
  {
   "cell_type": "code",
   "execution_count": 863,
   "id": "bfc4bded-1851-4af0-9bb9-a6b8a8f4c922",
   "metadata": {},
   "outputs": [],
   "source": [
    "import pickle"
   ]
  },
  {
   "cell_type": "code",
   "execution_count": 864,
   "id": "c750903a-20f2-4e5f-b10d-710af8747a40",
   "metadata": {},
   "outputs": [],
   "source": [
    "with open(\"xgb.pkl\", \"wb\") as f:\n",
    "    pickle.dump(xgb_model, f)"
   ]
  },
  {
   "cell_type": "code",
   "execution_count": 865,
   "id": "f1ff81c4-f830-487d-9e6c-f81e7b75b5c1",
   "metadata": {},
   "outputs": [
    {
     "ename": "AttributeError",
     "evalue": "'function' object has no attribute 'sum'",
     "output_type": "error",
     "traceback": [
      "\u001b[1;31m---------------------------------------------------------------------------\u001b[0m",
      "\u001b[1;31mAttributeError\u001b[0m                            Traceback (most recent call last)",
      "Cell \u001b[1;32mIn[865], line 1\u001b[0m\n\u001b[1;32m----> 1\u001b[0m df\u001b[38;5;241m.\u001b[39misnull\u001b[38;5;241m.\u001b[39msum\n",
      "\u001b[1;31mAttributeError\u001b[0m: 'function' object has no attribute 'sum'"
     ]
    }
   ],
   "source": [
    "df.isnull.sum\n"
   ]
  },
  {
   "cell_type": "code",
   "execution_count": null,
   "id": "642a561f-4c60-4665-8026-09f6c3c93248",
   "metadata": {},
   "outputs": [],
   "source": []
  }
 ],
 "metadata": {
  "kernelspec": {
   "display_name": "Python 3 (ipykernel)",
   "language": "python",
   "name": "python3"
  },
  "language_info": {
   "codemirror_mode": {
    "name": "ipython",
    "version": 3
   },
   "file_extension": ".py",
   "mimetype": "text/x-python",
   "name": "python",
   "nbconvert_exporter": "python",
   "pygments_lexer": "ipython3",
   "version": "3.12.4"
  }
 },
 "nbformat": 4,
 "nbformat_minor": 5
}
