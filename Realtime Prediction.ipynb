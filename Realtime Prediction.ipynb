{
 "cells": [
  {
   "cell_type": "code",
   "execution_count": 1,
   "id": "04a6e313-b692-4295-aeb9-2432f79ff37b",
   "metadata": {},
   "outputs": [],
   "source": [
    "import pickle\n",
    "import joblib\n",
    "\n",
    "import pandas as pd\n",
    "\n",
    "import warnings\n",
    "warnings.filterwarnings('ignore')"
   ]
  },
  {
   "cell_type": "code",
   "execution_count": 3,
   "id": "aed300e0-fd2b-4f1a-9ada-7815e09277d1",
   "metadata": {},
   "outputs": [],
   "source": [
    "# Saved Model file and Its Supporting Files\n",
    "\n",
    "model = joblib.load(\"xgb.pkl\")\n",
    "\n",
    "with open(\"brand_encoding.pkl\", 'rb') as f:\n",
    "    brand_encoding = pickle.load(f)\n",
    "\n",
    "with open(\"categories_encoding.pkl\", 'rb') as f:\n",
    "    cat_encoding = pickle.load(f)\n",
    "    "
   ]
  },
  {
   "cell_type": "code",
   "execution_count": 5,
   "id": "fb1e6fe1-1957-40ac-92d8-4f7ff38e996f",
   "metadata": {},
   "outputs": [
    {
     "data": {
      "text/plain": [
       "{'Appliances': 18.4,\n",
       " 'Arts': 13.46,\n",
       " 'Automotive': 15.29,\n",
       " 'Baby Products': 11.14,\n",
       " 'Beauty': 25.39,\n",
       " 'Beauty & Personal Care': 11.74,\n",
       " 'CDs & Vinyl': 19.0,\n",
       " 'Cell Phones & Accessories': 22.04,\n",
       " 'Clothing': 25.1,\n",
       " 'Electronics': 18.56,\n",
       " 'Grocery & Gourmet Food': 9.48,\n",
       " 'Health & Household': 14.69,\n",
       " 'Home & Kitchen': 19.3,\n",
       " 'Hunting & Fishing': 24.0,\n",
       " 'Industrial & Scientific': 23.17,\n",
       " 'Kitchen & Dining': 15.0,\n",
       " 'Men': 55.0,\n",
       " 'Motorcycle & Powersports': 24.0,\n",
       " 'Musical Instruments': 21.33,\n",
       " 'Office Products': 18.45,\n",
       " 'Patio': 21.15,\n",
       " 'Pet Supplies': 16.56,\n",
       " 'Power & Hand Tools': 17.0,\n",
       " 'Sports & Outdoors': 21.78,\n",
       " 'Tools & Home Improvement': 17.15,\n",
       " 'Toys & Games': 17.86,\n",
       " 'Video Games': 30.5,\n",
       " 'Women': 20.0}"
      ]
     },
     "execution_count": 5,
     "metadata": {},
     "output_type": "execute_result"
    }
   ],
   "source": [
    "cat_encoding"
   ]
  },
  {
   "cell_type": "code",
   "execution_count": 7,
   "id": "1f945d6a-e583-46c7-97da-ab97e27d8945",
   "metadata": {},
   "outputs": [],
   "source": [
    "def predict():\n",
    "\n",
    "    # User Input\n",
    "    brand = input(\"Enter Brand:\")\n",
    "    cur = input(\"Enter Currency Type:\")\n",
    "    avail = input(\"Enter Availability:\")\n",
    "    cat = input(\"Enter Category:\")\n",
    "    intial = eval(input(\"Enter Intial Price value:\"))\n",
    "    final = eval(input(\"Enter Final Price value:\"))\n",
    "    revcount = eval(input(\"Enter Reviews Count value:\"))\n",
    "    sellers = eval(input(\"Enter Number of Sellers value:\"))\n",
    "    rating = eval(input(\"Enter Rating value:\"))\n",
    "\n",
    "    # Input to Df\n",
    "    df = pd.DataFrame([[brand, cur, avail, cat, intial, final, revcount, sellers, rating]],\n",
    "                      columns = ['brand','currency','availability','categories','initial_price',\n",
    "                                 'final_price','reviews_count','number_of_sellers','rating'])\n",
    "\n",
    "    display(df)\n",
    "\n",
    "    # Encoding\n",
    "    df['currency'] = df['currency'].replace({'USD': 2, 'INR': 1, 'GBP': 0}).astype(float)\n",
    "    df['availability'] = df['availability'].replace({'in stock': 0, 'limited stock': 1, 'delayed shipping': 2, 'unknown': 3, 'out of stock': 4}).astype(float)\n",
    "\n",
    "    df['brand'].replace(brand_encoding, inplace=True)\n",
    "    df['categories'].replace(cat_encoding, inplace=True)\n",
    "\n",
    "    discount = round(model.predict(df)[0],2)#The model (assumed to be a trained ML model) predicts the discount based on the input.\n",
    "\n",
    "    print()\n",
    "    print(\"Estimated Discount:\", discount)\n",
    "    "
   ]
  },
  {
   "cell_type": "code",
   "execution_count": 13,
   "id": "523c9124-cd2d-4f73-ae7f-8bd0d330a4fa",
   "metadata": {},
   "outputs": [
    {
     "name": "stdin",
     "output_type": "stream",
     "text": [
      "Enter Brand: Bio-Oil\n",
      "Enter Currency Type: USD\n",
      "Enter Availability: in stock\n",
      "Enter Category: Beauty & Personal Care\n",
      "Enter Intial Price value: 39.24\n",
      "Enter Final Price value: 24.95\n",
      "Enter Reviews Count value: 6095\n",
      "Enter Number of Sellers value: 1\n",
      "Enter Rating value: 4.6\n"
     ]
    },
    {
     "data": {
      "text/html": [
       "<div>\n",
       "<style scoped>\n",
       "    .dataframe tbody tr th:only-of-type {\n",
       "        vertical-align: middle;\n",
       "    }\n",
       "\n",
       "    .dataframe tbody tr th {\n",
       "        vertical-align: top;\n",
       "    }\n",
       "\n",
       "    .dataframe thead th {\n",
       "        text-align: right;\n",
       "    }\n",
       "</style>\n",
       "<table border=\"1\" class=\"dataframe\">\n",
       "  <thead>\n",
       "    <tr style=\"text-align: right;\">\n",
       "      <th></th>\n",
       "      <th>brand</th>\n",
       "      <th>currency</th>\n",
       "      <th>availability</th>\n",
       "      <th>categories</th>\n",
       "      <th>initial_price</th>\n",
       "      <th>final_price</th>\n",
       "      <th>reviews_count</th>\n",
       "      <th>number_of_sellers</th>\n",
       "      <th>rating</th>\n",
       "    </tr>\n",
       "  </thead>\n",
       "  <tbody>\n",
       "    <tr>\n",
       "      <th>0</th>\n",
       "      <td>Bio-Oil</td>\n",
       "      <td>USD</td>\n",
       "      <td>in stock</td>\n",
       "      <td>Beauty &amp; Personal Care</td>\n",
       "      <td>39.24</td>\n",
       "      <td>24.95</td>\n",
       "      <td>6095</td>\n",
       "      <td>1</td>\n",
       "      <td>4.6</td>\n",
       "    </tr>\n",
       "  </tbody>\n",
       "</table>\n",
       "</div>"
      ],
      "text/plain": [
       "     brand currency availability              categories  initial_price  \\\n",
       "0  Bio-Oil      USD     in stock  Beauty & Personal Care          39.24   \n",
       "\n",
       "   final_price  reviews_count  number_of_sellers  rating  \n",
       "0        24.95           6095                  1     4.6  "
      ]
     },
     "metadata": {},
     "output_type": "display_data"
    },
    {
     "name": "stdout",
     "output_type": "stream",
     "text": [
      "\n",
      "Estimated Discount: 35.58\n"
     ]
    }
   ],
   "source": [
    "predict()"
   ]
  },
  {
   "cell_type": "code",
   "execution_count": null,
   "id": "8e9b199f-4409-4df5-b73e-15cd2e991ff6",
   "metadata": {},
   "outputs": [],
   "source": []
  },
  {
   "cell_type": "code",
   "execution_count": null,
   "id": "1f104c26-77fa-4b34-ab8a-5278a6ea6828",
   "metadata": {},
   "outputs": [],
   "source": []
  },
  {
   "cell_type": "code",
   "execution_count": 15,
   "id": "75491dcb-7d64-4932-8e9e-5091a611a80f",
   "metadata": {},
   "outputs": [],
   "source": [
    "def predict():\n",
    "    try:\n",
    "        # User Input\n",
    "        brand = input(\"Enter Brand:\")\n",
    "        cur = input(\"Enter Currency Type:\")\n",
    "        avail = input(\"Enter Availability:\")\n",
    "        cat = input(\"Enter Category:\")\n",
    "        intial = eval(input(\"Enter Initial Price value:\"))\n",
    "        final = eval(input(\"Enter Final Price value:\"))\n",
    "        revcount = eval(input(\"Enter Reviews Count value:\"))\n",
    "        sellers = eval(input(\"Enter Number of Sellers value:\"))\n",
    "        rating = eval(input(\"Enter Rating value:\"))\n",
    "\n",
    "        # Input to DataFrame\n",
    "        df = pd.DataFrame([[brand, cur, avail, cat, intial, final, revcount, sellers, rating]],\n",
    "                          columns=['brand', 'currency', 'availability', 'categories',\n",
    "                                   'initial_price', 'final_price', 'reviews_count',\n",
    "                                   'number_of_sellers', 'rating'])\n",
    "\n",
    "        display(df)\n",
    "\n",
    "        # Encoding\n",
    "        df['currency'] = df['currency'].replace({'USD': 2, 'INR': 1, 'GBP': 0}).astype(float)\n",
    "        df['availability'] = df['availability'].replace({\n",
    "            'in stock': 0, 'limited stock': 1, 'delayed shipping': 2,\n",
    "            'unknown': 3, 'out of stock': 4\n",
    "        }).astype(float)\n",
    "\n",
    "        df['brand'].replace(brand_encoding, inplace=True)\n",
    "        df['categories'].replace(cat_encoding, inplace=True)\n",
    "\n",
    "        # Predict discount\n",
    "        discount = round(model.predict(df)[0], 2)\n",
    "\n",
    "        print()\n",
    "        print(\"Estimated Discount:\", discount)\n",
    "        return discount\n",
    "\n",
    "    except Exception as e:\n",
    "        print(\"Error occurred. Output: 0\")\n",
    "        return 0\n",
    "\n"
   ]
  },
  {
   "cell_type": "code",
   "execution_count": 17,
   "id": "9c854a2f-8467-4e70-a07c-cf8704e4e306",
   "metadata": {},
   "outputs": [
    {
     "name": "stdin",
     "output_type": "stream",
     "text": [
      "Enter Brand: Bio-Oil\n",
      "Enter Currency Type: USD\n",
      "Enter Availability: IN stock\n",
      "Enter Category: 39\n",
      "Enter Initial Price value: 24\n",
      "Enter Final Price value: 24\n",
      "Enter Reviews Count value: 6095\n",
      "Enter Number of Sellers value: 1\n",
      "Enter Rating value: 4.6\n"
     ]
    },
    {
     "data": {
      "text/html": [
       "<div>\n",
       "<style scoped>\n",
       "    .dataframe tbody tr th:only-of-type {\n",
       "        vertical-align: middle;\n",
       "    }\n",
       "\n",
       "    .dataframe tbody tr th {\n",
       "        vertical-align: top;\n",
       "    }\n",
       "\n",
       "    .dataframe thead th {\n",
       "        text-align: right;\n",
       "    }\n",
       "</style>\n",
       "<table border=\"1\" class=\"dataframe\">\n",
       "  <thead>\n",
       "    <tr style=\"text-align: right;\">\n",
       "      <th></th>\n",
       "      <th>brand</th>\n",
       "      <th>currency</th>\n",
       "      <th>availability</th>\n",
       "      <th>categories</th>\n",
       "      <th>initial_price</th>\n",
       "      <th>final_price</th>\n",
       "      <th>reviews_count</th>\n",
       "      <th>number_of_sellers</th>\n",
       "      <th>rating</th>\n",
       "    </tr>\n",
       "  </thead>\n",
       "  <tbody>\n",
       "    <tr>\n",
       "      <th>0</th>\n",
       "      <td>Bio-Oil</td>\n",
       "      <td>USD</td>\n",
       "      <td>IN stock</td>\n",
       "      <td>39</td>\n",
       "      <td>24</td>\n",
       "      <td>24</td>\n",
       "      <td>6095</td>\n",
       "      <td>1</td>\n",
       "      <td>4.6</td>\n",
       "    </tr>\n",
       "  </tbody>\n",
       "</table>\n",
       "</div>"
      ],
      "text/plain": [
       "     brand currency availability categories  initial_price  final_price  \\\n",
       "0  Bio-Oil      USD     IN stock         39             24           24   \n",
       "\n",
       "   reviews_count  number_of_sellers  rating  \n",
       "0           6095                  1     4.6  "
      ]
     },
     "metadata": {},
     "output_type": "display_data"
    },
    {
     "name": "stdout",
     "output_type": "stream",
     "text": [
      "Error occurred. Output: 0\n"
     ]
    },
    {
     "data": {
      "text/plain": [
       "0"
      ]
     },
     "execution_count": 17,
     "metadata": {},
     "output_type": "execute_result"
    }
   ],
   "source": [
    "predict()"
   ]
  },
  {
   "cell_type": "code",
   "execution_count": null,
   "id": "b66dffb7-33bd-4b68-afff-6213acda8a2e",
   "metadata": {},
   "outputs": [],
   "source": []
  }
 ],
 "metadata": {
  "kernelspec": {
   "display_name": "Python 3 (ipykernel)",
   "language": "python",
   "name": "python3"
  },
  "language_info": {
   "codemirror_mode": {
    "name": "ipython",
    "version": 3
   },
   "file_extension": ".py",
   "mimetype": "text/x-python",
   "name": "python",
   "nbconvert_exporter": "python",
   "pygments_lexer": "ipython3",
   "version": "3.12.4"
  }
 },
 "nbformat": 4,
 "nbformat_minor": 5
}
